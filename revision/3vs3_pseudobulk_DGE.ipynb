{
 "cells": [
  {
   "cell_type": "markdown",
   "id": "9cbbe6d4",
   "metadata": {},
   "source": [
    "# 3 vs 3 aggregated (pseudobulk) samples for treated vs untreated DGE analysis via edgeR"
   ]
  },
  {
   "cell_type": "code",
   "execution_count": 1,
   "id": "87dbeade",
   "metadata": {},
   "outputs": [
    {
     "name": "stderr",
     "output_type": "stream",
     "text": [
      "Attaching SeuratObject\n",
      "\n",
      "Loading required package: limma\n",
      "\n"
     ]
    }
   ],
   "source": [
    "library(Seurat)\n",
    "library(edgeR)\n",
    "library(parallel)"
   ]
  },
  {
   "cell_type": "markdown",
   "id": "9cd39911",
   "metadata": {},
   "source": [
    "We need to perform 3 vs 3 pseudobulk DGE analysis. This means that for each model and treatment group, we get the pseudobulk and then perform the differential gene expression analysis."
   ]
  },
  {
   "cell_type": "code",
   "execution_count": 2,
   "id": "4fed4840",
   "metadata": {},
   "outputs": [],
   "source": [
    "sc_data <- readRDS(file = \"HGSOC_CellHashing_CLUSTERED.RDS\")"
   ]
  },
  {
   "cell_type": "markdown",
   "id": "364012ab",
   "metadata": {},
   "source": [
    "For each drug, we can create a matrix having the three models' aggregated expression as columns"
   ]
  },
  {
   "cell_type": "code",
   "execution_count": 3,
   "id": "d2c7c5a4",
   "metadata": {},
   "outputs": [],
   "source": [
    "drugs <- unique(sc_data@meta.data$Treatment_group)"
   ]
  },
  {
   "cell_type": "code",
   "execution_count": 4,
   "id": "39f9bfad",
   "metadata": {
    "scrolled": true
   },
   "outputs": [
    {
     "data": {
      "text/html": [
       "<style>\n",
       ".list-inline {list-style: none; margin:0; padding: 0}\n",
       ".list-inline>li {display: inline-block}\n",
       ".list-inline>li:not(:last-child)::after {content: \"\\00b7\"; padding: 0 .5ex}\n",
       "</style>\n",
       "<ol class=list-inline><li>'Fedratinib'</li><li>'BMS-754807'</li><li>'SCH772984'</li><li>'TGX-221'</li><li>'Ipatasertib'</li><li>'Ralimetinib'</li><li>'BI 2536'</li><li>'Dasatinib'</li><li>'NVP-LCL161'</li><li>'AZD8055'</li><li>'NVP-BGT226'</li><li>'OTS167'</li><li>'Cobimetinib'</li><li>'JQ1'</li><li>'Birabresib'</li><li>'DMSO'</li><li>'Talazoparib'</li><li>'AZD-8186'</li><li>'Milciclib'</li><li>'Selinexor'</li><li>'Pacritinib'</li><li>'PF-03758309'</li><li>'Dinaciclib'</li><li>'Niraparib'</li><li>'SNS-032'</li><li>'ENMD-2076'</li><li>'AT 101'</li><li>'AR-42'</li><li>'Dactolisib'</li><li>'Gedatolisib'</li><li>'PD0325901'</li><li>'Pracinostat'</li><li>'I-BET151'</li><li>'Pictilisib'</li><li>'LY3009120'</li><li>'Quisinostat'</li><li>'ZSTK474'</li><li>'UCN-01'</li><li>'Belinostat'</li><li>'Volasertib'</li><li>'Danusertib'</li><li>'Birinapant'</li><li>'AT9283'</li><li>'Copanlisib'</li><li>'PF-00477736'</li><li>'Buparlisib'</li></ol>\n"
      ],
      "text/latex": [
       "\\begin{enumerate*}\n",
       "\\item 'Fedratinib'\n",
       "\\item 'BMS-754807'\n",
       "\\item 'SCH772984'\n",
       "\\item 'TGX-221'\n",
       "\\item 'Ipatasertib'\n",
       "\\item 'Ralimetinib'\n",
       "\\item 'BI 2536'\n",
       "\\item 'Dasatinib'\n",
       "\\item 'NVP-LCL161'\n",
       "\\item 'AZD8055'\n",
       "\\item 'NVP-BGT226'\n",
       "\\item 'OTS167'\n",
       "\\item 'Cobimetinib'\n",
       "\\item 'JQ1'\n",
       "\\item 'Birabresib'\n",
       "\\item 'DMSO'\n",
       "\\item 'Talazoparib'\n",
       "\\item 'AZD-8186'\n",
       "\\item 'Milciclib'\n",
       "\\item 'Selinexor'\n",
       "\\item 'Pacritinib'\n",
       "\\item 'PF-03758309'\n",
       "\\item 'Dinaciclib'\n",
       "\\item 'Niraparib'\n",
       "\\item 'SNS-032'\n",
       "\\item 'ENMD-2076'\n",
       "\\item 'AT 101'\n",
       "\\item 'AR-42'\n",
       "\\item 'Dactolisib'\n",
       "\\item 'Gedatolisib'\n",
       "\\item 'PD0325901'\n",
       "\\item 'Pracinostat'\n",
       "\\item 'I-BET151'\n",
       "\\item 'Pictilisib'\n",
       "\\item 'LY3009120'\n",
       "\\item 'Quisinostat'\n",
       "\\item 'ZSTK474'\n",
       "\\item 'UCN-01'\n",
       "\\item 'Belinostat'\n",
       "\\item 'Volasertib'\n",
       "\\item 'Danusertib'\n",
       "\\item 'Birinapant'\n",
       "\\item 'AT9283'\n",
       "\\item 'Copanlisib'\n",
       "\\item 'PF-00477736'\n",
       "\\item 'Buparlisib'\n",
       "\\end{enumerate*}\n"
      ],
      "text/markdown": [
       "1. 'Fedratinib'\n",
       "2. 'BMS-754807'\n",
       "3. 'SCH772984'\n",
       "4. 'TGX-221'\n",
       "5. 'Ipatasertib'\n",
       "6. 'Ralimetinib'\n",
       "7. 'BI 2536'\n",
       "8. 'Dasatinib'\n",
       "9. 'NVP-LCL161'\n",
       "10. 'AZD8055'\n",
       "11. 'NVP-BGT226'\n",
       "12. 'OTS167'\n",
       "13. 'Cobimetinib'\n",
       "14. 'JQ1'\n",
       "15. 'Birabresib'\n",
       "16. 'DMSO'\n",
       "17. 'Talazoparib'\n",
       "18. 'AZD-8186'\n",
       "19. 'Milciclib'\n",
       "20. 'Selinexor'\n",
       "21. 'Pacritinib'\n",
       "22. 'PF-03758309'\n",
       "23. 'Dinaciclib'\n",
       "24. 'Niraparib'\n",
       "25. 'SNS-032'\n",
       "26. 'ENMD-2076'\n",
       "27. 'AT 101'\n",
       "28. 'AR-42'\n",
       "29. 'Dactolisib'\n",
       "30. 'Gedatolisib'\n",
       "31. 'PD0325901'\n",
       "32. 'Pracinostat'\n",
       "33. 'I-BET151'\n",
       "34. 'Pictilisib'\n",
       "35. 'LY3009120'\n",
       "36. 'Quisinostat'\n",
       "37. 'ZSTK474'\n",
       "38. 'UCN-01'\n",
       "39. 'Belinostat'\n",
       "40. 'Volasertib'\n",
       "41. 'Danusertib'\n",
       "42. 'Birinapant'\n",
       "43. 'AT9283'\n",
       "44. 'Copanlisib'\n",
       "45. 'PF-00477736'\n",
       "46. 'Buparlisib'\n",
       "\n",
       "\n"
      ],
      "text/plain": [
       " [1] \"Fedratinib\"  \"BMS-754807\"  \"SCH772984\"   \"TGX-221\"     \"Ipatasertib\"\n",
       " [6] \"Ralimetinib\" \"BI 2536\"     \"Dasatinib\"   \"NVP-LCL161\"  \"AZD8055\"    \n",
       "[11] \"NVP-BGT226\"  \"OTS167\"      \"Cobimetinib\" \"JQ1\"         \"Birabresib\" \n",
       "[16] \"DMSO\"        \"Talazoparib\" \"AZD-8186\"    \"Milciclib\"   \"Selinexor\"  \n",
       "[21] \"Pacritinib\"  \"PF-03758309\" \"Dinaciclib\"  \"Niraparib\"   \"SNS-032\"    \n",
       "[26] \"ENMD-2076\"   \"AT 101\"      \"AR-42\"       \"Dactolisib\"  \"Gedatolisib\"\n",
       "[31] \"PD0325901\"   \"Pracinostat\" \"I-BET151\"    \"Pictilisib\"  \"LY3009120\"  \n",
       "[36] \"Quisinostat\" \"ZSTK474\"     \"UCN-01\"      \"Belinostat\"  \"Volasertib\" \n",
       "[41] \"Danusertib\"  \"Birinapant\"  \"AT9283\"      \"Copanlisib\"  \"PF-00477736\"\n",
       "[46] \"Buparlisib\" "
      ]
     },
     "metadata": {},
     "output_type": "display_data"
    }
   ],
   "source": [
    "drugs"
   ]
  },
  {
   "cell_type": "code",
   "execution_count": 5,
   "id": "7056a129",
   "metadata": {},
   "outputs": [],
   "source": [
    "aggregate_expr <- mclapply(drugs, function(d){\n",
    "    sub <- subset(sc_data, subset = Treatment_group == d)\n",
    "    expr <- AggregateExpression(object = sub, \n",
    "                               slot = \"count\", \n",
    "                               assays = \"RNA\", \n",
    "                               group.by = \"model\", \n",
    "                               verbose = FALSE)$RNA\n",
    "    return(expr)\n",
    "}, mc.cores = 46)"
   ]
  },
  {
   "cell_type": "code",
   "execution_count": 6,
   "id": "0b2386a6",
   "metadata": {},
   "outputs": [],
   "source": [
    "names(aggregate_expr) <- drugs"
   ]
  },
  {
   "cell_type": "markdown",
   "id": "2758192d",
   "metadata": {},
   "source": [
    "Now we need to perform differential expression analysis between each drug and untreated (DMSO) cells"
   ]
  },
  {
   "cell_type": "code",
   "execution_count": 7,
   "id": "3734b569",
   "metadata": {},
   "outputs": [],
   "source": [
    "control_dataset <- aggregate_expr$DMSO"
   ]
  },
  {
   "cell_type": "code",
   "execution_count": 8,
   "id": "65a020e7",
   "metadata": {},
   "outputs": [],
   "source": [
    "edgeR_diffExpress_PBRs <- function(drug_dataset){\n",
    "    \n",
    "    # Binding control and drug dataset\n",
    "    dataset <- cbind(control_dataset, drug_dataset) \n",
    "    \n",
    "    # Groups identification\n",
    "    groups <- c(rep(\"Control\", times = 3), rep(\"Treatment\", times = 3))          \n",
    "    groups <- factor(groups, levels = c(\"Control\", \"Treatment\")) \n",
    "    \n",
    "    # Creating a DGE list object                 \n",
    "    dge_obj <- DGEList(counts = dataset, group = groups, remove.zeros = TRUE) \n",
    "                     \n",
    "    # Average log CPM to perform filterings based on the previous histograms                 \n",
    "    avglogCPM <- aveLogCPM(dge_obj)          \n",
    "    keep <- (avglogCPM > 1)\n",
    "    dge_obj_filtered <- dge_obj[keep, ]\n",
    "                     \n",
    "    # Normalization                 \n",
    "    dge_obj_filtered <- calcNormFactors(dge_obj_filtered)\n",
    "                                 \n",
    "    # Preparing the design matrix and estimating the NB dispersions               \n",
    "    design <- model.matrix(~0 + groups)\n",
    "    colnames(design) <- levels(groups)\n",
    "    dge_obj_filtered <- estimateDisp(dge_obj_filtered, design = design, robust = TRUE)\n",
    "    \n",
    "    # Fitting the model\n",
    "    fit <- glmQLFit(dge_obj_filtered, design = design)\n",
    "                     \n",
    "    # Running the test, specifying the comparison\n",
    "    # Positive logFC = higher in treatment\n",
    "    qlf <- glmQLFTest(fit, contrast = makeContrasts(DrugVsDMSO = Treatment - Control, levels = design)) \n",
    "                     \n",
    "    # Return results, BH p-value adjustment                 \n",
    "    tt <- topTags(qlf, n = Inf)\n",
    "    return(tt$table)\n",
    "}"
   ]
  },
  {
   "cell_type": "code",
   "execution_count": 9,
   "id": "629d40ef",
   "metadata": {},
   "outputs": [],
   "source": [
    "dge_result_3vs3_pseudobulk <- mclapply(X = drugs[-which(drugs == \"DMSO\")], \n",
    "                                       function(x) edgeR_diffExpress_PBRs(aggregate_expr[[x]]), \n",
    "                        mc.cores = 4)\n",
    "names(dge_result_3vs3_pseudobulk) <- drugs[-which(drugs == \"DMSO\")]"
   ]
  },
  {
   "cell_type": "markdown",
   "id": "e483f927",
   "metadata": {},
   "source": [
    "Saving results"
   ]
  },
  {
   "cell_type": "code",
   "execution_count": 10,
   "id": "da5bce46",
   "metadata": {},
   "outputs": [],
   "source": [
    "dge_result_3vs3_pseudobulk <- mclapply(drugs[-which(drugs == \"DMSO\")], \n",
    "                                       function(x){dge_result_3vs3_pseudobulk[[x]]$drug <- paste0(x, \" vs. DMSO\")\n",
    "                                                   dge_result_3vs3_pseudobulk[[x]]$gene <- rownames(dge_result_3vs3_pseudobulk[[x]])\n",
    "                                                   return(dge_result_3vs3_pseudobulk[[x]])})\n",
    "names(dge_result_3vs3_pseudobulk) <- drugs[-which(drugs == \"DMSO\")]"
   ]
  },
  {
   "cell_type": "code",
   "execution_count": 11,
   "id": "ec43cb27",
   "metadata": {},
   "outputs": [],
   "source": [
    "dge_result_3vs3_pseudobulk_rbound <- do.call(rbind, dge_result_3vs3_pseudobulk)"
   ]
  },
  {
   "cell_type": "code",
   "execution_count": 12,
   "id": "5114b280",
   "metadata": {},
   "outputs": [],
   "source": [
    "write.table(x = dge_result_3vs3_pseudobulk_rbound, file = \"3vs3_pseudobulk_aggregate_edgeR_DGE.txt\", sep = \"\\t\", quote = F)\n",
    "write.table(x = dge_result_3vs3_pseudobulk_rbound[dge_result_3vs3_pseudobulk_rbound$FDR<0.01, ], file = \"3vs3_pseudobulk_aggregate_edgeR_DGE_FDR_0.01.txt\", sep = \"\\t\", quote = F)"
   ]
  },
  {
   "cell_type": "code",
   "execution_count": 13,
   "id": "d1c6ae88",
   "metadata": {},
   "outputs": [
    {
     "data": {
      "text/plain": [
       "R version 4.2.2 (2022-10-31)\n",
       "Platform: x86_64-conda-linux-gnu (64-bit)\n",
       "Running under: Rocky Linux 8.8 (Green Obsidian)\n",
       "\n",
       "Matrix products: default\n",
       "BLAS/LAPACK: /homedir01/adini22/.conda/envs/cellhashing_analyses/lib/libopenblasp-r0.3.21.so\n",
       "\n",
       "locale:\n",
       " [1] LC_CTYPE=en_US.UTF-8       LC_NUMERIC=C              \n",
       " [3] LC_TIME=en_US.UTF-8        LC_COLLATE=en_US.UTF-8    \n",
       " [5] LC_MONETARY=en_US.UTF-8    LC_MESSAGES=en_US.UTF-8   \n",
       " [7] LC_PAPER=en_US.UTF-8       LC_NAME=C                 \n",
       " [9] LC_ADDRESS=C               LC_TELEPHONE=C            \n",
       "[11] LC_MEASUREMENT=en_US.UTF-8 LC_IDENTIFICATION=C       \n",
       "\n",
       "attached base packages:\n",
       "[1] parallel  stats     graphics  grDevices utils     datasets  methods  \n",
       "[8] base     \n",
       "\n",
       "other attached packages:\n",
       "[1] edgeR_3.40.2       limma_3.54.2       SeuratObject_4.1.3 Seurat_4.3.0.9002 \n",
       "\n",
       "loaded via a namespace (and not attached):\n",
       "  [1] Rtsne_0.16             colorspace_2.1-0       deldir_1.0-6          \n",
       "  [4] ellipsis_0.3.2         ggridges_0.5.4         IRdisplay_1.1         \n",
       "  [7] base64enc_0.1-3        spatstat.data_3.0-1    leiden_0.4.3          \n",
       " [10] listenv_0.9.0          ggrepel_0.9.3          fansi_1.0.4           \n",
       " [13] codetools_0.2-18       splines_4.2.2          polyclip_1.10-4       \n",
       " [16] IRkernel_1.3.1         jsonlite_1.8.4         ica_1.0-3             \n",
       " [19] cluster_2.1.4          png_0.1-8              uwot_0.1.14           \n",
       " [22] shiny_1.7.4            sctransform_0.3.5      spatstat.sparse_3.0-1 \n",
       " [25] compiler_4.2.2         httr_1.4.5             assertthat_0.2.1      \n",
       " [28] Matrix_1.5-3           fastmap_1.1.1          lazyeval_0.2.2        \n",
       " [31] cli_3.6.0              later_1.3.0            htmltools_0.5.4       \n",
       " [34] tools_4.2.2            igraph_1.4.0           gtable_0.3.3          \n",
       " [37] glue_1.6.2             RANN_2.6.1             reshape2_1.4.4        \n",
       " [40] dplyr_1.0.10           Rcpp_1.0.10            scattermore_0.8       \n",
       " [43] vctrs_0.5.1            spatstat.explore_3.0-6 nlme_3.1-162          \n",
       " [46] progressr_0.13.0       lmtest_0.9-40          spatstat.random_3.1-3 \n",
       " [49] stringr_1.5.0          globals_0.16.2         mime_0.12             \n",
       " [52] miniUI_0.1.1.1         lifecycle_1.0.3        irlba_2.3.5.1         \n",
       " [55] goftest_1.2-3          future_1.32.0          MASS_7.3-58.2         \n",
       " [58] zoo_1.8-11             scales_1.2.1           promises_1.2.0.1      \n",
       " [61] spatstat.utils_3.0-2   RColorBrewer_1.1-3     reticulate_1.28       \n",
       " [64] pbapply_1.7-0          gridExtra_2.3          ggplot2_3.4.2         \n",
       " [67] stringi_1.7.12         repr_1.1.5             rlang_1.1.0           \n",
       " [70] pkgconfig_2.0.3        matrixStats_0.63.0     evaluate_0.20         \n",
       " [73] lattice_0.20-45        ROCR_1.0-11            purrr_1.0.1           \n",
       " [76] tensor_1.5             patchwork_1.1.2        htmlwidgets_1.6.2.9000\n",
       " [79] cowplot_1.1.1          tidyselect_1.2.0       parallelly_1.34.0     \n",
       " [82] RcppAnnoy_0.0.20       plyr_1.8.8             magrittr_2.0.3        \n",
       " [85] R6_2.5.1               generics_0.1.3         pbdZMQ_0.3-8          \n",
       " [88] DBI_1.1.3              pillar_1.9.0           fitdistrplus_1.1-8    \n",
       " [91] survival_3.5-0         abind_1.4-5            sp_1.6-0              \n",
       " [94] tibble_3.2.1           future.apply_1.10.0    crayon_1.5.2          \n",
       " [97] uuid_1.1-0             KernSmooth_2.23-20     utf8_1.2.3            \n",
       "[100] spatstat.geom_3.0-5    plotly_4.10.1.9000     locfit_1.5-9.7        \n",
       "[103] grid_4.2.2             data.table_1.14.8      digest_0.6.31         \n",
       "[106] xtable_1.8-4           tidyr_1.2.1            httpuv_1.6.9          \n",
       "[109] munsell_0.5.0          viridisLite_0.4.1     "
      ]
     },
     "metadata": {},
     "output_type": "display_data"
    }
   ],
   "source": [
    "sessionInfo()"
   ]
  }
 ],
 "metadata": {
  "kernelspec": {
   "display_name": "R",
   "language": "R",
   "name": "ir"
  },
  "language_info": {
   "codemirror_mode": "r",
   "file_extension": ".r",
   "mimetype": "text/x-r-source",
   "name": "R",
   "pygments_lexer": "r",
   "version": "4.2.2"
  }
 },
 "nbformat": 4,
 "nbformat_minor": 5
}
