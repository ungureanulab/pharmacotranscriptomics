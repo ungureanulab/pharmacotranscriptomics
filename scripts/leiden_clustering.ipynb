{
 "cells": [
  {
   "cell_type": "markdown",
   "id": "10a736d5",
   "metadata": {},
   "source": [
    "# Performing Leiden-based clustering for the integrated HGSOC data on the Harmony reduction"
   ]
  },
  {
   "cell_type": "markdown",
   "id": "4325ff03",
   "metadata": {},
   "source": [
    "Loading the R packages avoiding messages."
   ]
  },
  {
   "cell_type": "code",
   "execution_count": 1,
   "id": "bb28a79e",
   "metadata": {},
   "outputs": [],
   "source": [
    "suppressWarnings({suppressPackageStartupMessages({\n",
    "    library(Seurat)\n",
    "    library(clustree)\n",
    "    library(future)\n",
    "    library(leiden)\n",
    "})})"
   ]
  },
  {
   "cell_type": "markdown",
   "id": "522a321d",
   "metadata": {},
   "source": [
    "Loading the data."
   ]
  },
  {
   "cell_type": "code",
   "execution_count": 2,
   "id": "331ea4ac",
   "metadata": {},
   "outputs": [],
   "source": [
    "hgsoc <- readRDS(\"HGSOC_CellHashing_noClustering.RDS\")"
   ]
  },
  {
   "cell_type": "markdown",
   "id": "1ad00f8d",
   "metadata": {},
   "source": [
    "Finding neighbors in the Harmony reduction."
   ]
  },
  {
   "cell_type": "code",
   "execution_count": 3,
   "id": "76121455",
   "metadata": {
    "scrolled": true
   },
   "outputs": [
    {
     "name": "stderr",
     "output_type": "stream",
     "text": [
      "Computing nearest neighbor graph\n",
      "\n",
      "Computing SNN\n",
      "\n"
     ]
    }
   ],
   "source": [
    "hgsoc <- FindNeighbors(hgsoc, reduction = \"harmony\", dims = 1:30)"
   ]
  },
  {
   "cell_type": "markdown",
   "id": "e045496d",
   "metadata": {},
   "source": [
    "Clustering is run over several resolutions."
   ]
  },
  {
   "cell_type": "code",
   "execution_count": 4,
   "id": "e37d8af6",
   "metadata": {},
   "outputs": [
    {
     "name": "stderr",
     "output_type": "stream",
     "text": [
      "Warning message in asMethod(object):\n",
      "“sparse->dense coercion: allocating vector of size 9.7 GiB”\n",
      "Warning message in asMethod(object):\n",
      "“sparse->dense coercion: allocating vector of size 9.7 GiB”\n",
      "Warning message in asMethod(object):\n",
      "“sparse->dense coercion: allocating vector of size 9.7 GiB”\n",
      "Warning message in asMethod(object):\n",
      "“sparse->dense coercion: allocating vector of size 9.7 GiB”\n",
      "Warning message in asMethod(object):\n",
      "“sparse->dense coercion: allocating vector of size 9.7 GiB”\n",
      "Warning message in asMethod(object):\n",
      "“sparse->dense coercion: allocating vector of size 9.7 GiB”\n",
      "Warning message in asMethod(object):\n",
      "“sparse->dense coercion: allocating vector of size 9.7 GiB”\n",
      "Warning message in asMethod(object):\n",
      "“sparse->dense coercion: allocating vector of size 9.7 GiB”\n",
      "Warning message in asMethod(object):\n",
      "“sparse->dense coercion: allocating vector of size 9.7 GiB”\n",
      "Warning message in asMethod(object):\n",
      "“sparse->dense coercion: allocating vector of size 9.7 GiB”\n",
      "Warning message in asMethod(object):\n",
      "“sparse->dense coercion: allocating vector of size 9.7 GiB”\n"
     ]
    }
   ],
   "source": [
    "resolutions <- seq(0, 1, 0.1)\n",
    "plan(\"cluster\", gc = TRUE, workers = 1L)\n",
    "hgsoc <- FindClusters(hgsoc, \n",
    "                       resolution = resolutions, \n",
    "                       random.seed = 1, \n",
    "                       algorithm = 4, #Leiden algorithm  \n",
    "                       verbose = TRUE) "
   ]
  },
  {
   "cell_type": "code",
   "execution_count": 5,
   "id": "8846a6ea",
   "metadata": {},
   "outputs": [
    {
     "data": {
      "text/html": [
       "<strong>png:</strong> 2"
      ],
      "text/latex": [
       "\\textbf{png:} 2"
      ],
      "text/markdown": [
       "**png:** 2"
      ],
      "text/plain": [
       "png \n",
       "  2 "
      ]
     },
     "metadata": {},
     "output_type": "display_data"
    }
   ],
   "source": [
    "pdf(file = \"HarmonyIntegratedData_clustree_RNA_2023.pdf\", width = 10, height = 10)\n",
    "clustree(hgsoc)\n",
    "dev.off()"
   ]
  },
  {
   "cell_type": "markdown",
   "id": "fcb07a70",
   "metadata": {},
   "source": [
    "Setting the clusters with the resolution we think being the best."
   ]
  },
  {
   "cell_type": "code",
   "execution_count": 6,
   "id": "5b9136fe",
   "metadata": {},
   "outputs": [],
   "source": [
    "hgsoc@meta.data$RNA_clusters <- hgsoc@meta.data[, \"SCT_snn_res.0.3\"]\n",
    "Idents(hgsoc) <- \"RNA_clusters\""
   ]
  },
  {
   "cell_type": "markdown",
   "id": "b2115797",
   "metadata": {},
   "source": [
    "Saving the RDS object."
   ]
  },
  {
   "cell_type": "code",
   "execution_count": 7,
   "id": "86fcf845",
   "metadata": {},
   "outputs": [],
   "source": [
    "saveRDS(object = hgsoc, file = \"HGSOC_CellHashing_CLUSTERED.RDS\")"
   ]
  },
  {
   "cell_type": "code",
   "execution_count": 8,
   "id": "8f08114f",
   "metadata": {},
   "outputs": [
    {
     "data": {
      "text/plain": [
       "R version 4.2.2 (2022-10-31)\n",
       "Platform: x86_64-conda-linux-gnu (64-bit)\n",
       "Running under: Red Hat Enterprise Linux 8.9 (Ootpa)\n",
       "\n",
       "Matrix products: default\n",
       "BLAS/LAPACK: /homedir01/adini22/.conda/envs/cellhashing_preprocessing/lib/libopenblasp-r0.3.21.so\n",
       "\n",
       "locale:\n",
       " [1] LC_CTYPE=en_US.UTF-8       LC_NUMERIC=C              \n",
       " [3] LC_TIME=en_US.UTF-8        LC_COLLATE=en_US.UTF-8    \n",
       " [5] LC_MONETARY=en_US.UTF-8    LC_MESSAGES=en_US.UTF-8   \n",
       " [7] LC_PAPER=en_US.UTF-8       LC_NAME=C                 \n",
       " [9] LC_ADDRESS=C               LC_TELEPHONE=C            \n",
       "[11] LC_MEASUREMENT=en_US.UTF-8 LC_IDENTIFICATION=C       \n",
       "\n",
       "attached base packages:\n",
       "[1] stats     graphics  grDevices utils     datasets  methods   base     \n",
       "\n",
       "other attached packages:\n",
       "[1] leiden_0.4.3       future_1.30.0      clustree_0.5.0     ggraph_2.1.0      \n",
       "[5] ggplot2_3.4.2      SeuratObject_4.1.3 Seurat_4.3.0.9001 \n",
       "\n",
       "loaded via a namespace (and not attached):\n",
       "  [1] Rtsne_0.16             colorspace_2.1-0       deldir_1.0-6          \n",
       "  [4] ellipsis_0.3.2         ggridges_0.5.4         rprojroot_2.0.3       \n",
       "  [7] IRdisplay_1.1          base64enc_0.1-3        spatstat.data_3.0-0   \n",
       " [10] farver_2.1.1           listenv_0.9.0          graphlayouts_0.8.4    \n",
       " [13] ggrepel_0.9.2          fansi_1.0.4            codetools_0.2-18      \n",
       " [16] splines_4.2.2          polyclip_1.10-4        IRkernel_1.3          \n",
       " [19] jsonlite_1.8.4         ica_1.0-3              cluster_2.1.4         \n",
       " [22] png_0.1-8              uwot_0.1.14            ggforce_0.4.1         \n",
       " [25] shiny_1.7.4            sctransform_0.3.5      spatstat.sparse_3.0-0 \n",
       " [28] compiler_4.2.2         httr_1.4.4             backports_1.4.1       \n",
       " [31] Matrix_1.5-4           fastmap_1.1.0          lazyeval_0.2.2        \n",
       " [34] cli_3.6.1              tweenr_2.0.2           later_1.3.0           \n",
       " [37] htmltools_0.5.4        tools_4.2.2            igraph_1.4.2          \n",
       " [40] gtable_0.3.3           glue_1.6.2             RANN_2.6.1            \n",
       " [43] reshape2_1.4.4         dplyr_1.1.2            rappdirs_0.3.3        \n",
       " [46] Rcpp_1.0.10            scattermore_0.8        vctrs_0.6.2           \n",
       " [49] spatstat.explore_3.0-5 nlme_3.1-162           progressr_0.13.0      \n",
       " [52] lmtest_0.9-40          spatstat.random_3.0-1  stringr_1.5.0         \n",
       " [55] globals_0.16.2         mime_0.12              miniUI_0.1.1.1        \n",
       " [58] lifecycle_1.0.3        irlba_2.3.5.1          goftest_1.2-3         \n",
       " [61] MASS_7.3-60            zoo_1.8-11             scales_1.2.1          \n",
       " [64] tidygraph_1.2.2        promises_1.2.0.1       spatstat.utils_3.0-1  \n",
       " [67] parallel_4.2.2         RColorBrewer_1.1-3     reticulate_1.25       \n",
       " [70] pbapply_1.7-0          gridExtra_2.3          stringi_1.7.12        \n",
       " [73] checkmate_2.1.0        repr_1.1.4             rlang_1.1.1           \n",
       " [76] pkgconfig_2.0.3        matrixStats_0.62.0     evaluate_0.19         \n",
       " [79] lattice_0.21-8         ROCR_1.0-11            purrr_1.0.1           \n",
       " [82] tensor_1.5             labeling_0.4.2         patchwork_1.1.2       \n",
       " [85] htmlwidgets_1.6.1      cowplot_1.1.1          tidyselect_1.2.0      \n",
       " [88] here_1.0.1             parallelly_1.34.0      RcppAnnoy_0.0.20      \n",
       " [91] plyr_1.8.8             magrittr_2.0.3         R6_2.5.1              \n",
       " [94] generics_0.1.3         pbdZMQ_0.3-7           pillar_1.9.0          \n",
       " [97] withr_2.5.0            fitdistrplus_1.1-8     survival_3.5-0        \n",
       "[100] abind_1.4-5            sp_1.5-1               tibble_3.2.1          \n",
       "[103] future.apply_1.10.0    crayon_1.5.2           uuid_1.1-0            \n",
       "[106] KernSmooth_2.23-20     utf8_1.2.3             spatstat.geom_3.0-3   \n",
       "[109] plotly_4.10.1          viridis_0.6.2          grid_4.2.2            \n",
       "[112] data.table_1.14.6      digest_0.6.31          xtable_1.8-4          \n",
       "[115] tidyr_1.3.0            httpuv_1.6.8           munsell_0.5.0         \n",
       "[118] viridisLite_0.4.2     "
      ]
     },
     "metadata": {},
     "output_type": "display_data"
    }
   ],
   "source": [
    "sessionInfo()"
   ]
  }
 ],
 "metadata": {
  "kernelspec": {
   "display_name": "R",
   "language": "R",
   "name": "ir"
  },
  "language_info": {
   "codemirror_mode": "r",
   "file_extension": ".r",
   "mimetype": "text/x-r-source",
   "name": "R",
   "pygments_lexer": "r",
   "version": "4.2.2"
  }
 },
 "nbformat": 4,
 "nbformat_minor": 5
}
