{
 "cells": [
  {
   "cell_type": "markdown",
   "id": "857f9b4f",
   "metadata": {},
   "source": [
    "# Running differential expression analysis for the integrated batches at the RNA cluster level"
   ]
  },
  {
   "cell_type": "code",
   "execution_count": 1,
   "id": "f4497c01",
   "metadata": {},
   "outputs": [],
   "source": [
    "suppressWarnings({suppressPackageStartupMessages({\n",
    "    library(Seurat)\n",
    "})})"
   ]
  },
  {
   "cell_type": "markdown",
   "id": "e089186a",
   "metadata": {},
   "source": [
    "Loading the data."
   ]
  },
  {
   "cell_type": "code",
   "execution_count": 2,
   "id": "23694e2d",
   "metadata": {},
   "outputs": [],
   "source": [
    "hgsoc <- readRDS(\"HGSOC_CellHashing_CLUSTERED.RDS\")"
   ]
  },
  {
   "cell_type": "markdown",
   "id": "9e35f0b2",
   "metadata": {},
   "source": [
    "Setting the right identities: the previously calculated RNA clusters (Leiden)."
   ]
  },
  {
   "cell_type": "code",
   "execution_count": 3,
   "id": "d4017635",
   "metadata": {},
   "outputs": [
    {
     "data": {
      "text/html": [
       "<style>\n",
       ".list-inline {list-style: none; margin:0; padding: 0}\n",
       ".list-inline>li {display: inline-block}\n",
       ".list-inline>li:not(:last-child)::after {content: \"\\00b7\"; padding: 0 .5ex}\n",
       "</style>\n",
       "<ol class=list-inline><li>'1'</li><li>'2'</li><li>'3'</li><li>'4'</li><li>'5'</li><li>'6'</li><li>'7'</li><li>'8'</li><li>'9'</li><li>'10'</li><li>'11'</li><li>'12'</li><li>'13'</li></ol>\n"
      ],
      "text/latex": [
       "\\begin{enumerate*}\n",
       "\\item '1'\n",
       "\\item '2'\n",
       "\\item '3'\n",
       "\\item '4'\n",
       "\\item '5'\n",
       "\\item '6'\n",
       "\\item '7'\n",
       "\\item '8'\n",
       "\\item '9'\n",
       "\\item '10'\n",
       "\\item '11'\n",
       "\\item '12'\n",
       "\\item '13'\n",
       "\\end{enumerate*}\n"
      ],
      "text/markdown": [
       "1. '1'\n",
       "2. '2'\n",
       "3. '3'\n",
       "4. '4'\n",
       "5. '5'\n",
       "6. '6'\n",
       "7. '7'\n",
       "8. '8'\n",
       "9. '9'\n",
       "10. '10'\n",
       "11. '11'\n",
       "12. '12'\n",
       "13. '13'\n",
       "\n",
       "\n"
      ],
      "text/plain": [
       " [1] \"1\"  \"2\"  \"3\"  \"4\"  \"5\"  \"6\"  \"7\"  \"8\"  \"9\"  \"10\" \"11\" \"12\" \"13\""
      ]
     },
     "metadata": {},
     "output_type": "display_data"
    }
   ],
   "source": [
    "Idents(hgsoc) <- \"RNA_clusters\"\n",
    "levels(hgsoc)"
   ]
  },
  {
   "cell_type": "markdown",
   "id": "099cd489",
   "metadata": {},
   "source": [
    "To run differential expression, we make use of corrected counts that are stored in the _data_ slot of the the SCT assay. Corrected counts are obtained by setting the sequencing depth for all the cells to a fixed value and reversing the learned regularized negative-binomial regression model. Prior to performing differential expression, we do not need to first run _PrepSCTFindMarkers_, as the object is not derived from Seurat-integrated data, but rather from Harmony integrated data. The downstream object remains the same, and we will work in the SCT assay. If we try to launch _PrepSCTMarkers_, as there is only one object, the regularization is skipped, confirming our theory."
   ]
  },
  {
   "cell_type": "code",
   "execution_count": 4,
   "id": "1f95b0d5",
   "metadata": {},
   "outputs": [
    {
     "name": "stderr",
     "output_type": "stream",
     "text": [
      "Calculating cluster 1\n",
      "\n",
      "Calculating cluster 2\n",
      "\n",
      "Calculating cluster 3\n",
      "\n",
      "Calculating cluster 4\n",
      "\n",
      "Calculating cluster 5\n",
      "\n",
      "Calculating cluster 6\n",
      "\n",
      "Calculating cluster 7\n",
      "\n",
      "Calculating cluster 8\n",
      "\n",
      "Calculating cluster 9\n",
      "\n",
      "Calculating cluster 10\n",
      "\n",
      "Calculating cluster 11\n",
      "\n",
      "Calculating cluster 12\n",
      "\n",
      "Calculating cluster 13\n",
      "\n"
     ]
    }
   ],
   "source": [
    "sc_data_RNA_markers <- FindAllMarkers(object = hgsoc, \n",
    "                                      assay = \"SCT\", \n",
    "                                      verbose = TRUE, \n",
    "                                      only.pos = FALSE, \n",
    "                                      base = 2)"
   ]
  },
  {
   "cell_type": "markdown",
   "id": "8da96b47",
   "metadata": {},
   "source": [
    "Saving the data."
   ]
  },
  {
   "cell_type": "code",
   "execution_count": 5,
   "id": "acaa5d2d",
   "metadata": {},
   "outputs": [],
   "source": [
    "write.table(sc_data_RNA_markers, \n",
    "            file = \"All_vs_all_RNAclusters_DEG.txt\", sep = \"\\t\", quote = F)\n",
    "write.table(sc_data_RNA_markers[sc_data_RNA_markers$p_val_adj < 0.05, ], \n",
    "            file = \"All_vs_all_RNAclusters_DEG_signif.txt\", sep = \"\\t\", quote = F)"
   ]
  },
  {
   "cell_type": "code",
   "execution_count": 6,
   "id": "2cd7d348",
   "metadata": {},
   "outputs": [
    {
     "data": {
      "text/plain": [
       "R version 4.2.2 (2022-10-31)\n",
       "Platform: x86_64-conda-linux-gnu (64-bit)\n",
       "Running under: Rocky Linux 8.8 (Green Obsidian)\n",
       "\n",
       "Matrix products: default\n",
       "BLAS/LAPACK: /homedir01/adini22/.conda/envs/cellhashing_analyses/lib/libopenblasp-r0.3.21.so\n",
       "\n",
       "locale:\n",
       " [1] LC_CTYPE=en_US.UTF-8       LC_NUMERIC=C              \n",
       " [3] LC_TIME=en_US.UTF-8        LC_COLLATE=en_US.UTF-8    \n",
       " [5] LC_MONETARY=en_US.UTF-8    LC_MESSAGES=en_US.UTF-8   \n",
       " [7] LC_PAPER=en_US.UTF-8       LC_NAME=C                 \n",
       " [9] LC_ADDRESS=C               LC_TELEPHONE=C            \n",
       "[11] LC_MEASUREMENT=en_US.UTF-8 LC_IDENTIFICATION=C       \n",
       "\n",
       "attached base packages:\n",
       "[1] stats     graphics  grDevices utils     datasets  methods   base     \n",
       "\n",
       "other attached packages:\n",
       "[1] SeuratObject_4.1.3 Seurat_4.3.0.9002 \n",
       "\n",
       "loaded via a namespace (and not attached):\n",
       "  [1] Rtsne_0.16             colorspace_2.1-0       deldir_1.0-6          \n",
       "  [4] ellipsis_0.3.2         ggridges_0.5.4         IRdisplay_1.1         \n",
       "  [7] base64enc_0.1-3        spatstat.data_3.0-1    leiden_0.4.3          \n",
       " [10] listenv_0.9.0          ggrepel_0.9.3          fansi_1.0.4           \n",
       " [13] codetools_0.2-18       splines_4.2.2          polyclip_1.10-4       \n",
       " [16] IRkernel_1.3.1         jsonlite_1.8.4         ica_1.0-3             \n",
       " [19] cluster_2.1.4          png_0.1-8              uwot_0.1.14           \n",
       " [22] shiny_1.7.4            sctransform_0.3.5      spatstat.sparse_3.0-1 \n",
       " [25] compiler_4.2.2         httr_1.4.5             assertthat_0.2.1      \n",
       " [28] Matrix_1.5-3           fastmap_1.1.1          lazyeval_0.2.2        \n",
       " [31] limma_3.54.2           cli_3.6.0              later_1.3.0           \n",
       " [34] htmltools_0.5.4        tools_4.2.2            igraph_1.4.0          \n",
       " [37] gtable_0.3.3           glue_1.6.2             RANN_2.6.1            \n",
       " [40] reshape2_1.4.4         dplyr_1.0.10           Rcpp_1.0.10           \n",
       " [43] scattermore_0.8        vctrs_0.5.1            spatstat.explore_3.0-6\n",
       " [46] nlme_3.1-162           progressr_0.13.0       lmtest_0.9-40         \n",
       " [49] spatstat.random_3.1-3  stringr_1.5.0          globals_0.16.2        \n",
       " [52] mime_0.12              miniUI_0.1.1.1         lifecycle_1.0.3       \n",
       " [55] irlba_2.3.5.1          goftest_1.2-3          future_1.32.0         \n",
       " [58] MASS_7.3-58.2          zoo_1.8-11             scales_1.2.1          \n",
       " [61] promises_1.2.0.1       spatstat.utils_3.0-2   parallel_4.2.2        \n",
       " [64] RColorBrewer_1.1-3     reticulate_1.28        pbapply_1.7-0         \n",
       " [67] gridExtra_2.3          ggplot2_3.4.2          stringi_1.7.12        \n",
       " [70] repr_1.1.5             rlang_1.1.0            pkgconfig_2.0.3       \n",
       " [73] matrixStats_0.63.0     evaluate_0.20          lattice_0.20-45       \n",
       " [76] ROCR_1.0-11            purrr_1.0.1            tensor_1.5            \n",
       " [79] patchwork_1.1.2        htmlwidgets_1.6.2.9000 cowplot_1.1.1         \n",
       " [82] tidyselect_1.2.0       parallelly_1.34.0      RcppAnnoy_0.0.20      \n",
       " [85] plyr_1.8.8             magrittr_2.0.3         R6_2.5.1              \n",
       " [88] generics_0.1.3         pbdZMQ_0.3-8           DBI_1.1.3             \n",
       " [91] pillar_1.9.0           fitdistrplus_1.1-8     survival_3.5-0        \n",
       " [94] abind_1.4-5            sp_1.6-0               tibble_3.2.1          \n",
       " [97] future.apply_1.10.0    crayon_1.5.2           uuid_1.1-0            \n",
       "[100] KernSmooth_2.23-20     utf8_1.2.3             spatstat.geom_3.0-5   \n",
       "[103] plotly_4.10.1.9000     grid_4.2.2             data.table_1.14.8     \n",
       "[106] digest_0.6.31          xtable_1.8-4           tidyr_1.2.1           \n",
       "[109] httpuv_1.6.9           munsell_0.5.0          viridisLite_0.4.1     "
      ]
     },
     "metadata": {},
     "output_type": "display_data"
    }
   ],
   "source": [
    "sessionInfo()"
   ]
  }
 ],
 "metadata": {
  "kernelspec": {
   "display_name": "R",
   "language": "R",
   "name": "ir"
  },
  "language_info": {
   "codemirror_mode": "r",
   "file_extension": ".r",
   "mimetype": "text/x-r-source",
   "name": "R",
   "pygments_lexer": "r",
   "version": "4.2.2"
  }
 },
 "nbformat": 4,
 "nbformat_minor": 5
}
