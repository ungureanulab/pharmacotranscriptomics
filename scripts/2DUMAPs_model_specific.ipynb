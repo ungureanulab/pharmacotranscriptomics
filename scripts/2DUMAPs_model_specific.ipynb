{
 "cells": [
  {
   "cell_type": "markdown",
   "id": "38d256e1",
   "metadata": {},
   "source": [
    "# 2D UMAPs of the individual models"
   ]
  },
  {
   "cell_type": "markdown",
   "id": "9e1339e3",
   "metadata": {},
   "source": [
    "Model-specific batches re-normalizing the data using SCTransform but without recomputing the % of MT and RB feature sets as well as the cell cycle scores. "
   ]
  },
  {
   "cell_type": "code",
   "execution_count": 1,
   "id": "3139d263",
   "metadata": {},
   "outputs": [],
   "source": [
    "suppressWarnings({suppressMessages({\n",
    "    library(ggplot2)\n",
    "    library(Seurat)\n",
    "    library(readxl)\n",
    "    library(AnnotationHub)\n",
    "    library(ensembldb)\n",
    "    library(tidyr)\n",
    "    library(dplyr)\n",
    "    library(viridis)\n",
    "})})"
   ]
  },
  {
   "cell_type": "markdown",
   "id": "d5d7ff4a",
   "metadata": {},
   "source": [
    "Loading the data."
   ]
  },
  {
   "cell_type": "code",
   "execution_count": 2,
   "id": "ada7dc7d",
   "metadata": {},
   "outputs": [],
   "source": [
    "hgsoc <- readRDS(\"HGSOC_CellHashing_CLUSTERED.RDS\")"
   ]
  },
  {
   "cell_type": "markdown",
   "id": "145c2686",
   "metadata": {},
   "source": [
    "First, we need to subset for each model, then, re-normalize it with SCTransform using the previous approach, get the PCA and the UMAP. No Harmony integration this time, as they are separated and taken alone as they were in their original batch for sequencing. In this way, we will be able to see the separation of the different MoAs within model-specific UMAPs."
   ]
  },
  {
   "cell_type": "code",
   "execution_count": 3,
   "id": "bc6bef33",
   "metadata": {},
   "outputs": [],
   "source": [
    "JHOS2 <- subset(hgsoc, subset = model == \"JHOS2\")\n",
    "PDC1 <- subset(hgsoc, subset = model == \"PDC1\")\n",
    "PDC2 <- subset(hgsoc, subset = model == \"PDC2\")"
   ]
  },
  {
   "cell_type": "markdown",
   "id": "b6858d9b",
   "metadata": {},
   "source": [
    "The default assay must be RNA to work on the raw counts."
   ]
  },
  {
   "cell_type": "code",
   "execution_count": 4,
   "id": "34220b8b",
   "metadata": {},
   "outputs": [],
   "source": [
    "DefaultAssay(JHOS2) <- \"RNA\"\n",
    "DefaultAssay(PDC1) <- \"RNA\"\n",
    "DefaultAssay(PDC2) <- \"RNA\""
   ]
  },
  {
   "cell_type": "code",
   "execution_count": 5,
   "id": "a18c7c2a",
   "metadata": {},
   "outputs": [],
   "source": [
    "JHOS2 <- SCTransform(JHOS2, \n",
    "                     vars.to.regress = c(\"percent.rb\", \n",
    "                                                    \"percent.mt\", \n",
    "                                                    \"nFeature_RNA\", \n",
    "                                                    \"nCount_RNA\", \n",
    "                                                    \"S.Score\", \n",
    "                                                    \"G2M.Score\"),  \n",
    "                     method = \"glmGamPoi\",\n",
    "                     return.only.var.genes = FALSE, \n",
    "                     variable.features.n = 2000,\n",
    "                     vst.flavor = \"v2\", verbose = FALSE)"
   ]
  },
  {
   "cell_type": "code",
   "execution_count": 7,
   "id": "95f4176c",
   "metadata": {},
   "outputs": [],
   "source": [
    "PDC1 <- SCTransform(PDC1,\n",
    "                    vars.to.regress = c(\"percent.rb\", \n",
    "                                                    \"percent.mt\", \n",
    "                                                    \"nFeature_RNA\", \n",
    "                                                    \"nCount_RNA\", \n",
    "                                                    \"S.Score\", \n",
    "                                                    \"G2M.Score\"),  \n",
    "                    method = \"glmGamPoi\",\n",
    "                    return.only.var.genes = FALSE, \n",
    "                    variable.features.n = 2000,\n",
    "                    vst.flavor = \"v2\", verbose = FALSE)"
   ]
  },
  {
   "cell_type": "code",
   "execution_count": 8,
   "id": "e594eba3",
   "metadata": {},
   "outputs": [],
   "source": [
    "PDC2 <- SCTransform(PDC2,\n",
    "                    vars.to.regress = c(\"percent.rb\", \n",
    "                                                    \"percent.mt\", \n",
    "                                                    \"nFeature_RNA\", \n",
    "                                                    \"nCount_RNA\", \n",
    "                                                    \"S.Score\", \n",
    "                                                    \"G2M.Score\"),  \n",
    "                    method = \"glmGamPoi\",\n",
    "                    return.only.var.genes = FALSE, \n",
    "                    variable.features.n = 2000,\n",
    "                    vst.flavor = \"v2\", verbose = FALSE)"
   ]
  },
  {
   "cell_type": "code",
   "execution_count": 9,
   "id": "cb50d44d",
   "metadata": {},
   "outputs": [],
   "source": [
    "set.seed(1)\n",
    "JHOS2 <- RunPCA(JHOS2, verbose = FALSE, assay.use = \"SCT\")\n",
    "PDC1 <- RunPCA(PDC1, verbose = FALSE, assay.use = \"SCT\")\n",
    "PDC2 <- RunPCA(PDC2, verbose = FALSE, assay.use = \"SCT\")"
   ]
  },
  {
   "cell_type": "code",
   "execution_count": 10,
   "id": "d9c22cc4",
   "metadata": {},
   "outputs": [
    {
     "name": "stderr",
     "output_type": "stream",
     "text": [
      "Warning message:\n",
      "\"The default method for RunUMAP has changed from calling Python UMAP via reticulate to the R-native UWOT using the cosine metric\n",
      "To use Python UMAP via reticulate, set umap.method to 'umap-learn' and metric to 'correlation'\n",
      "This message will be shown once per session\"\n"
     ]
    }
   ],
   "source": [
    "set.seed(1)\n",
    "JHOS2 <- RunUMAP(JHOS2, reduction = \"pca\", dims = 1:30, n.neighbors = 5, min.dist = 0.5, verbose = FALSE)\n",
    "PDC1 <- RunUMAP(PDC1, reduction = \"pca\", dims = 1:30, n.neighbors = 5, min.dist = 0.5, verbose = FALSE)\n",
    "PDC2 <- RunUMAP(PDC2, reduction = \"pca\", dims = 1:30, n.neighbors = 5, min.dist = 0.5, verbose = FALSE)"
   ]
  },
  {
   "cell_type": "code",
   "execution_count": 11,
   "id": "e219104a",
   "metadata": {},
   "outputs": [
    {
     "name": "stderr",
     "output_type": "stream",
     "text": [
      "\u001b[1m\u001b[22mNew names:\n",
      "\u001b[36m•\u001b[39m `` -> `...4`\n",
      "\u001b[36m•\u001b[39m `` -> `...5`\n"
     ]
    }
   ],
   "source": [
    "high_anno <- as.data.frame(read_xlsx(path = \"mechanisms_of_actions.xlsx\", sheet = 1))\n",
    "high_anno <- high_anno[, c(1:3)]\n",
    "rownames(high_anno) <- high_anno$`Preferred name`"
   ]
  },
  {
   "cell_type": "code",
   "execution_count": 12,
   "id": "3ba0d317",
   "metadata": {},
   "outputs": [],
   "source": [
    "custom_palette <- c(\"Bcl-2 inhibitor\" = \"#2f4f4f\", \n",
    "                    \"BET inhibitor\" = \"#a52a2a\", \n",
    "                    \"Control\" = \"#bcbec0\",\n",
    "                    \"CDK inhibitor\" = \"#228b22\",\n",
    "                    \"CHK1 inhibitor\" = \"#4b0082\",\n",
    "                    \"HDAC inhibitor\" = \"#ff8c00\",\n",
    "                    \"IAPs/SMAC mimetic\" = \"#d2b48c\",\n",
    "                    \"Multi-kinase inhibitor\" = \"#00ff00\",\n",
    "                    \"PAK inhibitor\" = \"#00bfff\",\n",
    "                    \"PARP inhibitor\" = \"#0000ff\",\n",
    "                    \"PI3K/mTOR/AKT inhibitor\" = \"#ff1493\",\n",
    "                    \"PLK1 inhibitor\" = \"#ffff54\",\n",
    "                    \"Ras/Raf/MEK/ERK inhibitor\" = \"#dda0dd\",\n",
    "                    \"XPO1/CRM1 inhibitor\" = \"#7fffd4\")"
   ]
  },
  {
   "cell_type": "code",
   "execution_count": 13,
   "id": "8574d1fa",
   "metadata": {},
   "outputs": [],
   "source": [
    "JHOS2@meta.data$higher_mechanism_class <- sapply(JHOS2@meta.data$Treatment_group, \n",
    "                                                 function(x) high_anno[x, \"Higher level classification\"])\n",
    "PDC1@meta.data$higher_mechanism_class <- sapply(PDC1@meta.data$Treatment_group, \n",
    "                                                 function(x) high_anno[x, \"Higher level classification\"])   \n",
    "PDC2@meta.data$higher_mechanism_class <- sapply(PDC2@meta.data$Treatment_group, \n",
    "                                                 function(x) high_anno[x, \"Higher level classification\"])                                                                                                 "
   ]
  },
  {
   "cell_type": "code",
   "execution_count": 15,
   "id": "301fa748",
   "metadata": {},
   "outputs": [],
   "source": [
    "Idents(JHOS2) <- \"higher_mechanism_class\"\n",
    "Idents(PDC1) <- \"higher_mechanism_class\"\n",
    "Idents(PDC2) <- \"higher_mechanism_class\"\n",
    "levels(JHOS2) <- levels(PDC1) <- levels(PDC2) <- c(\"Control\", sort(levels(JHOS2))[-which(sort(levels(JHOS2)) == \"Control\")])"
   ]
  },
  {
   "cell_type": "code",
   "execution_count": 17,
   "id": "aae55c1c",
   "metadata": {},
   "outputs": [],
   "source": [
    "ggsave(filename = \"JHOS2_UMAP_MoAs.pdf\", width = 9, height = 7, \n",
    "       plot = DimPlot(JHOS2, pt.size = 1, cols = custom_palette) + NoAxes() + ggtitle(\"JHOS2\"))\n",
    "\n",
    "ggsave(filename = \"PDC1_UMAP_MoAs.pdf\", width = 9, height = 7, \n",
    "       plot = DimPlot(PDC1, pt.size = 1, cols = custom_palette) + NoAxes() + ggtitle(\"PDC1\"))\n",
    "\n",
    "ggsave(filename = \"PDC2_UMAP_MoAs.pdf\", width = 9, height = 7, \n",
    "       plot = DimPlot(PDC2, pt.size = 1, cols = custom_palette) + NoAxes() + ggtitle(\"PDC2\"))"
   ]
  },
  {
   "cell_type": "markdown",
   "id": "ea50f69b",
   "metadata": {},
   "source": [
    "As done for other UMAPs, we save them both with and without the legend to ensure that the UMAP size is the same, and that the legend can be added using graphical design softwares."
   ]
  },
  {
   "cell_type": "code",
   "execution_count": 20,
   "id": "a2cd0a1d",
   "metadata": {},
   "outputs": [],
   "source": [
    "ggsave(filename = \"JHOS2_UMAP_MoAs_nolegend.pdf\", width = 7, height = 7, \n",
    "       plot = DimPlot(JHOS2, pt.size = 1, cols = custom_palette) + NoAxes() + NoLegend() + ggtitle(\"JHOS2\"))\n",
    "\n",
    "ggsave(filename = \"PDC1_UMAP_MoAs_nolegend.pdf\", width = 7, height = 7, \n",
    "       plot = DimPlot(PDC1, pt.size = 1, cols = custom_palette) + NoAxes() + NoLegend() + ggtitle(\"PDC1\"))\n",
    "\n",
    "ggsave(filename = \"PDC2_UMAP_MoAs_nolegend.pdf\", width = 7, height = 7, \n",
    "       plot = DimPlot(PDC2, pt.size = 1, cols = custom_palette) + NoAxes() + NoLegend() + ggtitle(\"PDC2\"))"
   ]
  },
  {
   "cell_type": "code",
   "execution_count": 19,
   "id": "12107e16",
   "metadata": {},
   "outputs": [
    {
     "data": {
      "text/plain": [
       "R version 4.2.2 (2022-10-31)\n",
       "Platform: x86_64-conda-linux-gnu (64-bit)\n",
       "Running under: Red Hat Enterprise Linux 8.9 (Ootpa)\n",
       "\n",
       "Matrix products: default\n",
       "BLAS/LAPACK: /homedir01/adini22/.conda/envs/cellhashing_preprocessing/lib/libopenblasp-r0.3.21.so\n",
       "\n",
       "locale:\n",
       " [1] LC_CTYPE=en_US.UTF-8       LC_NUMERIC=C              \n",
       " [3] LC_TIME=en_US.UTF-8        LC_COLLATE=en_US.UTF-8    \n",
       " [5] LC_MONETARY=en_US.UTF-8    LC_MESSAGES=en_US.UTF-8   \n",
       " [7] LC_PAPER=en_US.UTF-8       LC_NAME=C                 \n",
       " [9] LC_ADDRESS=C               LC_TELEPHONE=C            \n",
       "[11] LC_MEASUREMENT=en_US.UTF-8 LC_IDENTIFICATION=C       \n",
       "\n",
       "attached base packages:\n",
       "[1] stats4    stats     graphics  grDevices utils     datasets  methods  \n",
       "[8] base     \n",
       "\n",
       "other attached packages:\n",
       " [1] viridis_0.6.2           viridisLite_0.4.2       dplyr_1.1.2            \n",
       " [4] tidyr_1.3.0             ensembldb_2.22.0        AnnotationFilter_1.22.0\n",
       " [7] GenomicFeatures_1.50.3  AnnotationDbi_1.60.0    Biobase_2.58.0         \n",
       "[10] GenomicRanges_1.50.0    GenomeInfoDb_1.34.9     IRanges_2.32.0         \n",
       "[13] S4Vectors_0.36.0        AnnotationHub_3.6.0     BiocFileCache_2.6.0    \n",
       "[16] dbplyr_2.3.0            BiocGenerics_0.44.0     readxl_1.4.1           \n",
       "[19] SeuratObject_4.1.3      Seurat_4.3.0.9001       ggplot2_3.4.2          \n",
       "\n",
       "loaded via a namespace (and not attached):\n",
       "  [1] utf8_1.2.3                    spatstat.explore_3.0-5       \n",
       "  [3] reticulate_1.25               tidyselect_1.2.0             \n",
       "  [5] RSQLite_2.2.20                htmlwidgets_1.6.1            \n",
       "  [7] grid_4.2.2                    BiocParallel_1.32.5          \n",
       "  [9] Rtsne_0.16                    munsell_0.5.0                \n",
       " [11] codetools_0.2-18              ica_1.0-3                    \n",
       " [13] pbdZMQ_0.3-7                  future_1.30.0                \n",
       " [15] miniUI_0.1.1.1                withr_2.5.0                  \n",
       " [17] spatstat.random_3.0-1         colorspace_2.1-0             \n",
       " [19] progressr_0.13.0              filelock_1.0.2               \n",
       " [21] uuid_1.1-0                    ROCR_1.0-11                  \n",
       " [23] tensor_1.5                    listenv_0.9.0                \n",
       " [25] labeling_0.4.2                MatrixGenerics_1.10.0        \n",
       " [27] repr_1.1.4                    GenomeInfoDbData_1.2.9       \n",
       " [29] polyclip_1.10-4               farver_2.1.1                 \n",
       " [31] bit64_4.0.5                   parallelly_1.34.0            \n",
       " [33] vctrs_0.6.2                   generics_0.1.3               \n",
       " [35] R6_2.5.1                      bitops_1.0-7                 \n",
       " [37] spatstat.utils_3.0-1          cachem_1.0.6                 \n",
       " [39] DelayedArray_0.24.0           assertthat_0.2.1             \n",
       " [41] promises_1.2.0.1              BiocIO_1.8.0                 \n",
       " [43] scales_1.2.1                  gtable_0.3.3                 \n",
       " [45] globals_0.16.2                goftest_1.2-3                \n",
       " [47] rlang_1.1.1                   splines_4.2.2                \n",
       " [49] rtracklayer_1.58.0            lazyeval_0.2.2               \n",
       " [51] spatstat.geom_3.0-3           BiocManager_1.30.19          \n",
       " [53] yaml_2.3.6                    reshape2_1.4.4               \n",
       " [55] abind_1.4-5                   httpuv_1.6.8                 \n",
       " [57] tools_4.2.2                   ellipsis_0.3.2               \n",
       " [59] RColorBrewer_1.1-3            ggridges_0.5.4               \n",
       " [61] Rcpp_1.0.10                   plyr_1.8.8                   \n",
       " [63] sparseMatrixStats_1.10.0      base64enc_0.1-3              \n",
       " [65] progress_1.2.2                zlibbioc_1.44.0              \n",
       " [67] purrr_1.0.1                   RCurl_1.98-1.6               \n",
       " [69] prettyunits_1.1.1             deldir_1.0-6                 \n",
       " [71] pbapply_1.7-0                 cowplot_1.1.1                \n",
       " [73] zoo_1.8-11                    SummarizedExperiment_1.28.0  \n",
       " [75] ggrepel_0.9.2                 cluster_2.1.4                \n",
       " [77] magrittr_2.0.3                data.table_1.14.6            \n",
       " [79] glmGamPoi_1.10.1              scattermore_0.8              \n",
       " [81] lmtest_0.9-40                 RANN_2.6.1                   \n",
       " [83] ProtGenerics_1.30.0           fitdistrplus_1.1-8           \n",
       " [85] matrixStats_0.62.0            hms_1.1.2                    \n",
       " [87] patchwork_1.1.2               mime_0.12                    \n",
       " [89] evaluate_0.19                 xtable_1.8-4                 \n",
       " [91] XML_3.99-0.9                  gridExtra_2.3                \n",
       " [93] compiler_4.2.2                biomaRt_2.54.0               \n",
       " [95] tibble_3.2.1                  KernSmooth_2.23-20           \n",
       " [97] crayon_1.5.2                  htmltools_0.5.4              \n",
       " [99] later_1.3.0                   DBI_1.1.3                    \n",
       "[101] MASS_7.3-60                   rappdirs_0.3.3               \n",
       "[103] Matrix_1.5-4                  cli_3.6.1                    \n",
       "[105] parallel_4.2.2                igraph_1.4.2                 \n",
       "[107] pkgconfig_2.0.3               GenomicAlignments_1.34.0     \n",
       "[109] sp_1.5-1                      IRdisplay_1.1                \n",
       "[111] plotly_4.10.1                 spatstat.sparse_3.0-0        \n",
       "[113] xml2_1.3.3                    XVector_0.38.0               \n",
       "[115] stringr_1.5.0                 digest_0.6.31                \n",
       "[117] sctransform_0.3.5             RcppAnnoy_0.0.20             \n",
       "[119] spatstat.data_3.0-0           Biostrings_2.66.0            \n",
       "[121] cellranger_1.1.0              leiden_0.4.3                 \n",
       "[123] uwot_0.1.14                   DelayedMatrixStats_1.20.0    \n",
       "[125] restfulr_0.0.15               curl_5.0.0                   \n",
       "[127] shiny_1.7.4                   Rsamtools_2.14.0             \n",
       "[129] rjson_0.2.21                  lifecycle_1.0.3              \n",
       "[131] nlme_3.1-162                  jsonlite_1.8.4               \n",
       "[133] fansi_1.0.4                   pillar_1.9.0                 \n",
       "[135] lattice_0.21-8                KEGGREST_1.38.0              \n",
       "[137] fastmap_1.1.0                 httr_1.4.4                   \n",
       "[139] survival_3.5-0                interactiveDisplayBase_1.36.0\n",
       "[141] glue_1.6.2                    png_0.1-8                    \n",
       "[143] BiocVersion_3.16.0            bit_4.0.5                    \n",
       "[145] stringi_1.7.12                blob_1.2.3                   \n",
       "[147] memoise_2.0.1                 IRkernel_1.3                 \n",
       "[149] irlba_2.3.5.1                 future.apply_1.10.0          "
      ]
     },
     "metadata": {},
     "output_type": "display_data"
    }
   ],
   "source": [
    "sessionInfo()"
   ]
  }
 ],
 "metadata": {
  "kernelspec": {
   "display_name": "R",
   "language": "R",
   "name": "ir"
  },
  "language_info": {
   "codemirror_mode": "r",
   "file_extension": ".r",
   "mimetype": "text/x-r-source",
   "name": "R",
   "pygments_lexer": "r",
   "version": "4.2.2"
  }
 },
 "nbformat": 4,
 "nbformat_minor": 5
}
