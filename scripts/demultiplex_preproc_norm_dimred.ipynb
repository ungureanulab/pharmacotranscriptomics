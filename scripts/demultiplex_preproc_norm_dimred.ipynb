{
 "cells": [
  {
   "cell_type": "markdown",
   "id": "b4f58c5b",
   "metadata": {},
   "source": [
    "# Preprocessing of multiplexed scRNA-seq data via Cell Hashing"
   ]
  },
  {
   "cell_type": "markdown",
   "id": "6501cb45",
   "metadata": {},
   "source": [
    "In this script, we will:\n",
    "1. Demultiplex the data\n",
    "2. Filter for the QC the individual models scRNA-seq data\n",
    "3. Put the models' data together to obtain a unique Seurat object\n",
    "4. SCTransform the merged object for normalization and variance stabilization\n",
    "5. Calculate the cell cycle scoring for the merged object\n",
    "6. Run the PCA followed by Harmony integration to resolve the batch effect\n",
    "7. Run the UMAP for dimensionality reduction."
   ]
  },
  {
   "cell_type": "markdown",
   "id": "1035b948",
   "metadata": {},
   "source": [
    "Loading the R packages avoiding messages."
   ]
  },
  {
   "cell_type": "code",
   "execution_count": 1,
   "id": "d9573d2f",
   "metadata": {},
   "outputs": [],
   "source": [
    "suppressWarnings({suppressPackageStartupMessages({\n",
    "  library(Seurat)\n",
    "  library(ggplot2)\n",
    "  library(readxl)\n",
    "  library(AnnotationHub)\n",
    "  library(ensembldb)\n",
    "  library(tidyr)\n",
    "  library(dplyr)\n",
    "  library(viridis)\n",
    "  library(harmony)\n",
    "})})"
   ]
  },
  {
   "cell_type": "markdown",
   "id": "0d195277",
   "metadata": {},
   "source": [
    "Loading and demultiplexing the 10X Genomics count data for the three models: JHOS2 (representative cell line from primary sample), PDC1 (patient-derived cancer cells from a metastatic HGSOC sample), and PDC2 (patient-derived cancer cells from a primary HGSOC sample)."
   ]
  },
  {
   "cell_type": "code",
   "execution_count": 2,
   "id": "f0c0f837",
   "metadata": {},
   "outputs": [],
   "source": [
    "ch_demux <- function(path_to_10x, filename){\n",
    "    # Loading data\n",
    "    message(\"Loading data...\")\n",
    "    seurat_object_counts <- Read10X(data.dir = path_to_10x)\n",
    "    seurat_object_HTO <- CreateSeuratObject(counts = seurat_object_counts$`Antibody Capture`)\n",
    "    seurat_object_RNA <- CreateSeuratObject(counts = seurat_object_counts$`Gene Expression`, min.cells = 3, min.features = 200)\n",
    "\n",
    "    message(\"Data loaded.\")\n",
    "    \n",
    "    # Selecting cells for which both mRNA and HTO data is available\n",
    "    message(\"Creating object...\")\n",
    "    joint.bcs <- intersect(colnames(seurat_object_HTO), colnames(seurat_object_RNA))\n",
    "    \n",
    "    message(\"Total number of cells for which both mRNA and HTO data is available: \", length(joint.bcs))\n",
    "    \n",
    "    seurat_object_RNA <- seurat_object_RNA[, joint.bcs]\n",
    "    seurat_object_HTO <- seurat_object_HTO[, joint.bcs]\n",
    "\n",
    "    # Dividing the cells into row and column HTO assays for practicality of the downstream assignment of the wells of origin\n",
    "    seurat_object_HTO_row <- seurat_object_HTO[grep(\"row\", rownames(seurat_object_HTO)), ]\n",
    "    seurat_object_HTO_col <- seurat_object_HTO[grep(\"column\", rownames(seurat_object_HTO)), ]\n",
    "    seurat_object_HTO_demux <- CreateSeuratObject(counts = seurat_object_HTO_row[[\"RNA\"]]@counts, assay = \"HTO_row\")\n",
    "    seurat_object_HTO_demux[[\"HTO_col\"]] <- CreateAssayObject(counts = seurat_object_HTO_col[[\"RNA\"]]@counts) \n",
    "    \n",
    "    message(\"Object created.\")\n",
    "    message(\"Starting data normalization.\")\n",
    "    \n",
    "    # Normalizing the HTO data\n",
    "    seurat_object_HTO_demux <- suppressMessages(NormalizeData(seurat_object_HTO_demux, \n",
    "                                                              assay = \"HTO_row\", normalization.method = \"CLR\"))\n",
    "    seurat_object_HTO_demux <- suppressMessages(NormalizeData(seurat_object_HTO_demux, \n",
    "                                                              assay = \"HTO_col\", normalization.method = \"CLR\"))\n",
    "    message(\"Data normalized\")\n",
    "    \n",
    "    # Demultiplexing \n",
    "    message(\"Demultiplexing data...\")\n",
    "    \n",
    "    seurat_object_HTO_demux <- suppressMessages(HTODemux(object = seurat_object_HTO_demux, \n",
    "                                                           assay = \"HTO_row\", \n",
    "                                                           positive.quantile = 0.99, \n",
    "                                                           kfunc = \"kmeans\"))\n",
    "    seurat_object_HTO_demux <- suppressMessages(HTODemux(object = seurat_object_HTO_demux, \n",
    "                                                           assay = \"HTO_col\", \n",
    "                                                           positive.quantile = 0.99, \n",
    "                                                           kfunc = \"kmeans\"))\n",
    "    \n",
    "    message(\"Global classification results:\")\n",
    "    print(table(seurat_object_HTO_demux$HTO_row_classification.global))\n",
    "    print(table(seurat_object_HTO_demux$HTO_col_classification.global))\n",
    "    \n",
    "    # Saving diagnostic plots before filtering\n",
    "    message(\"Saving diagnostic plots before filtering for high-quality cells...\")\n",
    "    ggsave(HTOHeatmap(seurat_object_HTO_demux, assay = \"HTO_row\"), \n",
    "           filename = paste0(filename, \"_row_HTO_before_filt_2023.pdf\"), dpi = 1000, width = 5, height = 5) \n",
    "    ggsave(HTOHeatmap(seurat_object_HTO_demux, assay = \"HTO_col\"), \n",
    "           filename =  paste0(filename, \"_col_HTO_before_filt_2023.pdf\"), dpi = 1000, width = 5, height = 5)\n",
    "    message(\"Plots saved.\")\n",
    "    \n",
    "    # Classification\n",
    "    classification <- rbind(seurat_object_HTO_demux$HTO_row_maxID, \n",
    "                            seurat_object_HTO_demux$HTO_col_maxID, \n",
    "                            seurat_object_HTO_demux$HTO_row_classification.global, \n",
    "                            seurat_object_HTO_demux$HTO_col_classification.global)\n",
    "    rownames(classification) <- c(\"row\", \"column\", \"row_class\", \"col_class\")\n",
    "    classification <- as.data.frame(t(classification))\n",
    "    \n",
    "    # Saving the classification object for later\n",
    "    assign(x = paste0(filename, \"_classification\"), value = classification, envir = .GlobalEnv)\n",
    "    \n",
    "    # Filtering for the high-quality cells, classified as \"singlet\"\n",
    "    cells_retained <- rownames(classification[classification$row_class == \"Singlet\" & classification$col_class == \"Singlet\",])\n",
    "    \n",
    "    message(\"Number of cells retained: \", length(cells_retained))\n",
    "    seurat_object_HTO_demux <- seurat_object_HTO_demux[, cells_retained]\n",
    "    \n",
    "    message(\"Data demultiplexed.\")\n",
    "    \n",
    "    # Saving diagnostic plots after filtering\n",
    "    message(\"Saving diagnostic plots after filtering for high-quality cells...\")\n",
    "    ggsave(HTOHeatmap(seurat_object_HTO_demux, assay = \"HTO_row\"), \n",
    "           filename = paste0(filename, \"_row_HTO_after_filt_2023.pdf\"), dpi = 1000, width = 5, height = 5) \n",
    "    ggsave(HTOHeatmap(seurat_object_HTO_demux, assay = \"HTO_col\"), \n",
    "           filename = paste0(filename, \"_col_HTO_after_filt_2023.pdf\"), dpi = 1000, width = 5, height = 5)\n",
    "    message(\"Plots saved.\")\n",
    "    \n",
    "    seurat_object <- seurat_object_RNA[, cells_retained]\n",
    "    message(\"Process complete.\")\n",
    "    return(seurat_object)\n",
    "}"
   ]
  },
  {
   "cell_type": "code",
   "execution_count": 3,
   "id": "5965ad66",
   "metadata": {
    "scrolled": true
   },
   "outputs": [
    {
     "name": "stderr",
     "output_type": "stream",
     "text": [
      "Loading data...\n",
      "\n",
      "10X data contains more than one type and is being returned as a list containing matrices of each type.\n",
      "\n",
      "Data loaded.\n",
      "\n",
      "Creating object...\n",
      "\n",
      "Total number of cells for which both mRNA and HTO data is available: 30634\n",
      "\n",
      "Warning message:\n",
      "\"Keys should be one or more alphanumeric characters followed by an underscore, setting key from hto_col_ to htocol_\"\n",
      "Object created.\n",
      "\n",
      "Starting data normalization.\n",
      "\n",
      "Data normalized\n",
      "\n",
      "Demultiplexing data...\n",
      "\n",
      "Global classification results:\n",
      "\n"
     ]
    },
    {
     "name": "stdout",
     "output_type": "stream",
     "text": [
      "\n",
      " Doublet Negative  Singlet \n",
      "    5200     9545    15889 \n",
      "\n",
      " Doublet Negative  Singlet \n",
      "    6398     9155    15081 \n"
     ]
    },
    {
     "name": "stderr",
     "output_type": "stream",
     "text": [
      "Saving diagnostic plots before filtering for high-quality cells...\n",
      "\n",
      "Warning message:\n",
      "\"\u001b[1m\u001b[22mThe `<scale>` argument of `guides()` cannot be `FALSE`. Use \"none\" instead as of ggplot2 3.3.4.\n",
      "\u001b[36mℹ\u001b[39m The deprecated feature was likely used in the \u001b[34mSeurat\u001b[39m package.\n",
      "  Please report the issue at \u001b[3m\u001b[34m<https://github.com/satijalab/seurat/issues>\u001b[39m\u001b[23m.\"\n",
      "Plots saved.\n",
      "\n",
      "Number of cells retained: 13706\n",
      "\n",
      "Data demultiplexed.\n",
      "\n",
      "Saving diagnostic plots after filtering for high-quality cells...\n",
      "\n",
      "Plots saved.\n",
      "\n",
      "Process complete.\n",
      "\n",
      "Loading data...\n",
      "\n",
      "10X data contains more than one type and is being returned as a list containing matrices of each type.\n",
      "\n",
      "Data loaded.\n",
      "\n",
      "Creating object...\n",
      "\n",
      "Total number of cells for which both mRNA and HTO data is available: 24251\n",
      "\n",
      "Warning message:\n",
      "\"Keys should be one or more alphanumeric characters followed by an underscore, setting key from hto_col_ to htocol_\"\n",
      "Object created.\n",
      "\n",
      "Starting data normalization.\n",
      "\n",
      "Data normalized\n",
      "\n",
      "Demultiplexing data...\n",
      "\n",
      "Warning message:\n",
      "\"did not converge in 10 iterations\"\n",
      "Warning message:\n",
      "\"did not converge in 10 iterations\"\n",
      "Warning message:\n",
      "\"did not converge in 10 iterations\"\n",
      "Warning message:\n",
      "\"did not converge in 10 iterations\"\n",
      "Warning message:\n",
      "\"did not converge in 10 iterations\"\n",
      "Warning message:\n",
      "\"did not converge in 10 iterations\"\n",
      "Warning message:\n",
      "\"did not converge in 10 iterations\"\n",
      "Warning message:\n",
      "\"did not converge in 10 iterations\"\n",
      "Global classification results:\n",
      "\n"
     ]
    },
    {
     "name": "stdout",
     "output_type": "stream",
     "text": [
      "\n",
      " Doublet Negative  Singlet \n",
      "    5988     3109    15154 \n",
      "\n",
      " Doublet Negative  Singlet \n",
      "    7262     2458    14531 \n"
     ]
    },
    {
     "name": "stderr",
     "output_type": "stream",
     "text": [
      "Saving diagnostic plots before filtering for high-quality cells...\n",
      "\n",
      "Plots saved.\n",
      "\n",
      "Number of cells retained: 12144\n",
      "\n",
      "Data demultiplexed.\n",
      "\n",
      "Saving diagnostic plots after filtering for high-quality cells...\n",
      "\n",
      "Plots saved.\n",
      "\n",
      "Process complete.\n",
      "\n",
      "Loading data...\n",
      "\n",
      "10X data contains more than one type and is being returned as a list containing matrices of each type.\n",
      "\n",
      "Data loaded.\n",
      "\n",
      "Creating object...\n",
      "\n",
      "Total number of cells for which both mRNA and HTO data is available: 27735\n",
      "\n",
      "Warning message:\n",
      "\"Keys should be one or more alphanumeric characters followed by an underscore, setting key from hto_col_ to htocol_\"\n",
      "Object created.\n",
      "\n",
      "Starting data normalization.\n",
      "\n",
      "Data normalized\n",
      "\n",
      "Demultiplexing data...\n",
      "\n",
      "Warning message:\n",
      "\"did not converge in 10 iterations\"\n",
      "Global classification results:\n",
      "\n"
     ]
    },
    {
     "name": "stdout",
     "output_type": "stream",
     "text": [
      "\n",
      " Doublet Negative  Singlet \n",
      "    5338     8704    13693 \n",
      "\n",
      " Doublet Negative  Singlet \n",
      "    6827     7781    13127 \n"
     ]
    },
    {
     "name": "stderr",
     "output_type": "stream",
     "text": [
      "Saving diagnostic plots before filtering for high-quality cells...\n",
      "\n",
      "Plots saved.\n",
      "\n",
      "Number of cells retained: 11501\n",
      "\n",
      "Data demultiplexed.\n",
      "\n",
      "Saving diagnostic plots after filtering for high-quality cells...\n",
      "\n",
      "Plots saved.\n",
      "\n",
      "Process complete.\n",
      "\n"
     ]
    }
   ],
   "source": [
    "JHOS2 <- ch_demux(path_to_10x = \"./JHOS2_2023/outs/filtered_feature_bc_matrix/\", filename = \"JHOS2\")\n",
    "PDC1 <- ch_demux(path_to_10x = \"./PDC1_2023/outs/filtered_feature_bc_matrix/\", filename = \"PDC1\")\n",
    "PDC2 <- ch_demux(path_to_10x = \"./PDC2_2023/outs/filtered_feature_bc_matrix/\", filename = \"PDC2\")"
   ]
  },
  {
   "cell_type": "markdown",
   "id": "d2919b62",
   "metadata": {},
   "source": [
    "Some QC metrics that we calculate are the % of counts assigned to the mitochondrial and ribosomal genes."
   ]
  },
  {
   "cell_type": "code",
   "execution_count": 4,
   "id": "49bdd915",
   "metadata": {},
   "outputs": [],
   "source": [
    "mt_rb_percentage <- function(seurat_object){\n",
    "    seurat_object <- PercentageFeatureSet(seurat_object, pattern = \"^MT-\", col.name = \"percent.mt\")\n",
    "    seurat_object <- PercentageFeatureSet(seurat_object, pattern = \"^RP[SL]\", col.name = \"percent.rb\")\n",
    "    return(seurat_object)\n",
    "}"
   ]
  },
  {
   "cell_type": "code",
   "execution_count": 5,
   "id": "08c17c1a",
   "metadata": {},
   "outputs": [],
   "source": [
    "JHOS2 <- mt_rb_percentage(JHOS2)\n",
    "PDC1 <- mt_rb_percentage(PDC1)\n",
    "PDC2 <- mt_rb_percentage(PDC2)"
   ]
  },
  {
   "cell_type": "markdown",
   "id": "ce38c71b",
   "metadata": {},
   "source": [
    "Plotting violin plots with counts' distribution."
   ]
  },
  {
   "cell_type": "code",
   "execution_count": 6,
   "id": "397abd56",
   "metadata": {},
   "outputs": [],
   "source": [
    "plot_counts_vln <- function(seurat_object, filename){\n",
    "    # Extrating the total counts for each cell\n",
    "    n_count_before <- data.frame(n_counts = seurat_object$nCount_RNA)\n",
    "    message(\"Saving histogram counts...\")\n",
    "    ggsave(ggplot(n_count_before, aes(x = n_counts)) + \n",
    "      geom_histogram(colour = \"black\", fill = \"lightgrey\", binwidth = 1000) + \n",
    "      geom_density(aes(y = ..count..*1000), alpha = .2, fill = \"#FF6666\") +\n",
    "      ylab(\"\") +\n",
    "      ggtitle(filename) + \n",
    "      theme(panel.background = element_blank(),\n",
    "            panel.grid = element_blank()),\n",
    "      filename = paste0(filename, \"_counts_histogram_2023.pdf\"),\n",
    "      width = 5,\n",
    "      height = 5,\n",
    "      dpi = 1000)\n",
    "    message(\"Done. Saving QC violin plots...\")\n",
    "    \n",
    "    ggsave(VlnPlot(seurat_object, \n",
    "           features = c(\"nFeature_RNA\", \"nCount_RNA\", \"percent.mt\", \"percent.rb\"), ncol = 4, pt.size = 0.0001),\n",
    "           filename = paste0(filename, \"_QC_violin_plot_2023.pdf\"),\n",
    "           width = 8, height = 5, dpi = 1000) \n",
    "    message(\"Done.\")\n",
    "}"
   ]
  },
  {
   "cell_type": "code",
   "execution_count": 7,
   "id": "4bc60a5e",
   "metadata": {},
   "outputs": [
    {
     "name": "stderr",
     "output_type": "stream",
     "text": [
      "Saving histogram counts...\n",
      "\n",
      "Warning message:\n",
      "\"\u001b[1m\u001b[22mThe dot-dot notation (`..count..`) was deprecated in ggplot2 3.4.0.\n",
      "\u001b[36mℹ\u001b[39m Please use `after_stat(count)` instead.\"\n",
      "Done. Saving QC violin plots...\n",
      "\n",
      "Done.\n",
      "\n",
      "Saving histogram counts...\n",
      "\n",
      "Done. Saving QC violin plots...\n",
      "\n",
      "Done.\n",
      "\n",
      "Saving histogram counts...\n",
      "\n",
      "Done. Saving QC violin plots...\n",
      "\n",
      "Done.\n",
      "\n"
     ]
    }
   ],
   "source": [
    "plot_counts_vln(JHOS2, \"JHOS2\")\n",
    "plot_counts_vln(PDC1, \"PDC1\")\n",
    "plot_counts_vln(PDC2, \"PDC2\")"
   ]
  },
  {
   "cell_type": "markdown",
   "id": "8686c79a",
   "metadata": {},
   "source": [
    "Performing QC filtering."
   ]
  },
  {
   "cell_type": "code",
   "execution_count": 8,
   "id": "5a15f52f",
   "metadata": {},
   "outputs": [],
   "source": [
    "JHOS2 <- subset(JHOS2, subset = nCount_RNA > 2500 & nCount_RNA < 80000 & percent.mt < 25)\n",
    "PDC1 <- subset(PDC1, subset = nCount_RNA > 2500 & nCount_RNA < 80000 & percent.mt < 20)\n",
    "PDC2 <- subset(PDC2, subset = nCount_RNA > 2500 & nCount_RNA < 80000 & percent.mt < 30)"
   ]
  },
  {
   "cell_type": "markdown",
   "id": "0d96e50a",
   "metadata": {},
   "source": [
    "Annoating the sample names."
   ]
  },
  {
   "cell_type": "code",
   "execution_count": 9,
   "id": "84906417",
   "metadata": {},
   "outputs": [],
   "source": [
    "treatment_groups <- as.data.frame(read_xlsx(path = \"/research/ungureanulab/AD_cellhashing_results/Treatment_groups.xlsx\", \n",
    "                                      sheet = 1, col_names = T))\n",
    "rownames(treatment_groups) <- treatment_groups$`HTO classification`"
   ]
  },
  {
   "cell_type": "code",
   "execution_count": 10,
   "id": "1e07a11c",
   "metadata": {},
   "outputs": [],
   "source": [
    "group_assignment <- function(seurat_object, ass_object, filename){\n",
    "    message(\"Assignment of the groups...\")\n",
    "    classification <- get(x = paste0(filename, \"_classification\"))\n",
    "    wells_classification <- sapply(rownames(seurat_object@meta.data), \n",
    "                                     function(x) paste0(classification[x, \"column\"], \"_\", classification[x, \"row\"]))\n",
    "                              \n",
    "    write.table(x = table(wells_classification), file = paste0(filename, \"_n_cells_per_HTO_classification.txt\"), \n",
    "                sep = \"\\t\", \n",
    "                quote = F,\n",
    "                row.names = F)\n",
    "    write.table(x = wells_classification, file = paste0(filename, \"_HTO_classification_cell_by_cell.txt\"), \n",
    "                sep = \"\\t\", \n",
    "                quote = F,\n",
    "                row.names = T, col.names = F)\n",
    "\n",
    "    if(\"Drug\" %in% colnames(ass_object)){\n",
    "        seurat_object@meta.data[[\"Treatment_group\"]] <- sapply(wells_classification, function(x) treatment_groups[x, \"Drug\"])\n",
    "        write.table(table(seurat_object@meta.data[[\"Treatment_group\"]]), \n",
    "                    file = paste0(filename, \"_cells_treatment_group.txt\"), \n",
    "                    sep = \"\\t\", quote = F, row.names = F)\n",
    "        \n",
    "        message(\"Done.\")                                                       \n",
    "        return(seurat_object)    \n",
    "    }else{\n",
    "        message(\"Reformat your dataframe.\")\n",
    "    }                                                           \n",
    "}"
   ]
  },
  {
   "cell_type": "code",
   "execution_count": 11,
   "id": "75e7ab7e",
   "metadata": {},
   "outputs": [
    {
     "name": "stderr",
     "output_type": "stream",
     "text": [
      "Assignment of the groups...\n",
      "\n",
      "Done.\n",
      "\n",
      "Assignment of the groups...\n",
      "\n",
      "Done.\n",
      "\n",
      "Assignment of the groups...\n",
      "\n",
      "Done.\n",
      "\n"
     ]
    }
   ],
   "source": [
    "JHOS2 <- group_assignment(seurat_object = JHOS2, ass_object = treatment_groups, filename = \"JHOS2\")\n",
    "PDC1 <- group_assignment(seurat_object = PDC1, ass_object = treatment_groups, filename = \"PDC1\")\n",
    "PDC2 <- group_assignment(seurat_object = PDC2, ass_object = treatment_groups, filename = \"PDC2\")"
   ]
  },
  {
   "cell_type": "markdown",
   "id": "4549f533",
   "metadata": {},
   "source": [
    "Now we will merge the objects, but before that, we need to assign individual cell names to the cells."
   ]
  },
  {
   "cell_type": "code",
   "execution_count": 12,
   "id": "96adbee2",
   "metadata": {},
   "outputs": [],
   "source": [
    "JHOS2 <- RenameCells(JHOS2, add.cell.id = \"JHOS2\") \n",
    "PDC1 <- RenameCells(PDC1, add.cell.id = \"PDC1\") \n",
    "PDC2 <- RenameCells(PDC2, add.cell.id = \"PDC2\") \n",
    "hgsoc_merged.sct <- merge(x = JHOS2, y = c(PDC1, PDC2))"
   ]
  },
  {
   "cell_type": "markdown",
   "id": "86f96040",
   "metadata": {},
   "source": [
    "Launching SCTransform."
   ]
  },
  {
   "cell_type": "code",
   "execution_count": 13,
   "id": "26e2ee92",
   "metadata": {},
   "outputs": [],
   "source": [
    "hgsoc_merged.sct <- SCTransform(hgsoc_merged.sct,\n",
    "                                vars.to.regress = c(\"percent.rb\", # Calculated on the individual objects, no need to recalculate it on the merged object, since they are calculated in the same way and will be regressed out anyway\n",
    "                                                    \"percent.mt\", \n",
    "                                                    \"nFeature_RNA\", \n",
    "                                                    \"nCount_RNA\"),  \n",
    "                                method = \"glmGamPoi\",\n",
    "                                return.only.var.genes = FALSE, \n",
    "                                variable.features.n = 2000,\n",
    "                                vst.flavor = \"v2\", verbose = FALSE)"
   ]
  },
  {
   "cell_type": "markdown",
   "id": "6205b660",
   "metadata": {},
   "source": [
    "Calculating the cell cycle scoring, then re-normalizing. The cell cycle genes were retrieved from Tirosh *et al.* (2016) https://www.science.org/doi/10.1126/science.aad0501"
   ]
  },
  {
   "cell_type": "code",
   "execution_count": 14,
   "id": "2d76d3eb",
   "metadata": {},
   "outputs": [
    {
     "name": "stderr",
     "output_type": "stream",
     "text": [
      "snapshotDate(): 2022-10-31\n",
      "\n",
      "loading from cache\n",
      "\n"
     ]
    }
   ],
   "source": [
    "cell_cycle_genes <- read.csv(file = \"/research/ungureanulab/AD_cellhashing_results/Homo_sapiens_cell_cycle.csv\")\n",
    "ah <- AnnotationHub()\n",
    "ahDb <- query(ah, \n",
    "              pattern = c(\"Homo sapiens\", \"EnsDb\"), \n",
    "              ignore.case = TRUE)\n",
    "id <- ahDb %>%\n",
    "  mcols() %>%\n",
    "  rownames() %>%\n",
    "  tail(n = 1)\n",
    "edb <- ah[[id]]\n",
    "annotations <- genes(edb, return.type = \"data.frame\")\n",
    "annotations <- annotations %>%\n",
    "  dplyr::select(gene_id, gene_name, seq_name, gene_biotype, description)\n",
    "cell_cycle_markers <- dplyr::left_join(cell_cycle_genes, annotations, by = c(\"geneID\" = \"gene_id\"))\n",
    "s_genes <- cell_cycle_markers %>%\n",
    "  dplyr::filter(phase == \"S\") %>%\n",
    "  pull(\"gene_name\")\n",
    "g2m_genes <- cell_cycle_markers %>%\n",
    "  dplyr::filter(phase == \"G2/M\") %>%\n",
    "  pull(\"gene_name\")\n",
    "\n",
    "hgsoc_merged.sct <- CellCycleScoring(\n",
    "  hgsoc_merged.sct,\n",
    "  s.features = s_genes,\n",
    "  g2m.features = g2m_genes,\n",
    "  assay = \"SCT\",\n",
    "  set.ident = TRUE)\n",
    "\n",
    "# Re-launching on the RNA assay, which is set as default by the function\n",
    "hgsoc_merged.sct <- SCTransform(hgsoc_merged.sct,\n",
    "                                vars.to.regress = c(\"percent.rb\", \n",
    "                                                    \"percent.mt\", \n",
    "                                                    \"nFeature_RNA\", \n",
    "                                                    \"nCount_RNA\", \n",
    "                                                    \"S.Score\", \n",
    "                                                    \"G2M.Score\"),  \n",
    "                                method = \"glmGamPoi\",\n",
    "                                return.only.var.genes = FALSE, \n",
    "                                variable.features.n = 2000,\n",
    "                                vst.flavor = \"v2\", verbose = FALSE)"
   ]
  },
  {
   "cell_type": "markdown",
   "id": "253819cb",
   "metadata": {},
   "source": [
    "Launching PCA."
   ]
  },
  {
   "cell_type": "code",
   "execution_count": 15,
   "id": "e78b37a4",
   "metadata": {},
   "outputs": [],
   "source": [
    "hgsoc_merged.sct <- RunPCA(hgsoc_merged.sct, verbose = FALSE, assay.use = \"SCT\")"
   ]
  },
  {
   "cell_type": "markdown",
   "id": "31667ba7",
   "metadata": {},
   "source": [
    "Integrating with Harmony. To do so, we need to specify the model variable as that corresponds to the batch we need to correct."
   ]
  },
  {
   "cell_type": "code",
   "execution_count": 16,
   "id": "f4debc50",
   "metadata": {},
   "outputs": [],
   "source": [
    "hgsoc_merged.sct@meta.data$model <- sapply(rownames(hgsoc_merged.sct@meta.data),\n",
    "                                          function(x) strsplit(x = x, split = \"_\")[[1]][1])"
   ]
  },
  {
   "cell_type": "code",
   "execution_count": 17,
   "id": "511dbbb7",
   "metadata": {},
   "outputs": [
    {
     "name": "stderr",
     "output_type": "stream",
     "text": [
      "Harmony 1/10\n",
      "\n",
      "Harmony 2/10\n",
      "\n",
      "Harmony converged after 2 iterations\n",
      "\n",
      "Warning message:\n",
      "\"Invalid name supplied, making object name syntactically valid. New object name is Seurat..ProjectDim.SCT.harmony; see ?make.names for more details on syntax validity\"\n"
     ]
    }
   ],
   "source": [
    "hgsoc_merged.sct <- RunHarmony(hgsoc_merged.sct, assay.use = \"SCT\", group.by.vars = \"model\")"
   ]
  },
  {
   "cell_type": "markdown",
   "id": "97951436",
   "metadata": {},
   "source": [
    "UMAP."
   ]
  },
  {
   "cell_type": "code",
   "execution_count": 18,
   "id": "e75f45b3",
   "metadata": {},
   "outputs": [
    {
     "name": "stderr",
     "output_type": "stream",
     "text": [
      "Warning message:\n",
      "\"The default method for RunUMAP has changed from calling Python UMAP via reticulate to the R-native UWOT using the cosine metric\n",
      "To use Python UMAP via reticulate, set umap.method to 'umap-learn' and metric to 'correlation'\n",
      "This message will be shown once per session\"\n"
     ]
    }
   ],
   "source": [
    "hgsoc_merged.sct <- RunUMAP(hgsoc_merged.sct, \n",
    "                            reduction = \"harmony\", \n",
    "                            dims = 1:30, \n",
    "                            n.neighbors = 5, \n",
    "                            min.dist = 0.5, \n",
    "                            verbose = FALSE)"
   ]
  },
  {
   "cell_type": "markdown",
   "id": "b4957ab5",
   "metadata": {},
   "source": [
    "Saving the Seurat object for further use."
   ]
  },
  {
   "cell_type": "code",
   "execution_count": 19,
   "id": "c2f2bfbf",
   "metadata": {},
   "outputs": [],
   "source": [
    "saveRDS(object = hgsoc_merged.sct, file = \"HGSOC_CellHashing_noClustering.RDS\")"
   ]
  },
  {
   "cell_type": "code",
   "execution_count": 20,
   "id": "07088c86",
   "metadata": {},
   "outputs": [
    {
     "data": {
      "text/plain": [
       "R version 4.2.2 (2022-10-31)\n",
       "Platform: x86_64-conda-linux-gnu (64-bit)\n",
       "Running under: Red Hat Enterprise Linux 8.9 (Ootpa)\n",
       "\n",
       "Matrix products: default\n",
       "BLAS/LAPACK: /homedir01/adini22/.conda/envs/cellhashing_preprocessing/lib/libopenblasp-r0.3.21.so\n",
       "\n",
       "locale:\n",
       " [1] LC_CTYPE=en_US.UTF-8       LC_NUMERIC=C              \n",
       " [3] LC_TIME=en_US.UTF-8        LC_COLLATE=en_US.UTF-8    \n",
       " [5] LC_MONETARY=en_US.UTF-8    LC_MESSAGES=en_US.UTF-8   \n",
       " [7] LC_PAPER=en_US.UTF-8       LC_NAME=C                 \n",
       " [9] LC_ADDRESS=C               LC_TELEPHONE=C            \n",
       "[11] LC_MEASUREMENT=en_US.UTF-8 LC_IDENTIFICATION=C       \n",
       "\n",
       "attached base packages:\n",
       "[1] stats4    stats     graphics  grDevices utils     datasets  methods  \n",
       "[8] base     \n",
       "\n",
       "other attached packages:\n",
       " [1] harmony_0.1.1           Rcpp_1.0.10             viridis_0.6.2          \n",
       " [4] viridisLite_0.4.2       dplyr_1.1.2             tidyr_1.3.0            \n",
       " [7] ensembldb_2.22.0        AnnotationFilter_1.22.0 GenomicFeatures_1.50.3 \n",
       "[10] AnnotationDbi_1.60.0    Biobase_2.58.0          GenomicRanges_1.50.0   \n",
       "[13] GenomeInfoDb_1.34.9     IRanges_2.32.0          S4Vectors_0.36.0       \n",
       "[16] AnnotationHub_3.6.0     BiocFileCache_2.6.0     dbplyr_2.3.0           \n",
       "[19] BiocGenerics_0.44.0     readxl_1.4.1            ggplot2_3.4.2          \n",
       "[22] SeuratObject_4.1.3      Seurat_4.3.0.9001      \n",
       "\n",
       "loaded via a namespace (and not attached):\n",
       "  [1] utf8_1.2.3                    spatstat.explore_3.0-5       \n",
       "  [3] reticulate_1.25               tidyselect_1.2.0             \n",
       "  [5] RSQLite_2.2.20                htmlwidgets_1.6.1            \n",
       "  [7] grid_4.2.2                    BiocParallel_1.32.5          \n",
       "  [9] Rtsne_0.16                    munsell_0.5.0                \n",
       " [11] codetools_0.2-18              ica_1.0-3                    \n",
       " [13] pbdZMQ_0.3-7                  future_1.30.0                \n",
       " [15] miniUI_0.1.1.1                withr_2.5.0                  \n",
       " [17] spatstat.random_3.0-1         colorspace_2.1-0             \n",
       " [19] progressr_0.13.0              filelock_1.0.2               \n",
       " [21] uuid_1.1-0                    ROCR_1.0-11                  \n",
       " [23] tensor_1.5                    listenv_0.9.0                \n",
       " [25] labeling_0.4.2                MatrixGenerics_1.10.0        \n",
       " [27] repr_1.1.4                    GenomeInfoDbData_1.2.9       \n",
       " [29] polyclip_1.10-4               farver_2.1.1                 \n",
       " [31] bit64_4.0.5                   parallelly_1.34.0            \n",
       " [33] vctrs_0.6.2                   generics_0.1.3               \n",
       " [35] R6_2.5.1                      bitops_1.0-7                 \n",
       " [37] spatstat.utils_3.0-1          cachem_1.0.6                 \n",
       " [39] DelayedArray_0.24.0           assertthat_0.2.1             \n",
       " [41] promises_1.2.0.1              BiocIO_1.8.0                 \n",
       " [43] scales_1.2.1                  gtable_0.3.3                 \n",
       " [45] globals_0.16.2                goftest_1.2-3                \n",
       " [47] rlang_1.1.1                   splines_4.2.2                \n",
       " [49] rtracklayer_1.58.0            lazyeval_0.2.2               \n",
       " [51] spatstat.geom_3.0-3           BiocManager_1.30.19          \n",
       " [53] yaml_2.3.6                    reshape2_1.4.4               \n",
       " [55] abind_1.4-5                   httpuv_1.6.8                 \n",
       " [57] tools_4.2.2                   ellipsis_0.3.2               \n",
       " [59] RColorBrewer_1.1-3            ggridges_0.5.4               \n",
       " [61] plyr_1.8.8                    sparseMatrixStats_1.10.0     \n",
       " [63] base64enc_0.1-3               progress_1.2.2               \n",
       " [65] zlibbioc_1.44.0               purrr_1.0.1                  \n",
       " [67] RCurl_1.98-1.6                prettyunits_1.1.1            \n",
       " [69] deldir_1.0-6                  pbapply_1.7-0                \n",
       " [71] cowplot_1.1.1                 zoo_1.8-11                   \n",
       " [73] SummarizedExperiment_1.28.0   ggrepel_0.9.2                \n",
       " [75] cluster_2.1.4                 magrittr_2.0.3               \n",
       " [77] glmGamPoi_1.10.1              data.table_1.14.6            \n",
       " [79] scattermore_0.8               lmtest_0.9-40                \n",
       " [81] RANN_2.6.1                    ProtGenerics_1.30.0          \n",
       " [83] fitdistrplus_1.1-8            matrixStats_0.62.0           \n",
       " [85] hms_1.1.2                     patchwork_1.1.2              \n",
       " [87] mime_0.12                     evaluate_0.19                \n",
       " [89] xtable_1.8-4                  XML_3.99-0.9                 \n",
       " [91] gridExtra_2.3                 compiler_4.2.2               \n",
       " [93] biomaRt_2.54.0                tibble_3.2.1                 \n",
       " [95] KernSmooth_2.23-20            crayon_1.5.2                 \n",
       " [97] htmltools_0.5.4               later_1.3.0                  \n",
       " [99] DBI_1.1.3                     MASS_7.3-60                  \n",
       "[101] rappdirs_0.3.3                Matrix_1.5-4                 \n",
       "[103] cli_3.6.1                     parallel_4.2.2               \n",
       "[105] igraph_1.4.2                  pkgconfig_2.0.3              \n",
       "[107] GenomicAlignments_1.34.0      sp_1.5-1                     \n",
       "[109] IRdisplay_1.1                 plotly_4.10.1                \n",
       "[111] spatstat.sparse_3.0-0         xml2_1.3.3                   \n",
       "[113] XVector_0.38.0                stringr_1.5.0                \n",
       "[115] digest_0.6.31                 sctransform_0.3.5            \n",
       "[117] RcppAnnoy_0.0.20              spatstat.data_3.0-0          \n",
       "[119] Biostrings_2.66.0             cellranger_1.1.0             \n",
       "[121] leiden_0.4.3                  uwot_0.1.14                  \n",
       "[123] DelayedMatrixStats_1.20.0     restfulr_0.0.15              \n",
       "[125] curl_5.0.0                    shiny_1.7.4                  \n",
       "[127] Rsamtools_2.14.0              rjson_0.2.21                 \n",
       "[129] lifecycle_1.0.3               nlme_3.1-162                 \n",
       "[131] jsonlite_1.8.4                fansi_1.0.4                  \n",
       "[133] pillar_1.9.0                  lattice_0.21-8               \n",
       "[135] KEGGREST_1.38.0               fastmap_1.1.0                \n",
       "[137] httr_1.4.4                    survival_3.5-0               \n",
       "[139] interactiveDisplayBase_1.36.0 glue_1.6.2                   \n",
       "[141] png_0.1-8                     BiocVersion_3.16.0           \n",
       "[143] bit_4.0.5                     stringi_1.7.12               \n",
       "[145] blob_1.2.3                    memoise_2.0.1                \n",
       "[147] IRkernel_1.3                  irlba_2.3.5.1                \n",
       "[149] future.apply_1.10.0          "
      ]
     },
     "metadata": {},
     "output_type": "display_data"
    }
   ],
   "source": [
    "sessionInfo()"
   ]
  }
 ],
 "metadata": {
  "kernelspec": {
   "display_name": "R",
   "language": "R",
   "name": "ir"
  },
  "language_info": {
   "codemirror_mode": "r",
   "file_extension": ".r",
   "mimetype": "text/x-r-source",
   "name": "R",
   "pygments_lexer": "r",
   "version": "4.2.2"
  }
 },
 "nbformat": 4,
 "nbformat_minor": 5
}
