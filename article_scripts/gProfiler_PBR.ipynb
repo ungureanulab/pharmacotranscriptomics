{
 "cells": [
  {
   "cell_type": "markdown",
   "id": "9c064ca1",
   "metadata": {},
   "source": [
    "# Functional enrichment analysis of the PBR’s treated vs. DMSO cells DGE"
   ]
  },
  {
   "cell_type": "markdown",
   "id": "7e6efd91",
   "metadata": {},
   "source": [
    "With this script, we want to perform gene enrichment analysis using gProfiler for each of the PBRs results comparing DMSO and the drug. Also, we want to group the data in a good way so as to obtain one unique network for each model. In this specific case, we use only the Reactome database."
   ]
  },
  {
   "cell_type": "code",
   "execution_count": 1,
   "id": "db6f5030",
   "metadata": {},
   "outputs": [],
   "source": [
    "suppressWarnings({suppressMessages({\n",
    "    library(gprofiler2)\n",
    "    library(ggplot2)\n",
    "    library(ggsci)\n",
    "    library(parallel)\n",
    "    library(readxl)\n",
    "    library(stringi)\n",
    "})})"
   ]
  },
  {
   "cell_type": "markdown",
   "id": "344e91ac",
   "metadata": {},
   "source": [
    "Loading the data."
   ]
  },
  {
   "cell_type": "code",
   "execution_count": 2,
   "id": "96fc7717",
   "metadata": {},
   "outputs": [],
   "source": [
    "JHOS2 <- readRDS(file = \"JHOS2_PBRs_diffexpress.RDS\")\n",
    "PDC1 <- readRDS(file = \"PDC1_PBRs_diffexpress.RDS\")\n",
    "PDC2 <- readRDS(file = \"PDC2_PBRs_diffexpress.RDS\")"
   ]
  },
  {
   "cell_type": "markdown",
   "id": "0223e219",
   "metadata": {},
   "source": [
    "We need to launch gProfiler on the union of the up- and down-regulated genes of all the drugs. Remember to check the genes in common between the two. First, we load the annotation file."
   ]
  },
  {
   "cell_type": "code",
   "execution_count": 3,
   "id": "d10c1605",
   "metadata": {},
   "outputs": [
    {
     "name": "stderr",
     "output_type": "stream",
     "text": [
      "\u001b[1m\u001b[22mNew names:\n",
      "\u001b[36m•\u001b[39m `` -> `...4`\n",
      "\u001b[36m•\u001b[39m `` -> `...5`\n"
     ]
    }
   ],
   "source": [
    "high_anno <- as.data.frame(read_xlsx(path = \"mechanisms_of_actions.xlsx\", sheet = 1))\n",
    "high_anno <- high_anno[, c(1:3)]\n",
    "rownames(high_anno) <- high_anno$`Preferred name`"
   ]
  },
  {
   "cell_type": "code",
   "execution_count": 4,
   "id": "c40bfe87",
   "metadata": {},
   "outputs": [],
   "source": [
    "gProfiler_wrapper <- function(genes_list){\n",
    "    gostres <- gost(query = genes_list, \n",
    "                organism = \"hsapiens\", \n",
    "                ordered_query = FALSE, \n",
    "                multi_query = FALSE, \n",
    "                significant = TRUE, \n",
    "                exclude_iea = FALSE, \n",
    "                measure_underrepresentation = FALSE, \n",
    "                evcodes = TRUE, \n",
    "                sources = \"REAC\", # Focusing only on Reactome\n",
    "                user_threshold = 0.05, # More relaxed \n",
    "                correction_method = \"fdr\", \n",
    "                domain_scope = \"annotated\", custom_bg = NULL, \n",
    "                numeric_ns = \"\", as_short_link = FALSE)    \n",
    "                                         \n",
    "    # Saving as generic enrichment map and removing large terms (accounting for < 300 genes)\n",
    "    gem <- gostres$result[gostres$result$term_size < 300, ]\n",
    "    gem <- gem[,c(\"term_id\", \"term_name\", \"p_value\", \"intersection\")]\n",
    "    colnames(gem) <- c(\"GO.ID\", \"Description\", \"p.Val\", \"Genes\")\n",
    "    gem$FDR <- gem$p.Val\n",
    "    gem$Phenotype = \"UP\"\n",
    "    gem <- gem[, c(\"GO.ID\", \"Description\", \"p.Val\", \"FDR\", \"Phenotype\", \"Genes\")]\n",
    "    return(gem)\n",
    "}"
   ]
  },
  {
   "cell_type": "markdown",
   "id": "ab0d9a2e",
   "metadata": {},
   "source": [
    "For each mechanism, we extract the drugs, and obtain two lists of genes gathered from the union of the rownames of the genes which satisfy the FDR and log2FC thresholds. The log2FC corresponds to Seurat’s default threshold to call markers."
   ]
  },
  {
   "cell_type": "code",
   "execution_count": 5,
   "id": "8d13e659",
   "metadata": {},
   "outputs": [
    {
     "name": "stdout",
     "output_type": "stream",
     "text": [
      "[1] \"HDAC inhibitor\"\n",
      "[1] \"CDK inhibitor\"\n",
      "[1] \"PI3K/mTOR/AKT inhibitor\"\n",
      "[1] \"Multi-kinase inhibitor\"\n",
      "[1] \"Ras/Raf/MEK/ERK inhibitor\"\n",
      "[1] \"PLK1 inhibitor\"\n",
      "[1] \"CHK1 inhibitor\"\n",
      "[1] \"PARP inhibitor\"\n",
      "[1] \"IAPs/SMAC mimetic\"\n"
     ]
    },
    {
     "name": "stderr",
     "output_type": "stream",
     "text": [
      "Warning message in PDC2_results$DOWN$Phenotype <- \"DOWN\":\n",
      "“Coercing LHS to a list”\n"
     ]
    },
    {
     "name": "stdout",
     "output_type": "stream",
     "text": [
      "[1] \"BET inhibitor\"\n",
      "[1] \"XPO1/CRM1 inhibitor\"\n",
      "[1] \"Bcl-2 inhibitor\"\n",
      "[1] \"PAK inhibitor\"\n"
     ]
    }
   ],
   "source": [
    "for(mech in unique(high_anno$`Higher level classification`[-which(high_anno$`Higher level classification` == \"Control\")])){\n",
    "    print(mech)\n",
    "    # Extracting drugs\n",
    "    drugs_mech <- high_anno[high_anno$`Higher level classification` == mech, \"Preferred name\"]\n",
    "    \n",
    "    # Filtering the original PBRs' objects for these drugs\n",
    "    JHOS2_drugs <- JHOS2[drugs_mech]\n",
    "    PDC1_drugs <- PDC1[drugs_mech]\n",
    "    PDC2_drugs <- PDC2[drugs_mech]\n",
    "    \n",
    "    # Filtering for FDR < 0.01\n",
    "    JHOS2_filtered <- lapply(JHOS2_drugs, function(x) x[x$FDR < 0.01, ])\n",
    "    PDC1_filtered <- lapply(PDC1_drugs, function(x) x[x$FDR < 0.01, ])\n",
    "    PDC2_filtered <- lapply(PDC2_drugs, function(x) x[x$FDR < 0.01, ])\n",
    "                           \n",
    "    # Filtering for log2FC > 0.25 or < -0.25\n",
    "    JHOS2_filtered_lfc_up <- lapply(JHOS2_filtered, function(x) x[x$logFC > 0.25, ])\n",
    "    JHOS2_filtered_lfc_down <- lapply(JHOS2_filtered, function(x) x[x$logFC < -0.25, ])\n",
    "\n",
    "    PDC1_filtered_lfc_up <- lapply(PDC1_filtered, function(x) x[x$logFC > 0.25, ])\n",
    "    PDC1_filtered_lfc_down <- lapply(PDC1_filtered, function(x) x[x$logFC < -0.25, ])\n",
    "\n",
    "    PDC2_filtered_lfc_up <- lapply(PDC2_filtered, function(x) x[x$logFC > 0.25, ])\n",
    "    PDC2_filtered_lfc_down <- lapply(PDC2_filtered, function(x) x[x$logFC < -0.25, ])\n",
    "                                    \n",
    "    # Getting the union of the row names for all the drugs included in such mechanism of action\n",
    "    JHOS2_filtered_lfc_up_genes <- Reduce(f = union, x = (sapply(JHOS2_filtered_lfc_up, function(x) rownames(x))))\n",
    "    JHOS2_filtered_lfc_down_genes <- Reduce(f = union, x = (sapply(JHOS2_filtered_lfc_down, function(x) rownames(x)))) \n",
    "                                           \n",
    "    PDC1_filtered_lfc_up_genes <- Reduce(f = union, x = (sapply(PDC1_filtered_lfc_up, function(x) rownames(x))))\n",
    "    PDC1_filtered_lfc_down_genes <- Reduce(f = union, x = (sapply(PDC1_filtered_lfc_down, function(x) rownames(x))))\n",
    "                                          \n",
    "    PDC2_filtered_lfc_up_genes <- Reduce(f = union, x = (sapply(PDC2_filtered_lfc_up, function(x) rownames(x))))\n",
    "    PDC2_filtered_lfc_down_genes <- Reduce(f = union, x = (sapply(PDC2_filtered_lfc_down, function(x) rownames(x))))\n",
    "    \n",
    "    # Merging in a unique list\n",
    "    JHOS2_mech <- list(UP = JHOS2_filtered_lfc_up_genes, \n",
    "                        DOWN = JHOS2_filtered_lfc_down_genes)  \n",
    "     \n",
    "    PDC1_mech <- list(UP = PDC1_filtered_lfc_up_genes, \n",
    "                      DOWN = PDC1_filtered_lfc_down_genes)       \n",
    "                                                                 \n",
    "    PDC2_mech <- list(UP = PDC2_filtered_lfc_up_genes, \n",
    "                      DOWN = PDC2_filtered_lfc_down_genes)                 \n",
    "                                                  \n",
    "                                                                 \n",
    "    # launching the gProfiler with many cores, and a nested mclapply\n",
    "    models_lists <- list(JHOS2_mech, PDC1_mech, PDC2_mech)\n",
    "    results <- mclapply(mc.allow.recursive = T, mc.cores = 96, X = models_lists, \n",
    "                                function(x) mclapply(mc.allow.recursive = T, mc.cores = 96, X = x, \n",
    "                                function(y) gProfiler_wrapper(genes_list = y))) \n",
    "                                                     \n",
    "    # In results we have a list with 3 lists, each with 2 elements in it\n",
    "    JHOS2_results <- results[[1]]\n",
    "    PDC1_results <- results[[2]]\n",
    "    PDC2_results <- results[[3]]\n",
    "                                                     \n",
    "    # We are ready to merge the results by row. However, we need to change the phenotype column to DOWN for the \"DOWN\" genes\n",
    "    JHOS2_results$DOWN$Phenotype <- \"DOWN\"\n",
    "    PDC1_results$DOWN$Phenotype <- \"DOWN\"\n",
    "    PDC2_results$DOWN$Phenotype <- \"DOWN\"    \n",
    "                                                     \n",
    "    # Rbinding and saving\n",
    "    # One of the two lists might be equal to NULL, so we need to check for that \n",
    "    if(is.null(nrow(JHOS2_results$UP))){\n",
    "        JHOS2_final <- JHOS2_results$DOWN\n",
    "    }else if(is.null(nrow(JHOS2_results$DOWN))){\n",
    "        JHOS2_final <- JHOS2_results$UP\n",
    "    }else{\n",
    "        JHOS2_final <- do.call(\"rbind\", JHOS2_results) \n",
    "    }                                                 \n",
    "    \n",
    "    if(is.null(nrow(PDC1_results$UP))){\n",
    "        PDC1_final <- PDC1_results$DOWN\n",
    "    }else if(is.null(nrow(PDC1_results$DOWN))){\n",
    "        PDC1_final <- PDC1_results$UP\n",
    "    }else{\n",
    "        PDC1_final <- do.call(\"rbind\", PDC1_results) \n",
    "    }\n",
    "        \n",
    "    if(is.null(nrow(PDC2_results$UP))){\n",
    "        PDC2_final <- PDC2_results$DOWN\n",
    "    }else if(is.null(nrow(PDC2_results$DOWN))){\n",
    "        PDC2_final <- PDC2_results$UP\n",
    "    }else{\n",
    "        PDC2_final <- do.call(\"rbind\", PDC2_results) \n",
    "    }    \n",
    "                                                     \n",
    "    write.table(x = JHOS2_final, \n",
    "                file = paste0(\"JHOS2_\", stri_replace_all_fixed(mech, \n",
    "                                                               pattern = c(\"/\", \" \"), \n",
    "                                                               replacement = c(\"_\", \"_\"), \n",
    "                                                               vectorize_all = FALSE), \"_gProfiler_Reactome_GEM_05.txt\"), \n",
    "                sep = \"\\t\", quote = F, row.names = F)       \n",
    "                                                     \n",
    "    write.table(x = PDC1_final, \n",
    "                file = paste0(\"PDC1_\", stri_replace_all_fixed(mech, \n",
    "                                                               pattern = c(\"/\", \" \"), \n",
    "                                                               replacement = c(\"_\", \"_\"), \n",
    "                                                               vectorize_all = FALSE), \"_gProfiler_Reactome_GEM_05.txt\"), \n",
    "                sep = \"\\t\", quote = F, row.names = F)\n",
    "    write.table(x = PDC2_final, \n",
    "                file = paste0(\"PDC2_\", stri_replace_all_fixed(mech, \n",
    "                                                               pattern = c(\"/\", \" \"), \n",
    "                                                               replacement = c(\"_\", \"_\"), \n",
    "                                                               vectorize_all = FALSE), \"_gProfiler_Reactome_GEM_05.txt\"), \n",
    "                sep = \"\\t\", quote = F, row.names = F)                                                  \n",
    "                                                                 \n",
    "}"
   ]
  },
  {
   "cell_type": "code",
   "execution_count": null,
   "id": "43b943dc",
   "metadata": {},
   "outputs": [],
   "source": []
  }
 ],
 "metadata": {
  "kernelspec": {
   "display_name": "R",
   "language": "R",
   "name": "ir"
  },
  "language_info": {
   "codemirror_mode": "r",
   "file_extension": ".r",
   "mimetype": "text/x-r-source",
   "name": "R",
   "pygments_lexer": "r",
   "version": "4.2.2"
  }
 },
 "nbformat": 4,
 "nbformat_minor": 5
}
