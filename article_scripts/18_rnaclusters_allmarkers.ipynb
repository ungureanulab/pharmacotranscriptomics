{
 "cells": [
  {
   "cell_type": "markdown",
   "id": "857f9b4f",
   "metadata": {},
   "source": [
    "# Running differential expression analysis for the integrated batches at the RNA cluster level"
   ]
  },
  {
   "cell_type": "code",
   "execution_count": 1,
   "id": "f4497c01",
   "metadata": {},
   "outputs": [],
   "source": [
    "suppressWarnings({suppressPackageStartupMessages({\n",
    "    library(Seurat)\n",
    "})})"
   ]
  },
  {
   "cell_type": "markdown",
   "id": "e089186a",
   "metadata": {},
   "source": [
    "Loading the data."
   ]
  },
  {
   "cell_type": "code",
   "execution_count": 2,
   "id": "23694e2d",
   "metadata": {},
   "outputs": [],
   "source": [
    "hgsoc <- readRDS(\"HGSOC_CellHashing_CLUSTERED.RDS\")"
   ]
  },
  {
   "cell_type": "markdown",
   "id": "9e35f0b2",
   "metadata": {},
   "source": [
    "Setting the right identities: the previously calculated RNA clusters (Leiden)."
   ]
  },
  {
   "cell_type": "code",
   "execution_count": 3,
   "id": "d4017635",
   "metadata": {},
   "outputs": [
    {
     "data": {
      "text/html": [
       "<style>\n",
       ".list-inline {list-style: none; margin:0; padding: 0}\n",
       ".list-inline>li {display: inline-block}\n",
       ".list-inline>li:not(:last-child)::after {content: \"\\00b7\"; padding: 0 .5ex}\n",
       "</style>\n",
       "<ol class=list-inline><li>'1'</li><li>'2'</li><li>'3'</li><li>'4'</li><li>'5'</li><li>'6'</li><li>'7'</li><li>'8'</li><li>'9'</li><li>'10'</li><li>'11'</li><li>'12'</li><li>'13'</li></ol>\n"
      ],
      "text/latex": [
       "\\begin{enumerate*}\n",
       "\\item '1'\n",
       "\\item '2'\n",
       "\\item '3'\n",
       "\\item '4'\n",
       "\\item '5'\n",
       "\\item '6'\n",
       "\\item '7'\n",
       "\\item '8'\n",
       "\\item '9'\n",
       "\\item '10'\n",
       "\\item '11'\n",
       "\\item '12'\n",
       "\\item '13'\n",
       "\\end{enumerate*}\n"
      ],
      "text/markdown": [
       "1. '1'\n",
       "2. '2'\n",
       "3. '3'\n",
       "4. '4'\n",
       "5. '5'\n",
       "6. '6'\n",
       "7. '7'\n",
       "8. '8'\n",
       "9. '9'\n",
       "10. '10'\n",
       "11. '11'\n",
       "12. '12'\n",
       "13. '13'\n",
       "\n",
       "\n"
      ],
      "text/plain": [
       " [1] \"1\"  \"2\"  \"3\"  \"4\"  \"5\"  \"6\"  \"7\"  \"8\"  \"9\"  \"10\" \"11\" \"12\" \"13\""
      ]
     },
     "metadata": {},
     "output_type": "display_data"
    }
   ],
   "source": [
    "Idents(hgsoc) <- \"RNA_clusters\"\n",
    "levels(hgsoc)"
   ]
  },
  {
   "cell_type": "markdown",
   "id": "099cd489",
   "metadata": {},
   "source": [
    "To run differential expression, we make use of corrected counts that are stored in the _data_ slot of the the SCT assay. Corrected counts are obtained by setting the sequencing depth for all the cells to a fixed value and reversing the learned regularized negative-binomial regression model. Prior to performing differential expression, we do not need to first run _PrepSCTFindMarkers_, as the object is not derived from Seurat-integrated data, but rather from Harmony integrated data. The downstream object remains the same, and we will work in the SCT assay. If we try to launch _PrepSCTMarkers_, as there is only one object, the regularization is skipped, confirming our theory."
   ]
  },
  {
   "cell_type": "code",
   "execution_count": 4,
   "id": "1f95b0d5",
   "metadata": {},
   "outputs": [
    {
     "name": "stderr",
     "output_type": "stream",
     "text": [
      "Calculating cluster 1\n",
      "\n",
      "Calculating cluster 2\n",
      "\n",
      "Calculating cluster 3\n",
      "\n",
      "Calculating cluster 4\n",
      "\n",
      "Calculating cluster 5\n",
      "\n",
      "Calculating cluster 6\n",
      "\n",
      "Calculating cluster 7\n",
      "\n",
      "Calculating cluster 8\n",
      "\n",
      "Calculating cluster 9\n",
      "\n",
      "Calculating cluster 10\n",
      "\n",
      "Calculating cluster 11\n",
      "\n",
      "Calculating cluster 12\n",
      "\n",
      "Calculating cluster 13\n",
      "\n"
     ]
    }
   ],
   "source": [
    "sc_data_RNA_markers <- FindAllMarkers(object = hgsoc, \n",
    "                                      assay = \"SCT\", \n",
    "                                      verbose = TRUE, \n",
    "                                      only.pos = FALSE, \n",
    "                                      base = 2)"
   ]
  },
  {
   "cell_type": "markdown",
   "id": "8da96b47",
   "metadata": {},
   "source": [
    "Saving the data."
   ]
  },
  {
   "cell_type": "code",
   "execution_count": 5,
   "id": "acaa5d2d",
   "metadata": {},
   "outputs": [],
   "source": [
    "write.table(sc_data_RNA_markers, \n",
    "            file = \"All_vs_all_RNAclusters_DEG.txt\", sep = \"\\t\", quote = F)\n",
    "write.table(sc_data_RNA_markers[sc_data_RNA_markers$p_val_adj < 0.05, ], \n",
    "            file = \"All_vs_all_RNAclusters_DEG_signif.txt\", sep = \"\\t\", quote = F)"
   ]
  },
  {
   "cell_type": "code",
   "execution_count": 6,
   "id": "2cd7d348",
   "metadata": {},
   "outputs": [
    {
     "data": {
      "text/plain": [
       "R version 4.2.2 (2022-10-31)\n",
       "Platform: x86_64-conda-linux-gnu (64-bit)\n",
       "Running under: Rocky Linux 8.8 (Green Obsidian)\n",
       "\n",
       "Matrix products: default\n",
       "BLAS/LAPACK: /homedir01/adini22/.conda/envs/cellhashing_preprocessing/lib/libopenblasp-r0.3.21.so\n",
       "\n",
       "locale:\n",
       " [1] LC_CTYPE=en_US.UTF-8       LC_NUMERIC=C              \n",
       " [3] LC_TIME=en_US.UTF-8        LC_COLLATE=en_US.UTF-8    \n",
       " [5] LC_MONETARY=en_US.UTF-8    LC_MESSAGES=en_US.UTF-8   \n",
       " [7] LC_PAPER=en_US.UTF-8       LC_NAME=C                 \n",
       " [9] LC_ADDRESS=C               LC_TELEPHONE=C            \n",
       "[11] LC_MEASUREMENT=en_US.UTF-8 LC_IDENTIFICATION=C       \n",
       "\n",
       "attached base packages:\n",
       "[1] stats     graphics  grDevices utils     datasets  methods   base     \n",
       "\n",
       "other attached packages:\n",
       "[1] SeuratObject_4.1.3 Seurat_4.3.0.9001 \n",
       "\n",
       "loaded via a namespace (and not attached):\n",
       "  [1] nlme_3.1-162           spatstat.sparse_3.0-0  matrixStats_0.62.0    \n",
       "  [4] RcppAnnoy_0.0.20       RColorBrewer_1.1-3     httr_1.4.4            \n",
       "  [7] repr_1.1.4             sctransform_0.3.5      tools_4.2.2           \n",
       " [10] utf8_1.2.3             R6_2.5.1               irlba_2.3.5.1         \n",
       " [13] KernSmooth_2.23-20     uwot_0.1.14            lazyeval_0.2.2        \n",
       " [16] colorspace_2.1-0       sp_1.5-1               gridExtra_2.3         \n",
       " [19] tidyselect_1.2.0       compiler_4.2.2         progressr_0.13.0      \n",
       " [22] cli_3.6.1              spatstat.explore_3.0-5 plotly_4.10.1         \n",
       " [25] scales_1.2.1           spatstat.data_3.0-0    lmtest_0.9-40         \n",
       " [28] ggridges_0.5.4         pbapply_1.7-0          goftest_1.2-3         \n",
       " [31] stringr_1.5.0          pbdZMQ_0.3-7           digest_0.6.31         \n",
       " [34] spatstat.utils_3.0-1   base64enc_0.1-3        pkgconfig_2.0.3       \n",
       " [37] htmltools_0.5.4        parallelly_1.34.0      limma_3.54.2          \n",
       " [40] fastmap_1.1.0          htmlwidgets_1.6.1      rlang_1.1.1           \n",
       " [43] shiny_1.7.4            generics_0.1.3         zoo_1.8-11            \n",
       " [46] jsonlite_1.8.4         spatstat.random_3.0-1  ica_1.0-3             \n",
       " [49] dplyr_1.1.2            magrittr_2.0.3         patchwork_1.1.2       \n",
       " [52] Matrix_1.5-4           Rcpp_1.0.10            IRkernel_1.3          \n",
       " [55] munsell_0.5.0          fansi_1.0.4            abind_1.4-5           \n",
       " [58] reticulate_1.25        lifecycle_1.0.3        stringi_1.7.12        \n",
       " [61] MASS_7.3-60            Rtsne_0.16             plyr_1.8.8            \n",
       " [64] grid_4.2.2             parallel_4.2.2         listenv_0.9.0         \n",
       " [67] promises_1.2.0.1       ggrepel_0.9.2          crayon_1.5.2          \n",
       " [70] deldir_1.0-6           miniUI_0.1.1.1         lattice_0.21-8        \n",
       " [73] IRdisplay_1.1          cowplot_1.1.1          splines_4.2.2         \n",
       " [76] tensor_1.5             pillar_1.9.0           igraph_1.4.2          \n",
       " [79] uuid_1.1-0             spatstat.geom_3.0-3    future.apply_1.10.0   \n",
       " [82] reshape2_1.4.4         codetools_0.2-18       leiden_0.4.3          \n",
       " [85] glue_1.6.2             evaluate_0.19          data.table_1.14.6     \n",
       " [88] png_0.1-8              vctrs_0.6.2            httpuv_1.6.8          \n",
       " [91] polyclip_1.10-4        gtable_0.3.3           RANN_2.6.1            \n",
       " [94] purrr_1.0.1            tidyr_1.3.0            scattermore_0.8       \n",
       " [97] future_1.30.0          ggplot2_3.4.2          mime_0.12             \n",
       "[100] xtable_1.8-4           later_1.3.0            survival_3.5-0        \n",
       "[103] viridisLite_0.4.2      tibble_3.2.1           cluster_2.1.4         \n",
       "[106] globals_0.16.2         fitdistrplus_1.1-8     ellipsis_0.3.2        \n",
       "[109] ROCR_1.0-11           "
      ]
     },
     "metadata": {},
     "output_type": "display_data"
    }
   ],
   "source": [
    "sessionInfo()"
   ]
  }
 ],
 "metadata": {
  "kernelspec": {
   "display_name": "R",
   "language": "R",
   "name": "ir"
  },
  "language_info": {
   "codemirror_mode": "r",
   "file_extension": ".r",
   "mimetype": "text/x-r-source",
   "name": "R",
   "pygments_lexer": "r",
   "version": "4.2.2"
  }
 },
 "nbformat": 4,
 "nbformat_minor": 5
}
