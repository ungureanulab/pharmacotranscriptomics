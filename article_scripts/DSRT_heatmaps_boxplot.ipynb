{
 "cells": [
  {
   "cell_type": "code",
   "execution_count": 1,
   "id": "b2735081-25b6-4c2e-8b59-b96c25e229d2",
   "metadata": {},
   "outputs": [],
   "source": [
    "suppressWarnings({suppressPackageStartupMessages({\n",
    "    library(readxl)\n",
    "    library(ComplexHeatmap)\n",
    "    library(ggplot2)\n",
    "    library(reshape2)\n",
    "    library(ggpubr)\n",
    "    library(dplyr)\n",
    "})})    "
   ]
  },
  {
   "cell_type": "code",
   "execution_count": 2,
   "id": "1e0a97cd-b292-4122-8009-7c5f3c0d3d3d",
   "metadata": {},
   "outputs": [
    {
     "name": "stderr",
     "output_type": "stream",
     "text": [
      "\u001b[1m\u001b[22mNew names:\n",
      "\u001b[36m•\u001b[39m `` -> `...2`\n",
      "\u001b[36m•\u001b[39m `` -> `...3`\n",
      "\u001b[36m•\u001b[39m `` -> `...4`\n",
      "\u001b[36m•\u001b[39m `` -> `...5`\n",
      "\u001b[36m•\u001b[39m `` -> `...6`\n",
      "\u001b[36m•\u001b[39m `` -> `...7`\n",
      "\u001b[36m•\u001b[39m `` -> `...8`\n",
      "\u001b[36m•\u001b[39m `` -> `...9`\n",
      "\u001b[36m•\u001b[39m `` -> `...10`\n",
      "\u001b[36m•\u001b[39m `` -> `...11`\n"
     ]
    }
   ],
   "source": [
    "dsrt <- as.data.frame(read_xlsx(path = \"DSRT_3.xlsx\"))"
   ]
  },
  {
   "cell_type": "code",
   "execution_count": 3,
   "id": "5d811f9f-06ed-4716-8afe-32680b9f2500",
   "metadata": {},
   "outputs": [],
   "source": [
    "colnames(dsrt) <- dsrt[1, ]\n",
    "dsrt <- dsrt[-1, ]"
   ]
  },
  {
   "cell_type": "code",
   "execution_count": 4,
   "id": "85b03aaf-98e9-48ef-b79d-fb022f378648",
   "metadata": {},
   "outputs": [],
   "source": [
    "# Figure 1\n",
    "fig1 <- dsrt[dsrt$`Mechanism of action` != \"EGFR inhibitor\", -c(1, 11)] \n",
    "rownames(fig1) <- fig1$DRUG_NAME\n",
    "fig1 <- fig1[, -1]\n",
    "fig1 <- t(fig1)\n",
    "row_names_fig1 <- rownames(fig1)\n",
    "fig1 <- apply(fig1, 2, as.numeric)\n",
    "rownames(fig1) <- row_names_fig1\n",
    "\n",
    "# Figure 6\n",
    "fig6 <- dsrt[dsrt$`Mechanism of action` == \"EGFR inhibitor\", -c(1, 11)] \n",
    "rownames(fig6) <- fig6$DRUG_NAME\n",
    "fig6 <- fig6[, -1]\n",
    "row_names_fig6 <- rownames(fig6)\n",
    "fig6 <- apply(fig6, 2, as.numeric)\n",
    "rownames(fig6) <- row_names_fig6"
   ]
  },
  {
   "cell_type": "code",
   "execution_count": 5,
   "id": "c86c279f-327c-4ad8-a533-762de3655eb2",
   "metadata": {},
   "outputs": [
    {
     "data": {
      "text/html": [
       "<strong>png:</strong> 2"
      ],
      "text/latex": [
       "\\textbf{png:} 2"
      ],
      "text/markdown": [
       "**png:** 2"
      ],
      "text/plain": [
       "png \n",
       "  2 "
      ]
     },
     "metadata": {},
     "output_type": "display_data"
    }
   ],
   "source": [
    "pdf(file = \"Heatmap_DSRT_complete_Fig1.pdf\", width = 15, height = 7)\n",
    "options(repr.plot.width = 15, repr.plot.height = 7)\n",
    "Heatmap(fig1, column_names_rot = 45, column_dend_side = \"bottom\",\n",
    "        top_annotation = HeatmapAnnotation(Mechanism = dsrt[dsrt$`Mechanism of action` != \"EGFR inhibitor\", \"Mechanism of action\"],\n",
    "                                        col = list(Mechanism = c(\"Bcl-2 inhibitor\" = \"#2f4f4f\", \n",
    "                                                                \"BET inhibitor\" = \"#a52a2a\", \n",
    "                                                                \"CDK inhibitor\" = \"#228b22\",\n",
    "                                                                \"CHK1 inhibitor\" = \"#4b0082\",\n",
    "                                                                \"HDAC inhibitor\" = \"#ff8c00\",\n",
    "                                                                \"IAPs/SMAC mimetic\" = \"#d2b48c\",\n",
    "                                                                \"Multi-kinase inhibitor\" = \"#00ff00\",\n",
    "                                                                \"PAK inhibitor\" = \"#00bfff\",\n",
    "                                                                \"PARP inhibitor\" = \"#0000ff\",\n",
    "                                                                \"PI3K/mTOR/AKT inhibitor\" = \"#ff1493\",\n",
    "                                                                \"PLK1 inhibitor\" = \"#ffff54\",\n",
    "                                                                \"Ras/Raf/MEK/ERK inhibitor\" = \"#dda0dd\",\n",
    "                                                                \"XPO1/CRM1 inhibitor\" = \"#7fffd4\"))),\n",
    "        cluster_rows = FALSE,\n",
    "        column_names_side = \"top\",\n",
    "        name = \"DSS\", \n",
    "        border = T, \n",
    "        col = c(\"white\", \"firebrick\"), \n",
    "        width = unit(0.5, \"cm\")*ncol(fig1),\n",
    "        height = unit(0.5, \"cm\")*nrow(fig1)\n",
    "       )\n",
    "dev.off()"
   ]
  },
  {
   "cell_type": "code",
   "execution_count": 6,
   "id": "cadd721b-71f0-4bc6-88d3-d59b8b2fed2e",
   "metadata": {},
   "outputs": [],
   "source": [
    "# Putting all the data in a vector to gather the threshold for sensitivity\n",
    "all_data_vector <- c() \n",
    "for(c in 1:ncol(fig1)){ \n",
    " all_data_vector <- c(all_data_vector, fig1[, c]) \n",
    "}\n",
    "\n",
    "all_data_vector <- na.omit(all_data_vector) "
   ]
  },
  {
   "cell_type": "code",
   "execution_count": 7,
   "id": "340b6ec5-478f-4cfd-ab8a-3a70e2d6ce8a",
   "metadata": {},
   "outputs": [
    {
     "data": {
      "text/html": [
       "<strong>75%:</strong> 12.2125"
      ],
      "text/latex": [
       "\\textbf{75\\textbackslash{}\\%:} 12.2125"
      ],
      "text/markdown": [
       "**75%:** 12.2125"
      ],
      "text/plain": [
       "    75% \n",
       "12.2125 "
      ]
     },
     "metadata": {},
     "output_type": "display_data"
    }
   ],
   "source": [
    "quantile(x = all_data_vector, probs = 0.75) # 75th percentile is 12.2125"
   ]
  },
  {
   "cell_type": "code",
   "execution_count": 8,
   "id": "67d77e7f-5d15-4991-b8ea-643d77899369",
   "metadata": {},
   "outputs": [
    {
     "name": "stderr",
     "output_type": "stream",
     "text": [
      "Warning message:\n",
      "“\u001b[1m\u001b[22mUsing `size` aesthetic for lines was deprecated in ggplot2 3.4.0.\n",
      "\u001b[36mℹ\u001b[39m Please use `linewidth` instead.”\n"
     ]
    }
   ],
   "source": [
    "all_data_vector <- as.data.frame(all_data_vector)\n",
    "colnames(all_data_vector) <- \"DSS\"\n",
    "ggsave(ggplot(all_data_vector, aes(x = DSS)) + \n",
    "         geom_density() +\n",
    "         geom_vline(xintercept = 12.2125, \n",
    "                    color = \"red\", \n",
    "                    linetype = 2, \n",
    "                    size = 0.5) + \n",
    "         theme(panel.background = element_blank(),\n",
    "               axis.line = element_line(color= \"black\"),\n",
    "               axis.title = element_text(colour = \"black\", size = 12),\n",
    "               axis.text = element_text(colour = \"black\", size = 12)),\n",
    "filename = \"density_all_data_DSS.pdf\", \n",
    "width = 5, \n",
    "height = 5) "
   ]
  },
  {
   "cell_type": "code",
   "execution_count": 9,
   "id": "c287ae79-6336-4a50-b6b8-bf89fbac4ec5",
   "metadata": {},
   "outputs": [
    {
     "data": {
      "text/html": [
       "<strong>png:</strong> 2"
      ],
      "text/latex": [
       "\\textbf{png:} 2"
      ],
      "text/markdown": [
       "**png:** 2"
      ],
      "text/plain": [
       "png \n",
       "  2 "
      ]
     },
     "metadata": {},
     "output_type": "display_data"
    }
   ],
   "source": [
    "pdf(file = \"EGFRi_DSRT_Heatmap_Fig6.pdf\", width = 5, height = 5)\n",
    "options(repr.plot.width = 5, repr.plot.height = 5)\n",
    "Heatmap(fig6, \n",
    "        column_names_rot = 45, \n",
    "        top_annotation = HeatmapAnnotation(name = \"CAV1 protein levels\",\n",
    "                                           CAV1_levels = c(\"CAV1_low\", \"CAV1_high\", \"CAV1_high\", \"CAV1_low\", \"CAV1_low\",\n",
    "                                                          \"CAV1_high\", \"CAV1_low\", \"CAV1_low\"), border = TRUE,\n",
    "                                           col = list(CAV1_levels = c(\"CAV1_high\" = \"#c98586\",\n",
    "                                                                     \"CAV1_low\" = \"#e7bbb4\"))),\n",
    "        column_dend_side = \"bottom\",\n",
    "        cluster_rows = FALSE,\n",
    "        column_names_side = \"top\",\n",
    "        name = \"DSS\", \n",
    "        border = T, \n",
    "        col = c(\"white\", \"firebrick\"), \n",
    "        width = unit(0.5, \"cm\")*ncol(fig6),\n",
    "        height = unit(0.5, \"cm\")*nrow(fig6))\n",
    "dev.off()"
   ]
  },
  {
   "cell_type": "code",
   "execution_count": 10,
   "id": "17531a95-c533-4c25-8c4d-c19a5b448fb8",
   "metadata": {},
   "outputs": [
    {
     "name": "stderr",
     "output_type": "stream",
     "text": [
      "Using model, CAV1_level as id variables\n",
      "\n"
     ]
    }
   ],
   "source": [
    "fig6 <- as.data.frame(t(fig6))\n",
    "fig6$model <- rownames(fig6)\n",
    "fig6$CAV1_level <- factor(x = c(\"CAV1_low\", \n",
    "                                \"CAV1_high\", \n",
    "                                \"CAV1_high\", \n",
    "                                \"CAV1_low\", \n",
    "                                \"CAV1_low\",\n",
    "                                \"CAV1_high\", \n",
    "                                \"CAV1_low\", \n",
    "                                \"CAV1_low\"),\n",
    "                          levels = c(\"CAV1_low\", \"CAV1_high\"))\n",
    "fig6 <- melt(fig6)"
   ]
  },
  {
   "cell_type": "code",
   "execution_count": 11,
   "id": "7ea7c760-3860-44db-906a-71464589a592",
   "metadata": {},
   "outputs": [
    {
     "name": "stderr",
     "output_type": "stream",
     "text": [
      "\u001b[1m\u001b[22m`summarise()` has grouped output by 'model'. You can override using the `.groups` argument.\n"
     ]
    }
   ],
   "source": [
    "fig6_reduced <- fig6 %>%\n",
    "  group_by(model, CAV1_level) %>%\n",
    "  summarise(avg_value = mean(value, na.rm = TRUE))"
   ]
  },
  {
   "cell_type": "code",
   "execution_count": 12,
   "id": "82a57663-0d65-47c9-af01-8ec06af63e12",
   "metadata": {},
   "outputs": [
    {
     "data": {
      "text/html": [
       "<table class=\"dataframe\">\n",
       "<caption>A grouped_df: 8 × 3</caption>\n",
       "<thead>\n",
       "\t<tr><th scope=col>model</th><th scope=col>CAV1_level</th><th scope=col>avg_value</th></tr>\n",
       "\t<tr><th scope=col>&lt;chr&gt;</th><th scope=col>&lt;fct&gt;</th><th scope=col>&lt;dbl&gt;</th></tr>\n",
       "</thead>\n",
       "<tbody>\n",
       "\t<tr><td>JHOS2    </td><td>CAV1_high</td><td> 3.8857143</td></tr>\n",
       "\t<tr><td>Kuramochi</td><td>CAV1_low </td><td> 0.6714286</td></tr>\n",
       "\t<tr><td>Ovsaho   </td><td>CAV1_low </td><td> 1.4857143</td></tr>\n",
       "\t<tr><td>PDC1     </td><td>CAV1_low </td><td> 1.7142857</td></tr>\n",
       "\t<tr><td>PDC2     </td><td>CAV1_high</td><td>10.5000000</td></tr>\n",
       "\t<tr><td>PDC3     </td><td>CAV1_high</td><td>10.9857143</td></tr>\n",
       "\t<tr><td>PDC4     </td><td>CAV1_low </td><td> 2.6500000</td></tr>\n",
       "\t<tr><td>PDC5     </td><td>CAV1_low </td><td> 1.3571429</td></tr>\n",
       "</tbody>\n",
       "</table>\n"
      ],
      "text/latex": [
       "A grouped\\_df: 8 × 3\n",
       "\\begin{tabular}{lll}\n",
       " model & CAV1\\_level & avg\\_value\\\\\n",
       " <chr> & <fct> & <dbl>\\\\\n",
       "\\hline\n",
       "\t JHOS2     & CAV1\\_high &  3.8857143\\\\\n",
       "\t Kuramochi & CAV1\\_low  &  0.6714286\\\\\n",
       "\t Ovsaho    & CAV1\\_low  &  1.4857143\\\\\n",
       "\t PDC1      & CAV1\\_low  &  1.7142857\\\\\n",
       "\t PDC2      & CAV1\\_high & 10.5000000\\\\\n",
       "\t PDC3      & CAV1\\_high & 10.9857143\\\\\n",
       "\t PDC4      & CAV1\\_low  &  2.6500000\\\\\n",
       "\t PDC5      & CAV1\\_low  &  1.3571429\\\\\n",
       "\\end{tabular}\n"
      ],
      "text/markdown": [
       "\n",
       "A grouped_df: 8 × 3\n",
       "\n",
       "| model &lt;chr&gt; | CAV1_level &lt;fct&gt; | avg_value &lt;dbl&gt; |\n",
       "|---|---|---|\n",
       "| JHOS2     | CAV1_high |  3.8857143 |\n",
       "| Kuramochi | CAV1_low  |  0.6714286 |\n",
       "| Ovsaho    | CAV1_low  |  1.4857143 |\n",
       "| PDC1      | CAV1_low  |  1.7142857 |\n",
       "| PDC2      | CAV1_high | 10.5000000 |\n",
       "| PDC3      | CAV1_high | 10.9857143 |\n",
       "| PDC4      | CAV1_low  |  2.6500000 |\n",
       "| PDC5      | CAV1_low  |  1.3571429 |\n",
       "\n"
      ],
      "text/plain": [
       "  model     CAV1_level avg_value \n",
       "1 JHOS2     CAV1_high   3.8857143\n",
       "2 Kuramochi CAV1_low    0.6714286\n",
       "3 Ovsaho    CAV1_low    1.4857143\n",
       "4 PDC1      CAV1_low    1.7142857\n",
       "5 PDC2      CAV1_high  10.5000000\n",
       "6 PDC3      CAV1_high  10.9857143\n",
       "7 PDC4      CAV1_low    2.6500000\n",
       "8 PDC5      CAV1_low    1.3571429"
      ]
     },
     "metadata": {},
     "output_type": "display_data"
    }
   ],
   "source": [
    "fig6_reduced"
   ]
  },
  {
   "cell_type": "code",
   "execution_count": 13,
   "id": "2933ac21-47c1-4f66-a7fd-9d069a6bb372",
   "metadata": {},
   "outputs": [],
   "source": [
    "options(repr.plot.width = 3, repr.plot.height = 6)\n",
    "ggsave(ggplot(data = fig6_reduced, aes(x = CAV1_level, y = avg_value, fill = CAV1_level)) + \n",
    "geom_boxplot()  +\n",
    "geom_point(aes(fill = CAV1_level), size = 3, shape = 21, position = position_jitterdodge()) +\n",
    "ylab(\"DSS\") + \n",
    "xlab(\"\") + \n",
    "scale_fill_manual(values = c(\"#c98586\", \"#e7bbb4\")) +\n",
    "stat_compare_means(method = \"wilcox\", comparisons = list(c(\"CAV1_high\", \"CAV1_low\")), paired = FALSE) +\n",
    "theme(panel.background = element_blank(),\n",
    "     axis.line = element_line(colour = \"black\"),\n",
    "     text = element_text(size = 12, colour = \"black\"),\n",
    "     axis.text = element_text(size = 12, colour = \"black\"),\n",
    "     legend.position = \"bottom\",\n",
    "     legend.key = element_blank()),\n",
    "filename = \"EGFRi_DSS_boxplot_Fig6.pdf\", width = 3, height = 6)"
   ]
  },
  {
   "cell_type": "code",
   "execution_count": 14,
   "id": "6dcc1882-e520-49e0-bcf0-a9bb1cc1a1f8",
   "metadata": {},
   "outputs": [
    {
     "data": {
      "text/plain": [
       "\n",
       "\tWilcoxon rank sum exact test\n",
       "\n",
       "data:  avg_value by CAV1_level\n",
       "W = 0, p-value = 0.03571\n",
       "alternative hypothesis: true location shift is not equal to 0\n"
      ]
     },
     "metadata": {},
     "output_type": "display_data"
    }
   ],
   "source": [
    "wilcox.test(avg_value ~ CAV1_level, paired = FALSE, correct = TRUE,\n",
    "       data = fig6_reduced)"
   ]
  },
  {
   "cell_type": "code",
   "execution_count": 15,
   "id": "8ee65aab-91ff-4c3a-a54a-42ef28e08339",
   "metadata": {},
   "outputs": [
    {
     "data": {
      "text/plain": [
       "R version 4.3.3 (2024-02-29)\n",
       "Platform: x86_64-conda-linux-gnu (64-bit)\n",
       "Running under: Red Hat Enterprise Linux 8.10 (Ootpa)\n",
       "\n",
       "Matrix products: default\n",
       "BLAS/LAPACK: /homedir01/adini22/.conda/envs/singlecell_2024_r/lib/libopenblasp-r0.3.27.so;  LAPACK version 3.12.0\n",
       "\n",
       "locale:\n",
       " [1] LC_CTYPE=en_US.UTF-8       LC_NUMERIC=C              \n",
       " [3] LC_TIME=en_US.UTF-8        LC_COLLATE=en_US.UTF-8    \n",
       " [5] LC_MONETARY=en_US.UTF-8    LC_MESSAGES=en_US.UTF-8   \n",
       " [7] LC_PAPER=en_US.UTF-8       LC_NAME=C                 \n",
       " [9] LC_ADDRESS=C               LC_TELEPHONE=C            \n",
       "[11] LC_MEASUREMENT=en_US.UTF-8 LC_IDENTIFICATION=C       \n",
       "\n",
       "time zone: Europe/Helsinki\n",
       "tzcode source: system (glibc)\n",
       "\n",
       "attached base packages:\n",
       "[1] grid      stats     graphics  grDevices utils     datasets  methods  \n",
       "[8] base     \n",
       "\n",
       "other attached packages:\n",
       "[1] dplyr_1.1.4           ggpubr_0.6.0          reshape2_1.4.4       \n",
       "[4] ggplot2_3.5.1         ComplexHeatmap_2.18.0 readxl_1.4.3         \n",
       "\n",
       "loaded via a namespace (and not attached):\n",
       " [1] gtable_0.3.5        circlize_0.4.16     shape_1.4.6.1      \n",
       " [4] rjson_0.2.21        GlobalOptions_0.1.2 rstatix_0.7.2      \n",
       " [7] Cairo_1.6-2         vctrs_0.6.5         tools_4.3.3        \n",
       "[10] generics_0.1.3      stats4_4.3.3        parallel_4.3.3     \n",
       "[13] tibble_3.2.1        fansi_1.0.6         cluster_2.1.6      \n",
       "[16] pkgconfig_2.0.3     RColorBrewer_1.1-3  S4Vectors_0.40.2   \n",
       "[19] uuid_1.2-0          lifecycle_1.0.4     farver_2.1.2       \n",
       "[22] compiler_4.3.3      stringr_1.5.1       textshaping_0.3.7  \n",
       "[25] munsell_0.5.1       repr_1.1.7          codetools_0.2-20   \n",
       "[28] carData_3.0-5       clue_0.3-65         htmltools_0.5.8.1  \n",
       "[31] pillar_1.9.0        car_3.1-2           crayon_1.5.3       \n",
       "[34] tidyr_1.3.1         iterators_1.0.14    abind_1.4-5        \n",
       "[37] foreach_1.5.2       tidyselect_1.2.1    digest_0.6.35      \n",
       "[40] stringi_1.8.4       purrr_1.0.2         labeling_0.4.3     \n",
       "[43] fastmap_1.2.0       colorspace_2.1-1    cli_3.6.2          \n",
       "[46] magrittr_2.0.3      base64enc_0.1-3     utf8_1.2.4         \n",
       "[49] IRdisplay_1.1       broom_1.0.6         withr_3.0.1        \n",
       "[52] scales_1.3.0        backports_1.5.0     IRkernel_1.3.2     \n",
       "[55] matrixStats_1.3.0   pbdZMQ_0.3-11       ggsignif_0.6.4     \n",
       "[58] cellranger_1.1.0    ragg_1.2.6          png_0.1-8          \n",
       "[61] GetoptLong_1.0.5    evaluate_0.24.0     IRanges_2.36.0     \n",
       "[64] doParallel_1.0.17   rlang_1.1.3         Rcpp_1.0.13        \n",
       "[67] glue_1.7.0          BiocGenerics_0.48.1 jsonlite_1.8.8     \n",
       "[70] R6_2.5.1            plyr_1.8.9          systemfonts_1.1.0  "
      ]
     },
     "metadata": {},
     "output_type": "display_data"
    }
   ],
   "source": [
    "sessionInfo()"
   ]
  }
 ],
 "metadata": {
  "kernelspec": {
   "display_name": "R",
   "language": "R",
   "name": "ir"
  },
  "language_info": {
   "codemirror_mode": "r",
   "file_extension": ".r",
   "mimetype": "text/x-r-source",
   "name": "R",
   "pygments_lexer": "r",
   "version": "4.3.3"
  }
 },
 "nbformat": 4,
 "nbformat_minor": 5
}
