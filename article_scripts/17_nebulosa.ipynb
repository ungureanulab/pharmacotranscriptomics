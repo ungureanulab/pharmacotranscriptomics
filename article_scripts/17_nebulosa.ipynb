{
 "cells": [
  {
   "cell_type": "markdown",
   "id": "95a79e1c",
   "metadata": {},
   "source": [
    "# 2D UMAPs with MKI67 and PAX8 expression in DMSO cells visualized with Nebulosa"
   ]
  },
  {
   "cell_type": "markdown",
   "id": "f1de847f",
   "metadata": {},
   "source": [
    "Loading the R packages."
   ]
  },
  {
   "cell_type": "code",
   "execution_count": 1,
   "id": "24bc8d95",
   "metadata": {},
   "outputs": [],
   "source": [
    "suppressWarnings({suppressPackageStartupMessages({\n",
    "    library(Seurat)\n",
    "    library(Nebulosa)\n",
    "})})"
   ]
  },
  {
   "cell_type": "markdown",
   "id": "a18d2fd3",
   "metadata": {},
   "source": [
    "Loading the data."
   ]
  },
  {
   "cell_type": "code",
   "execution_count": 2,
   "id": "934ad511",
   "metadata": {},
   "outputs": [],
   "source": [
    "hgsoc <- readRDS(\"HGSOC_CellHashing_CLUSTERED.RDS\")"
   ]
  },
  {
   "cell_type": "markdown",
   "id": "2bbd2c83",
   "metadata": {},
   "source": [
    "Visualizing expression of key HGSOC markers to confirm that they are cancer cells."
   ]
  },
  {
   "cell_type": "code",
   "execution_count": 3,
   "id": "989ff476",
   "metadata": {},
   "outputs": [
    {
     "name": "stderr",
     "output_type": "stream",
     "text": [
      "\u001b[1m\u001b[22mScale for \u001b[32mcolour\u001b[39m is already present.\n",
      "Adding another scale for \u001b[32mcolour\u001b[39m, which will replace the existing scale.\n",
      "\u001b[1m\u001b[22mScale for \u001b[32mcolour\u001b[39m is already present.\n",
      "Adding another scale for \u001b[32mcolour\u001b[39m, which will replace the existing scale.\n"
     ]
    }
   ],
   "source": [
    "DefaultAssay(hgsoc) <- \"SCT\"\n",
    "Idents(hgsoc) <- \"Treatment_group\"\n",
    "ggsave(plot_density(object = hgsoc, \n",
    "             method = \"ks\", features = c(\"MKI67\", \"PAX8\"), \n",
    "             size = 1) & \n",
    "scale_color_gradientn(colours = c(\"white\", \"salmon\", \"firebrick\"),\n",
    "                      guide = guide_colorbar(frame.colour = \"black\", \n",
    "                                             ticks.colour = \"black\")) & \n",
    "NoAxes() & \n",
    "theme(plot.title = element_text(face = \"italic\"),\n",
    "      legend.key.height = unit(0.5, \"cm\"),\n",
    "      legend.key.width = unit(0.5, \"cm\")),\n",
    "filename = \"2D_UMAP_allData_MKI67_PAX8_Nebulosa.pdf\", width = 16, height = 7)"
   ]
  },
  {
   "cell_type": "code",
   "execution_count": 4,
   "id": "dc11bddc",
   "metadata": {},
   "outputs": [
    {
     "data": {
      "text/plain": [
       "R version 4.2.2 (2022-10-31)\n",
       "Platform: x86_64-conda-linux-gnu (64-bit)\n",
       "Running under: Rocky Linux 8.8 (Green Obsidian)\n",
       "\n",
       "Matrix products: default\n",
       "BLAS/LAPACK: /homedir01/adini22/.conda/envs/cellhashing_analyses/lib/libopenblasp-r0.3.21.so\n",
       "\n",
       "locale:\n",
       " [1] LC_CTYPE=en_US.UTF-8       LC_NUMERIC=C              \n",
       " [3] LC_TIME=en_US.UTF-8        LC_COLLATE=en_US.UTF-8    \n",
       " [5] LC_MONETARY=en_US.UTF-8    LC_MESSAGES=en_US.UTF-8   \n",
       " [7] LC_PAPER=en_US.UTF-8       LC_NAME=C                 \n",
       " [9] LC_ADDRESS=C               LC_TELEPHONE=C            \n",
       "[11] LC_MEASUREMENT=en_US.UTF-8 LC_IDENTIFICATION=C       \n",
       "\n",
       "attached base packages:\n",
       "[1] stats     graphics  grDevices utils     datasets  methods   base     \n",
       "\n",
       "other attached packages:\n",
       "[1] Nebulosa_1.8.0     patchwork_1.1.2    ggplot2_3.4.2      SeuratObject_4.1.3\n",
       "[5] Seurat_4.3.0.9002 \n",
       "\n",
       "loaded via a namespace (and not attached):\n",
       "  [1] uuid_1.1-0                  systemfonts_1.0.4          \n",
       "  [3] plyr_1.8.8                  igraph_1.4.0               \n",
       "  [5] repr_1.1.5                  lazyeval_0.2.2             \n",
       "  [7] sp_1.6-0                    splines_4.2.2              \n",
       "  [9] listenv_0.9.0               scattermore_0.8            \n",
       " [11] GenomeInfoDb_1.34.9         digest_0.6.31              \n",
       " [13] htmltools_0.5.4             fansi_1.0.4                \n",
       " [15] magrittr_2.0.3              tensor_1.5                 \n",
       " [17] cluster_2.1.4               ks_1.14.0                  \n",
       " [19] ROCR_1.0-11                 globals_0.16.2             \n",
       " [21] matrixStats_0.63.0          spatstat.sparse_3.0-1      \n",
       " [23] colorspace_2.1-0            ggrepel_0.9.3              \n",
       " [25] textshaping_0.3.6           dplyr_1.0.10               \n",
       " [27] crayon_1.5.2                RCurl_1.98-1.10            \n",
       " [29] jsonlite_1.8.4              progressr_0.13.0           \n",
       " [31] spatstat.data_3.0-1         survival_3.5-0             \n",
       " [33] zoo_1.8-11                  glue_1.6.2                 \n",
       " [35] polyclip_1.10-4             gtable_0.3.3               \n",
       " [37] zlibbioc_1.44.0             XVector_0.38.0             \n",
       " [39] leiden_0.4.3                DelayedArray_0.24.0        \n",
       " [41] future.apply_1.10.0         SingleCellExperiment_1.20.1\n",
       " [43] BiocGenerics_0.44.0         abind_1.4-5                \n",
       " [45] scales_1.2.1                mvtnorm_1.1-3              \n",
       " [47] DBI_1.1.3                   spatstat.random_3.1-3      \n",
       " [49] miniUI_0.1.1.1              Rcpp_1.0.10                \n",
       " [51] viridisLite_0.4.1           xtable_1.8-4               \n",
       " [53] reticulate_1.28             mclust_6.0.0               \n",
       " [55] stats4_4.2.2                htmlwidgets_1.6.2.9000     \n",
       " [57] httr_1.4.5                  RColorBrewer_1.1-3         \n",
       " [59] ellipsis_0.3.2              ica_1.0-3                  \n",
       " [61] farver_2.1.1                pkgconfig_2.0.3            \n",
       " [63] uwot_0.1.14                 deldir_1.0-6               \n",
       " [65] utf8_1.2.3                  labeling_0.4.2             \n",
       " [67] tidyselect_1.2.0            rlang_1.1.0                \n",
       " [69] reshape2_1.4.4              later_1.3.0                \n",
       " [71] munsell_0.5.0               tools_4.2.2                \n",
       " [73] cli_3.6.0                   generics_0.1.3             \n",
       " [75] ggridges_0.5.4              evaluate_0.20              \n",
       " [77] stringr_1.5.0               fastmap_1.1.1              \n",
       " [79] ragg_1.2.5                  goftest_1.2-3              \n",
       " [81] fitdistrplus_1.1-8          purrr_1.0.1                \n",
       " [83] RANN_2.6.1                  pbapply_1.7-0              \n",
       " [85] future_1.32.0               nlme_3.1-162               \n",
       " [87] mime_0.12                   pracma_2.4.2               \n",
       " [89] compiler_4.2.2              plotly_4.10.1.9000         \n",
       " [91] png_0.1-8                   spatstat.utils_3.0-2       \n",
       " [93] tibble_3.2.1                stringi_1.7.12             \n",
       " [95] lattice_0.20-45             IRdisplay_1.1              \n",
       " [97] Matrix_1.5-3                vctrs_0.5.1                \n",
       " [99] pillar_1.9.0                lifecycle_1.0.3            \n",
       "[101] spatstat.geom_3.0-5         lmtest_0.9-40              \n",
       "[103] RcppAnnoy_0.0.20            data.table_1.14.8          \n",
       "[105] cowplot_1.1.1               bitops_1.0-7               \n",
       "[107] irlba_2.3.5.1               httpuv_1.6.9               \n",
       "[109] GenomicRanges_1.50.2        R6_2.5.1                   \n",
       "[111] promises_1.2.0.1            KernSmooth_2.23-20         \n",
       "[113] gridExtra_2.3               IRanges_2.32.0             \n",
       "[115] parallelly_1.34.0           codetools_0.2-18           \n",
       "[117] MASS_7.3-58.2               assertthat_0.2.1           \n",
       "[119] SummarizedExperiment_1.28.0 withr_2.5.0                \n",
       "[121] sctransform_0.3.5           S4Vectors_0.36.0           \n",
       "[123] GenomeInfoDbData_1.2.9      parallel_4.2.2             \n",
       "[125] grid_4.2.2                  IRkernel_1.3.1             \n",
       "[127] tidyr_1.2.1                 MatrixGenerics_1.10.0      \n",
       "[129] Rtsne_0.16                  pbdZMQ_0.3-8               \n",
       "[131] spatstat.explore_3.0-6      Biobase_2.58.0             \n",
       "[133] shiny_1.7.4                 base64enc_0.1-3            "
      ]
     },
     "metadata": {},
     "output_type": "display_data"
    }
   ],
   "source": [
    "sessionInfo()"
   ]
  }
 ],
 "metadata": {
  "kernelspec": {
   "display_name": "R",
   "language": "R",
   "name": "ir"
  },
  "language_info": {
   "codemirror_mode": "r",
   "file_extension": ".r",
   "mimetype": "text/x-r-source",
   "name": "R",
   "pygments_lexer": "r",
   "version": "4.2.2"
  }
 },
 "nbformat": 4,
 "nbformat_minor": 5
}
