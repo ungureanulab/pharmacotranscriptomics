{
 "cells": [
  {
   "cell_type": "markdown",
   "id": "788507a1",
   "metadata": {},
   "source": [
    "# DSRT heatmaps"
   ]
  },
  {
   "cell_type": "code",
   "execution_count": 1,
   "id": "9d07c4f7",
   "metadata": {},
   "outputs": [],
   "source": [
    "suppressWarnings({suppressPackageStartupMessages({\n",
    "    library(readxl)\n",
    "    library(ComplexHeatmap)\n",
    "    library(ggplot2)\n",
    "    library(reshape2)\n",
    "    library(ggpubr)\n",
    "})})    "
   ]
  },
  {
   "cell_type": "markdown",
   "id": "e4c7f53a",
   "metadata": {},
   "source": [
    "Loading data."
   ]
  },
  {
   "cell_type": "code",
   "execution_count": 2,
   "id": "51376f30",
   "metadata": {},
   "outputs": [
    {
     "name": "stderr",
     "output_type": "stream",
     "text": [
      "\u001b[1m\u001b[22mNew names:\n",
      "\u001b[36m•\u001b[39m `` -> `...2`\n",
      "\u001b[36m•\u001b[39m `` -> `...3`\n",
      "\u001b[36m•\u001b[39m `` -> `...4`\n",
      "\u001b[36m•\u001b[39m `` -> `...5`\n",
      "\u001b[36m•\u001b[39m `` -> `...6`\n",
      "\u001b[36m•\u001b[39m `` -> `...7`\n",
      "\u001b[36m•\u001b[39m `` -> `...8`\n",
      "\u001b[36m•\u001b[39m `` -> `...9`\n",
      "\u001b[36m•\u001b[39m `` -> `...10`\n",
      "\u001b[36m•\u001b[39m `` -> `...11`\n"
     ]
    }
   ],
   "source": [
    "dsrt <- as.data.frame(read_xlsx(path = \"DSRT.xlsx\"))"
   ]
  },
  {
   "cell_type": "markdown",
   "id": "418972f6",
   "metadata": {},
   "source": [
    "Setting column names."
   ]
  },
  {
   "cell_type": "code",
   "execution_count": 3,
   "id": "43dc6921",
   "metadata": {},
   "outputs": [],
   "source": [
    "colnames(dsrt) <- dsrt[1, ]\n",
    "dsrt <- dsrt[-1, ]"
   ]
  },
  {
   "cell_type": "markdown",
   "id": "50db47f2",
   "metadata": {},
   "source": [
    "Cleaning the data for the heatmap"
   ]
  },
  {
   "cell_type": "code",
   "execution_count": 4,
   "id": "844c6821",
   "metadata": {},
   "outputs": [],
   "source": [
    "# Figure 1\n",
    "fig1 <- dsrt[dsrt$`Mechanism of action` != \"EGFR inhibitor\", -c(1, 11)] \n",
    "rownames(fig1) <- fig1$DRUG_NAME\n",
    "fig1 <- fig1[, -1]\n",
    "fig1 <- t(fig1)\n",
    "row_names_fig1 <- rownames(fig1)\n",
    "fig1 <- apply(fig1, 2, as.numeric)\n",
    "rownames(fig1) <- row_names_fig1\n",
    "\n",
    "# Figure 6\n",
    "fig6 <- dsrt[dsrt$`Mechanism of action` == \"EGFR inhibitor\", -c(1, 11)] \n",
    "rownames(fig6) <- fig6$DRUG_NAME\n",
    "fig6 <- fig6[, -1]\n",
    "row_names_fig6 <- rownames(fig6)\n",
    "fig6 <- apply(fig6, 2, as.numeric)\n",
    "rownames(fig6) <- row_names_fig6"
   ]
  },
  {
   "cell_type": "code",
   "execution_count": 5,
   "id": "61701983",
   "metadata": {},
   "outputs": [
    {
     "data": {
      "text/html": [
       "<strong>png:</strong> 2"
      ],
      "text/latex": [
       "\\textbf{png:} 2"
      ],
      "text/markdown": [
       "**png:** 2"
      ],
      "text/plain": [
       "png \n",
       "  2 "
      ]
     },
     "metadata": {},
     "output_type": "display_data"
    }
   ],
   "source": [
    "pdf(file = \"Heatmap_DSRT_complete_Fig1.pdf\", width = 15, height = 7)\n",
    "options(repr.plot.width = 15, repr.plot.height = 7)\n",
    "Heatmap(fig1, column_names_rot = 45, column_dend_side = \"bottom\",\n",
    "        top_annotation = HeatmapAnnotation(Mechanism = dsrt[dsrt$`Mechanism of action` != \"EGFR inhibitor\", \"Mechanism of action\"],\n",
    "                                        col = list(Mechanism = c(\"Bcl-2 inhibitor\" = \"#2f4f4f\", \n",
    "                                                                \"BET inhibitor\" = \"#a52a2a\", \n",
    "                                                                \"CDK inhibitor\" = \"#228b22\",\n",
    "                                                                \"CHK1 inhibitor\" = \"#4b0082\",\n",
    "                                                                \"HDAC inhibitor\" = \"#ff8c00\",\n",
    "                                                                \"IAPs/SMAC mimetic\" = \"#d2b48c\",\n",
    "                                                                \"Multi-kinase inhibitor\" = \"#00ff00\",\n",
    "                                                                \"PAK inhibitor\" = \"#00bfff\",\n",
    "                                                                \"PARP inhibitor\" = \"#0000ff\",\n",
    "                                                                \"PI3K/mTOR/AKT inhibitor\" = \"#ff1493\",\n",
    "                                                                \"PLK1 inhibitor\" = \"#ffff54\",\n",
    "                                                                \"Ras/Raf/MEK/ERK inhibitor\" = \"#dda0dd\",\n",
    "                                                                \"XPO1/CRM1 inhibitor\" = \"#7fffd4\"))),\n",
    "        cluster_rows = FALSE,\n",
    "        column_names_side = \"top\",\n",
    "        name = \"DSS\", \n",
    "        border = T, \n",
    "        col = c(\"white\", \"firebrick\"), \n",
    "        width = unit(0.5, \"cm\")*ncol(fig1),\n",
    "        height = unit(0.5, \"cm\")*nrow(fig1)\n",
    "       )\n",
    "dev.off()"
   ]
  },
  {
   "cell_type": "markdown",
   "id": "4b9627b4",
   "metadata": {},
   "source": [
    "Getting the DSS density."
   ]
  },
  {
   "cell_type": "code",
   "execution_count": 6,
   "id": "106416fb",
   "metadata": {},
   "outputs": [],
   "source": [
    "# Putting all the data in a vector to gather the threshold for sensitivity\n",
    "all_data_vector <- c() \n",
    "for(c in 1:ncol(fig1)){ \n",
    " all_data_vector <- c(all_data_vector, fig1[, c]) \n",
    "}\n",
    "\n",
    "all_data_vector <- na.omit(all_data_vector) "
   ]
  },
  {
   "cell_type": "code",
   "execution_count": 7,
   "id": "076e2ec7",
   "metadata": {},
   "outputs": [
    {
     "data": {
      "text/html": [
       "<strong>75%:</strong> 12.2125"
      ],
      "text/latex": [
       "\\textbf{75\\textbackslash{}\\%:} 12.2125"
      ],
      "text/markdown": [
       "**75%:** 12.2125"
      ],
      "text/plain": [
       "    75% \n",
       "12.2125 "
      ]
     },
     "metadata": {},
     "output_type": "display_data"
    }
   ],
   "source": [
    "quantile(x = all_data_vector, probs = 0.75) # 75th percentile is 12.2125"
   ]
  },
  {
   "cell_type": "markdown",
   "id": "3f0c999a",
   "metadata": {},
   "source": [
    "Density plot."
   ]
  },
  {
   "cell_type": "code",
   "execution_count": 8,
   "id": "176b9b9f",
   "metadata": {},
   "outputs": [
    {
     "name": "stderr",
     "output_type": "stream",
     "text": [
      "Warning message:\n",
      "“\u001b[1m\u001b[22mUsing `size` aesthetic for lines was deprecated in ggplot2 3.4.0.\n",
      "\u001b[36mℹ\u001b[39m Please use `linewidth` instead.”\n"
     ]
    }
   ],
   "source": [
    "all_data_vector <- as.data.frame(all_data_vector)\n",
    "colnames(all_data_vector) <- \"DSS\"\n",
    "ggsave(ggplot(all_data_vector, aes(x = DSS)) + \n",
    "         geom_density() +\n",
    "         geom_vline(xintercept = 12.2125, \n",
    "                    color = \"red\", \n",
    "                    linetype = 2, \n",
    "                    size = 0.5) + \n",
    "         theme(panel.background = element_blank(),\n",
    "               axis.line = element_line(color= \"black\"),\n",
    "               axis.title = element_text(colour = \"black\", size = 12),\n",
    "               axis.text = element_text(colour = \"black\", size = 12)),\n",
    "filename = \"density_all_data_DSS.pdf\", \n",
    "width = 5, \n",
    "height = 5) "
   ]
  },
  {
   "cell_type": "markdown",
   "id": "0f7538ee",
   "metadata": {},
   "source": [
    "Now moving on with Figure 6 heatmap, boxplot, and analyses."
   ]
  },
  {
   "cell_type": "code",
   "execution_count": 9,
   "id": "03dde774",
   "metadata": {},
   "outputs": [
    {
     "data": {
      "text/html": [
       "<strong>png:</strong> 2"
      ],
      "text/latex": [
       "\\textbf{png:} 2"
      ],
      "text/markdown": [
       "**png:** 2"
      ],
      "text/plain": [
       "png \n",
       "  2 "
      ]
     },
     "metadata": {},
     "output_type": "display_data"
    }
   ],
   "source": [
    "pdf(file = \"EGFRi_DSRT_Heatmap_Fig6.pdf\", width = 10, height = 10)\n",
    "options(repr.plot.width = 10, repr.plot.height = 10)\n",
    "Heatmap(fig6, \n",
    "        column_names_rot = 45, \n",
    "        top_annotation = HeatmapAnnotation(name = \"CAV1 protein levels\",\n",
    "                                           CAV1_levels = c(\"CAV1_low\", \"CAV1_high\", \"CAV1_high\", \"CAV1_low\", \"CAV1_low\",\n",
    "                                                          \"CAV1_high\", \"CAV1_low\", \"CAV1_low\"), border = TRUE,\n",
    "                                           col = list(CAV1_levels = c(\"CAV1_high\" = \"#c98586\",\n",
    "                                                                     \"CAV1_low\" = \"#e7bbb4\"))),\n",
    "        column_dend_side = \"bottom\",\n",
    "        cluster_rows = FALSE,\n",
    "        column_names_side = \"top\",\n",
    "        name = \"DSS\", \n",
    "        border = T, \n",
    "        col = c(\"white\", \"firebrick\"), \n",
    "        width = unit(0.5, \"cm\")*ncol(fig6),\n",
    "        height = unit(0.5, \"cm\")*nrow(fig6))\n",
    "dev.off()"
   ]
  },
  {
   "cell_type": "code",
   "execution_count": 10,
   "id": "ee0c5d78",
   "metadata": {},
   "outputs": [
    {
     "name": "stderr",
     "output_type": "stream",
     "text": [
      "Using model, CAV1_level as id variables\n",
      "\n"
     ]
    }
   ],
   "source": [
    "fig6 <- as.data.frame(t(fig6))\n",
    "fig6$model <- rownames(fig6)\n",
    "fig6$CAV1_level <- factor(x = c(\"CAV1_low\", \n",
    "                                \"CAV1_high\", \n",
    "                                \"CAV1_high\", \n",
    "                                \"CAV1_low\", \n",
    "                                \"CAV1_low\",\n",
    "                                \"CAV1_high\", \n",
    "                                \"CAV1_low\", \n",
    "                                \"CAV1_low\"),\n",
    "                          levels = c(\"CAV1_low\", \"CAV1_high\"))\n",
    "fig6 <- melt(fig6)"
   ]
  },
  {
   "cell_type": "code",
   "execution_count": 11,
   "id": "3d834bb5",
   "metadata": {},
   "outputs": [
    {
     "name": "stdout",
     "output_type": "stream",
     "text": [
      "[1] FALSE\n"
     ]
    }
   ],
   "source": [
    "options(repr.plot.width = 3, repr.plot.height = 6)\n",
    "ggsave(plot = ggplot(data = fig6, aes(x = CAV1_level, y = value, fill = CAV1_level)) + \n",
    "geom_boxplot()  +\n",
    "geom_point(aes(fill = CAV1_level), size = 3, shape = 21, position = position_jitterdodge()) +\n",
    "ylab(\"DSS\") + \n",
    "xlab(\"\") + \n",
    "scale_fill_manual(values = c(\"#c98586\", \"#e7bbb4\")) +\n",
    "stat_compare_means(method = \"t.test\", comparisons = list(c(\"CAV1_high\", \"CAV1_low\"))) +\n",
    "theme(panel.background = element_blank(),\n",
    "     axis.line = element_line(colour = \"black\"),\n",
    "     text = element_text(size = 12, colour = \"black\"),\n",
    "     axis.text = element_text(size = 12, colour = \"black\"),\n",
    "     legend.position = \"bottom\",\n",
    "     legend.key = element_blank()),\n",
    "filename = \"EGFRi_DSS_boxplot_Fig6.pdf\", width = 3, height = 6)"
   ]
  },
  {
   "cell_type": "code",
   "execution_count": 12,
   "id": "8e0ffadd",
   "metadata": {},
   "outputs": [
    {
     "data": {
      "text/plain": [
       "\n",
       "\tWelch Two Sample t-test\n",
       "\n",
       "data:  value by CAV1_level\n",
       "t = -4.7689, df = 49.81, p-value = 1.653e-05\n",
       "alternative hypothesis: true difference in means between group CAV1_low and group CAV1_high is not equal to 0\n",
       "95 percent confidence interval:\n",
       " -5.321551 -2.167167\n",
       "sample estimates:\n",
       " mean in group CAV1_low mean in group CAV1_high \n",
       "               2.283846                6.028205 \n"
      ]
     },
     "metadata": {},
     "output_type": "display_data"
    }
   ],
   "source": [
    "t.test(value ~ CAV1_level, paired = FALSE,\n",
    "       data = fig6)"
   ]
  },
  {
   "cell_type": "code",
   "execution_count": 13,
   "id": "68df00c8",
   "metadata": {},
   "outputs": [
    {
     "data": {
      "text/plain": [
       "R version 4.2.2 (2022-10-31)\n",
       "Platform: x86_64-conda-linux-gnu (64-bit)\n",
       "Running under: Rocky Linux 8.8 (Green Obsidian)\n",
       "\n",
       "Matrix products: default\n",
       "BLAS/LAPACK: /homedir01/adini22/.conda/envs/cellhashing_analyses/lib/libopenblasp-r0.3.21.so\n",
       "\n",
       "locale:\n",
       " [1] LC_CTYPE=en_US.UTF-8       LC_NUMERIC=C              \n",
       " [3] LC_TIME=en_US.UTF-8        LC_COLLATE=en_US.UTF-8    \n",
       " [5] LC_MONETARY=en_US.UTF-8    LC_MESSAGES=en_US.UTF-8   \n",
       " [7] LC_PAPER=en_US.UTF-8       LC_NAME=C                 \n",
       " [9] LC_ADDRESS=C               LC_TELEPHONE=C            \n",
       "[11] LC_MEASUREMENT=en_US.UTF-8 LC_IDENTIFICATION=C       \n",
       "\n",
       "attached base packages:\n",
       "[1] grid      stats     graphics  grDevices utils     datasets  methods  \n",
       "[8] base     \n",
       "\n",
       "other attached packages:\n",
       "[1] ggpubr_0.5.0          reshape2_1.4.4        ggplot2_3.4.2        \n",
       "[4] ComplexHeatmap_2.14.0 readxl_1.4.1         \n",
       "\n",
       "loaded via a namespace (and not attached):\n",
       " [1] Rcpp_1.0.10         circlize_0.4.15     tidyr_1.2.1        \n",
       " [4] png_0.1-8           assertthat_0.2.1    digest_0.6.31      \n",
       " [7] foreach_1.5.2       utf8_1.2.3          IRdisplay_1.1      \n",
       "[10] R6_2.5.1            cellranger_1.1.0    plyr_1.8.8         \n",
       "[13] repr_1.1.5          backports_1.4.1     stats4_4.2.2       \n",
       "[16] evaluate_0.20       pillar_1.9.0        GlobalOptions_0.1.2\n",
       "[19] rlang_1.1.0         uuid_1.1-0          car_3.1-2          \n",
       "[22] S4Vectors_0.36.0    GetoptLong_1.0.5    labeling_0.4.2     \n",
       "[25] textshaping_0.3.6   stringr_1.5.0       munsell_0.5.0      \n",
       "[28] broom_1.0.4         compiler_4.2.2      systemfonts_1.0.4  \n",
       "[31] pkgconfig_2.0.3     BiocGenerics_0.44.0 base64enc_0.1-3    \n",
       "[34] shape_1.4.6         htmltools_0.5.4     tidyselect_1.2.0   \n",
       "[37] tibble_3.2.1        IRanges_2.32.0      codetools_0.2-18   \n",
       "[40] matrixStats_0.63.0  fansi_1.0.4         crayon_1.5.2       \n",
       "[43] dplyr_1.0.10        withr_2.5.0         jsonlite_1.8.4     \n",
       "[46] gtable_0.3.3        lifecycle_1.0.3     DBI_1.1.3          \n",
       "[49] magrittr_2.0.3      scales_1.2.1        carData_3.0-5      \n",
       "[52] cli_3.6.0           stringi_1.7.12      farver_2.1.1       \n",
       "[55] ggsignif_0.6.4      doParallel_1.0.17   ragg_1.2.5         \n",
       "[58] generics_0.1.3      vctrs_0.5.1         IRkernel_1.3.1     \n",
       "[61] rjson_0.2.21        RColorBrewer_1.1-3  Cairo_1.6-0        \n",
       "[64] iterators_1.0.14    tools_4.2.2         glue_1.6.2         \n",
       "[67] purrr_1.0.1         abind_1.4-5         parallel_4.2.2     \n",
       "[70] fastmap_1.1.1       clue_0.3-63         colorspace_2.1-0   \n",
       "[73] cluster_2.1.4       rstatix_0.7.2       pbdZMQ_0.3-8       "
      ]
     },
     "metadata": {},
     "output_type": "display_data"
    }
   ],
   "source": [
    "sessionInfo()"
   ]
  }
 ],
 "metadata": {
  "kernelspec": {
   "display_name": "R",
   "language": "R",
   "name": "ir"
  },
  "language_info": {
   "codemirror_mode": "r",
   "file_extension": ".r",
   "mimetype": "text/x-r-source",
   "name": "R",
   "pygments_lexer": "r",
   "version": "4.2.2"
  }
 },
 "nbformat": 4,
 "nbformat_minor": 5
}
