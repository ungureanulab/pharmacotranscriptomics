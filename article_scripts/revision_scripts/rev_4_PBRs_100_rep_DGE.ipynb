{
 "cells": [
  {
   "cell_type": "markdown",
   "id": "4057600f",
   "metadata": {},
   "source": [
    "# Performing differential expression analysis between treatment group and DMSO from pseudobulkreplicates obtained with 100 reps"
   ]
  },
  {
   "cell_type": "code",
   "execution_count": 1,
   "id": "fdcea0a1",
   "metadata": {
    "vscode": {
     "languageId": "r"
    }
   },
   "outputs": [
    {
     "name": "stderr",
     "output_type": "stream",
     "text": [
      "Loading required package: limma\n",
      "\n"
     ]
    }
   ],
   "source": [
    "library(edgeR)\n",
    "library(parallel)"
   ]
  },
  {
   "cell_type": "markdown",
   "id": "3850fa6c",
   "metadata": {},
   "source": [
    "Loading data: these objects are a list previously produced and containing as elements matrices with pseudobulk replicates obtained via bootstrapping"
   ]
  },
  {
   "cell_type": "code",
   "execution_count": 2,
   "id": "d0e90565",
   "metadata": {
    "vscode": {
     "languageId": "r"
    }
   },
   "outputs": [],
   "source": [
    "JHOS2_pseudo <- readRDS(\"JHOS2_pseudobulkreplicates_100reps_rev.RDS\")\n",
    "PDC2_pseudo <- readRDS(\"PDC2_pseudobulkreplicates_100reps_rev.RDS\")\n",
    "PDC3_pseudo <- readRDS(\"PDC3_pseudobulkreplicates_100reps_rev.RDS\")"
   ]
  },
  {
   "cell_type": "code",
   "execution_count": 3,
   "id": "db8755e8",
   "metadata": {
    "vscode": {
     "languageId": "r"
    }
   },
   "outputs": [
    {
     "data": {
      "text/html": [
       "46"
      ],
      "text/latex": [
       "46"
      ],
      "text/markdown": [
       "46"
      ],
      "text/plain": [
       "[1] 46"
      ]
     },
     "metadata": {},
     "output_type": "display_data"
    },
    {
     "data": {
      "text/html": [
       "46"
      ],
      "text/latex": [
       "46"
      ],
      "text/markdown": [
       "46"
      ],
      "text/plain": [
       "[1] 46"
      ]
     },
     "metadata": {},
     "output_type": "display_data"
    },
    {
     "data": {
      "text/html": [
       "46"
      ],
      "text/latex": [
       "46"
      ],
      "text/markdown": [
       "46"
      ],
      "text/plain": [
       "[1] 46"
      ]
     },
     "metadata": {},
     "output_type": "display_data"
    },
    {
     "data": {
      "text/html": [
       "<style>\n",
       ".list-inline {list-style: none; margin:0; padding: 0}\n",
       ".list-inline>li {display: inline-block}\n",
       ".list-inline>li:not(:last-child)::after {content: \"\\00b7\"; padding: 0 .5ex}\n",
       "</style>\n",
       "<ol class=list-inline><li>TRUE</li><li>TRUE</li><li>TRUE</li><li>TRUE</li><li>TRUE</li><li>TRUE</li><li>TRUE</li><li>TRUE</li><li>TRUE</li><li>TRUE</li><li>TRUE</li><li>TRUE</li><li>TRUE</li><li>TRUE</li><li>TRUE</li><li>TRUE</li><li>TRUE</li><li>TRUE</li><li>TRUE</li><li>TRUE</li><li>TRUE</li><li>TRUE</li><li>TRUE</li><li>TRUE</li><li>TRUE</li><li>TRUE</li><li>TRUE</li><li>TRUE</li><li>TRUE</li><li>TRUE</li><li>TRUE</li><li>TRUE</li><li>TRUE</li><li>TRUE</li><li>TRUE</li><li>TRUE</li><li>TRUE</li><li>TRUE</li><li>TRUE</li><li>TRUE</li><li>TRUE</li><li>TRUE</li><li>TRUE</li><li>TRUE</li><li>TRUE</li><li>TRUE</li></ol>\n"
      ],
      "text/latex": [
       "\\begin{enumerate*}\n",
       "\\item TRUE\n",
       "\\item TRUE\n",
       "\\item TRUE\n",
       "\\item TRUE\n",
       "\\item TRUE\n",
       "\\item TRUE\n",
       "\\item TRUE\n",
       "\\item TRUE\n",
       "\\item TRUE\n",
       "\\item TRUE\n",
       "\\item TRUE\n",
       "\\item TRUE\n",
       "\\item TRUE\n",
       "\\item TRUE\n",
       "\\item TRUE\n",
       "\\item TRUE\n",
       "\\item TRUE\n",
       "\\item TRUE\n",
       "\\item TRUE\n",
       "\\item TRUE\n",
       "\\item TRUE\n",
       "\\item TRUE\n",
       "\\item TRUE\n",
       "\\item TRUE\n",
       "\\item TRUE\n",
       "\\item TRUE\n",
       "\\item TRUE\n",
       "\\item TRUE\n",
       "\\item TRUE\n",
       "\\item TRUE\n",
       "\\item TRUE\n",
       "\\item TRUE\n",
       "\\item TRUE\n",
       "\\item TRUE\n",
       "\\item TRUE\n",
       "\\item TRUE\n",
       "\\item TRUE\n",
       "\\item TRUE\n",
       "\\item TRUE\n",
       "\\item TRUE\n",
       "\\item TRUE\n",
       "\\item TRUE\n",
       "\\item TRUE\n",
       "\\item TRUE\n",
       "\\item TRUE\n",
       "\\item TRUE\n",
       "\\end{enumerate*}\n"
      ],
      "text/markdown": [
       "1. TRUE\n",
       "2. TRUE\n",
       "3. TRUE\n",
       "4. TRUE\n",
       "5. TRUE\n",
       "6. TRUE\n",
       "7. TRUE\n",
       "8. TRUE\n",
       "9. TRUE\n",
       "10. TRUE\n",
       "11. TRUE\n",
       "12. TRUE\n",
       "13. TRUE\n",
       "14. TRUE\n",
       "15. TRUE\n",
       "16. TRUE\n",
       "17. TRUE\n",
       "18. TRUE\n",
       "19. TRUE\n",
       "20. TRUE\n",
       "21. TRUE\n",
       "22. TRUE\n",
       "23. TRUE\n",
       "24. TRUE\n",
       "25. TRUE\n",
       "26. TRUE\n",
       "27. TRUE\n",
       "28. TRUE\n",
       "29. TRUE\n",
       "30. TRUE\n",
       "31. TRUE\n",
       "32. TRUE\n",
       "33. TRUE\n",
       "34. TRUE\n",
       "35. TRUE\n",
       "36. TRUE\n",
       "37. TRUE\n",
       "38. TRUE\n",
       "39. TRUE\n",
       "40. TRUE\n",
       "41. TRUE\n",
       "42. TRUE\n",
       "43. TRUE\n",
       "44. TRUE\n",
       "45. TRUE\n",
       "46. TRUE\n",
       "\n",
       "\n"
      ],
      "text/plain": [
       " [1] TRUE TRUE TRUE TRUE TRUE TRUE TRUE TRUE TRUE TRUE TRUE TRUE TRUE TRUE TRUE\n",
       "[16] TRUE TRUE TRUE TRUE TRUE TRUE TRUE TRUE TRUE TRUE TRUE TRUE TRUE TRUE TRUE\n",
       "[31] TRUE TRUE TRUE TRUE TRUE TRUE TRUE TRUE TRUE TRUE TRUE TRUE TRUE TRUE TRUE\n",
       "[46] TRUE"
      ]
     },
     "metadata": {},
     "output_type": "display_data"
    },
    {
     "data": {
      "text/html": [
       "<style>\n",
       ".list-inline {list-style: none; margin:0; padding: 0}\n",
       ".list-inline>li {display: inline-block}\n",
       ".list-inline>li:not(:last-child)::after {content: \"\\00b7\"; padding: 0 .5ex}\n",
       "</style>\n",
       "<ol class=list-inline><li>TRUE</li><li>TRUE</li><li>TRUE</li><li>TRUE</li><li>TRUE</li><li>TRUE</li><li>TRUE</li><li>TRUE</li><li>TRUE</li><li>TRUE</li><li>TRUE</li><li>TRUE</li><li>TRUE</li><li>TRUE</li><li>TRUE</li><li>TRUE</li><li>TRUE</li><li>TRUE</li><li>TRUE</li><li>TRUE</li><li>TRUE</li><li>TRUE</li><li>TRUE</li><li>TRUE</li><li>TRUE</li><li>TRUE</li><li>TRUE</li><li>TRUE</li><li>TRUE</li><li>TRUE</li><li>TRUE</li><li>TRUE</li><li>TRUE</li><li>TRUE</li><li>TRUE</li><li>TRUE</li><li>TRUE</li><li>TRUE</li><li>TRUE</li><li>TRUE</li><li>TRUE</li><li>TRUE</li><li>TRUE</li><li>TRUE</li><li>TRUE</li><li>TRUE</li></ol>\n"
      ],
      "text/latex": [
       "\\begin{enumerate*}\n",
       "\\item TRUE\n",
       "\\item TRUE\n",
       "\\item TRUE\n",
       "\\item TRUE\n",
       "\\item TRUE\n",
       "\\item TRUE\n",
       "\\item TRUE\n",
       "\\item TRUE\n",
       "\\item TRUE\n",
       "\\item TRUE\n",
       "\\item TRUE\n",
       "\\item TRUE\n",
       "\\item TRUE\n",
       "\\item TRUE\n",
       "\\item TRUE\n",
       "\\item TRUE\n",
       "\\item TRUE\n",
       "\\item TRUE\n",
       "\\item TRUE\n",
       "\\item TRUE\n",
       "\\item TRUE\n",
       "\\item TRUE\n",
       "\\item TRUE\n",
       "\\item TRUE\n",
       "\\item TRUE\n",
       "\\item TRUE\n",
       "\\item TRUE\n",
       "\\item TRUE\n",
       "\\item TRUE\n",
       "\\item TRUE\n",
       "\\item TRUE\n",
       "\\item TRUE\n",
       "\\item TRUE\n",
       "\\item TRUE\n",
       "\\item TRUE\n",
       "\\item TRUE\n",
       "\\item TRUE\n",
       "\\item TRUE\n",
       "\\item TRUE\n",
       "\\item TRUE\n",
       "\\item TRUE\n",
       "\\item TRUE\n",
       "\\item TRUE\n",
       "\\item TRUE\n",
       "\\item TRUE\n",
       "\\item TRUE\n",
       "\\end{enumerate*}\n"
      ],
      "text/markdown": [
       "1. TRUE\n",
       "2. TRUE\n",
       "3. TRUE\n",
       "4. TRUE\n",
       "5. TRUE\n",
       "6. TRUE\n",
       "7. TRUE\n",
       "8. TRUE\n",
       "9. TRUE\n",
       "10. TRUE\n",
       "11. TRUE\n",
       "12. TRUE\n",
       "13. TRUE\n",
       "14. TRUE\n",
       "15. TRUE\n",
       "16. TRUE\n",
       "17. TRUE\n",
       "18. TRUE\n",
       "19. TRUE\n",
       "20. TRUE\n",
       "21. TRUE\n",
       "22. TRUE\n",
       "23. TRUE\n",
       "24. TRUE\n",
       "25. TRUE\n",
       "26. TRUE\n",
       "27. TRUE\n",
       "28. TRUE\n",
       "29. TRUE\n",
       "30. TRUE\n",
       "31. TRUE\n",
       "32. TRUE\n",
       "33. TRUE\n",
       "34. TRUE\n",
       "35. TRUE\n",
       "36. TRUE\n",
       "37. TRUE\n",
       "38. TRUE\n",
       "39. TRUE\n",
       "40. TRUE\n",
       "41. TRUE\n",
       "42. TRUE\n",
       "43. TRUE\n",
       "44. TRUE\n",
       "45. TRUE\n",
       "46. TRUE\n",
       "\n",
       "\n"
      ],
      "text/plain": [
       " [1] TRUE TRUE TRUE TRUE TRUE TRUE TRUE TRUE TRUE TRUE TRUE TRUE TRUE TRUE TRUE\n",
       "[16] TRUE TRUE TRUE TRUE TRUE TRUE TRUE TRUE TRUE TRUE TRUE TRUE TRUE TRUE TRUE\n",
       "[31] TRUE TRUE TRUE TRUE TRUE TRUE TRUE TRUE TRUE TRUE TRUE TRUE TRUE TRUE TRUE\n",
       "[46] TRUE"
      ]
     },
     "metadata": {},
     "output_type": "display_data"
    },
    {
     "data": {
      "text/html": [
       "46"
      ],
      "text/latex": [
       "46"
      ],
      "text/markdown": [
       "46"
      ],
      "text/plain": [
       "[1] 46"
      ]
     },
     "metadata": {},
     "output_type": "display_data"
    },
    {
     "data": {
      "text/html": [
       "46"
      ],
      "text/latex": [
       "46"
      ],
      "text/markdown": [
       "46"
      ],
      "text/plain": [
       "[1] 46"
      ]
     },
     "metadata": {},
     "output_type": "display_data"
    },
    {
     "data": {
      "text/html": [
       "46"
      ],
      "text/latex": [
       "46"
      ],
      "text/markdown": [
       "46"
      ],
      "text/plain": [
       "[1] 46"
      ]
     },
     "metadata": {},
     "output_type": "display_data"
    }
   ],
   "source": [
    "# Since we want to see the histogram for each of the drugs to get the Poisson-based filtering,\n",
    "# we prepare the data to be iterated as it was produced.\n",
    "length(JHOS2_pseudo)\n",
    "length(PDC2_pseudo)\n",
    "length(PDC3_pseudo)\n",
    "\n",
    "# For convenience, we set the names as the drugs of reference\n",
    "# We expect to have the same drugs and in the same order, but just to make sure, we extract them individually everytime\n",
    "names_JHOS2 <- unique(sapply(JHOS2_pseudo, function(x) strsplit(x = colnames(x), split = \"_\")[[1]][2]))\n",
    "names_PDC2 <- unique(sapply(PDC2_pseudo, function(x) strsplit(x = colnames(x), split = \"_\")[[1]][2]))\n",
    "names_PDC3 <- unique(sapply(PDC3_pseudo, function(x) strsplit(x = colnames(x), split = \"_\")[[1]][2]))            \n",
    "\n",
    "names_JHOS2 == names_PDC2\n",
    "names_PDC2 == names_PDC3 \n",
    "# Anyway, they were the same.\n",
    "\n",
    "length(names_JHOS2)\n",
    "length(names_PDC2)\n",
    "length(names_PDC3)"
   ]
  },
  {
   "cell_type": "markdown",
   "id": "13b2af43",
   "metadata": {},
   "source": [
    "Putting the drug names as element names in each list to ease iteration and downstream analyses. We confirmed above that the names would have been the same"
   ]
  },
  {
   "cell_type": "code",
   "execution_count": 4,
   "id": "3ff20b45",
   "metadata": {
    "vscode": {
     "languageId": "r"
    }
   },
   "outputs": [],
   "source": [
    "drug_names <- unique(sapply(JHOS2_pseudo, function(x) strsplit(x = colnames(x), split = \"_\")[[1]][2]))\n",
    "names(JHOS2_pseudo) <- names(PDC2_pseudo) <- names(PDC3_pseudo) <- drug_names"
   ]
  },
  {
   "cell_type": "markdown",
   "id": "d1b215fb",
   "metadata": {},
   "source": [
    "Now we can iterate in them. The first element is always DMSO, and we store it. Also, it is the biggest one."
   ]
  },
  {
   "cell_type": "code",
   "execution_count": 5,
   "id": "c7f16a73",
   "metadata": {
    "vscode": {
     "languageId": "r"
    }
   },
   "outputs": [],
   "source": [
    "JHOS2_pseudo_DMSO <- JHOS2_pseudo$DMSO\n",
    "PDC2_pseudo_DMSO <- PDC2_pseudo$DMSO\n",
    "PDC3_pseudo_DMSO <- PDC3_pseudo$DMSO"
   ]
  },
  {
   "cell_type": "markdown",
   "id": "198b5106",
   "metadata": {},
   "source": [
    "Function for differential expression analysis"
   ]
  },
  {
   "cell_type": "code",
   "execution_count": 6,
   "id": "91246bd6",
   "metadata": {
    "vscode": {
     "languageId": "r"
    }
   },
   "outputs": [],
   "source": [
    "edgeR_diffExpress_PBRs <- function(control_dataset, drug_dataset, drug){\n",
    "    \n",
    "    # Binding control and drug dataset\n",
    "    dataset <- cbind(control_dataset, drug_dataset) \n",
    "    \n",
    "    # Groups identification\n",
    "    groups <- sapply(colnames(dataset), function(x) strsplit(x = x, split = \"_\")[[1]][2]) \n",
    "                     \n",
    "    # Instead of the drug name, we will put \"Treatment\" to make the function generalizable\n",
    "    groups[groups != \"DMSO\"] <- \"Treatment\" \n",
    "    groups[groups == \"DMSO\"] <- \"Control\"                 \n",
    "    groups <- factor(groups, levels = c(\"Control\", \"Treatment\")) # Needs to be fixed to DMSO and drug\n",
    "    \n",
    "    # Creating a DGE list object                 \n",
    "    dge_obj <- DGEList(counts = dataset, group = groups, remove.zeros = TRUE) \n",
    "                     \n",
    "    # Average log CPM to perform filterings based on the previous histograms                 \n",
    "    avglogCPM <- aveLogCPM(dge_obj)          \n",
    "    keep <- (avglogCPM > 1)\n",
    "    dge_obj_filtered <- dge_obj[keep, ]\n",
    "                     \n",
    "    # Normalization                 \n",
    "    dge_obj_filtered <- calcNormFactors(dge_obj_filtered)\n",
    "                                 \n",
    "    # Preparing the design matrix and estimating the NB dispersions               \n",
    "    design <- model.matrix(~0 + groups)\n",
    "    colnames(design) <- levels(groups)\n",
    "    dge_obj_filtered <- estimateDisp(dge_obj_filtered, design = design, robust = TRUE)\n",
    "    \n",
    "    # Fitting the model\n",
    "    fit <- glmQLFit(dge_obj_filtered, design = design)\n",
    "                     \n",
    "    # Running the test, specifying the comparison\n",
    "    # Positive logFC = higher in treatment\n",
    "    qlf <- glmQLFTest(fit, contrast = makeContrasts(DrugVsDMSO = Treatment - Control, levels = design)) \n",
    "                     \n",
    "    # Return results, BH p-value adjustment                 \n",
    "    tt <- topTags(qlf, n = Inf)\n",
    "    return(tt$table)\n",
    "}"
   ]
  },
  {
   "cell_type": "markdown",
   "id": "0475175b",
   "metadata": {},
   "source": [
    "Differential expression, 4 cores max as RAM goes high fast and we are running other analyses in parallel on the same cluster"
   ]
  },
  {
   "cell_type": "code",
   "execution_count": 7,
   "id": "eb76acd5",
   "metadata": {
    "vscode": {
     "languageId": "r"
    }
   },
   "outputs": [],
   "source": [
    "JHOS2_diffexpress <- mclapply(X = drug_names[-1], function(x) edgeR_diffExpress_PBRs(JHOS2_pseudo_DMSO, JHOS2_pseudo[[x]], x), \n",
    "                        mc.cores = 4)\n",
    "names(JHOS2_diffexpress) <- drug_names[-1]\n",
    "saveRDS(object = JHOS2_diffexpress, file = \"JHOS2_PBRs_diffexpress_100replicates.RDS\")"
   ]
  },
  {
   "cell_type": "code",
   "execution_count": 8,
   "id": "61722d7d",
   "metadata": {
    "vscode": {
     "languageId": "r"
    }
   },
   "outputs": [],
   "source": [
    "PDC2_diffexpress <- mclapply(X = drug_names[-1], function(x) edgeR_diffExpress_PBRs(PDC2_pseudo_DMSO, PDC2_pseudo[[x]], x), \n",
    "                        mc.cores = 4)\n",
    "names(PDC2_diffexpress) <- drug_names[-1]\n",
    "saveRDS(object = PDC2_diffexpress, file = \"PDC2_PBRs_diffexpress_100replicates.RDS\")"
   ]
  },
  {
   "cell_type": "code",
   "execution_count": 9,
   "id": "a5dcb0cf",
   "metadata": {
    "vscode": {
     "languageId": "r"
    }
   },
   "outputs": [],
   "source": [
    "PDC3_diffexpress <- mclapply(X = drug_names[-1], function(x) edgeR_diffExpress_PBRs(PDC3_pseudo_DMSO, PDC3_pseudo[[x]], x), \n",
    "                        mc.cores = 4)\n",
    "names(PDC3_diffexpress) <- drug_names[-1]\n",
    "saveRDS(object = PDC3_diffexpress, file = \"PDC3_PBRs_diffexpress_100replicates.RDS\")"
   ]
  },
  {
   "cell_type": "code",
   "execution_count": 10,
   "id": "9136402d",
   "metadata": {
    "vscode": {
     "languageId": "r"
    }
   },
   "outputs": [
    {
     "data": {
      "text/plain": [
       "R version 4.2.2 (2022-10-31)\n",
       "Platform: x86_64-conda-linux-gnu (64-bit)\n",
       "Running under: Rocky Linux 8.8 (Green Obsidian)\n",
       "\n",
       "Matrix products: default\n",
       "BLAS/LAPACK: /homedir01/adini22/.conda/envs/cellhashing_analyses/lib/libopenblasp-r0.3.21.so\n",
       "\n",
       "locale:\n",
       " [1] LC_CTYPE=en_US.UTF-8       LC_NUMERIC=C              \n",
       " [3] LC_TIME=en_US.UTF-8        LC_COLLATE=en_US.UTF-8    \n",
       " [5] LC_MONETARY=en_US.UTF-8    LC_MESSAGES=en_US.UTF-8   \n",
       " [7] LC_PAPER=en_US.UTF-8       LC_NAME=C                 \n",
       " [9] LC_ADDRESS=C               LC_TELEPHONE=C            \n",
       "[11] LC_MEASUREMENT=en_US.UTF-8 LC_IDENTIFICATION=C       \n",
       "\n",
       "attached base packages:\n",
       "[1] parallel  stats     graphics  grDevices utils     datasets  methods  \n",
       "[8] base     \n",
       "\n",
       "other attached packages:\n",
       "[1] edgeR_3.40.2 limma_3.54.2\n",
       "\n",
       "loaded via a namespace (and not attached):\n",
       " [1] Rcpp_1.0.10     uuid_1.1-0      lattice_0.20-45 rlang_1.1.0    \n",
       " [5] fastmap_1.1.1   fansi_1.0.4     tools_4.2.2     grid_4.2.2     \n",
       " [9] utf8_1.2.3      cli_3.6.0       htmltools_0.5.4 digest_0.6.31  \n",
       "[13] lifecycle_1.0.3 crayon_1.5.2    IRdisplay_1.1   repr_1.1.5     \n",
       "[17] base64enc_0.1-3 vctrs_0.5.1     IRkernel_1.3.1  glue_1.6.2     \n",
       "[21] evaluate_0.20   pbdZMQ_0.3-8    compiler_4.2.2  pillar_1.9.0   \n",
       "[25] locfit_1.5-9.7  jsonlite_1.8.4 "
      ]
     },
     "metadata": {},
     "output_type": "display_data"
    }
   ],
   "source": [
    "sessionInfo()"
   ]
  }
 ],
 "metadata": {
  "kernelspec": {
   "display_name": "R",
   "language": "R",
   "name": "ir"
  },
  "language_info": {
   "codemirror_mode": "r",
   "file_extension": ".r",
   "mimetype": "text/x-r-source",
   "name": "R",
   "pygments_lexer": "r",
   "version": "4.2.2"
  }
 },
 "nbformat": 4,
 "nbformat_minor": 5
}
