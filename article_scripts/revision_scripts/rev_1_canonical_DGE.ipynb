{
 "cells": [
  {
   "cell_type": "markdown",
   "id": "5507f2c7",
   "metadata": {},
   "source": [
    "# Differential expression analysis by subsetting, re-normalizing and variance stabilizing the dataset, then performing Wilcoxon test"
   ]
  },
  {
   "cell_type": "code",
   "execution_count": 1,
   "id": "57729f0a",
   "metadata": {
    "vscode": {
     "languageId": "r"
    }
   },
   "outputs": [
    {
     "name": "stderr",
     "output_type": "stream",
     "text": [
      "Attaching SeuratObject\n",
      "\n",
      "Attaching SeuratObject\n",
      "\n"
     ]
    }
   ],
   "source": [
    "library(Seurat)\n",
    "library(parallel)"
   ]
  },
  {
   "cell_type": "code",
   "execution_count": 2,
   "id": "868c769b",
   "metadata": {
    "vscode": {
     "languageId": "r"
    }
   },
   "outputs": [],
   "source": [
    "hgsoc <- readRDS(\"HGSOC_CellHashing_CLUSTERED.RDS\")"
   ]
  },
  {
   "cell_type": "code",
   "execution_count": 3,
   "id": "dbfef4f4",
   "metadata": {
    "vscode": {
     "languageId": "r"
    }
   },
   "outputs": [],
   "source": [
    "PDC2 <- subset(hgsoc, subset = model == \"PDC2\")\n",
    "PDC3 <- subset(hgsoc, subset = model == \"PDC3\")\n",
    "JHOS2 <- subset(hgsoc, subset = model == \"JHOS2\")"
   ]
  },
  {
   "cell_type": "code",
   "execution_count": 4,
   "id": "83cb44ca",
   "metadata": {
    "vscode": {
     "languageId": "r"
    }
   },
   "outputs": [],
   "source": [
    "drug_sub_dge <- function(d, seurat_object){\n",
    "        \n",
    "        # Subsetting cells\n",
    "        sub_drug_DMSO <- subset(x = seurat_object, subset = Treatment_group == d | Treatment_group == \"DMSO\")\n",
    "\n",
    "        # Re-launching on the RNA assay, as default\n",
    "        sub_drug_DMSO <- SCTransform(sub_drug_DMSO,\n",
    "                                    vars.to.regress = c(\"percent.rb\", \n",
    "                                                        \"percent.mt\", \n",
    "                                                        \"nFeature_RNA\", \n",
    "                                                        \"nCount_RNA\",\n",
    "                                                        \"S.Score\", \n",
    "                                                        \"G2M.Score\"),  \n",
    "                                    method = \"glmGamPoi\",\n",
    "                                    return.only.var.genes = FALSE, \n",
    "                                    variable.features.n = 2000,\n",
    "                                    vst.flavor = \"v2\", verbose = FALSE)\n",
    "        \n",
    "        # They will come from the same batch so no integration needed\n",
    "        DefaultAssay(sub_drug_DMSO) <- \"SCT\"\n",
    "        Idents(sub_drug_DMSO) <- \"Treatment_group\"\n",
    "        dge_df <- FindMarkers(object = sub_drug_DMSO, \n",
    "                              verbose = TRUE,\n",
    "                              ident.1 = d, ident.2 = \"DMSO\",\n",
    "                              assay = \"SCT\", \n",
    "                              slot = \"data\", \n",
    "                              method = \"wilcox\") # Choosing wilcoxon test\n",
    "        dge_df$drug <- d\n",
    "        dge_df$gene <- rownames(dge_df)\n",
    "        return(dge_df)\n",
    "}"
   ]
  },
  {
   "cell_type": "code",
   "execution_count": 5,
   "id": "d805c13f",
   "metadata": {
    "vscode": {
     "languageId": "r"
    }
   },
   "outputs": [],
   "source": [
    "drug_list <- unique(hgsoc@meta.data$Treatment_group)[-which(unique(hgsoc@meta.data$Treatment_group) == \"DMSO\")]"
   ]
  },
  {
   "cell_type": "code",
   "execution_count": 6,
   "id": "0387ddfd",
   "metadata": {
    "vscode": {
     "languageId": "r"
    }
   },
   "outputs": [],
   "source": [
    "PDC2_dge <- mclapply(drug_list, function(x) drug_sub_dge(x, PDC2), mc.cores = 10)\n",
    "names(PDC2_dge) <- drug_list"
   ]
  },
  {
   "cell_type": "code",
   "execution_count": 7,
   "id": "0d4957f3",
   "metadata": {
    "vscode": {
     "languageId": "r"
    }
   },
   "outputs": [],
   "source": [
    "JHOS2_dge <- mclapply(drug_list, function(x) drug_sub_dge(x, JHOS2), mc.cores = 10)\n",
    "names(JHOS2_dge) <- drug_list"
   ]
  },
  {
   "cell_type": "code",
   "execution_count": 8,
   "id": "c1f255c0",
   "metadata": {
    "vscode": {
     "languageId": "r"
    }
   },
   "outputs": [],
   "source": [
    "PDC3_dge <- mclapply(drug_list, function(x) drug_sub_dge(x, PDC3), mc.cores = 10)\n",
    "names(PDC3_dge) <- drug_list"
   ]
  },
  {
   "cell_type": "code",
   "execution_count": 9,
   "id": "5ead4cee",
   "metadata": {
    "vscode": {
     "languageId": "r"
    }
   },
   "outputs": [],
   "source": [
    "saveRDS(object = PDC2_dge, file = \"PDC2_drugs_treated_vs_untreated_REVISION_SUBSET_WILCOX.RDS\")\n",
    "saveRDS(object = PDC3_dge, file = \"PDC3_drugs_treated_vs_untreated_REVISION_SUBSET_WILCOX.RDS\")\n",
    "saveRDS(object = JHOS2_dge, file = \"JHOS2_drugs_treated_vs_untreated_REVISION_SUBSET_WILCOX.RDS\")"
   ]
  },
  {
   "cell_type": "code",
   "execution_count": 10,
   "id": "57e051f9",
   "metadata": {
    "vscode": {
     "languageId": "r"
    }
   },
   "outputs": [],
   "source": [
    "PDC2_dge <- do.call(what = rbind, args = PDC2_dge)\n",
    "PDC3_dge <- do.call(what = rbind, args = PDC3_dge)\n",
    "JHOS2_dge <- do.call(what = rbind, args = JHOS2_dge)"
   ]
  },
  {
   "cell_type": "code",
   "execution_count": 11,
   "id": "837c7426",
   "metadata": {
    "vscode": {
     "languageId": "r"
    }
   },
   "outputs": [],
   "source": [
    "PDC2_dge$model <- \"PDC2\"\n",
    "PDC3_dge$model <- \"PDC3\"\n",
    "JHOS2_dge$model <- \"JHOS2\""
   ]
  },
  {
   "cell_type": "code",
   "execution_count": 12,
   "id": "3ecb353b",
   "metadata": {
    "vscode": {
     "languageId": "r"
    }
   },
   "outputs": [],
   "source": [
    "write.table(x = PDC2_dge, file = \"PDC2_drugs_treated_vs_untreated_REVISION_SUBSET_WILCOX.txt\", sep = \"\\t\", quote = F)\n",
    "write.table(x = PDC3_dge, file = \"PDC3_drugs_treated_vs_untreated_REVISION_SUBSET_WILCOX.txt\", sep = \"\\t\", quote = F)\n",
    "write.table(x = JHOS2_dge, file = \"JHOS2_drugs_treated_vs_untreated_REVISION_SUBSET_WILCOX.txt\", sep = \"\\t\", quote = F)"
   ]
  },
  {
   "cell_type": "code",
   "execution_count": 13,
   "id": "032fe942",
   "metadata": {
    "vscode": {
     "languageId": "r"
    }
   },
   "outputs": [
    {
     "data": {
      "text/plain": [
       "R version 4.2.2 (2022-10-31)\n",
       "Platform: x86_64-conda-linux-gnu (64-bit)\n",
       "Running under: Rocky Linux 8.8 (Green Obsidian)\n",
       "\n",
       "Matrix products: default\n",
       "BLAS/LAPACK: /homedir01/adini22/.conda/envs/cellhashing_preprocessing/lib/libopenblasp-r0.3.21.so\n",
       "\n",
       "locale:\n",
       " [1] LC_CTYPE=en_US.UTF-8       LC_NUMERIC=C              \n",
       " [3] LC_TIME=en_US.UTF-8        LC_COLLATE=en_US.UTF-8    \n",
       " [5] LC_MONETARY=en_US.UTF-8    LC_MESSAGES=en_US.UTF-8   \n",
       " [7] LC_PAPER=en_US.UTF-8       LC_NAME=C                 \n",
       " [9] LC_ADDRESS=C               LC_TELEPHONE=C            \n",
       "[11] LC_MEASUREMENT=en_US.UTF-8 LC_IDENTIFICATION=C       \n",
       "\n",
       "attached base packages:\n",
       "[1] parallel  stats     graphics  grDevices utils     datasets  methods  \n",
       "[8] base     \n",
       "\n",
       "other attached packages:\n",
       "[1] SeuratObject_4.1.3 Seurat_4.3.0.9001 \n",
       "\n",
       "loaded via a namespace (and not attached):\n",
       "  [1] nlme_3.1-162           spatstat.sparse_3.0-0  matrixStats_0.62.0    \n",
       "  [4] RcppAnnoy_0.0.20       RColorBrewer_1.1-3     httr_1.4.4            \n",
       "  [7] repr_1.1.4             sctransform_0.3.5      tools_4.2.2           \n",
       " [10] utf8_1.2.3             R6_2.5.1               irlba_2.3.5.1         \n",
       " [13] KernSmooth_2.23-20     uwot_0.1.14            lazyeval_0.2.2        \n",
       " [16] colorspace_2.1-0       sp_1.5-1               gridExtra_2.3         \n",
       " [19] tidyselect_1.2.0       compiler_4.2.2         progressr_0.13.0      \n",
       " [22] cli_3.6.1              spatstat.explore_3.0-5 plotly_4.10.1         \n",
       " [25] scales_1.2.1           spatstat.data_3.0-0    lmtest_0.9-40         \n",
       " [28] ggridges_0.5.4         pbapply_1.7-0          goftest_1.2-3         \n",
       " [31] stringr_1.5.0          pbdZMQ_0.3-7           digest_0.6.31         \n",
       " [34] spatstat.utils_3.0-1   base64enc_0.1-3        pkgconfig_2.0.3       \n",
       " [37] htmltools_0.5.4        parallelly_1.34.0      fastmap_1.1.0         \n",
       " [40] htmlwidgets_1.6.1      rlang_1.1.1            shiny_1.7.4           \n",
       " [43] generics_0.1.3         zoo_1.8-11             jsonlite_1.8.4        \n",
       " [46] spatstat.random_3.0-1  ica_1.0-3              dplyr_1.1.2           \n",
       " [49] magrittr_2.0.3         patchwork_1.1.2        Matrix_1.5-4          \n",
       " [52] Rcpp_1.0.10            IRkernel_1.3           munsell_0.5.0         \n",
       " [55] fansi_1.0.4            abind_1.4-5            reticulate_1.25       \n",
       " [58] lifecycle_1.0.3        stringi_1.7.12         MASS_7.3-60           \n",
       " [61] Rtsne_0.16             plyr_1.8.8             grid_4.2.2            \n",
       " [64] listenv_0.9.0          promises_1.2.0.1       ggrepel_0.9.2         \n",
       " [67] crayon_1.5.2           deldir_1.0-6           miniUI_0.1.1.1        \n",
       " [70] lattice_0.21-8         IRdisplay_1.1          cowplot_1.1.1         \n",
       " [73] splines_4.2.2          tensor_1.5             pillar_1.9.0          \n",
       " [76] igraph_1.4.2           uuid_1.1-0             spatstat.geom_3.0-3   \n",
       " [79] future.apply_1.10.0    reshape2_1.4.4         codetools_0.2-18      \n",
       " [82] leiden_0.4.3           glue_1.6.2             evaluate_0.19         \n",
       " [85] data.table_1.14.6      png_0.1-8              vctrs_0.6.2           \n",
       " [88] httpuv_1.6.8           polyclip_1.10-4        gtable_0.3.3          \n",
       " [91] RANN_2.6.1             purrr_1.0.1            tidyr_1.3.0           \n",
       " [94] scattermore_0.8        future_1.30.0          ggplot2_3.4.2         \n",
       " [97] mime_0.12              xtable_1.8-4           later_1.3.0           \n",
       "[100] survival_3.5-0         viridisLite_0.4.2      tibble_3.2.1          \n",
       "[103] cluster_2.1.4          globals_0.16.2         fitdistrplus_1.1-8    \n",
       "[106] ellipsis_0.3.2         ROCR_1.0-11           "
      ]
     },
     "metadata": {},
     "output_type": "display_data"
    },
    {
     "data": {
      "text/plain": [
       "R version 4.2.2 (2022-10-31)\n",
       "Platform: x86_64-conda-linux-gnu (64-bit)\n",
       "Running under: Rocky Linux 8.8 (Green Obsidian)\n",
       "\n",
       "Matrix products: default\n",
       "BLAS/LAPACK: /homedir01/adini22/.conda/envs/cellhashing_preprocessing/lib/libopenblasp-r0.3.21.so\n",
       "\n",
       "locale:\n",
       " [1] LC_CTYPE=en_US.UTF-8       LC_NUMERIC=C              \n",
       " [3] LC_TIME=en_US.UTF-8        LC_COLLATE=en_US.UTF-8    \n",
       " [5] LC_MONETARY=en_US.UTF-8    LC_MESSAGES=en_US.UTF-8   \n",
       " [7] LC_PAPER=en_US.UTF-8       LC_NAME=C                 \n",
       " [9] LC_ADDRESS=C               LC_TELEPHONE=C            \n",
       "[11] LC_MEASUREMENT=en_US.UTF-8 LC_IDENTIFICATION=C       \n",
       "\n",
       "attached base packages:\n",
       "[1] parallel  stats     graphics  grDevices utils     datasets  methods  \n",
       "[8] base     \n",
       "\n",
       "other attached packages:\n",
       "[1] SeuratObject_4.1.3 Seurat_4.3.0.9001 \n",
       "\n",
       "loaded via a namespace (and not attached):\n",
       "  [1] nlme_3.1-162           spatstat.sparse_3.0-0  matrixStats_0.62.0    \n",
       "  [4] RcppAnnoy_0.0.20       RColorBrewer_1.1-3     httr_1.4.4            \n",
       "  [7] repr_1.1.4             sctransform_0.3.5      tools_4.2.2           \n",
       " [10] utf8_1.2.3             R6_2.5.1               irlba_2.3.5.1         \n",
       " [13] KernSmooth_2.23-20     uwot_0.1.14            lazyeval_0.2.2        \n",
       " [16] colorspace_2.1-0       sp_1.5-1               gridExtra_2.3         \n",
       " [19] tidyselect_1.2.0       compiler_4.2.2         progressr_0.13.0      \n",
       " [22] cli_3.6.1              spatstat.explore_3.0-5 plotly_4.10.1         \n",
       " [25] scales_1.2.1           spatstat.data_3.0-0    lmtest_0.9-40         \n",
       " [28] ggridges_0.5.4         pbapply_1.7-0          goftest_1.2-3         \n",
       " [31] stringr_1.5.0          pbdZMQ_0.3-7           digest_0.6.31         \n",
       " [34] spatstat.utils_3.0-1   base64enc_0.1-3        pkgconfig_2.0.3       \n",
       " [37] htmltools_0.5.4        parallelly_1.34.0      fastmap_1.1.0         \n",
       " [40] htmlwidgets_1.6.1      rlang_1.1.1            shiny_1.7.4           \n",
       " [43] generics_0.1.3         zoo_1.8-11             jsonlite_1.8.4        \n",
       " [46] spatstat.random_3.0-1  ica_1.0-3              dplyr_1.1.2           \n",
       " [49] magrittr_2.0.3         patchwork_1.1.2        Matrix_1.5-4          \n",
       " [52] Rcpp_1.0.10            IRkernel_1.3           munsell_0.5.0         \n",
       " [55] fansi_1.0.4            abind_1.4-5            reticulate_1.25       \n",
       " [58] lifecycle_1.0.3        stringi_1.7.12         MASS_7.3-60           \n",
       " [61] Rtsne_0.16             plyr_1.8.8             grid_4.2.2            \n",
       " [64] listenv_0.9.0          promises_1.2.0.1       ggrepel_0.9.2         \n",
       " [67] crayon_1.5.2           deldir_1.0-6           miniUI_0.1.1.1        \n",
       " [70] lattice_0.21-8         IRdisplay_1.1          cowplot_1.1.1         \n",
       " [73] splines_4.2.2          tensor_1.5             pillar_1.9.0          \n",
       " [76] igraph_1.4.2           uuid_1.1-0             spatstat.geom_3.0-3   \n",
       " [79] future.apply_1.10.0    reshape2_1.4.4         codetools_0.2-18      \n",
       " [82] leiden_0.4.3           glue_1.6.2             evaluate_0.19         \n",
       " [85] data.table_1.14.6      png_0.1-8              vctrs_0.6.2           \n",
       " [88] httpuv_1.6.8           polyclip_1.10-4        gtable_0.3.3          \n",
       " [91] RANN_2.6.1             purrr_1.0.1            tidyr_1.3.0           \n",
       " [94] scattermore_0.8        future_1.30.0          ggplot2_3.4.2         \n",
       " [97] mime_0.12              xtable_1.8-4           later_1.3.0           \n",
       "[100] survival_3.5-0         viridisLite_0.4.2      tibble_3.2.1          \n",
       "[103] cluster_2.1.4          globals_0.16.2         fitdistrplus_1.1-8    \n",
       "[106] ellipsis_0.3.2         ROCR_1.0-11           "
      ]
     },
     "metadata": {},
     "output_type": "display_data"
    }
   ],
   "source": [
    "sessionInfo()"
   ]
  }
 ],
 "metadata": {
  "kernelspec": {
   "display_name": "R",
   "language": "R",
   "name": "ir"
  },
  "language_info": {
   "codemirror_mode": "r",
   "file_extension": ".r",
   "mimetype": "text/x-r-source",
   "name": "R",
   "pygments_lexer": "r",
   "version": "4.2.2"
  }
 },
 "nbformat": 4,
 "nbformat_minor": 5
}
