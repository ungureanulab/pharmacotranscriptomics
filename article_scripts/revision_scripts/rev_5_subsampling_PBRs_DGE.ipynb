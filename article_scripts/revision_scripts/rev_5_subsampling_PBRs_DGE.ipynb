{
 "cells": [
  {
   "cell_type": "markdown",
   "id": "4057600f",
   "metadata": {},
   "source": [
    "# Performing differential expression analysis between treatment group and DMSO from  subsampled data without replacement"
   ]
  },
  {
   "cell_type": "code",
   "execution_count": 1,
   "id": "fdcea0a1",
   "metadata": {
    "vscode": {
     "languageId": "r"
    }
   },
   "outputs": [
    {
     "name": "stderr",
     "output_type": "stream",
     "text": [
      "Loading required package: limma\n",
      "\n"
     ]
    }
   ],
   "source": [
    "library(edgeR)\n",
    "library(parallel)"
   ]
  },
  {
   "cell_type": "markdown",
   "id": "3850fa6c",
   "metadata": {},
   "source": [
    "Loading data: these objects are a list previously produced and containing as elements matrices with pseudobulk replicates obtained via bootstrapping"
   ]
  },
  {
   "cell_type": "code",
   "execution_count": 2,
   "id": "d0e90565",
   "metadata": {
    "vscode": {
     "languageId": "r"
    }
   },
   "outputs": [],
   "source": [
    "JHOS2_pseudo <- readRDS(\"JHOS2_pseudobulk_subsampled_REVIEW.RDS\")\n",
    "PDC2_pseudo <- readRDS(\"PDC2_pseudobulk_subsampled_REVIEW.RDS\")\n",
    "PDC3_pseudo <- readRDS(\"PDC3_pseudobulk_subsampled_REVIEW.RDS\")"
   ]
  },
  {
   "cell_type": "code",
   "execution_count": 3,
   "id": "fb5803ff",
   "metadata": {
    "vscode": {
     "languageId": "r"
    }
   },
   "outputs": [
    {
     "data": {
      "text/html": [
       "<style>\n",
       ".dl-inline {width: auto; margin:0; padding: 0}\n",
       ".dl-inline>dt, .dl-inline>dd {float: none; width: auto; display: inline-block}\n",
       ".dl-inline>dt::after {content: \":\\0020\"; padding-right: .5ex}\n",
       ".dl-inline>dt:not(:first-of-type) {padding-left: .5ex}\n",
       "</style><dl class=dl-inline><dt>AR-42</dt><dd>17</dd><dt>AT 101</dt><dd>6</dd><dt>AT9283</dt><dd>28</dd><dt>AZD-8186</dt><dd>17</dd><dt>AZD8055</dt><dd>33</dd><dt>Belinostat</dt><dd>28</dd><dt>BI 2536</dt><dd>28</dd><dt>Birabresib</dt><dd>30</dd><dt>Birinapant</dt><dd>22</dd><dt>BMS-754807</dt><dd>28</dd><dt>Buparlisib</dt><dd>28</dd><dt>Cobimetinib</dt><dd>32</dd><dt>Copanlisib</dt><dd>28</dd><dt>Dactolisib</dt><dd>33</dd><dt>Danusertib</dt><dd>25</dd><dt>Dasatinib</dt><dd>33</dd><dt>Dinaciclib</dt><dd>27</dd><dt>DMSO</dt><dd>83</dd><dt>ENMD-2076</dt><dd>27</dd><dt>Fedratinib</dt><dd>27</dd><dt>Gedatolisib</dt><dd>33</dd><dt>I-BET151</dt><dd>27</dd><dt>Ipatasertib</dt><dd>29</dd><dt>JQ1</dt><dd>22</dd><dt>LY3009120</dt><dd>17</dd><dt>Milciclib</dt><dd>29</dd><dt>Niraparib</dt><dd>30</dd><dt>NVP-BGT226</dt><dd>36</dd><dt>NVP-LCL161</dt><dd>26</dd><dt>OTS167</dt><dd>29</dd><dt>Pacritinib</dt><dd>25</dd><dt>PD0325901</dt><dd>30</dd><dt>PF-00477736</dt><dd>26</dd><dt>PF-03758309</dt><dd>24</dd><dt>Pictilisib</dt><dd>29</dd><dt>Pracinostat</dt><dd>28</dd><dt>Quisinostat</dt><dd>30</dd><dt>Ralimetinib</dt><dd>33</dd><dt>SCH772984</dt><dd>29</dd><dt>Selinexor</dt><dd>32</dd><dt>SNS-032</dt><dd>32</dd><dt>Talazoparib</dt><dd>26</dd><dt>TGX-221</dt><dd>28</dd><dt>UCN-01</dt><dd>29</dd><dt>Volasertib</dt><dd>26</dd><dt>ZSTK474</dt><dd>31</dd></dl>\n"
      ],
      "text/latex": [
       "\\begin{description*}\n",
       "\\item[AR-42] 17\n",
       "\\item[AT 101] 6\n",
       "\\item[AT9283] 28\n",
       "\\item[AZD-8186] 17\n",
       "\\item[AZD8055] 33\n",
       "\\item[Belinostat] 28\n",
       "\\item[BI 2536] 28\n",
       "\\item[Birabresib] 30\n",
       "\\item[Birinapant] 22\n",
       "\\item[BMS-754807] 28\n",
       "\\item[Buparlisib] 28\n",
       "\\item[Cobimetinib] 32\n",
       "\\item[Copanlisib] 28\n",
       "\\item[Dactolisib] 33\n",
       "\\item[Danusertib] 25\n",
       "\\item[Dasatinib] 33\n",
       "\\item[Dinaciclib] 27\n",
       "\\item[DMSO] 83\n",
       "\\item[ENMD-2076] 27\n",
       "\\item[Fedratinib] 27\n",
       "\\item[Gedatolisib] 33\n",
       "\\item[I-BET151] 27\n",
       "\\item[Ipatasertib] 29\n",
       "\\item[JQ1] 22\n",
       "\\item[LY3009120] 17\n",
       "\\item[Milciclib] 29\n",
       "\\item[Niraparib] 30\n",
       "\\item[NVP-BGT226] 36\n",
       "\\item[NVP-LCL161] 26\n",
       "\\item[OTS167] 29\n",
       "\\item[Pacritinib] 25\n",
       "\\item[PD0325901] 30\n",
       "\\item[PF-00477736] 26\n",
       "\\item[PF-03758309] 24\n",
       "\\item[Pictilisib] 29\n",
       "\\item[Pracinostat] 28\n",
       "\\item[Quisinostat] 30\n",
       "\\item[Ralimetinib] 33\n",
       "\\item[SCH772984] 29\n",
       "\\item[Selinexor] 32\n",
       "\\item[SNS-032] 32\n",
       "\\item[Talazoparib] 26\n",
       "\\item[TGX-221] 28\n",
       "\\item[UCN-01] 29\n",
       "\\item[Volasertib] 26\n",
       "\\item[ZSTK474] 31\n",
       "\\end{description*}\n"
      ],
      "text/markdown": [
       "AR-42\n",
       ":   17AT 101\n",
       ":   6AT9283\n",
       ":   28AZD-8186\n",
       ":   17AZD8055\n",
       ":   33Belinostat\n",
       ":   28BI 2536\n",
       ":   28Birabresib\n",
       ":   30Birinapant\n",
       ":   22BMS-754807\n",
       ":   28Buparlisib\n",
       ":   28Cobimetinib\n",
       ":   32Copanlisib\n",
       ":   28Dactolisib\n",
       ":   33Danusertib\n",
       ":   25Dasatinib\n",
       ":   33Dinaciclib\n",
       ":   27DMSO\n",
       ":   83ENMD-2076\n",
       ":   27Fedratinib\n",
       ":   27Gedatolisib\n",
       ":   33I-BET151\n",
       ":   27Ipatasertib\n",
       ":   29JQ1\n",
       ":   22LY3009120\n",
       ":   17Milciclib\n",
       ":   29Niraparib\n",
       ":   30NVP-BGT226\n",
       ":   36NVP-LCL161\n",
       ":   26OTS167\n",
       ":   29Pacritinib\n",
       ":   25PD0325901\n",
       ":   30PF-00477736\n",
       ":   26PF-03758309\n",
       ":   24Pictilisib\n",
       ":   29Pracinostat\n",
       ":   28Quisinostat\n",
       ":   30Ralimetinib\n",
       ":   33SCH772984\n",
       ":   29Selinexor\n",
       ":   32SNS-032\n",
       ":   32Talazoparib\n",
       ":   26TGX-221\n",
       ":   28UCN-01\n",
       ":   29Volasertib\n",
       ":   26ZSTK474\n",
       ":   31\n",
       "\n"
      ],
      "text/plain": [
       "      AR-42      AT 101      AT9283    AZD-8186     AZD8055  Belinostat \n",
       "         17           6          28          17          33          28 \n",
       "    BI 2536  Birabresib  Birinapant  BMS-754807  Buparlisib Cobimetinib \n",
       "         28          30          22          28          28          32 \n",
       " Copanlisib  Dactolisib  Danusertib   Dasatinib  Dinaciclib        DMSO \n",
       "         28          33          25          33          27          83 \n",
       "  ENMD-2076  Fedratinib Gedatolisib    I-BET151 Ipatasertib         JQ1 \n",
       "         27          27          33          27          29          22 \n",
       "  LY3009120   Milciclib   Niraparib  NVP-BGT226  NVP-LCL161      OTS167 \n",
       "         17          29          30          36          26          29 \n",
       " Pacritinib   PD0325901 PF-00477736 PF-03758309  Pictilisib Pracinostat \n",
       "         25          30          26          24          29          28 \n",
       "Quisinostat Ralimetinib   SCH772984   Selinexor     SNS-032 Talazoparib \n",
       "         30          33          29          32          32          26 \n",
       "    TGX-221      UCN-01  Volasertib     ZSTK474 \n",
       "         28          29          26          31 "
      ]
     },
     "metadata": {},
     "output_type": "display_data"
    },
    {
     "data": {
      "text/html": [
       "<style>\n",
       ".dl-inline {width: auto; margin:0; padding: 0}\n",
       ".dl-inline>dt, .dl-inline>dd {float: none; width: auto; display: inline-block}\n",
       ".dl-inline>dt::after {content: \":\\0020\"; padding-right: .5ex}\n",
       ".dl-inline>dt:not(:first-of-type) {padding-left: .5ex}\n",
       "</style><dl class=dl-inline><dt>AR-42</dt><dd>15</dd><dt>AT 101</dt><dd>12</dd><dt>AT9283</dt><dd>18</dd><dt>AZD-8186</dt><dd>23</dd><dt>AZD8055</dt><dd>26</dd><dt>Belinostat</dt><dd>19</dd><dt>BI 2536</dt><dd>24</dd><dt>Birabresib</dt><dd>27</dd><dt>Birinapant</dt><dd>27</dd><dt>BMS-754807</dt><dd>15</dd><dt>Buparlisib</dt><dd>23</dd><dt>Cobimetinib</dt><dd>34</dd><dt>Copanlisib</dt><dd>25</dd><dt>Dactolisib</dt><dd>32</dd><dt>Danusertib</dt><dd>14</dd><dt>Dasatinib</dt><dd>16</dd><dt>Dinaciclib</dt><dd>21</dd><dt>DMSO</dt><dd>89</dd><dt>ENMD-2076</dt><dd>12</dd><dt>Fedratinib</dt><dd>22</dd><dt>Gedatolisib</dt><dd>24</dd><dt>I-BET151</dt><dd>19</dd><dt>Ipatasertib</dt><dd>34</dd><dt>JQ1</dt><dd>25</dd><dt>LY3009120</dt><dd>17</dd><dt>Milciclib</dt><dd>24</dd><dt>Niraparib</dt><dd>33</dd><dt>NVP-BGT226</dt><dd>25</dd><dt>NVP-LCL161</dt><dd>28</dd><dt>OTS167</dt><dd>21</dd><dt>Pacritinib</dt><dd>20</dd><dt>PD0325901</dt><dd>27</dd><dt>PF-00477736</dt><dd>25</dd><dt>PF-03758309</dt><dd>21</dd><dt>Pictilisib</dt><dd>22</dd><dt>Pracinostat</dt><dd>23</dd><dt>Quisinostat</dt><dd>13</dd><dt>Ralimetinib</dt><dd>28</dd><dt>SCH772984</dt><dd>24</dd><dt>Selinexor</dt><dd>18</dd><dt>SNS-032</dt><dd>23</dd><dt>Talazoparib</dt><dd>26</dd><dt>TGX-221</dt><dd>27</dd><dt>UCN-01</dt><dd>33</dd><dt>Volasertib</dt><dd>22</dd><dt>ZSTK474</dt><dd>31</dd></dl>\n"
      ],
      "text/latex": [
       "\\begin{description*}\n",
       "\\item[AR-42] 15\n",
       "\\item[AT 101] 12\n",
       "\\item[AT9283] 18\n",
       "\\item[AZD-8186] 23\n",
       "\\item[AZD8055] 26\n",
       "\\item[Belinostat] 19\n",
       "\\item[BI 2536] 24\n",
       "\\item[Birabresib] 27\n",
       "\\item[Birinapant] 27\n",
       "\\item[BMS-754807] 15\n",
       "\\item[Buparlisib] 23\n",
       "\\item[Cobimetinib] 34\n",
       "\\item[Copanlisib] 25\n",
       "\\item[Dactolisib] 32\n",
       "\\item[Danusertib] 14\n",
       "\\item[Dasatinib] 16\n",
       "\\item[Dinaciclib] 21\n",
       "\\item[DMSO] 89\n",
       "\\item[ENMD-2076] 12\n",
       "\\item[Fedratinib] 22\n",
       "\\item[Gedatolisib] 24\n",
       "\\item[I-BET151] 19\n",
       "\\item[Ipatasertib] 34\n",
       "\\item[JQ1] 25\n",
       "\\item[LY3009120] 17\n",
       "\\item[Milciclib] 24\n",
       "\\item[Niraparib] 33\n",
       "\\item[NVP-BGT226] 25\n",
       "\\item[NVP-LCL161] 28\n",
       "\\item[OTS167] 21\n",
       "\\item[Pacritinib] 20\n",
       "\\item[PD0325901] 27\n",
       "\\item[PF-00477736] 25\n",
       "\\item[PF-03758309] 21\n",
       "\\item[Pictilisib] 22\n",
       "\\item[Pracinostat] 23\n",
       "\\item[Quisinostat] 13\n",
       "\\item[Ralimetinib] 28\n",
       "\\item[SCH772984] 24\n",
       "\\item[Selinexor] 18\n",
       "\\item[SNS-032] 23\n",
       "\\item[Talazoparib] 26\n",
       "\\item[TGX-221] 27\n",
       "\\item[UCN-01] 33\n",
       "\\item[Volasertib] 22\n",
       "\\item[ZSTK474] 31\n",
       "\\end{description*}\n"
      ],
      "text/markdown": [
       "AR-42\n",
       ":   15AT 101\n",
       ":   12AT9283\n",
       ":   18AZD-8186\n",
       ":   23AZD8055\n",
       ":   26Belinostat\n",
       ":   19BI 2536\n",
       ":   24Birabresib\n",
       ":   27Birinapant\n",
       ":   27BMS-754807\n",
       ":   15Buparlisib\n",
       ":   23Cobimetinib\n",
       ":   34Copanlisib\n",
       ":   25Dactolisib\n",
       ":   32Danusertib\n",
       ":   14Dasatinib\n",
       ":   16Dinaciclib\n",
       ":   21DMSO\n",
       ":   89ENMD-2076\n",
       ":   12Fedratinib\n",
       ":   22Gedatolisib\n",
       ":   24I-BET151\n",
       ":   19Ipatasertib\n",
       ":   34JQ1\n",
       ":   25LY3009120\n",
       ":   17Milciclib\n",
       ":   24Niraparib\n",
       ":   33NVP-BGT226\n",
       ":   25NVP-LCL161\n",
       ":   28OTS167\n",
       ":   21Pacritinib\n",
       ":   20PD0325901\n",
       ":   27PF-00477736\n",
       ":   25PF-03758309\n",
       ":   21Pictilisib\n",
       ":   22Pracinostat\n",
       ":   23Quisinostat\n",
       ":   13Ralimetinib\n",
       ":   28SCH772984\n",
       ":   24Selinexor\n",
       ":   18SNS-032\n",
       ":   23Talazoparib\n",
       ":   26TGX-221\n",
       ":   27UCN-01\n",
       ":   33Volasertib\n",
       ":   22ZSTK474\n",
       ":   31\n",
       "\n"
      ],
      "text/plain": [
       "      AR-42      AT 101      AT9283    AZD-8186     AZD8055  Belinostat \n",
       "         15          12          18          23          26          19 \n",
       "    BI 2536  Birabresib  Birinapant  BMS-754807  Buparlisib Cobimetinib \n",
       "         24          27          27          15          23          34 \n",
       " Copanlisib  Dactolisib  Danusertib   Dasatinib  Dinaciclib        DMSO \n",
       "         25          32          14          16          21          89 \n",
       "  ENMD-2076  Fedratinib Gedatolisib    I-BET151 Ipatasertib         JQ1 \n",
       "         12          22          24          19          34          25 \n",
       "  LY3009120   Milciclib   Niraparib  NVP-BGT226  NVP-LCL161      OTS167 \n",
       "         17          24          33          25          28          21 \n",
       " Pacritinib   PD0325901 PF-00477736 PF-03758309  Pictilisib Pracinostat \n",
       "         20          27          25          21          22          23 \n",
       "Quisinostat Ralimetinib   SCH772984   Selinexor     SNS-032 Talazoparib \n",
       "         13          28          24          18          23          26 \n",
       "    TGX-221      UCN-01  Volasertib     ZSTK474 \n",
       "         27          33          22          31 "
      ]
     },
     "metadata": {},
     "output_type": "display_data"
    },
    {
     "data": {
      "text/html": [
       "<style>\n",
       ".dl-inline {width: auto; margin:0; padding: 0}\n",
       ".dl-inline>dt, .dl-inline>dd {float: none; width: auto; display: inline-block}\n",
       ".dl-inline>dt::after {content: \":\\0020\"; padding-right: .5ex}\n",
       ".dl-inline>dt:not(:first-of-type) {padding-left: .5ex}\n",
       "</style><dl class=dl-inline><dt>AR-42</dt><dd>26</dd><dt>AT 101</dt><dd>3</dd><dt>AT9283</dt><dd>25</dd><dt>AZD-8186</dt><dd>20</dd><dt>AZD8055</dt><dd>30</dd><dt>Belinostat</dt><dd>23</dd><dt>BI 2536</dt><dd>20</dd><dt>Birabresib</dt><dd>32</dd><dt>Birinapant</dt><dd>35</dd><dt>BMS-754807</dt><dd>23</dd><dt>Buparlisib</dt><dd>16</dd><dt>Cobimetinib</dt><dd>25</dd><dt>Copanlisib</dt><dd>25</dd><dt>Dactolisib</dt><dd>26</dd><dt>Danusertib</dt><dd>22</dd><dt>Dasatinib</dt><dd>30</dd><dt>Dinaciclib</dt><dd>22</dd><dt>DMSO</dt><dd>85</dd><dt>ENMD-2076</dt><dd>9</dd><dt>Fedratinib</dt><dd>16</dd><dt>Gedatolisib</dt><dd>38</dd><dt>I-BET151</dt><dd>30</dd><dt>Ipatasertib</dt><dd>25</dd><dt>JQ1</dt><dd>32</dd><dt>LY3009120</dt><dd>25</dd><dt>Milciclib</dt><dd>17</dd><dt>Niraparib</dt><dd>21</dd><dt>NVP-BGT226</dt><dd>20</dd><dt>NVP-LCL161</dt><dd>32</dd><dt>OTS167</dt><dd>22</dd><dt>Pacritinib</dt><dd>17</dd><dt>PD0325901</dt><dd>28</dd><dt>PF-00477736</dt><dd>21</dd><dt>PF-03758309</dt><dd>18</dd><dt>Pictilisib</dt><dd>22</dd><dt>Pracinostat</dt><dd>24</dd><dt>Quisinostat</dt><dd>28</dd><dt>Ralimetinib</dt><dd>29</dd><dt>SCH772984</dt><dd>26</dd><dt>Selinexor</dt><dd>16</dd><dt>SNS-032</dt><dd>21</dd><dt>Talazoparib</dt><dd>30</dd><dt>TGX-221</dt><dd>25</dd><dt>UCN-01</dt><dd>37</dd><dt>Volasertib</dt><dd>19</dd><dt>ZSTK474</dt><dd>32</dd></dl>\n"
      ],
      "text/latex": [
       "\\begin{description*}\n",
       "\\item[AR-42] 26\n",
       "\\item[AT 101] 3\n",
       "\\item[AT9283] 25\n",
       "\\item[AZD-8186] 20\n",
       "\\item[AZD8055] 30\n",
       "\\item[Belinostat] 23\n",
       "\\item[BI 2536] 20\n",
       "\\item[Birabresib] 32\n",
       "\\item[Birinapant] 35\n",
       "\\item[BMS-754807] 23\n",
       "\\item[Buparlisib] 16\n",
       "\\item[Cobimetinib] 25\n",
       "\\item[Copanlisib] 25\n",
       "\\item[Dactolisib] 26\n",
       "\\item[Danusertib] 22\n",
       "\\item[Dasatinib] 30\n",
       "\\item[Dinaciclib] 22\n",
       "\\item[DMSO] 85\n",
       "\\item[ENMD-2076] 9\n",
       "\\item[Fedratinib] 16\n",
       "\\item[Gedatolisib] 38\n",
       "\\item[I-BET151] 30\n",
       "\\item[Ipatasertib] 25\n",
       "\\item[JQ1] 32\n",
       "\\item[LY3009120] 25\n",
       "\\item[Milciclib] 17\n",
       "\\item[Niraparib] 21\n",
       "\\item[NVP-BGT226] 20\n",
       "\\item[NVP-LCL161] 32\n",
       "\\item[OTS167] 22\n",
       "\\item[Pacritinib] 17\n",
       "\\item[PD0325901] 28\n",
       "\\item[PF-00477736] 21\n",
       "\\item[PF-03758309] 18\n",
       "\\item[Pictilisib] 22\n",
       "\\item[Pracinostat] 24\n",
       "\\item[Quisinostat] 28\n",
       "\\item[Ralimetinib] 29\n",
       "\\item[SCH772984] 26\n",
       "\\item[Selinexor] 16\n",
       "\\item[SNS-032] 21\n",
       "\\item[Talazoparib] 30\n",
       "\\item[TGX-221] 25\n",
       "\\item[UCN-01] 37\n",
       "\\item[Volasertib] 19\n",
       "\\item[ZSTK474] 32\n",
       "\\end{description*}\n"
      ],
      "text/markdown": [
       "AR-42\n",
       ":   26AT 101\n",
       ":   3AT9283\n",
       ":   25AZD-8186\n",
       ":   20AZD8055\n",
       ":   30Belinostat\n",
       ":   23BI 2536\n",
       ":   20Birabresib\n",
       ":   32Birinapant\n",
       ":   35BMS-754807\n",
       ":   23Buparlisib\n",
       ":   16Cobimetinib\n",
       ":   25Copanlisib\n",
       ":   25Dactolisib\n",
       ":   26Danusertib\n",
       ":   22Dasatinib\n",
       ":   30Dinaciclib\n",
       ":   22DMSO\n",
       ":   85ENMD-2076\n",
       ":   9Fedratinib\n",
       ":   16Gedatolisib\n",
       ":   38I-BET151\n",
       ":   30Ipatasertib\n",
       ":   25JQ1\n",
       ":   32LY3009120\n",
       ":   25Milciclib\n",
       ":   17Niraparib\n",
       ":   21NVP-BGT226\n",
       ":   20NVP-LCL161\n",
       ":   32OTS167\n",
       ":   22Pacritinib\n",
       ":   17PD0325901\n",
       ":   28PF-00477736\n",
       ":   21PF-03758309\n",
       ":   18Pictilisib\n",
       ":   22Pracinostat\n",
       ":   24Quisinostat\n",
       ":   28Ralimetinib\n",
       ":   29SCH772984\n",
       ":   26Selinexor\n",
       ":   16SNS-032\n",
       ":   21Talazoparib\n",
       ":   30TGX-221\n",
       ":   25UCN-01\n",
       ":   37Volasertib\n",
       ":   19ZSTK474\n",
       ":   32\n",
       "\n"
      ],
      "text/plain": [
       "      AR-42      AT 101      AT9283    AZD-8186     AZD8055  Belinostat \n",
       "         26           3          25          20          30          23 \n",
       "    BI 2536  Birabresib  Birinapant  BMS-754807  Buparlisib Cobimetinib \n",
       "         20          32          35          23          16          25 \n",
       " Copanlisib  Dactolisib  Danusertib   Dasatinib  Dinaciclib        DMSO \n",
       "         25          26          22          30          22          85 \n",
       "  ENMD-2076  Fedratinib Gedatolisib    I-BET151 Ipatasertib         JQ1 \n",
       "          9          16          38          30          25          32 \n",
       "  LY3009120   Milciclib   Niraparib  NVP-BGT226  NVP-LCL161      OTS167 \n",
       "         25          17          21          20          32          22 \n",
       " Pacritinib   PD0325901 PF-00477736 PF-03758309  Pictilisib Pracinostat \n",
       "         17          28          21          18          22          24 \n",
       "Quisinostat Ralimetinib   SCH772984   Selinexor     SNS-032 Talazoparib \n",
       "         28          29          26          16          21          30 \n",
       "    TGX-221      UCN-01  Volasertib     ZSTK474 \n",
       "         25          37          19          32 "
      ]
     },
     "metadata": {},
     "output_type": "display_data"
    }
   ],
   "source": [
    "sapply(JHOS2_pseudo, function(x) ncol(x))\n",
    "sapply(PDC2_pseudo, function(x) ncol(x))\n",
    "sapply(PDC3_pseudo, function(x) ncol(x))"
   ]
  },
  {
   "cell_type": "markdown",
   "id": "d1b215fb",
   "metadata": {},
   "source": [
    "Now we can iterate in them. The first element is always DMSO, and we store it. Also, it is the biggest one."
   ]
  },
  {
   "cell_type": "code",
   "execution_count": 4,
   "id": "c7f16a73",
   "metadata": {
    "vscode": {
     "languageId": "r"
    }
   },
   "outputs": [],
   "source": [
    "JHOS2_pseudo_DMSO <- JHOS2_pseudo$DMSO\n",
    "PDC2_pseudo_DMSO <- PDC2_pseudo$DMSO\n",
    "PDC3_pseudo_DMSO <- PDC3_pseudo$DMSO"
   ]
  },
  {
   "cell_type": "markdown",
   "id": "198b5106",
   "metadata": {},
   "source": [
    "Function for differential expression analysis"
   ]
  },
  {
   "cell_type": "code",
   "execution_count": 5,
   "id": "91246bd6",
   "metadata": {
    "vscode": {
     "languageId": "r"
    }
   },
   "outputs": [],
   "source": [
    "edgeR_diffExpress_PBRs <- function(control_dataset, drug_dataset, drug){\n",
    "    \n",
    "    # Binding control and drug dataset\n",
    "    dataset <- cbind(control_dataset, drug_dataset) \n",
    "    \n",
    "    # Groups identification\n",
    "    groups <- sapply(colnames(dataset), function(x) strsplit(x = x, split = \"_\")[[1]][2]) \n",
    "                     \n",
    "    # Instead of the drug name, we will put \"Treatment\" to make the function generalizable\n",
    "    groups[groups != \"DMSO\"] <- \"Treatment\" \n",
    "    groups[groups == \"DMSO\"] <- \"Control\"                 \n",
    "    groups <- factor(groups, levels = c(\"Control\", \"Treatment\")) # Needs to be fixed to DMSO and drug\n",
    "    \n",
    "    # Creating a DGE list object                 \n",
    "    dge_obj <- DGEList(counts = dataset, group = groups, remove.zeros = TRUE) \n",
    "                     \n",
    "    # Average log CPM to perform filterings based on the previous histograms                 \n",
    "    avglogCPM <- aveLogCPM(dge_obj)          \n",
    "    keep <- (avglogCPM > 1)\n",
    "    dge_obj_filtered <- dge_obj[keep, ]\n",
    "                     \n",
    "    # Normalization                 \n",
    "    dge_obj_filtered <- calcNormFactors(dge_obj_filtered)\n",
    "                                 \n",
    "    # Preparing the design matrix and estimating the NB dispersions               \n",
    "    design <- model.matrix(~0 + groups)\n",
    "    colnames(design) <- levels(groups)\n",
    "    dge_obj_filtered <- estimateDisp(dge_obj_filtered, design = design, robust = TRUE)\n",
    "    \n",
    "    # Fitting the model\n",
    "    fit <- glmQLFit(dge_obj_filtered, design = design)\n",
    "                     \n",
    "    # Running the test, specifying the comparison\n",
    "    # Positive logFC = higher in treatment\n",
    "    qlf <- glmQLFTest(fit, contrast = makeContrasts(DrugVsDMSO = Treatment - Control, levels = design)) \n",
    "                     \n",
    "    # Return results, BH p-value adjustment                 \n",
    "    tt <- topTags(qlf, n = Inf)\n",
    "    return(tt$table)\n",
    "}"
   ]
  },
  {
   "cell_type": "markdown",
   "id": "0475175b",
   "metadata": {},
   "source": [
    "Differential expression, 4 cores max as RAM goes high fast and we are running other analyses in parallel on the same cluster"
   ]
  },
  {
   "cell_type": "code",
   "execution_count": 6,
   "id": "3f489441",
   "metadata": {
    "vscode": {
     "languageId": "r"
    }
   },
   "outputs": [
    {
     "data": {
      "text/html": [
       "<style>\n",
       ".list-inline {list-style: none; margin:0; padding: 0}\n",
       ".list-inline>li {display: inline-block}\n",
       ".list-inline>li:not(:last-child)::after {content: \"\\00b7\"; padding: 0 .5ex}\n",
       "</style>\n",
       "<ol class=list-inline><li>'AR-42'</li><li>'AT 101'</li><li>'AT9283'</li><li>'AZD-8186'</li><li>'AZD8055'</li><li>'Belinostat'</li><li>'BI 2536'</li><li>'Birabresib'</li><li>'Birinapant'</li><li>'BMS-754807'</li><li>'Buparlisib'</li><li>'Cobimetinib'</li><li>'Copanlisib'</li><li>'Dactolisib'</li><li>'Danusertib'</li><li>'Dasatinib'</li><li>'Dinaciclib'</li><li>'ENMD-2076'</li><li>'Fedratinib'</li><li>'Gedatolisib'</li><li>'I-BET151'</li><li>'Ipatasertib'</li><li>'JQ1'</li><li>'LY3009120'</li><li>'Milciclib'</li><li>'Niraparib'</li><li>'NVP-BGT226'</li><li>'NVP-LCL161'</li><li>'OTS167'</li><li>'Pacritinib'</li><li>'PD0325901'</li><li>'PF-00477736'</li><li>'PF-03758309'</li><li>'Pictilisib'</li><li>'Pracinostat'</li><li>'Quisinostat'</li><li>'Ralimetinib'</li><li>'SCH772984'</li><li>'Selinexor'</li><li>'SNS-032'</li><li>'Talazoparib'</li><li>'TGX-221'</li><li>'UCN-01'</li><li>'Volasertib'</li><li>'ZSTK474'</li></ol>\n"
      ],
      "text/latex": [
       "\\begin{enumerate*}\n",
       "\\item 'AR-42'\n",
       "\\item 'AT 101'\n",
       "\\item 'AT9283'\n",
       "\\item 'AZD-8186'\n",
       "\\item 'AZD8055'\n",
       "\\item 'Belinostat'\n",
       "\\item 'BI 2536'\n",
       "\\item 'Birabresib'\n",
       "\\item 'Birinapant'\n",
       "\\item 'BMS-754807'\n",
       "\\item 'Buparlisib'\n",
       "\\item 'Cobimetinib'\n",
       "\\item 'Copanlisib'\n",
       "\\item 'Dactolisib'\n",
       "\\item 'Danusertib'\n",
       "\\item 'Dasatinib'\n",
       "\\item 'Dinaciclib'\n",
       "\\item 'ENMD-2076'\n",
       "\\item 'Fedratinib'\n",
       "\\item 'Gedatolisib'\n",
       "\\item 'I-BET151'\n",
       "\\item 'Ipatasertib'\n",
       "\\item 'JQ1'\n",
       "\\item 'LY3009120'\n",
       "\\item 'Milciclib'\n",
       "\\item 'Niraparib'\n",
       "\\item 'NVP-BGT226'\n",
       "\\item 'NVP-LCL161'\n",
       "\\item 'OTS167'\n",
       "\\item 'Pacritinib'\n",
       "\\item 'PD0325901'\n",
       "\\item 'PF-00477736'\n",
       "\\item 'PF-03758309'\n",
       "\\item 'Pictilisib'\n",
       "\\item 'Pracinostat'\n",
       "\\item 'Quisinostat'\n",
       "\\item 'Ralimetinib'\n",
       "\\item 'SCH772984'\n",
       "\\item 'Selinexor'\n",
       "\\item 'SNS-032'\n",
       "\\item 'Talazoparib'\n",
       "\\item 'TGX-221'\n",
       "\\item 'UCN-01'\n",
       "\\item 'Volasertib'\n",
       "\\item 'ZSTK474'\n",
       "\\end{enumerate*}\n"
      ],
      "text/markdown": [
       "1. 'AR-42'\n",
       "2. 'AT 101'\n",
       "3. 'AT9283'\n",
       "4. 'AZD-8186'\n",
       "5. 'AZD8055'\n",
       "6. 'Belinostat'\n",
       "7. 'BI 2536'\n",
       "8. 'Birabresib'\n",
       "9. 'Birinapant'\n",
       "10. 'BMS-754807'\n",
       "11. 'Buparlisib'\n",
       "12. 'Cobimetinib'\n",
       "13. 'Copanlisib'\n",
       "14. 'Dactolisib'\n",
       "15. 'Danusertib'\n",
       "16. 'Dasatinib'\n",
       "17. 'Dinaciclib'\n",
       "18. 'ENMD-2076'\n",
       "19. 'Fedratinib'\n",
       "20. 'Gedatolisib'\n",
       "21. 'I-BET151'\n",
       "22. 'Ipatasertib'\n",
       "23. 'JQ1'\n",
       "24. 'LY3009120'\n",
       "25. 'Milciclib'\n",
       "26. 'Niraparib'\n",
       "27. 'NVP-BGT226'\n",
       "28. 'NVP-LCL161'\n",
       "29. 'OTS167'\n",
       "30. 'Pacritinib'\n",
       "31. 'PD0325901'\n",
       "32. 'PF-00477736'\n",
       "33. 'PF-03758309'\n",
       "34. 'Pictilisib'\n",
       "35. 'Pracinostat'\n",
       "36. 'Quisinostat'\n",
       "37. 'Ralimetinib'\n",
       "38. 'SCH772984'\n",
       "39. 'Selinexor'\n",
       "40. 'SNS-032'\n",
       "41. 'Talazoparib'\n",
       "42. 'TGX-221'\n",
       "43. 'UCN-01'\n",
       "44. 'Volasertib'\n",
       "45. 'ZSTK474'\n",
       "\n",
       "\n"
      ],
      "text/plain": [
       " [1] \"AR-42\"       \"AT 101\"      \"AT9283\"      \"AZD-8186\"    \"AZD8055\"    \n",
       " [6] \"Belinostat\"  \"BI 2536\"     \"Birabresib\"  \"Birinapant\"  \"BMS-754807\" \n",
       "[11] \"Buparlisib\"  \"Cobimetinib\" \"Copanlisib\"  \"Dactolisib\"  \"Danusertib\" \n",
       "[16] \"Dasatinib\"   \"Dinaciclib\"  \"ENMD-2076\"   \"Fedratinib\"  \"Gedatolisib\"\n",
       "[21] \"I-BET151\"    \"Ipatasertib\" \"JQ1\"         \"LY3009120\"   \"Milciclib\"  \n",
       "[26] \"Niraparib\"   \"NVP-BGT226\"  \"NVP-LCL161\"  \"OTS167\"      \"Pacritinib\" \n",
       "[31] \"PD0325901\"   \"PF-00477736\" \"PF-03758309\" \"Pictilisib\"  \"Pracinostat\"\n",
       "[36] \"Quisinostat\" \"Ralimetinib\" \"SCH772984\"   \"Selinexor\"   \"SNS-032\"    \n",
       "[41] \"Talazoparib\" \"TGX-221\"     \"UCN-01\"      \"Volasertib\"  \"ZSTK474\"    "
      ]
     },
     "metadata": {},
     "output_type": "display_data"
    }
   ],
   "source": [
    "drug_names <- names(JHOS2_pseudo)[-which(names(JHOS2_pseudo) == \"DMSO\")]\n",
    "drug_names"
   ]
  },
  {
   "cell_type": "code",
   "execution_count": 7,
   "id": "eb76acd5",
   "metadata": {
    "vscode": {
     "languageId": "r"
    }
   },
   "outputs": [],
   "source": [
    "JHOS2_diffexpress <- mclapply(X = drug_names, \n",
    "                        function(x) edgeR_diffExpress_PBRs(JHOS2_pseudo_DMSO, JHOS2_pseudo[[x]], x), \n",
    "                        mc.cores = 4)\n",
    "names(JHOS2_diffexpress) <- drug_names\n",
    "saveRDS(object = JHOS2_diffexpress, file = \"JHOS2_PBRs_diffexpress_subsampled.RDS\")"
   ]
  },
  {
   "cell_type": "code",
   "execution_count": 8,
   "id": "61722d7d",
   "metadata": {
    "vscode": {
     "languageId": "r"
    }
   },
   "outputs": [],
   "source": [
    "PDC2_diffexpress <- mclapply(X = drug_names, function(x) edgeR_diffExpress_PBRs(PDC2_pseudo_DMSO, PDC2_pseudo[[x]], x), \n",
    "                        mc.cores = 4)\n",
    "names(PDC2_diffexpress) <- drug_names\n",
    "saveRDS(object = PDC2_diffexpress, file = \"PDC2_PBRs_diffexpress_subsampled.RDS\")"
   ]
  },
  {
   "cell_type": "code",
   "execution_count": 9,
   "id": "a5dcb0cf",
   "metadata": {
    "vscode": {
     "languageId": "r"
    }
   },
   "outputs": [],
   "source": [
    "PDC3_diffexpress <- mclapply(X = drug_names, function(x) edgeR_diffExpress_PBRs(PDC3_pseudo_DMSO, PDC3_pseudo[[x]], x), \n",
    "                        mc.cores = 4)\n",
    "names(PDC3_diffexpress) <- drug_names\n",
    "saveRDS(object = PDC3_diffexpress, file = \"PDC3_PBRs_diffexpress_subsampled.RDS\")"
   ]
  },
  {
   "cell_type": "code",
   "execution_count": 10,
   "id": "9136402d",
   "metadata": {
    "vscode": {
     "languageId": "r"
    }
   },
   "outputs": [
    {
     "data": {
      "text/plain": [
       "R version 4.2.2 (2022-10-31)\n",
       "Platform: x86_64-conda-linux-gnu (64-bit)\n",
       "Running under: Rocky Linux 8.8 (Green Obsidian)\n",
       "\n",
       "Matrix products: default\n",
       "BLAS/LAPACK: /homedir01/adini22/.conda/envs/cellhashing_analyses/lib/libopenblasp-r0.3.21.so\n",
       "\n",
       "locale:\n",
       " [1] LC_CTYPE=en_US.UTF-8       LC_NUMERIC=C              \n",
       " [3] LC_TIME=en_US.UTF-8        LC_COLLATE=en_US.UTF-8    \n",
       " [5] LC_MONETARY=en_US.UTF-8    LC_MESSAGES=en_US.UTF-8   \n",
       " [7] LC_PAPER=en_US.UTF-8       LC_NAME=C                 \n",
       " [9] LC_ADDRESS=C               LC_TELEPHONE=C            \n",
       "[11] LC_MEASUREMENT=en_US.UTF-8 LC_IDENTIFICATION=C       \n",
       "\n",
       "attached base packages:\n",
       "[1] parallel  stats     graphics  grDevices utils     datasets  methods  \n",
       "[8] base     \n",
       "\n",
       "other attached packages:\n",
       "[1] edgeR_3.40.2 limma_3.54.2\n",
       "\n",
       "loaded via a namespace (and not attached):\n",
       " [1] Rcpp_1.0.10     uuid_1.1-0      lattice_0.20-45 rlang_1.1.0    \n",
       " [5] fastmap_1.1.1   fansi_1.0.4     tools_4.2.2     grid_4.2.2     \n",
       " [9] utf8_1.2.3      cli_3.6.0       htmltools_0.5.4 digest_0.6.31  \n",
       "[13] lifecycle_1.0.3 crayon_1.5.2    IRdisplay_1.1   repr_1.1.5     \n",
       "[17] base64enc_0.1-3 vctrs_0.5.1     IRkernel_1.3.1  glue_1.6.2     \n",
       "[21] evaluate_0.20   pbdZMQ_0.3-8    compiler_4.2.2  pillar_1.9.0   \n",
       "[25] locfit_1.5-9.7  jsonlite_1.8.4 "
      ]
     },
     "metadata": {},
     "output_type": "display_data"
    }
   ],
   "source": [
    "sessionInfo()"
   ]
  }
 ],
 "metadata": {
  "kernelspec": {
   "display_name": "R",
   "language": "R",
   "name": "ir"
  },
  "language_info": {
   "codemirror_mode": "r",
   "file_extension": ".r",
   "mimetype": "text/x-r-source",
   "name": "R",
   "pygments_lexer": "r",
   "version": "4.2.2"
  }
 },
 "nbformat": 4,
 "nbformat_minor": 5
}
