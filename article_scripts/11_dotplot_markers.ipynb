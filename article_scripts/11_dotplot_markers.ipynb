{
 "cells": [
  {
   "cell_type": "markdown",
   "id": "d390ad9d",
   "metadata": {},
   "source": [
    "# Dot plot of expression of cell type markers in the data"
   ]
  },
  {
   "cell_type": "code",
   "execution_count": 1,
   "id": "934f9df1",
   "metadata": {
    "execution": {
     "iopub.execute_input": "2024-04-21T05:38:28.361519Z",
     "iopub.status.busy": "2024-04-21T05:38:28.358996Z",
     "iopub.status.idle": "2024-04-21T05:38:32.065975Z",
     "shell.execute_reply": "2024-04-21T05:38:32.064565Z"
    },
    "vscode": {
     "languageId": "r"
    }
   },
   "outputs": [],
   "source": [
    "suppressWarnings({suppressMessages({\n",
    "    library(Seurat) # the main framework for the scRNA-Seq analyses\n",
    "    library(readxl)\n",
    "    library(ggplot2)\n",
    "    library(circlize)\n",
    "    library(RColorBrewer)\n",
    "})})"
   ]
  },
  {
   "cell_type": "markdown",
   "id": "b35218f6",
   "metadata": {},
   "source": [
    "Loading the data."
   ]
  },
  {
   "cell_type": "code",
   "execution_count": 2,
   "id": "c9f38b45",
   "metadata": {
    "execution": {
     "iopub.execute_input": "2024-04-21T05:38:32.090036Z",
     "iopub.status.busy": "2024-04-21T05:38:32.068866Z",
     "iopub.status.idle": "2024-04-21T05:40:00.582107Z",
     "shell.execute_reply": "2024-04-21T05:40:00.580565Z"
    },
    "vscode": {
     "languageId": "r"
    }
   },
   "outputs": [],
   "source": [
    "hgsoc <- readRDS(\"HGSOC_CellHashing_CLUSTERED.RDS\")"
   ]
  },
  {
   "cell_type": "markdown",
   "id": "37fdc846",
   "metadata": {},
   "source": [
    "Loading the ovarian cancer markers for different cell types."
   ]
  },
  {
   "cell_type": "code",
   "execution_count": 3,
   "id": "5bafc201",
   "metadata": {
    "execution": {
     "iopub.execute_input": "2024-04-21T05:40:00.590222Z",
     "iopub.status.busy": "2024-04-21T05:40:00.588928Z",
     "iopub.status.idle": "2024-04-21T05:40:00.678802Z",
     "shell.execute_reply": "2024-04-21T05:40:00.677669Z"
    },
    "vscode": {
     "languageId": "r"
    }
   },
   "outputs": [],
   "source": [
    "celltypes <- as.data.frame(read_xlsx(path = \"ovarian_cancer_markers.xlsx\"))\n",
    "genemarkers <- na.omit(unique(unlist(sapply(celltypes$geneSymbolmore1, function(x) strsplit(x = x, split = \",\")[[1]]))))"
   ]
  },
  {
   "cell_type": "code",
   "execution_count": 4,
   "id": "68b26dcc",
   "metadata": {
    "execution": {
     "iopub.execute_input": "2024-04-21T05:40:00.682247Z",
     "iopub.status.busy": "2024-04-21T05:40:00.681284Z",
     "iopub.status.idle": "2024-04-21T05:40:00.693275Z",
     "shell.execute_reply": "2024-04-21T05:40:00.692170Z"
    },
    "vscode": {
     "languageId": "r"
    }
   },
   "outputs": [
    {
     "data": {
      "text/html": [
       "<style>\n",
       ".list-inline {list-style: none; margin:0; padding: 0}\n",
       ".list-inline>li {display: inline-block}\n",
       ".list-inline>li:not(:last-child)::after {content: \"\\00b7\"; padding: 0 .5ex}\n",
       "</style>\n",
       "<ol class=list-inline><li>'CD24'</li><li>'PAX8'</li><li>'CDH1'</li><li>'EPCAM'</li><li>'KRT8'</li><li>'KRT18'</li><li>'KRT19'</li><li>'MKI67'</li><li>'ALDH1A1'</li><li>'CD44'</li><li>'ROR1'</li><li>'CD79A'</li><li>'CLEC10A'</li><li>'TNFRSF18'</li><li>'TNFRSF25'</li><li>'FCER1G'</li><li>'TPSAB1'</li><li>'GZMB'</li><li>'MZB1'</li><li>'CD3D'</li><li>'PECAM1'</li><li>'THBD'</li><li>'FAP'</li><li>'MMP1'</li><li>'MMP9'</li><li>'CFD'</li><li>'CXCL12'</li><li>'IL6'</li><li>'LIF'</li><li>'ACTA2'</li><li>'MYL9'</li><li>'BGN'</li><li>'COL1A1'</li><li>'COL1A2'</li><li>'DCN'</li><li>'PDGFRA'</li><li>'POSTN'</li><li>'DLK1'</li><li>'FOXL2'</li><li>'STAR'</li></ol>\n"
      ],
      "text/latex": [
       "\\begin{enumerate*}\n",
       "\\item 'CD24'\n",
       "\\item 'PAX8'\n",
       "\\item 'CDH1'\n",
       "\\item 'EPCAM'\n",
       "\\item 'KRT8'\n",
       "\\item 'KRT18'\n",
       "\\item 'KRT19'\n",
       "\\item 'MKI67'\n",
       "\\item 'ALDH1A1'\n",
       "\\item 'CD44'\n",
       "\\item 'ROR1'\n",
       "\\item 'CD79A'\n",
       "\\item 'CLEC10A'\n",
       "\\item 'TNFRSF18'\n",
       "\\item 'TNFRSF25'\n",
       "\\item 'FCER1G'\n",
       "\\item 'TPSAB1'\n",
       "\\item 'GZMB'\n",
       "\\item 'MZB1'\n",
       "\\item 'CD3D'\n",
       "\\item 'PECAM1'\n",
       "\\item 'THBD'\n",
       "\\item 'FAP'\n",
       "\\item 'MMP1'\n",
       "\\item 'MMP9'\n",
       "\\item 'CFD'\n",
       "\\item 'CXCL12'\n",
       "\\item 'IL6'\n",
       "\\item 'LIF'\n",
       "\\item 'ACTA2'\n",
       "\\item 'MYL9'\n",
       "\\item 'BGN'\n",
       "\\item 'COL1A1'\n",
       "\\item 'COL1A2'\n",
       "\\item 'DCN'\n",
       "\\item 'PDGFRA'\n",
       "\\item 'POSTN'\n",
       "\\item 'DLK1'\n",
       "\\item 'FOXL2'\n",
       "\\item 'STAR'\n",
       "\\end{enumerate*}\n"
      ],
      "text/markdown": [
       "1. 'CD24'\n",
       "2. 'PAX8'\n",
       "3. 'CDH1'\n",
       "4. 'EPCAM'\n",
       "5. 'KRT8'\n",
       "6. 'KRT18'\n",
       "7. 'KRT19'\n",
       "8. 'MKI67'\n",
       "9. 'ALDH1A1'\n",
       "10. 'CD44'\n",
       "11. 'ROR1'\n",
       "12. 'CD79A'\n",
       "13. 'CLEC10A'\n",
       "14. 'TNFRSF18'\n",
       "15. 'TNFRSF25'\n",
       "16. 'FCER1G'\n",
       "17. 'TPSAB1'\n",
       "18. 'GZMB'\n",
       "19. 'MZB1'\n",
       "20. 'CD3D'\n",
       "21. 'PECAM1'\n",
       "22. 'THBD'\n",
       "23. 'FAP'\n",
       "24. 'MMP1'\n",
       "25. 'MMP9'\n",
       "26. 'CFD'\n",
       "27. 'CXCL12'\n",
       "28. 'IL6'\n",
       "29. 'LIF'\n",
       "30. 'ACTA2'\n",
       "31. 'MYL9'\n",
       "32. 'BGN'\n",
       "33. 'COL1A1'\n",
       "34. 'COL1A2'\n",
       "35. 'DCN'\n",
       "36. 'PDGFRA'\n",
       "37. 'POSTN'\n",
       "38. 'DLK1'\n",
       "39. 'FOXL2'\n",
       "40. 'STAR'\n",
       "\n",
       "\n"
      ],
      "text/plain": [
       " [1] \"CD24\"     \"PAX8\"     \"CDH1\"     \"EPCAM\"    \"KRT8\"     \"KRT18\"   \n",
       " [7] \"KRT19\"    \"MKI67\"    \"ALDH1A1\"  \"CD44\"     \"ROR1\"     \"CD79A\"   \n",
       "[13] \"CLEC10A\"  \"TNFRSF18\" \"TNFRSF25\" \"FCER1G\"   \"TPSAB1\"   \"GZMB\"    \n",
       "[19] \"MZB1\"     \"CD3D\"     \"PECAM1\"   \"THBD\"     \"FAP\"      \"MMP1\"    \n",
       "[25] \"MMP9\"     \"CFD\"      \"CXCL12\"   \"IL6\"      \"LIF\"      \"ACTA2\"   \n",
       "[31] \"MYL9\"     \"BGN\"      \"COL1A1\"   \"COL1A2\"   \"DCN\"      \"PDGFRA\"  \n",
       "[37] \"POSTN\"    \"DLK1\"     \"FOXL2\"    \"STAR\"    "
      ]
     },
     "metadata": {},
     "output_type": "display_data"
    }
   ],
   "source": [
    "genemarkers"
   ]
  },
  {
   "cell_type": "markdown",
   "id": "6f013ad6",
   "metadata": {},
   "source": [
    "Retrieving only the DMSO expression of the cells, but from the whole object. This is to retain the normalization applied to the whole dataset."
   ]
  },
  {
   "cell_type": "code",
   "execution_count": 5,
   "id": "21d6a8ba",
   "metadata": {
    "execution": {
     "iopub.execute_input": "2024-04-21T05:40:00.696486Z",
     "iopub.status.busy": "2024-04-21T05:40:00.695555Z",
     "iopub.status.idle": "2024-04-21T05:40:00.711297Z",
     "shell.execute_reply": "2024-04-21T05:40:00.710227Z"
    },
    "vscode": {
     "languageId": "r"
    }
   },
   "outputs": [],
   "source": [
    "hgsoc@meta.data$treatment_ext <- paste0(hgsoc@meta.data$model, \"_\", hgsoc@meta.data$Treatment_group)"
   ]
  },
  {
   "cell_type": "code",
   "execution_count": 6,
   "id": "77f602d3",
   "metadata": {
    "execution": {
     "iopub.execute_input": "2024-04-21T05:40:00.714483Z",
     "iopub.status.busy": "2024-04-21T05:40:00.713545Z",
     "iopub.status.idle": "2024-04-21T05:40:00.723573Z",
     "shell.execute_reply": "2024-04-21T05:40:00.722458Z"
    },
    "vscode": {
     "languageId": "r"
    }
   },
   "outputs": [
    {
     "data": {
      "text/html": [
       "<style>\n",
       ".list-inline {list-style: none; margin:0; padding: 0}\n",
       ".list-inline>li {display: inline-block}\n",
       ".list-inline>li:not(:last-child)::after {content: \"\\00b7\"; padding: 0 .5ex}\n",
       "</style>\n",
       "<ol class=list-inline><li>'JHOS2_Fedratinib'</li><li>'JHOS2_BMS-754807'</li><li>'JHOS2_SCH772984'</li><li>'JHOS2_TGX-221'</li><li>'JHOS2_Ipatasertib'</li><li>'JHOS2_Ralimetinib'</li></ol>\n"
      ],
      "text/latex": [
       "\\begin{enumerate*}\n",
       "\\item 'JHOS2\\_Fedratinib'\n",
       "\\item 'JHOS2\\_BMS-754807'\n",
       "\\item 'JHOS2\\_SCH772984'\n",
       "\\item 'JHOS2\\_TGX-221'\n",
       "\\item 'JHOS2\\_Ipatasertib'\n",
       "\\item 'JHOS2\\_Ralimetinib'\n",
       "\\end{enumerate*}\n"
      ],
      "text/markdown": [
       "1. 'JHOS2_Fedratinib'\n",
       "2. 'JHOS2_BMS-754807'\n",
       "3. 'JHOS2_SCH772984'\n",
       "4. 'JHOS2_TGX-221'\n",
       "5. 'JHOS2_Ipatasertib'\n",
       "6. 'JHOS2_Ralimetinib'\n",
       "\n",
       "\n"
      ],
      "text/plain": [
       "[1] \"JHOS2_Fedratinib\"  \"JHOS2_BMS-754807\"  \"JHOS2_SCH772984\"  \n",
       "[4] \"JHOS2_TGX-221\"     \"JHOS2_Ipatasertib\" \"JHOS2_Ralimetinib\""
      ]
     },
     "metadata": {},
     "output_type": "display_data"
    }
   ],
   "source": [
    "head(hgsoc@meta.data$treatment_ext)"
   ]
  },
  {
   "cell_type": "code",
   "execution_count": 7,
   "id": "88024b6a",
   "metadata": {
    "execution": {
     "iopub.execute_input": "2024-04-21T05:40:00.726653Z",
     "iopub.status.busy": "2024-04-21T05:40:00.725723Z",
     "iopub.status.idle": "2024-04-21T05:40:01.530648Z",
     "shell.execute_reply": "2024-04-21T05:40:01.529433Z"
    },
    "vscode": {
     "languageId": "r"
    }
   },
   "outputs": [
    {
     "name": "stderr",
     "output_type": "stream",
     "text": [
      "\u001b[1m\u001b[22mScale for \u001b[32mcolour\u001b[39m is already present.\n",
      "Adding another scale for \u001b[32mcolour\u001b[39m, which will replace the existing scale.\n"
     ]
    },
    {
     "data": {
      "text/html": [
       "<strong>png:</strong> 2"
      ],
      "text/latex": [
       "\\textbf{png:} 2"
      ],
      "text/markdown": [
       "**png:** 2"
      ],
      "text/plain": [
       "png \n",
       "  2 "
      ]
     },
     "metadata": {},
     "output_type": "display_data"
    }
   ],
   "source": [
    "pdf(file = \"DotPlot_cellTypeMarkers_reviewersOnly.pdf\", height = 4, width = 15)\n",
    "DefaultAssay(hgsoc) <- \"SCT\"\n",
    "Idents(hgsoc) <- \"treatment_ext\"\n",
    "DotPlot(hgsoc, \n",
    "        idents = c(\"JHOS2_DMSO\", \"PDC3_DMSO\", \"PDC2_DMSO\"), \n",
    "        features = na.omit(genemarkers), \n",
    "        scale = F) +\n",
    "ylab(\"\") +\n",
    "xlab(\"\") + \n",
    "geom_point(aes(size = pct.exp), shape = 21, colour=\"black\", stroke = 0.5) +\n",
    "scale_color_gradient2(low = \"blue\", mid = \"white\", high = \"red\") +\n",
    "guides(size = guide_legend(title = \"% Expression\", override.aes = list(shape = 21, colour = \"black\", fill = \"white\")))+ \n",
    "theme(axis.text.x = element_text(angle = 45, hjust = 1, face = \"italic\"))\n",
    "dev.off()"
   ]
  },
  {
   "cell_type": "markdown",
   "id": "21e7c6c9",
   "metadata": {},
   "source": [
    "Plotting the expression of _CD298_ and _B2M_, which are the two cell surface proteins used for Cell Hashing."
   ]
  },
  {
   "cell_type": "code",
   "execution_count": 8,
   "id": "bd2251ff",
   "metadata": {
    "execution": {
     "iopub.execute_input": "2024-04-21T05:40:01.534029Z",
     "iopub.status.busy": "2024-04-21T05:40:01.533086Z",
     "iopub.status.idle": "2024-04-21T05:40:09.171436Z",
     "shell.execute_reply": "2024-04-21T05:40:09.170114Z"
    },
    "vscode": {
     "languageId": "r"
    }
   },
   "outputs": [
    {
     "data": {
      "text/html": [
       "<strong>png:</strong> 2"
      ],
      "text/latex": [
       "\\textbf{png:} 2"
      ],
      "text/markdown": [
       "**png:** 2"
      ],
      "text/plain": [
       "png \n",
       "  2 "
      ]
     },
     "metadata": {},
     "output_type": "display_data"
    }
   ],
   "source": [
    "pdf(width = 55, height = 10, file = \"VlnPlot_B2M_CD298.pdf\")\n",
    "DefaultAssay(hgsoc) <- \"SCT\"\n",
    "Idents(hgsoc) <- \"treatment_ext\"\n",
    "VlnPlot(hgsoc, ncol = 1,\n",
    "        features = c(\"B2M\", \"ATP1B3\"), #CD298 is ATP1B3\n",
    "       ) + ggtitle(\"CD298\") & theme(plot.title = element_text(face = \"italic\")) & xlab(\"\")\n",
    "dev.off()"
   ]
  },
  {
   "cell_type": "markdown",
   "id": "3b8ceefe",
   "metadata": {},
   "source": [
    "For the _B2M_ and _CD298_ violin plots, we need 3 stacked violin plots; one per model."
   ]
  },
  {
   "cell_type": "code",
   "execution_count": 9,
   "id": "d21d13eb",
   "metadata": {
    "execution": {
     "iopub.execute_input": "2024-04-21T05:40:09.175020Z",
     "iopub.status.busy": "2024-04-21T05:40:09.174001Z",
     "iopub.status.idle": "2024-04-21T05:40:18.299124Z",
     "shell.execute_reply": "2024-04-21T05:40:18.297824Z"
    },
    "vscode": {
     "languageId": "r"
    }
   },
   "outputs": [
    {
     "data": {
      "text/html": [
       "<strong>png:</strong> 2"
      ],
      "text/latex": [
       "\\textbf{png:} 2"
      ],
      "text/markdown": [
       "**png:** 2"
      ],
      "text/plain": [
       "png \n",
       "  2 "
      ]
     },
     "metadata": {},
     "output_type": "display_data"
    },
    {
     "data": {
      "text/html": [
       "<strong>png:</strong> 2"
      ],
      "text/latex": [
       "\\textbf{png:} 2"
      ],
      "text/markdown": [
       "**png:** 2"
      ],
      "text/plain": [
       "png \n",
       "  2 "
      ]
     },
     "metadata": {},
     "output_type": "display_data"
    },
    {
     "data": {
      "text/html": [
       "<strong>png:</strong> 2"
      ],
      "text/latex": [
       "\\textbf{png:} 2"
      ],
      "text/markdown": [
       "**png:** 2"
      ],
      "text/plain": [
       "png \n",
       "  2 "
      ]
     },
     "metadata": {},
     "output_type": "display_data"
    }
   ],
   "source": [
    "pdf(width = 20, height = 10, file = \"JHOS2_B2M_CD298_VlnPlots.pdf\")\n",
    "DefaultAssay(hgsoc) <- \"SCT\"\n",
    "Idents(hgsoc) <- \"treatment_ext\"\n",
    "levels(hgsoc) <- sort(as.character(unique(Idents(hgsoc))))\n",
    "VlnPlot(hgsoc, ncol = 1, pt.size = 0.01, \n",
    "        cols = colorRampPalette(brewer.pal(8, \"Paired\"))(length(unique(Idents(hgsoc)[grep(Idents(hgsoc), pattern = \"JHOS2\")]))),\n",
    "        idents = sort(as.character(unique(Idents(hgsoc)[grep(Idents(hgsoc), pattern = \"JHOS2\")]))),\n",
    "        features = c(\"B2M\", \"ATP1B3\"), #CD298 is ATP1B3\n",
    "       ) + ggtitle(\"CD298\") & theme(plot.title = element_text(face = \"italic\"), \n",
    "                                    axis.text.x = element_text(angle = 90)) & xlab(\"\")\n",
    "dev.off()\n",
    "\n",
    "pdf(width = 20, height = 10, file = \"PDC3_B2M_CD298_VlnPlots.pdf\")\n",
    "VlnPlot(hgsoc, ncol = 1, pt.size = 0.01, \n",
    "        cols = colorRampPalette(brewer.pal(8, \"Paired\"))(length(unique(Idents(hgsoc)[grep(Idents(hgsoc), pattern = \"PDC3\")]))),\n",
    "        idents = sort(as.character(unique(Idents(hgsoc)[grep(Idents(hgsoc), pattern = \"PDC3\")]))),\n",
    "        features = c(\"B2M\", \"ATP1B3\"), #CD298 is ATP1B3\n",
    "       ) + ggtitle(\"CD298\") & theme(plot.title = element_text(face = \"italic\"), \n",
    "                                    axis.text.x = element_text(angle = 90)) & xlab(\"\")\n",
    "dev.off()\n",
    "\n",
    "pdf(width = 20, height = 10, file = \"PDC2_B2M_CD298_VlnPlots.pdf\")\n",
    "VlnPlot(hgsoc, ncol = 1, pt.size = 0.01, \n",
    "        cols = colorRampPalette(brewer.pal(8, \"Paired\"))(length(unique(Idents(hgsoc)[grep(Idents(hgsoc), pattern = \"PDC2\")]))),\n",
    "        idents = sort(as.character(unique(Idents(hgsoc)[grep(Idents(hgsoc), pattern = \"PDC2\")]))),\n",
    "        features = c(\"B2M\", \"ATP1B3\"), #CD298 is ATP1B3\n",
    "       ) + ggtitle(\"CD298\") & theme(plot.title = element_text(face = \"italic\"), \n",
    "                                    axis.text.x = element_text(angle = 90)) & xlab(\"\")\n",
    "dev.off()"
   ]
  },
  {
   "cell_type": "code",
   "execution_count": 10,
   "id": "98b89ecb",
   "metadata": {
    "execution": {
     "iopub.execute_input": "2024-04-21T05:40:18.302495Z",
     "iopub.status.busy": "2024-04-21T05:40:18.301527Z",
     "iopub.status.idle": "2024-04-21T05:40:19.948327Z",
     "shell.execute_reply": "2024-04-21T05:40:19.947074Z"
    },
    "vscode": {
     "languageId": "r"
    }
   },
   "outputs": [
    {
     "name": "stderr",
     "output_type": "stream",
     "text": [
      "\u001b[1m\u001b[22mScale for \u001b[32mcolour\u001b[39m is already present.\n",
      "Adding another scale for \u001b[32mcolour\u001b[39m, which will replace the existing scale.\n"
     ]
    },
    {
     "data": {
      "text/html": [
       "<strong>png:</strong> 2"
      ],
      "text/latex": [
       "\\textbf{png:} 2"
      ],
      "text/markdown": [
       "**png:** 2"
      ],
      "text/plain": [
       "png \n",
       "  2 "
      ]
     },
     "metadata": {},
     "output_type": "display_data"
    }
   ],
   "source": [
    "pdf(height = 40, width = 5, file = \"DotPlot_B2M_CD298.pdf\")\n",
    "DefaultAssay(hgsoc) <- \"SCT\"\n",
    "Idents(hgsoc) <- \"treatment_ext\"\n",
    "DotPlot(hgsoc, \n",
    "        features = c(\"B2M\", \"ATP1B3\"), #CD298 is ATP1B3\n",
    "         scale = F\n",
    "       ) +\n",
    "ylab(\"\") +\n",
    "xlab(\"\") + \n",
    "scale_x_discrete(labels = c(\"B2M\", \"CD298\")) +\n",
    "geom_point(aes(size = pct.exp), shape = 21, colour=\"black\", stroke = 0.5) +\n",
    "scale_color_gradient2(low = \"blue\", mid = \"white\", high = \"red\") +\n",
    "guides(size = guide_legend(title = \"% Expression\", override.aes = list(shape = 21, colour = \"black\", fill = \"white\")))+ \n",
    "theme(axis.text.x = element_text(angle = 45, hjust = 1, face = \"italic\"))\n",
    "dev.off()"
   ]
  },
  {
   "cell_type": "code",
   "execution_count": 11,
   "id": "dfb4bbdd",
   "metadata": {
    "execution": {
     "iopub.execute_input": "2024-04-21T05:40:19.951612Z",
     "iopub.status.busy": "2024-04-21T05:40:19.950656Z",
     "iopub.status.idle": "2024-04-21T05:40:20.163179Z",
     "shell.execute_reply": "2024-04-21T05:40:20.162044Z"
    },
    "vscode": {
     "languageId": "r"
    }
   },
   "outputs": [
    {
     "data": {
      "text/plain": [
       "R version 4.2.2 (2022-10-31)\n",
       "Platform: x86_64-conda-linux-gnu (64-bit)\n",
       "Running under: Rocky Linux 8.8 (Green Obsidian)\n",
       "\n",
       "Matrix products: default\n",
       "BLAS/LAPACK: /homedir01/adini22/.conda/envs/cellhashing_analyses/lib/libopenblasp-r0.3.21.so\n",
       "\n",
       "locale:\n",
       " [1] LC_CTYPE=en_US.UTF-8       LC_NUMERIC=C              \n",
       " [3] LC_TIME=en_US.UTF-8        LC_COLLATE=en_US.UTF-8    \n",
       " [5] LC_MONETARY=en_US.UTF-8    LC_MESSAGES=en_US.UTF-8   \n",
       " [7] LC_PAPER=en_US.UTF-8       LC_NAME=C                 \n",
       " [9] LC_ADDRESS=C               LC_TELEPHONE=C            \n",
       "[11] LC_MEASUREMENT=en_US.UTF-8 LC_IDENTIFICATION=C       \n",
       "\n",
       "attached base packages:\n",
       "[1] stats     graphics  grDevices utils     datasets  methods   base     \n",
       "\n",
       "other attached packages:\n",
       "[1] RColorBrewer_1.1-3 circlize_0.4.15    ggplot2_3.4.2      readxl_1.4.1      \n",
       "[5] SeuratObject_4.1.3 Seurat_4.3.0.9002 \n",
       "\n",
       "loaded via a namespace (and not attached):\n",
       "  [1] ggbeeswarm_0.7.1       Rtsne_0.16             colorspace_2.1-0      \n",
       "  [4] deldir_1.0-6           ellipsis_0.3.2         ggridges_0.5.4        \n",
       "  [7] IRdisplay_1.1          GlobalOptions_0.1.2    base64enc_0.1-3       \n",
       " [10] spatstat.data_3.0-1    farver_2.1.1           leiden_0.4.3          \n",
       " [13] listenv_0.9.0          ggrepel_0.9.3          fansi_1.0.4           \n",
       " [16] codetools_0.2-18       splines_4.2.2          polyclip_1.10-4       \n",
       " [19] IRkernel_1.3.1         jsonlite_1.8.4         ica_1.0-3             \n",
       " [22] cluster_2.1.4          png_0.1-8              uwot_0.1.14           \n",
       " [25] shiny_1.7.4            sctransform_0.3.5      spatstat.sparse_3.0-1 \n",
       " [28] compiler_4.2.2         httr_1.4.5             assertthat_0.2.1      \n",
       " [31] Matrix_1.5-3           fastmap_1.1.1          lazyeval_0.2.2        \n",
       " [34] cli_3.6.0              later_1.3.0            htmltools_0.5.4       \n",
       " [37] tools_4.2.2            igraph_1.4.0           gtable_0.3.3          \n",
       " [40] glue_1.6.2             RANN_2.6.1             reshape2_1.4.4        \n",
       " [43] dplyr_1.0.10           Rcpp_1.0.10            scattermore_0.8       \n",
       " [46] cellranger_1.1.0       vctrs_0.5.1            spatstat.explore_3.0-6\n",
       " [49] nlme_3.1-162           progressr_0.13.0       lmtest_0.9-40         \n",
       " [52] spatstat.random_3.1-3  stringr_1.5.0          globals_0.16.2        \n",
       " [55] mime_0.12              miniUI_0.1.1.1         lifecycle_1.0.3       \n",
       " [58] irlba_2.3.5.1          goftest_1.2-3          future_1.32.0         \n",
       " [61] MASS_7.3-58.2          zoo_1.8-11             scales_1.2.1          \n",
       " [64] promises_1.2.0.1       spatstat.utils_3.0-2   parallel_4.2.2        \n",
       " [67] reticulate_1.28        pbapply_1.7-0          gridExtra_2.3         \n",
       " [70] ggrastr_1.0.1          stringi_1.7.12         shape_1.4.6           \n",
       " [73] repr_1.1.5             rlang_1.1.0            pkgconfig_2.0.3       \n",
       " [76] matrixStats_0.63.0     evaluate_0.20          lattice_0.20-45       \n",
       " [79] ROCR_1.0-11            purrr_1.0.1            tensor_1.5            \n",
       " [82] labeling_0.4.2         patchwork_1.1.2        htmlwidgets_1.6.2.9000\n",
       " [85] cowplot_1.1.1          tidyselect_1.2.0       parallelly_1.34.0     \n",
       " [88] RcppAnnoy_0.0.20       plyr_1.8.8             magrittr_2.0.3        \n",
       " [91] R6_2.5.1               generics_0.1.3         pbdZMQ_0.3-8          \n",
       " [94] DBI_1.1.3              withr_2.5.0            pillar_1.9.0          \n",
       " [97] fitdistrplus_1.1-8     survival_3.5-0         abind_1.4-5           \n",
       "[100] sp_1.6-0               tibble_3.2.1           future.apply_1.10.0   \n",
       "[103] crayon_1.5.2           uuid_1.1-0             KernSmooth_2.23-20    \n",
       "[106] utf8_1.2.3             spatstat.geom_3.0-5    plotly_4.10.1.9000    \n",
       "[109] grid_4.2.2             data.table_1.14.8      digest_0.6.31         \n",
       "[112] xtable_1.8-4           tidyr_1.2.1            httpuv_1.6.9          \n",
       "[115] munsell_0.5.0          beeswarm_0.4.0         viridisLite_0.4.1     \n",
       "[118] vipor_0.4.5           "
      ]
     },
     "metadata": {},
     "output_type": "display_data"
    }
   ],
   "source": [
    "sessionInfo()"
   ]
  }
 ],
 "metadata": {
  "kernelspec": {
   "display_name": "R",
   "language": "R",
   "name": "ir"
  },
  "language_info": {
   "codemirror_mode": "r",
   "file_extension": ".r",
   "mimetype": "text/x-r-source",
   "name": "R",
   "pygments_lexer": "r",
   "version": "4.2.2"
  }
 },
 "nbformat": 4,
 "nbformat_minor": 5
}
