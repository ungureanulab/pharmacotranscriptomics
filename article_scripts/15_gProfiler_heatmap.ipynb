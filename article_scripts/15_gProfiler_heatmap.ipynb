{
 "cells": [
  {
   "cell_type": "markdown",
   "id": "31a029cf",
   "metadata": {},
   "source": [
    "# Heatmap of PBRs’ DGE Reactome functional enrichment analysis results for a custom-made pathway list"
   ]
  },
  {
   "cell_type": "code",
   "execution_count": 1,
   "id": "e2002f6d",
   "metadata": {
    "vscode": {
     "languageId": "r"
    }
   },
   "outputs": [],
   "source": [
    "suppressWarnings(suppressMessages({\n",
    "    library(ComplexHeatmap)\n",
    "    library(circlize)\n",
    "    library(ggsci)\n",
    "}))"
   ]
  },
  {
   "cell_type": "code",
   "execution_count": 2,
   "id": "cf7c9cd7",
   "metadata": {
    "vscode": {
     "languageId": "r"
    }
   },
   "outputs": [],
   "source": [
    "JHOS2_Bcl2 <- read.delim(file = \"JHOS2_Bcl-2_inhibitor_gProfiler_Reactome_GEM_05.txt\", sep = \"\\t\", header = T)\n",
    "JHOS2_BET <- read.delim(file = \"JHOS2_BET_inhibitor_gProfiler_Reactome_GEM_05.txt\", sep = \"\\t\", header = T)\n",
    "JHOS2_CDK <- read.delim(file = \"JHOS2_CDK_inhibitor_gProfiler_Reactome_GEM_05.txt\", sep = \"\\t\", header = T)\n",
    "JHOS2_CHK1 <- read.delim(file = \"JHOS2_CHK1_inhibitor_gProfiler_Reactome_GEM_05.txt\", sep = \"\\t\", header = T)\n",
    "JHOS2_HDAC <- read.delim(file = \"JHOS2_HDAC_inhibitor_gProfiler_Reactome_GEM_05.txt\", sep = \"\\t\", header = T)\n",
    "JHOS2_IAP <- read.delim(file = \"JHOS2_IAPs_SMAC_mimetic_gProfiler_Reactome_GEM_05.txt\", sep = \"\\t\", header = T)\n",
    "JHOS2_multiKin <- read.delim(file = \"JHOS2_Multi-kinase_inhibitor_gProfiler_Reactome_GEM_05.txt\", sep = \"\\t\", header = T)\n",
    "JHOS2_PAK <- read.delim(file = \"JHOS2_PAK_inhibitor_gProfiler_Reactome_GEM_05.txt\", sep = \"\\t\", header = T)\n",
    "JHOS2_PARP <- read.delim(file = \"JHOS2_PARP_inhibitor_gProfiler_Reactome_GEM_05.txt\", sep = \"\\t\", header = T)\n",
    "JHOS2_PI3K <- read.delim(file = \"JHOS2_PI3K_mTOR_AKT_inhibitor_gProfiler_Reactome_GEM_05.txt\", sep = \"\\t\", header = T)\n",
    "JHOS2_PLK1 <- read.delim(file = \"JHOS2_PLK1_inhibitor_gProfiler_Reactome_GEM_05.txt\", sep = \"\\t\", header = T)\n",
    "JHOS2_Ras <- read.delim(file = \"JHOS2_Ras_Raf_MEK_ERK_inhibitor_gProfiler_Reactome_GEM_05.txt\", sep = \"\\t\", header = T)\n",
    "JHOS2_XPO1 <- read.delim(file = \"JHOS2_XPO1_CRM1_inhibitor_gProfiler_Reactome_GEM_05.txt\", sep = \"\\t\", header = T)"
   ]
  },
  {
   "cell_type": "code",
   "execution_count": 3,
   "id": "46ea6671",
   "metadata": {
    "vscode": {
     "languageId": "r"
    }
   },
   "outputs": [],
   "source": [
    "PDC3_Bcl2 <- read.delim(file = \"PDC3_Bcl-2_inhibitor_gProfiler_Reactome_GEM_05.txt\", sep = \"\\t\", header = T)\n",
    "PDC3_BET <- read.delim(file = \"PDC3_BET_inhibitor_gProfiler_Reactome_GEM_05.txt\", sep = \"\\t\", header = T)\n",
    "PDC3_CDK <- read.delim(file = \"PDC3_CDK_inhibitor_gProfiler_Reactome_GEM_05.txt\", sep = \"\\t\", header = T)\n",
    "PDC3_CHK1 <- read.delim(file = \"PDC3_CHK1_inhibitor_gProfiler_Reactome_GEM_05.txt\", sep = \"\\t\", header = T)\n",
    "PDC3_HDAC <- read.delim(file = \"PDC3_HDAC_inhibitor_gProfiler_Reactome_GEM_05.txt\", sep = \"\\t\", header = T)\n",
    "PDC3_IAP <- read.delim(file = \"PDC3_IAPs_SMAC_mimetic_gProfiler_Reactome_GEM_05.txt\", sep = \"\\t\", header = T)\n",
    "PDC3_multiKin <- read.delim(file = \"PDC3_Multi-kinase_inhibitor_gProfiler_Reactome_GEM_05.txt\", sep = \"\\t\", header = T)\n",
    "PDC3_PAK <- read.delim(file = \"PDC3_PAK_inhibitor_gProfiler_Reactome_GEM_05.txt\", sep = \"\\t\", header = T)\n",
    "PDC3_PARP <- read.delim(file = \"PDC3_PARP_inhibitor_gProfiler_Reactome_GEM_05.txt\", sep = \"\\t\", header = T)\n",
    "PDC3_PI3K <- read.delim(file = \"PDC3_PI3K_mTOR_AKT_inhibitor_gProfiler_Reactome_GEM_05.txt\", sep = \"\\t\", header = T)\n",
    "PDC3_PLK1 <- read.delim(file = \"PDC3_PLK1_inhibitor_gProfiler_Reactome_GEM_05.txt\", sep = \"\\t\", header = T)\n",
    "PDC3_Ras <- read.delim(file = \"PDC3_Ras_Raf_MEK_ERK_inhibitor_gProfiler_Reactome_GEM_05.txt\", sep = \"\\t\", header = T)\n",
    "PDC3_XPO1 <- read.delim(file = \"PDC3_XPO1_CRM1_inhibitor_gProfiler_Reactome_GEM_05.txt\", sep = \"\\t\", header = T)"
   ]
  },
  {
   "cell_type": "code",
   "execution_count": 4,
   "id": "bb92c69d",
   "metadata": {
    "vscode": {
     "languageId": "r"
    }
   },
   "outputs": [],
   "source": [
    "PDC2_Bcl2 <- read.delim(file = \"PDC2_Bcl-2_inhibitor_gProfiler_Reactome_GEM_05.txt\", sep = \"\\t\", header = T)\n",
    "PDC2_BET <- read.delim(file = \"PDC2_BET_inhibitor_gProfiler_Reactome_GEM_05.txt\", sep = \"\\t\", header = T)\n",
    "PDC2_CDK <- read.delim(file = \"PDC2_CDK_inhibitor_gProfiler_Reactome_GEM_05.txt\", sep = \"\\t\", header = T)\n",
    "PDC2_CHK1 <- read.delim(file = \"PDC2_CHK1_inhibitor_gProfiler_Reactome_GEM_05.txt\", sep = \"\\t\", header = T)\n",
    "PDC2_HDAC <- read.delim(file = \"PDC2_HDAC_inhibitor_gProfiler_Reactome_GEM_05.txt\", sep = \"\\t\", header = T)\n",
    "PDC2_IAP <- read.delim(file = \"PDC2_IAPs_SMAC_mimetic_gProfiler_Reactome_GEM_05.txt\", sep = \"\\t\", header = T)\n",
    "PDC2_multiKin <- read.delim(file = \"PDC2_Multi-kinase_inhibitor_gProfiler_Reactome_GEM_05.txt\", sep = \"\\t\", header = T)\n",
    "PDC2_PAK <- read.delim(file = \"PDC2_PAK_inhibitor_gProfiler_Reactome_GEM_05.txt\", sep = \"\\t\", header = T)\n",
    "PDC2_PARP <- read.delim(file = \"PDC2_PARP_inhibitor_gProfiler_Reactome_GEM_05.txt\", sep = \"\\t\", header = T)\n",
    "PDC2_PI3K <- read.delim(file = \"PDC2_PI3K_mTOR_AKT_inhibitor_gProfiler_Reactome_GEM_05.txt\", sep = \"\\t\", header = T)\n",
    "PDC2_PLK1 <- read.delim(file = \"PDC2_PLK1_inhibitor_gProfiler_Reactome_GEM_05.txt\", sep = \"\\t\", header = T)\n",
    "PDC2_Ras <- read.delim(file = \"PDC2_Ras_Raf_MEK_ERK_inhibitor_gProfiler_Reactome_GEM_05.txt\", sep = \"\\t\", header = T)\n",
    "PDC2_XPO1 <- read.delim(file = \"PDC2_XPO1_CRM1_inhibitor_gProfiler_Reactome_GEM_05.txt\", sep = \"\\t\", header = T)"
   ]
  },
  {
   "cell_type": "markdown",
   "id": "1ef0f806",
   "metadata": {},
   "source": [
    "Merging all the results for the supplementary table."
   ]
  },
  {
   "cell_type": "code",
   "execution_count": 5,
   "id": "f3185ca9",
   "metadata": {
    "vscode": {
     "languageId": "r"
    }
   },
   "outputs": [],
   "source": [
    "all_data_suppl_table <- c()"
   ]
  },
  {
   "cell_type": "markdown",
   "id": "1f82f990",
   "metadata": {},
   "source": [
    "Loading the custom list of pathways that we want to filter our data for."
   ]
  },
  {
   "cell_type": "code",
   "execution_count": 6,
   "id": "912b99a6",
   "metadata": {
    "vscode": {
     "languageId": "r"
    }
   },
   "outputs": [],
   "source": [
    "pathways <- read.delim(\"CustomReactomeSet_HGSOC.txt\", sep = \"\\t\", header = T)"
   ]
  },
  {
   "cell_type": "markdown",
   "id": "48ef13cf",
   "metadata": {},
   "source": [
    "Filtering the results for the pathways retained."
   ]
  },
  {
   "cell_type": "code",
   "execution_count": 7,
   "id": "f64b542b",
   "metadata": {
    "vscode": {
     "languageId": "r"
    }
   },
   "outputs": [],
   "source": [
    "moa <- c(\"Bcl2\", \"BET\", \"CDK\", \"CHK1\", \"HDAC\", \"IAP\", \"multiKin\", \"PAK\", \"PARP\", \"PI3K\", \"PLK1\", \"Ras\", \"XPO1\")"
   ]
  },
  {
   "cell_type": "code",
   "execution_count": 8,
   "id": "636215b1",
   "metadata": {
    "vscode": {
     "languageId": "r"
    }
   },
   "outputs": [
    {
     "name": "stderr",
     "output_type": "stream",
     "text": [
      "Warning message:\n",
      "“The input is a data frame-like object, convert it to a matrix.”\n",
      "Warning message:\n",
      "“The input is a data frame-like object, convert it to a matrix.”\n",
      "Warning message:\n",
      "“The input is a data frame-like object, convert it to a matrix.”\n",
      "Warning message:\n",
      "“The input is a data frame-like object, convert it to a matrix.”\n",
      "Warning message:\n",
      "“The input is a data frame-like object, convert it to a matrix.”\n",
      "Warning message:\n",
      "“The input is a data frame-like object, convert it to a matrix.”\n",
      "Warning message:\n",
      "“The input is a data frame-like object, convert it to a matrix.”\n",
      "Warning message:\n",
      "“The input is a data frame-like object, convert it to a matrix.”\n",
      "Warning message:\n",
      "“The input is a data frame-like object, convert it to a matrix.”\n",
      "Warning message:\n",
      "“The input is a data frame-like object, convert it to a matrix.”\n",
      "Warning message:\n",
      "“The input is a data frame-like object, convert it to a matrix.”\n",
      "Warning message:\n",
      "“The input is a data frame-like object, convert it to a matrix.”\n",
      "Warning message:\n",
      "“The input is a data frame-like object, convert it to a matrix.”\n"
     ]
    }
   ],
   "source": [
    "# Making a list where all the resulting data frames are stored for a bigger heatmap\n",
    "alldata_big <- list()\n",
    "for(m in moa){\n",
    "    # Retrieving data for a particular pathway\n",
    "    JHOS2_drug_data <- mget(paste0(\"JHOS2_\", m))[[1]]\n",
    "    PDC3_drug_data <- mget(paste0(\"PDC3_\", m))[[1]]\n",
    "    PDC2_drug_data <- mget(paste0(\"PDC2_\", m))[[1]]\n",
    "    \n",
    "    # Removing REAC: from the name of the pathway\n",
    "    JHOS2_drug_data$GO.ID <- sapply(JHOS2_drug_data$GO.ID, function(x) gsub(x = x, pattern = \"REAC:\", replacement = \"\"))\n",
    "    PDC3_drug_data$GO.ID <- sapply(PDC3_drug_data$GO.ID, function(x) gsub(x = x, pattern = \"REAC:\", replacement = \"\"))\n",
    "    PDC2_drug_data$GO.ID <- sapply(PDC2_drug_data$GO.ID, function(x) gsub(x = x, pattern = \"REAC:\", replacement = \"\"))\n",
    "                                  \n",
    "    # Filtering the data for the terms retained in our list\n",
    "    JHOS2_drug_data_filtered <- JHOS2_drug_data[JHOS2_drug_data$GO.ID %in% pathways$ID, ]\n",
    "    PDC3_drug_data_filtered <- PDC3_drug_data[PDC3_drug_data$GO.ID %in% pathways$ID, ]\n",
    "    PDC2_drug_data_filtered <- PDC2_drug_data[PDC2_drug_data$GO.ID %in% pathways$ID, ]\n",
    "                                  \n",
    "    # Saving the filtered data\n",
    "    write.table(x = JHOS2_drug_data_filtered, file = paste0(\"JHOS2_\", m,\"_filtered_Reactome.txt\"), sep = \"\\t\", row.names = F, quote = F)\n",
    "    write.table(x = PDC3_drug_data_filtered, file = paste0(\"PDC3_\", m,\"_filtered_Reactome.txt\"), sep = \"\\t\", row.names = F, quote = F)\n",
    "    write.table(x = PDC2_drug_data_filtered, file = paste0(\"PDC2_\", m,\"_filtered_Reactome.txt\"), sep = \"\\t\", row.names = F, quote = F)\n",
    "\n",
    "    # Make a heatmap with all the results up and down\n",
    "    # First, removing the genes column and leaving only the description, the FDR, and the phenotype column\n",
    "    JHOS2_heatmap <- JHOS2_drug_data_filtered[, c(2, 4, 5)]\n",
    "    PDC3_heatmap <- PDC3_drug_data_filtered[, c(2, 4, 5)]\n",
    "    PDC2_heatmap <- PDC2_drug_data_filtered[, c(2, 4, 5)]\n",
    "                                  \n",
    "    # Then, transforming in -log10(FDR)\n",
    "    JHOS2_heatmap$FDR <- -log10(JHOS2_heatmap$FDR)                              \n",
    "    PDC3_heatmap$FDR <- -log10(PDC3_heatmap$FDR)     \n",
    "    PDC2_heatmap$FDR <- -log10(PDC2_heatmap$FDR) \n",
    "                                  \n",
    "    # Putting the description as row names. Duplicate entries are present sometimes, because genes in the up- and down-regulated\n",
    "    # list enrich for the same pathway. We assume that such pathway is affected and a balance in up- and down-regulated\n",
    "    # genes is present. Therefore, we can take the freedom to pick the most significant entry. To do this,\n",
    "    # we order the data frame                                   \n",
    "    JHOS2_heatmap <- JHOS2_heatmap[order(JHOS2_heatmap$FDR, decreasing = TRUE), ]    \n",
    "    PDC3_heatmap <- PDC3_heatmap[order(PDC3_heatmap$FDR, decreasing = TRUE), ]    \n",
    "    PDC2_heatmap <- PDC2_heatmap[order(PDC2_heatmap$FDR, decreasing = TRUE), ]                                  \n",
    "\n",
    "    # If there are more than 10 terms for up or down, we retain only the top 10 in significance\n",
    "    n_up_down_JHOS2 <- table(JHOS2_heatmap$Phenotype)                             \n",
    "    n_up_down_PDC3 <- table(PDC3_heatmap$Phenotype)\n",
    "    n_up_down_PDC2 <- table(PDC2_heatmap$Phenotype)\n",
    "    \n",
    "    if(\"DOWN\" %in% names(n_up_down_JHOS2) & n_up_down_JHOS2[\"DOWN\"] > 20){\n",
    "        # Collect all the results for DOWN\n",
    "        JHOS2_down <- JHOS2_heatmap[JHOS2_heatmap$Phenotype == \"DOWN\", ]\n",
    "        \n",
    "        # They should be already ordered in decreasing order given the lines above\n",
    "        JHOS2_down <- JHOS2_down[1:20, ]\n",
    "    }else{\n",
    "        JHOS2_down <- JHOS2_heatmap[JHOS2_heatmap$Phenotype == \"DOWN\", ]\n",
    "    }          \n",
    "                                  \n",
    "    if(\"UP\" %in% names(n_up_down_JHOS2) & n_up_down_JHOS2[\"UP\"] > 20){\n",
    "        # Collect all the results for UP\n",
    "        JHOS2_up <- JHOS2_heatmap[JHOS2_heatmap$Phenotype == \"UP\", ]\n",
    "\n",
    "        # They should be already ordered in decreasing order given the lines above\n",
    "        JHOS2_up <- JHOS2_up[1:20, ]\n",
    "    }else{\n",
    "        JHOS2_up <- JHOS2_heatmap[JHOS2_heatmap$Phenotype == \"UP\", ]\n",
    "    }                               \n",
    "\n",
    "    JHOS2_heatmap <- rbind(JHOS2_up, JHOS2_down)\n",
    "\n",
    "    if(\"DOWN\" %in% names(n_up_down_PDC3) & n_up_down_PDC3[\"DOWN\"] > 20){\n",
    "        # Collect all the results for DOWN\n",
    "        PDC3_down <- PDC3_heatmap[PDC3_heatmap$Phenotype == \"DOWN\", ]\n",
    "        \n",
    "        # They should be already ordered in decreasing order given the lines above\n",
    "        PDC3_down <- PDC3_down[1:20, ]\n",
    "    }else{\n",
    "        PDC3_down <- PDC3_heatmap[PDC3_heatmap$Phenotype == \"DOWN\", ]\n",
    "    }          \n",
    "                                  \n",
    "    if(\"UP\" %in% names(n_up_down_PDC3) & n_up_down_PDC3[\"UP\"] > 20){\n",
    "        # Collect all the results for UP\n",
    "        PDC3_up <- PDC3_heatmap[PDC3_heatmap$Phenotype == \"UP\", ]\n",
    "\n",
    "        # They should be already ordered in decreasing order given the lines above\n",
    "        PDC3_up <- PDC3_up[1:20, ]\n",
    "    }else{\n",
    "        PDC3_up <- PDC3_heatmap[PDC3_heatmap$Phenotype == \"UP\", ]\n",
    "    }                               \n",
    "\n",
    "    PDC3_heatmap <- rbind(PDC3_up, PDC3_down)\n",
    "     \n",
    "    if(\"DOWN\" %in% names(n_up_down_PDC2) & n_up_down_PDC2[\"DOWN\"] > 20){\n",
    "        # Collect all the results for DOWN\n",
    "        PDC2_down <- PDC2_heatmap[PDC2_heatmap$Phenotype == \"DOWN\", ]\n",
    "        \n",
    "        # They should be already ordered in decreasing order given the lines above\n",
    "        PDC2_down <- PDC2_down[1:20, ]\n",
    "    }else{\n",
    "        PDC2_down <- PDC2_heatmap[PDC2_heatmap$Phenotype == \"DOWN\", ]\n",
    "    }          \n",
    "                                  \n",
    "    if(\"UP\" %in% names(n_up_down_PDC2) & n_up_down_PDC2[\"UP\"] > 20){\n",
    "        # Collect all the results for UP\n",
    "        PDC2_up <- PDC2_heatmap[PDC2_heatmap$Phenotype == \"UP\", ]\n",
    "\n",
    "        # They should be already ordered in decreasing order given the lines above\n",
    "        PDC2_up <- PDC2_up[1:20, ]\n",
    "    }else{\n",
    "        PDC2_up <- PDC2_heatmap[PDC2_heatmap$Phenotype == \"UP\", ]\n",
    "    }                               \n",
    "\n",
    "    PDC2_heatmap <- rbind(PDC2_up, PDC2_down)\n",
    "                                  \n",
    "    # And we keep the first entry of a duplicated Reactome term, meaning, the most significant one\n",
    "    n_duplicated_lines_JHOS2 <- length(which(duplicated(JHOS2_heatmap$Description)))\n",
    "    n_duplicated_lines_PDC3 <- length(which(duplicated(PDC3_heatmap$Description))) \n",
    "    n_duplicated_lines_PDC2 <- length(which(duplicated(PDC2_heatmap$Description)))\n",
    "                                  \n",
    "    # If there are duplicated lines, we remove them     \n",
    "    if(n_duplicated_lines_JHOS2 != 0){\n",
    "        JHOS2_heatmap <- JHOS2_heatmap[-which(duplicated(JHOS2_heatmap$Description)), ]\n",
    "    }\n",
    "    \n",
    "    if(n_duplicated_lines_PDC3 != 0){\n",
    "        PDC3_heatmap <- PDC3_heatmap[-which(duplicated(PDC3_heatmap$Description)), ]\n",
    "    }                                  \n",
    "    \n",
    "    if(n_duplicated_lines_PDC2 != 0){\n",
    "        PDC2_heatmap <- PDC2_heatmap[-which(duplicated(PDC2_heatmap$Description)), ]\n",
    "    }\n",
    "                                  \n",
    "    # For the \"DOWN\" genes, for mere visualization purposes, we put a minus. In this way, we will have a blue color shading \n",
    "    JHOS2_heatmap[JHOS2_heatmap$Phenotype == \"DOWN\", \"FDR\"] <- JHOS2_heatmap[JHOS2_heatmap$Phenotype == \"DOWN\", \"FDR\"]*-1 \n",
    "    PDC3_heatmap[PDC3_heatmap$Phenotype == \"DOWN\", \"FDR\"] <- PDC3_heatmap[PDC3_heatmap$Phenotype == \"DOWN\", \"FDR\"]*-1 \n",
    "    PDC2_heatmap[PDC2_heatmap$Phenotype == \"DOWN\", \"FDR\"] <- PDC2_heatmap[PDC2_heatmap$Phenotype == \"DOWN\", \"FDR\"]*-1  \n",
    "                    \n",
    "    # Now, we need to merge the data in a matrix for plotting\n",
    "    # Whenever the same reactome ID is present, the data needs to be merged\n",
    "    # If the row data is not present, we put a 0\n",
    "    JHOS2_heatmap <- data.frame(row.names = JHOS2_heatmap$Description, \n",
    "                                JHOS2_FDR = JHOS2_heatmap$FDR)\n",
    "                                  \n",
    "    PDC3_heatmap <- data.frame(row.names = PDC3_heatmap$Description, \n",
    "                                PDC3_FDR = PDC3_heatmap$FDR) \n",
    "                                  \n",
    "    PDC2_heatmap <- data.frame(row.names = PDC2_heatmap$Description, \n",
    "                                PDC2_FDR = PDC2_heatmap$FDR) \n",
    "    \n",
    "    # We probably need to make a new data frame with rows as the union of the respective row names\n",
    "    # and make an sapply to them to define the new matrix for the heatmap\n",
    "    row_names <- Reduce(f = union, x = c(rownames(JHOS2_heatmap), rownames(PDC3_heatmap), rownames(PDC2_heatmap)))                            \n",
    "    alldata <- data.frame(row.names = row_names,\n",
    "                          PDC2 = sapply(row_names, function(x) ifelse(test = x %in% rownames(PDC2_heatmap),\n",
    "                                     yes = PDC2_heatmap[x, \"PDC2_FDR\"],\n",
    "                                     no = 0)),\n",
    "                          PDC3 = sapply(row_names, function(x) ifelse(test = x %in% rownames(PDC3_heatmap),\n",
    "                                     yes = PDC3_heatmap[x, \"PDC3_FDR\"],\n",
    "                                     no = 0)),\n",
    "                          JHOS2 = sapply(row_names, function(x) ifelse(test = x %in% rownames(JHOS2_heatmap),\n",
    "                                     yes = JHOS2_heatmap[x, \"JHOS2_FDR\"],\n",
    "                                     no = 0)))\n",
    "                                         \n",
    "    pdf(file = paste0(m,\"_gProfiler_Reactome_heatmap.pdf\"), width = 25, height = 25)\n",
    "    draw(Heatmap(matrix = alldata, top_annotation = HeatmapAnnotation(Model = colnames(alldata), \n",
    "                                                             col = list(Model = setNames(nm = c(\"JHOS2\", \"PDC3\", \"PDC2\"),\n",
    "                                                                                        object = pal_npg()(3)))),\n",
    "        col = colorRamp2(breaks = c(max(alldata), 0, min(alldata)), \n",
    "                         colors = c(\"firebrick\", \"white\", \"royalblue\")),\n",
    "        name = \"Significance\",\n",
    "       border = TRUE,\n",
    "       show_column_names = F,\n",
    "       column_title = m,\n",
    "       cluster_columns = F,\n",
    "       width = unit(0.5, \"cm\")*3,\n",
    "       height = unit(0.5, \"cm\")*nrow(alldata)), , \n",
    "     heatmap_legend_side = \"bottom\", annotation_legend_side = \"bottom\", padding = unit(c(2, 2, 2, 2), \"cm\"))\n",
    "    dev.off()\n",
    "                                         \n",
    "    # Storing the data for the big heatmap\n",
    "    alldata_big[[m]] <- alldata\n",
    "}"
   ]
  },
  {
   "cell_type": "markdown",
   "id": "124d2566",
   "metadata": {},
   "source": [
    "First, we extract all the rownames from all the dataframes, and get the union."
   ]
  },
  {
   "cell_type": "code",
   "execution_count": 9,
   "id": "0b547023",
   "metadata": {
    "vscode": {
     "languageId": "r"
    }
   },
   "outputs": [],
   "source": [
    "all_data_row_names <- sapply(alldata_big, function(x) rownames(x))\n",
    "all_data_row_names <- unique(unlist(all_data_row_names))"
   ]
  },
  {
   "cell_type": "markdown",
   "id": "85cfb756",
   "metadata": {},
   "source": [
    "In order to get a unique big heatmap, we need to get a matrix that has 3 columns (one per model) for each of the mechanisms of action. An easy approach is to:\n",
    "- Add a 0 (non-significant value) for the terms that are missing\n",
    "- Ordering them in such a way to have the same order\n",
    "- Change the column names accordingly\n",
    "- Column-bind all the 13 databases"
   ]
  },
  {
   "cell_type": "code",
   "execution_count": 10,
   "id": "6ec7be41",
   "metadata": {
    "vscode": {
     "languageId": "r"
    }
   },
   "outputs": [],
   "source": [
    "comp_alldata_big <- list() # Complete data\n",
    "for(d in names(alldata_big)){\n",
    "    # We check which terms are not in the row names of this data frame\n",
    "    missing_terms <- all_data_row_names[which(!(all_data_row_names %in% rownames(alldata_big[[d]])))]\n",
    "    \n",
    "    # For these terms, we add new rows\n",
    "    added_terms <- data.frame(row.names = missing_terms, \n",
    "                              PDC3 = rep(0, times = length(missing_terms)),\n",
    "                              PDC2 = rep(0, times = length(missing_terms)),\n",
    "                              JHOS2 = rep(0, times = length(missing_terms))) # Column names are always the same\n",
    "    \n",
    "    # We rbind these terms to the data frame and substitute it to a new one ordered by row names\n",
    "    # And with appropriate column names to avoid duplicates\n",
    "    updated_d <- rbind(alldata_big[[d]], added_terms)\n",
    "    updated_d <- updated_d[order(rownames(updated_d)), ]\n",
    "    colnames(updated_d) <- paste0(colnames(updated_d), \"_\", d)\n",
    "    \n",
    "    # Saving in an updated alldata list\n",
    "    comp_alldata_big[[d]] <- updated_d\n",
    "}"
   ]
  },
  {
   "cell_type": "code",
   "execution_count": 11,
   "id": "243ce1d8",
   "metadata": {
    "vscode": {
     "languageId": "r"
    }
   },
   "outputs": [],
   "source": [
    "comp_alldata_big <- Reduce(x = comp_alldata_big, f = cbind)\n",
    "write.table(x = comp_alldata_big, file = \"alldata_Reactome_Heatmap_newThreshold.txt\", sep = \"\\t\", quote = F)"
   ]
  },
  {
   "cell_type": "markdown",
   "id": "805ad364",
   "metadata": {},
   "source": [
    "Specific terms to be highlighted:"
   ]
  },
  {
   "cell_type": "code",
   "execution_count": 12,
   "id": "e9fbb2d4",
   "metadata": {
    "vscode": {
     "languageId": "r"
    }
   },
   "outputs": [],
   "source": [
    "removed_terms <- c(\"Signaling by FGFR4 in disease\",\n",
    "                   \"Signaling by FGFR1 in disease\",\n",
    "                   \"SHC1 events in ERBB2 signaling\",\n",
    "                   \"Signaling by PTK6\",\n",
    "#                    \"Signaling by AXIN mutants\",\n",
    "#                    \"Signaling by APC mutants\",\n",
    "#                    \"APC truncation mutants have impaired AXIN binding\",\n",
    "#                    \"AXIN missense mutants destabilize the desctruction complex\",\n",
    "                   \"FGFR2 mutant receptor activation\",\n",
    "                   \"Constitutive Signaling by NOTCH1 HD Domain Mutants\",\n",
    "                   \"Signaling by moderate kinase activity BRAF mutants\",\n",
    "                   \"MET activates PTK2\",\n",
    "                   \"Assembly of collagen fibrils and other multimeric structures\",\n",
    "                   \"Constitutive Signaling by NOTCH1 PEST Domain Mutants\",\n",
    "                   \"Constitutive Signaling by NOTCH1 HD+PEST Domain Mutants\",\n",
    "                   \"FLT3 signaling in disease\",\n",
    "                   \"Impaired BRCA2 binding to PALB2\",\n",
    "                   \"Aberrant regulation of mitotic exit in cancer due to RB1 defects\",\n",
    "                   \"AXIN missense mutants destabilize the destruction complex\",\n",
    "                   \"CD28 dependent PI3K/Akt signaling\",\n",
    "                   \"Collagen biosynthesis and modifying enzymes\",\n",
    "                   \"Constitutive Signaling by EGFRvIII\",\n",
    "                   \"Defective HDR through Homologous Recombination Repair (HRR) due to PALB2 loss of BRCA1 binding function\",\n",
    "                   \"Defective HDR through Homologous Recombination Repair (HRR) due to PALB2 loss of BRCA2/RAD51/RAD51C binding function\",\n",
    "                    \"Insulin processing\",\n",
    "                   \"CTNNB1 S33 mutants aren't phosphorylated\",\n",
    "                   \"CTNNB1 S37 mutants aren't phosphorylated\",\n",
    "                   \"CTNNB1 S45 mutants aren't phosphorylated\",\n",
    "                   \"CTNNB1 T41 mutants aren't phosphorylated\",\n",
    "                  \"Nuclear events stimulated by ALK signaling in cancer\",\n",
    "                  \"Paradoxical activation of RAF signaling by kinase inactive BRAF\",\n",
    "                  \"RAS signaling downstream of NF1 loss-of-function variants\",\n",
    "                  \"Regulation of Insulin-like Growth Factor (IGF) transport and uptake by Insulin-like Growth Factor Binding Proteins (IGFBPs)\",\n",
    "                  \"Signaling by ALK fusions and activated point mutants\",\n",
    "#                  \"Signaling by AMER1 mutants\",\n",
    "#                  \"Signaling by CTNNB1 phospho-site mutants\",\n",
    "                  \"Signaling by EGFRvIII in Cancer\",\n",
    "                  \"Signaling by FLT3 fusion proteins\",\n",
    "                  \"Signaling by FLT3 ITD and TKD mutants\",\n",
    "                  \"Signaling by NOTCH1 HD Domain Mutants in Cancer\",\n",
    "                  \"Signaling by NOTCH1 HD+PEST Domain Mutants in Cancer\",\n",
    "                  \"Signaling by NOTCH1 PEST Domain Mutants in Cancer\",\n",
    "                  \"Signaling by PDGFRA transmembrane, juxtamembrane and kinase domain mutants\",\n",
    "                  \"Signaling by phosphorylated juxtamembrane, extracellular and kinase domain KIT mutants\")"
   ]
  },
  {
   "cell_type": "markdown",
   "id": "421279b3",
   "metadata": {},
   "source": [
    "And now we make a vector with the new column labels only for the terms we are interested in."
   ]
  },
  {
   "cell_type": "code",
   "execution_count": 13,
   "id": "bc618932",
   "metadata": {
    "vscode": {
     "languageId": "r"
    }
   },
   "outputs": [],
   "source": [
    "terms_to_show <- rownames(comp_alldata_big)[which(!(rownames(comp_alldata_big) %in% removed_terms))]"
   ]
  },
  {
   "cell_type": "code",
   "execution_count": 14,
   "id": "81a66f3b",
   "metadata": {
    "vscode": {
     "languageId": "r"
    }
   },
   "outputs": [
    {
     "name": "stderr",
     "output_type": "stream",
     "text": [
      "Warning message:\n",
      "“The input is a data frame-like object, convert it to a matrix.”\n",
      "Warning message:\n",
      "“You defined `cell_fun` for a heatmap with more than 100 rows or\n",
      "columns, which might be very slow to draw. Consider to use the\n",
      "vectorized version `layer_fun`.”\n"
     ]
    },
    {
     "data": {
      "text/html": [
       "<strong>png:</strong> 2"
      ],
      "text/latex": [
       "\\textbf{png:} 2"
      ],
      "text/markdown": [
       "**png:** 2"
      ],
      "text/plain": [
       "png \n",
       "  2 "
      ]
     },
     "metadata": {},
     "output_type": "display_data"
    }
   ],
   "source": [
    "pdf(file = \"heatmap_reactome_highlighted_terms.pdf\", width = 25, height = 20)\n",
    "set.seed <- 2 # For the hierarchical clustering of the heatmap\n",
    "# white.line defines a white line around the cells\n",
    "white.line <- function(j, i, x, y, w, h, fill) { grid.lines(x = c(x - w/2, x + w / 2), y = c(y + h / 2, y + h / 2), gp = gpar(col = 'white', lwd = 1)) }\n",
    "draw(Heatmap(column_dend_height = unit(7, \"cm\"), \n",
    "             row_dend_side = \"left\",\n",
    "             row_dend_width = unit(5, \"cm\"),\n",
    "             matrix = comp_alldata_big, \n",
    "         top_annotation = HeatmapAnnotation(MOA = as.vector(sapply(names(alldata_big), function(x) rep(x, times = 3))),\n",
    "                                         Model = rep(c(\"PDC3\", \"PDC2\", \"JHOS2\"), times = 13), \n",
    "                                         col = list(Model = setNames(nm = c(\"JHOS2\", \"PDC2\", \"PDC3\"), object = pal_npg()(3)),\n",
    "                                                    MOA = c(\"Bcl2\" = \"#2f4f4f\", \n",
    "                                                            \"BET\" = \"#a52a2a\", \n",
    "                                                            \"CDK\" = \"#228b22\",\n",
    "                                                            \"CHK1\" = \"#4b0082\",\n",
    "                                                            \"HDAC\" = \"#ff8c00\",\n",
    "                                                            \"IAP\" = \"#d2b48c\",\n",
    "                                                            \"multiKin\" = \"#00ff00\",\n",
    "                                                            \"PAK\" = \"#00bfff\",\n",
    "                                                            \"PARP\" = \"#0000ff\",\n",
    "                                                            \"PI3K\" = \"#ff1493\",\n",
    "                                                            \"PLK1\" = \"#ffff54\",\n",
    "                                                            \"Ras\" = \"#dda0dd\",\n",
    "                                                            \"XPO1\" = \"#7fffd4\"))),                                                            \n",
    "        col = colorRamp2(breaks = c(6.5, 0, -6.5), \n",
    "                         colors = c(\"firebrick\", \"white\", \"royalblue\")),\n",
    "       name = \"Significance\",\n",
    "       cell_fun = white.line,\n",
    "       border = TRUE, \n",
    "       show_column_names = F,\n",
    "       show_row_names = F,\n",
    "       column_title = NULL,\n",
    "       row_title = NULL,\n",
    "       cluster_columns = F,\n",
    "       cluster_rows = T,  \n",
    "       # row_split = rownames(comp_alldata_big), \n",
    "       column_split = as.vector(sapply(names(alldata_big), function(x) rep(x, times = 3))), \n",
    "       height = unit(3, \"mm\")*nrow(comp_alldata_big),\n",
    "       width = unit(6, \"mm\")*ncol(comp_alldata_big),\n",
    "       heatmap_legend_param = list(\n",
    "        title = \"-log10(FDR)\", \n",
    "        at = c(7, 0, -7), \n",
    "        labels = c(\"7 - Significant in upregulated genes\", \"ns\", \"7 - Significant in downregulated genes\")\n",
    "    )\n",
    "    ) +\n",
    "       rowAnnotation(terms = anno_mark(link_width = unit(3, \"cm\"), \n",
    "                                       at = which(rownames(comp_alldata_big) %in% terms_to_show), which = \"row\",\n",
    "                                       labels = rownames(comp_alldata_big)[rownames(comp_alldata_big) %in% terms_to_show])), \n",
    "     heatmap_legend_side = \"left\", annotation_legend_side = \"left\")\n",
    "dev.off()"
   ]
  },
  {
   "cell_type": "code",
   "execution_count": 15,
   "id": "16591152",
   "metadata": {
    "vscode": {
     "languageId": "r"
    }
   },
   "outputs": [
    {
     "data": {
      "text/plain": [
       "R version 4.2.2 (2022-10-31)\n",
       "Platform: x86_64-conda-linux-gnu (64-bit)\n",
       "Running under: Rocky Linux 8.8 (Green Obsidian)\n",
       "\n",
       "Matrix products: default\n",
       "BLAS/LAPACK: /homedir01/adini22/.conda/envs/cellhashing_analyses/lib/libopenblasp-r0.3.21.so\n",
       "\n",
       "locale:\n",
       " [1] LC_CTYPE=en_US.UTF-8       LC_NUMERIC=C              \n",
       " [3] LC_TIME=en_US.UTF-8        LC_COLLATE=en_US.UTF-8    \n",
       " [5] LC_MONETARY=en_US.UTF-8    LC_MESSAGES=en_US.UTF-8   \n",
       " [7] LC_PAPER=en_US.UTF-8       LC_NAME=C                 \n",
       " [9] LC_ADDRESS=C               LC_TELEPHONE=C            \n",
       "[11] LC_MEASUREMENT=en_US.UTF-8 LC_IDENTIFICATION=C       \n",
       "\n",
       "attached base packages:\n",
       "[1] grid      stats     graphics  grDevices utils     datasets  methods  \n",
       "[8] base     \n",
       "\n",
       "other attached packages:\n",
       "[1] ggsci_3.0.0           circlize_0.4.15       ComplexHeatmap_2.14.0\n",
       "\n",
       "loaded via a namespace (and not attached):\n",
       " [1] pbdZMQ_0.3-8        shape_1.4.6         GetoptLong_1.0.5   \n",
       " [4] tidyselect_1.2.0    repr_1.1.5          colorspace_2.1-0   \n",
       " [7] vctrs_0.5.1         generics_0.1.3      htmltools_0.5.4    \n",
       "[10] stats4_4.2.2        base64enc_0.1-3     utf8_1.2.3         \n",
       "[13] rlang_1.1.0         pillar_1.9.0        glue_1.6.2         \n",
       "[16] DBI_1.1.3           BiocGenerics_0.44.0 RColorBrewer_1.1-3 \n",
       "[19] uuid_1.1-0          matrixStats_0.63.0  foreach_1.5.2      \n",
       "[22] lifecycle_1.0.3     munsell_0.5.0       gtable_0.3.3       \n",
       "[25] GlobalOptions_0.1.2 codetools_0.2-18    evaluate_0.20      \n",
       "[28] IRanges_2.32.0      fastmap_1.1.1       Cairo_1.6-0        \n",
       "[31] doParallel_1.0.17   parallel_4.2.2      fansi_1.0.4        \n",
       "[34] IRdisplay_1.1       scales_1.2.1        IRkernel_1.3.1     \n",
       "[37] S4Vectors_0.36.0    jsonlite_1.8.4      rjson_0.2.21       \n",
       "[40] ggplot2_3.4.2       png_0.1-8           digest_0.6.31      \n",
       "[43] dplyr_1.0.10        clue_0.3-63         cli_3.6.0          \n",
       "[46] tools_4.2.2         magrittr_2.0.3      tibble_3.2.1       \n",
       "[49] cluster_2.1.4       crayon_1.5.2        pkgconfig_2.0.3    \n",
       "[52] assertthat_0.2.1    iterators_1.0.14    R6_2.5.1           \n",
       "[55] compiler_4.2.2     "
      ]
     },
     "metadata": {},
     "output_type": "display_data"
    }
   ],
   "source": [
    "sessionInfo()"
   ]
  }
 ],
 "metadata": {
  "kernelspec": {
   "display_name": "R",
   "language": "R",
   "name": "ir"
  },
  "language_info": {
   "codemirror_mode": "r",
   "file_extension": ".r",
   "mimetype": "text/x-r-source",
   "name": "R",
   "pygments_lexer": "r",
   "version": "4.2.2"
  }
 },
 "nbformat": 4,
 "nbformat_minor": 5
}
