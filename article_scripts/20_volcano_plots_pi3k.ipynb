{
 "cells": [
  {
   "cell_type": "markdown",
   "id": "34fcd8d2",
   "metadata": {},
   "source": [
    "# Volcano plots of PI3K/AKT/mTORi vs DMSO from the pseudobulkreplicates' differential gene expression analysese in the three models."
   ]
  },
  {
   "cell_type": "code",
   "execution_count": 1,
   "id": "83aac348",
   "metadata": {
    "vscode": {
     "languageId": "r"
    }
   },
   "outputs": [],
   "source": [
    "suppressWarnings({suppressMessages({\n",
    "    library(EnhancedVolcano)\n",
    "    library(ggplot2)\n",
    "    library(ggpubr)\n",
    "    library(dplyr)\n",
    "})})"
   ]
  },
  {
   "cell_type": "markdown",
   "id": "962fdba1",
   "metadata": {},
   "source": [
    "Loading the data."
   ]
  },
  {
   "cell_type": "code",
   "execution_count": 2,
   "id": "ddc44be7",
   "metadata": {
    "vscode": {
     "languageId": "r"
    }
   },
   "outputs": [],
   "source": [
    "JHOS2 <- readRDS(file = \"JHOS2_PBRs_diffexpress.RDS\")\n",
    "PDC3 <- readRDS(file = \"PDC3_PBRs_diffexpress.RDS\")\n",
    "PDC2 <- readRDS(file = \"PDC2_PBRs_diffexpress.RDS\")"
   ]
  },
  {
   "cell_type": "markdown",
   "id": "0922396f",
   "metadata": {},
   "source": [
    "Retaining only the results for the PI3K/AKT/mTOR inhibitors."
   ]
  },
  {
   "cell_type": "code",
   "execution_count": 3,
   "id": "5f339e72",
   "metadata": {
    "vscode": {
     "languageId": "r"
    }
   },
   "outputs": [],
   "source": [
    "pi3k_akt_mtor <- c(\"AZD8055\",\n",
    "                   \"AZD-8186\",\n",
    "                   \"Buparlisib\",\n",
    "                   \"Copanlisib\",\n",
    "                   \"Dactolisib\",\n",
    "                   \"Gedatolisib\",\n",
    "                   \"Ipatasertib\",\n",
    "                   \"NVP-BGT226\",\n",
    "                   \"Pictilisib\",\n",
    "                   \"TGX-221\",\n",
    "                   \"ZSTK474\")"
   ]
  },
  {
   "cell_type": "markdown",
   "id": "408864b4",
   "metadata": {},
   "source": [
    "Labelling specific genes of interest."
   ]
  },
  {
   "cell_type": "code",
   "execution_count": 4,
   "id": "d37f9e50",
   "metadata": {
    "vscode": {
     "languageId": "r"
    }
   },
   "outputs": [],
   "source": [
    "labelled_genes <- c(\"EGFR\", \"MET\", \"IRS1\", \"IRS2\", \"INSR\", \"SGK1\", \"CAV1\", \"FOXO3\", \"MYC\")"
   ]
  },
  {
   "cell_type": "markdown",
   "id": "ce14dc22",
   "metadata": {},
   "source": [
    "Plotting the volcano plots."
   ]
  },
  {
   "cell_type": "code",
   "execution_count": 5,
   "id": "2cb98f2c",
   "metadata": {
    "scrolled": true,
    "vscode": {
     "languageId": "r"
    }
   },
   "outputs": [
    {
     "name": "stderr",
     "output_type": "stream",
     "text": [
      "Warning message:\n",
      "“\u001b[1m\u001b[22mRemoved 14108 rows containing missing values (`geom_label_repel()`).”\n",
      "Warning message:\n",
      "“\u001b[1m\u001b[22mRemoved 14361 rows containing missing values (`geom_label_repel()`).”\n",
      "Warning message:\n",
      "“\u001b[1m\u001b[22mRemoved 12953 rows containing missing values (`geom_label_repel()`).”\n",
      "Warning message:\n",
      "“\u001b[1m\u001b[22mRemoved 14014 rows containing missing values (`geom_label_repel()`).”\n",
      "Warning message:\n",
      "“\u001b[1m\u001b[22mRemoved 14343 rows containing missing values (`geom_label_repel()`).”\n",
      "Warning message:\n",
      "“\u001b[1m\u001b[22mRemoved 12885 rows containing missing values (`geom_label_repel()`).”\n",
      "Warning message:\n",
      "“\u001b[1m\u001b[22mRemoved 14117 rows containing missing values (`geom_label_repel()`).”\n",
      "Warning message:\n",
      "“\u001b[1m\u001b[22mRemoved 14396 rows containing missing values (`geom_label_repel()`).”\n",
      "Warning message:\n",
      "“\u001b[1m\u001b[22mRemoved 12957 rows containing missing values (`geom_label_repel()`).”\n",
      "Warning message:\n",
      "“\u001b[1m\u001b[22mRemoved 14123 rows containing missing values (`geom_label_repel()`).”\n",
      "Warning message:\n",
      "“\u001b[1m\u001b[22mRemoved 14389 rows containing missing values (`geom_label_repel()`).”\n",
      "Warning message:\n",
      "“\u001b[1m\u001b[22mRemoved 12986 rows containing missing values (`geom_label_repel()`).”\n",
      "Warning message:\n",
      "“\u001b[1m\u001b[22mRemoved 13997 rows containing missing values (`geom_label_repel()`).”\n",
      "Warning message:\n",
      "“\u001b[1m\u001b[22mRemoved 14320 rows containing missing values (`geom_label_repel()`).”\n",
      "Warning message:\n",
      "“\u001b[1m\u001b[22mRemoved 12891 rows containing missing values (`geom_label_repel()`).”\n",
      "Warning message:\n",
      "“\u001b[1m\u001b[22mRemoved 13969 rows containing missing values (`geom_label_repel()`).”\n",
      "Warning message:\n",
      "“\u001b[1m\u001b[22mRemoved 14376 rows containing missing values (`geom_label_repel()`).”\n",
      "Warning message:\n",
      "“\u001b[1m\u001b[22mRemoved 12887 rows containing missing values (`geom_label_repel()`).”\n",
      "Warning message:\n",
      "“\u001b[1m\u001b[22mRemoved 14016 rows containing missing values (`geom_label_repel()`).”\n",
      "Warning message:\n",
      "“\u001b[1m\u001b[22mRemoved 14307 rows containing missing values (`geom_label_repel()`).”\n",
      "Warning message:\n",
      "“\u001b[1m\u001b[22mRemoved 12895 rows containing missing values (`geom_label_repel()`).”\n",
      "Warning message:\n",
      "“\u001b[1m\u001b[22mRemoved 14015 rows containing missing values (`geom_label_repel()`).”\n",
      "Warning message:\n",
      "“\u001b[1m\u001b[22mRemoved 14368 rows containing missing values (`geom_label_repel()`).”\n",
      "Warning message:\n",
      "“\u001b[1m\u001b[22mRemoved 12846 rows containing missing values (`geom_label_repel()`).”\n",
      "Warning message:\n",
      "“\u001b[1m\u001b[22mRemoved 14238 rows containing missing values (`geom_label_repel()`).”\n",
      "Warning message:\n",
      "“\u001b[1m\u001b[22mRemoved 14453 rows containing missing values (`geom_label_repel()`).”\n",
      "Warning message:\n",
      "“\u001b[1m\u001b[22mRemoved 13055 rows containing missing values (`geom_label_repel()`).”\n",
      "Warning message:\n",
      "“\u001b[1m\u001b[22mRemoved 13956 rows containing missing values (`geom_label_repel()`).”\n",
      "Warning message:\n",
      "“\u001b[1m\u001b[22mRemoved 14311 rows containing missing values (`geom_label_repel()`).”\n",
      "Warning message:\n",
      "“\u001b[1m\u001b[22mRemoved 12900 rows containing missing values (`geom_label_repel()`).”\n",
      "Warning message:\n",
      "“\u001b[1m\u001b[22mRemoved 14040 rows containing missing values (`geom_label_repel()`).”\n",
      "Warning message:\n",
      "“\u001b[1m\u001b[22mRemoved 14315 rows containing missing values (`geom_label_repel()`).”\n",
      "Warning message:\n",
      "“\u001b[1m\u001b[22mRemoved 12913 rows containing missing values (`geom_label_repel()`).”\n"
     ]
    }
   ],
   "source": [
    "plot_list_volcanos <- list()\n",
    "for(drug in pi3k_akt_mtor){\n",
    "    \n",
    "    # 1. Extracting the data\n",
    "    JHOS2_drug <- JHOS2[[drug]]\n",
    "    PDC3_drug <- PDC3[[drug]]\n",
    "    PDC2_drug <- PDC2[[drug]]\n",
    "    \n",
    "    # 2. Adding a column for the labels\n",
    "    JHOS2_drug$label <- NA\n",
    "    PDC3_drug$label <- NA\n",
    "    PDC2_drug$label <- NA\n",
    "    \n",
    "    # 3. Putting the label to the genes of interest. These genes are present everywhere, but when\n",
    "    # they are not significant, they will not get labelles\n",
    "    JHOS2_drug[labelled_genes, \"label\"] <- labelled_genes\n",
    "    PDC3_drug[labelled_genes, \"label\"] <- labelled_genes\n",
    "    PDC2_drug[labelled_genes, \"label\"] <- labelled_genes\n",
    "    \n",
    "    # We remove the labels where there is no significance\n",
    "    JHOS2_drug[JHOS2_drug$FDR > 0.01, \"label\"] <- NA\n",
    "    PDC3_drug[PDC3_drug$FDR > 0.01, \"label\"] <- NA\n",
    "    PDC2_drug[PDC2_drug$FDR > 0.01, \"label\"] <- NA\n",
    "    \n",
    "    # 4. Setting key values for the colors\n",
    "    JHOS2_drug$up_down <- \"no\"\n",
    "    PDC3_drug$up_down <- \"no\"\n",
    "    PDC2_drug$up_down <- \"no\"\n",
    "    \n",
    "    JHOS2_drug[JHOS2_drug$logFC > 0 & JHOS2_drug$FDR < 0.01 & !is.na(JHOS2_drug$label), \"up_down\"] <- \"up\"\n",
    "    JHOS2_drug[JHOS2_drug$logFC < 0 & JHOS2_drug$FDR < 0.01 & !is.na(JHOS2_drug$label), \"up_down\"] <- \"down\"\n",
    "    \n",
    "    PDC3_drug[PDC3_drug$logFC > 0 & PDC3_drug$FDR < 0.01 & !is.na(PDC3_drug$label), \"up_down\"] <- \"up\"\n",
    "    PDC3_drug[PDC3_drug$logFC < 0 & PDC3_drug$FDR < 0.01 & !is.na(PDC3_drug$label), \"up_down\"] <- \"down\"\n",
    "     \n",
    "    PDC2_drug[PDC2_drug$logFC > 0 & PDC2_drug$FDR < 0.01 & !is.na(PDC2_drug$label), \"up_down\"] <- \"up\"\n",
    "    PDC2_drug[PDC2_drug$logFC < 0 & PDC2_drug$FDR < 0.01 & !is.na(PDC2_drug$label), \"up_down\"] <- \"down\"\n",
    "    \n",
    "    # 5. Transforming to log10\n",
    "    JHOS2_drug$log10FDR <- -log10(JHOS2_drug$FDR)\n",
    "    PDC3_drug$log10FDR <- -log10(PDC3_drug$FDR)\n",
    "    PDC2_drug$log10FDR <- -log10(PDC2_drug$FDR)\n",
    "    \n",
    "    # 6. Replacing infs with 350\n",
    "    JHOS2_drug[JHOS2_drug$log10FDR == Inf, \"log10FDR\"] <- 350\n",
    "    PDC3_drug[PDC3_drug$log10FDR == Inf, \"log10FDR\"] <- 350\n",
    "    PDC2_drug[PDC2_drug$log10FDR == Inf, \"log10FDR\"] <- 350\n",
    "    \n",
    "    # 7. Plotting\n",
    "    JHOS2_plot <- ggplot(JHOS2_drug, aes(y = log10FDR, \n",
    "                                 x = logFC, \n",
    "                                col = up_down,\n",
    "                                size = up_down,\n",
    "                                label = label))  +\n",
    "                    geom_point(data = filter(JHOS2_drug, up_down == \"no\"), alpha = .02) + \n",
    "                    geom_point(data = filter(JHOS2_drug, !up_down == \"no\")) +\n",
    "                    scale_size_manual(values = c(\"up\" = 4, \"down\" = 4, \"no\" = 2)) +\n",
    "                    scale_color_manual(values = c(\n",
    "                        \"up\" = \"firebrick\",\n",
    "                        \"down\" = \"royalblue1\",\n",
    "                         \"no\" = \"grey30\"\n",
    "                       )) +\n",
    "                    geom_label_repel(max.overlaps = 100,\n",
    "                        color = \"black\", fill= NA, box.padding = 1\n",
    "                      ) + \n",
    "    ggtitle(paste0(\"JHOS2 \", drug)) +\n",
    "    theme_classic() \n",
    "    \n",
    "    PDC3_plot <- ggplot(PDC3_drug, aes(y = log10FDR, \n",
    "                                 x = logFC, \n",
    "                                col = up_down,\n",
    "                                size = up_down,\n",
    "                                label = label))  +\n",
    "                    geom_point(data = filter(PDC3_drug, up_down == \"no\"), alpha = .02) + \n",
    "                    geom_point(data = filter(PDC3_drug, !up_down == \"no\")) +\n",
    "                    scale_size_manual(values = c(\"up\" = 4, \"down\" = 4, \"no\" = 2)) +\n",
    "                    scale_color_manual(values = c(\n",
    "                        \"up\" = \"firebrick\",\n",
    "                        \"down\" = \"royalblue1\",\n",
    "                         \"no\" = \"grey30\"\n",
    "                       )) +\n",
    "                    geom_label_repel(max.overlaps = 100,\n",
    "                        color = \"black\", fill= NA, box.padding = 1\n",
    "                      ) + \n",
    "    ggtitle(paste0(\"PDC3 \", drug)) +\n",
    "    theme_classic()\n",
    "    \n",
    "    PDC2_plot <- ggplot(PDC2_drug, aes(y = log10FDR,\n",
    "                                 size = up_down,\n",
    "                                 x = logFC, \n",
    "                                col = up_down,\n",
    "                                label = label))  +\n",
    "                    geom_point(data = filter(PDC2_drug, up_down == \"no\"), alpha = .02) + \n",
    "                    geom_point(data = filter(PDC2_drug, !up_down == \"no\")) +\n",
    "                    scale_size_manual(values = c(\"up\" = 4, \"down\" = 4, \"no\" = 2)) +\n",
    "                    scale_color_manual(values = c(\n",
    "                        \"up\" = \"firebrick\",\n",
    "                        \"down\" = \"royalblue1\",\n",
    "                         \"no\" = \"grey30\"\n",
    "                       )) +\n",
    "                    geom_label_repel(max.overlaps = 100,\n",
    "                        color = \"black\", fill= NA, box.padding = 1\n",
    "                      ) + \n",
    "    ggtitle(paste0(\"PDC2 \", drug)) +\n",
    "    theme_classic()\n",
    "    \n",
    "    # Saving individually and as a whole\n",
    "    ggsave(plot = ggarrange(plotlist = list(PDC2_plot, PDC3_plot, JHOS2_plot), ncol = 3), \n",
    "           filename = paste0(drug, \"_PBRs_VolcanoPlot.pdf\"), width = 20, height = 5)\n",
    "\n",
    "    plot_list_volcanos[[paste0(\"JHOS2 \", drug)]] <- JHOS2_plot\n",
    "    plot_list_volcanos[[paste0(\"PDC3 \", drug)]] <- PDC3_plot\n",
    "    plot_list_volcanos[[paste0(\"PDC2 \", drug)]] <- PDC2_plot\n",
    "}"
   ]
  },
  {
   "cell_type": "markdown",
   "id": "ec727ad8",
   "metadata": {},
   "source": [
    "Plotting all the volcanos in the same PDF too."
   ]
  },
  {
   "cell_type": "code",
   "execution_count": 6,
   "id": "875e4f58",
   "metadata": {
    "vscode": {
     "languageId": "r"
    }
   },
   "outputs": [
    {
     "name": "stderr",
     "output_type": "stream",
     "text": [
      "Warning message:\n",
      "“\u001b[1m\u001b[22mRemoved 12953 rows containing missing values (`geom_label_repel()`).”\n",
      "Warning message:\n",
      "“\u001b[1m\u001b[22mRemoved 14361 rows containing missing values (`geom_label_repel()`).”\n",
      "Warning message:\n",
      "“\u001b[1m\u001b[22mRemoved 14108 rows containing missing values (`geom_label_repel()`).”\n",
      "Warning message:\n",
      "“\u001b[1m\u001b[22mRemoved 12885 rows containing missing values (`geom_label_repel()`).”\n",
      "Warning message:\n",
      "“\u001b[1m\u001b[22mRemoved 14343 rows containing missing values (`geom_label_repel()`).”\n",
      "Warning message:\n",
      "“\u001b[1m\u001b[22mRemoved 14014 rows containing missing values (`geom_label_repel()`).”\n",
      "Warning message:\n",
      "“\u001b[1m\u001b[22mRemoved 12957 rows containing missing values (`geom_label_repel()`).”\n",
      "Warning message:\n",
      "“\u001b[1m\u001b[22mRemoved 14396 rows containing missing values (`geom_label_repel()`).”\n",
      "Warning message:\n",
      "“\u001b[1m\u001b[22mRemoved 14117 rows containing missing values (`geom_label_repel()`).”\n",
      "Warning message:\n",
      "“\u001b[1m\u001b[22mRemoved 12986 rows containing missing values (`geom_label_repel()`).”\n",
      "Warning message:\n",
      "“\u001b[1m\u001b[22mRemoved 14389 rows containing missing values (`geom_label_repel()`).”\n",
      "Warning message:\n",
      "“\u001b[1m\u001b[22mRemoved 14123 rows containing missing values (`geom_label_repel()`).”\n",
      "Warning message:\n",
      "“\u001b[1m\u001b[22mRemoved 12891 rows containing missing values (`geom_label_repel()`).”\n",
      "Warning message:\n",
      "“\u001b[1m\u001b[22mRemoved 14320 rows containing missing values (`geom_label_repel()`).”\n",
      "Warning message:\n",
      "“\u001b[1m\u001b[22mRemoved 13997 rows containing missing values (`geom_label_repel()`).”\n",
      "Warning message:\n",
      "“\u001b[1m\u001b[22mRemoved 12887 rows containing missing values (`geom_label_repel()`).”\n",
      "Warning message:\n",
      "“\u001b[1m\u001b[22mRemoved 14376 rows containing missing values (`geom_label_repel()`).”\n",
      "Warning message:\n",
      "“\u001b[1m\u001b[22mRemoved 13969 rows containing missing values (`geom_label_repel()`).”\n",
      "Warning message:\n",
      "“\u001b[1m\u001b[22mRemoved 12895 rows containing missing values (`geom_label_repel()`).”\n",
      "Warning message:\n",
      "“\u001b[1m\u001b[22mRemoved 14307 rows containing missing values (`geom_label_repel()`).”\n",
      "Warning message:\n",
      "“\u001b[1m\u001b[22mRemoved 14016 rows containing missing values (`geom_label_repel()`).”\n",
      "Warning message:\n",
      "“\u001b[1m\u001b[22mRemoved 12846 rows containing missing values (`geom_label_repel()`).”\n",
      "Warning message:\n",
      "“\u001b[1m\u001b[22mRemoved 14368 rows containing missing values (`geom_label_repel()`).”\n",
      "Warning message:\n",
      "“\u001b[1m\u001b[22mRemoved 14015 rows containing missing values (`geom_label_repel()`).”\n",
      "Warning message:\n",
      "“\u001b[1m\u001b[22mRemoved 13055 rows containing missing values (`geom_label_repel()`).”\n",
      "Warning message:\n",
      "“\u001b[1m\u001b[22mRemoved 14453 rows containing missing values (`geom_label_repel()`).”\n",
      "Warning message:\n",
      "“\u001b[1m\u001b[22mRemoved 14238 rows containing missing values (`geom_label_repel()`).”\n",
      "Warning message:\n",
      "“\u001b[1m\u001b[22mRemoved 12900 rows containing missing values (`geom_label_repel()`).”\n",
      "Warning message:\n",
      "“\u001b[1m\u001b[22mRemoved 14311 rows containing missing values (`geom_label_repel()`).”\n",
      "Warning message:\n",
      "“\u001b[1m\u001b[22mRemoved 13956 rows containing missing values (`geom_label_repel()`).”\n",
      "Warning message:\n",
      "“\u001b[1m\u001b[22mRemoved 12913 rows containing missing values (`geom_label_repel()`).”\n",
      "Warning message:\n",
      "“\u001b[1m\u001b[22mRemoved 14315 rows containing missing values (`geom_label_repel()`).”\n",
      "Warning message:\n",
      "“\u001b[1m\u001b[22mRemoved 14040 rows containing missing values (`geom_label_repel()`).”\n"
     ]
    }
   ],
   "source": [
    "ggsave(filename = \"PI3K.AKT.mTORi_PBRs_VolcanoPlots.pdf\", width = 20, height = 50, limitsize = FALSE,\n",
    "       plot = ggarrange(plotlist = plot_list_volcanos, ncol = 3, nrow = 11))"
   ]
  },
  {
   "cell_type": "code",
   "execution_count": 7,
   "id": "0d1a4fcd",
   "metadata": {
    "vscode": {
     "languageId": "r"
    }
   },
   "outputs": [
    {
     "data": {
      "text/plain": [
       "R version 4.2.2 (2022-10-31)\n",
       "Platform: x86_64-conda-linux-gnu (64-bit)\n",
       "Running under: Rocky Linux 8.8 (Green Obsidian)\n",
       "\n",
       "Matrix products: default\n",
       "BLAS/LAPACK: /homedir01/adini22/.conda/envs/cellhashing_analyses/lib/libopenblasp-r0.3.21.so\n",
       "\n",
       "locale:\n",
       " [1] LC_CTYPE=en_US.UTF-8       LC_NUMERIC=C              \n",
       " [3] LC_TIME=en_US.UTF-8        LC_COLLATE=en_US.UTF-8    \n",
       " [5] LC_MONETARY=en_US.UTF-8    LC_MESSAGES=en_US.UTF-8   \n",
       " [7] LC_PAPER=en_US.UTF-8       LC_NAME=C                 \n",
       " [9] LC_ADDRESS=C               LC_TELEPHONE=C            \n",
       "[11] LC_MEASUREMENT=en_US.UTF-8 LC_IDENTIFICATION=C       \n",
       "\n",
       "attached base packages:\n",
       "[1] stats     graphics  grDevices utils     datasets  methods   base     \n",
       "\n",
       "other attached packages:\n",
       "[1] dplyr_1.0.10           ggpubr_0.5.0           EnhancedVolcano_1.16.0\n",
       "[4] ggrepel_0.9.3          ggplot2_3.4.2         \n",
       "\n",
       "loaded via a namespace (and not attached):\n",
       " [1] Rcpp_1.0.10       pillar_1.9.0      compiler_4.2.2    base64enc_0.1-3  \n",
       " [5] tools_4.2.2       digest_0.6.31     uuid_1.1-0        jsonlite_1.8.4   \n",
       " [9] evaluate_0.20     lifecycle_1.0.3   tibble_3.2.1      gtable_0.3.3     \n",
       "[13] pkgconfig_2.0.3   rlang_1.1.0       IRdisplay_1.1     cli_3.6.0        \n",
       "[17] DBI_1.1.3         IRkernel_1.3.1    fastmap_1.1.1     repr_1.1.5       \n",
       "[21] withr_2.5.0       systemfonts_1.0.4 generics_0.1.3    vctrs_0.5.1      \n",
       "[25] cowplot_1.1.1     grid_4.2.2        tidyselect_1.2.0  glue_1.6.2       \n",
       "[29] R6_2.5.1          textshaping_0.3.6 rstatix_0.7.2     fansi_1.0.4      \n",
       "[33] carData_3.0-5     pbdZMQ_0.3-8      farver_2.1.1      car_3.1-2        \n",
       "[37] tidyr_1.2.1       purrr_1.0.1       magrittr_2.0.3    backports_1.4.1  \n",
       "[41] scales_1.2.1      htmltools_0.5.4   abind_1.4-5       assertthat_0.2.1 \n",
       "[45] colorspace_2.1-0  ggsignif_0.6.4    labeling_0.4.2    ragg_1.2.5       \n",
       "[49] utf8_1.2.3        munsell_0.5.0     broom_1.0.4       crayon_1.5.2     "
      ]
     },
     "metadata": {},
     "output_type": "display_data"
    }
   ],
   "source": [
    "sessionInfo()"
   ]
  }
 ],
 "metadata": {
  "kernelspec": {
   "display_name": "R",
   "language": "R",
   "name": "ir"
  },
  "language_info": {
   "codemirror_mode": "r",
   "file_extension": ".r",
   "mimetype": "text/x-r-source",
   "name": "R",
   "pygments_lexer": "r",
   "version": "4.2.2"
  }
 },
 "nbformat": 4,
 "nbformat_minor": 5
}
