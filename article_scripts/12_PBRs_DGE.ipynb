{
 "cells": [
  {
   "cell_type": "markdown",
   "id": "7931a5d1",
   "metadata": {},
   "source": [
    "# Performing differential expression analysis between treatment group and DMSO from pseudobulkreplicates"
   ]
  },
  {
   "cell_type": "code",
   "execution_count": 1,
   "id": "f6ef1779",
   "metadata": {
    "vscode": {
     "languageId": "r"
    }
   },
   "outputs": [],
   "source": [
    "suppressWarnings({suppressPackageStartupMessages({\n",
    "    library(edgeR)\n",
    "    library(parallel)\n",
    "})})    "
   ]
  },
  {
   "cell_type": "markdown",
   "id": "87a10224",
   "metadata": {},
   "source": [
    "Loading data: these objects are a list previously produced and containing as elements matrices with pseudobulk replicates obtained via bootstrapping."
   ]
  },
  {
   "cell_type": "code",
   "execution_count": 2,
   "id": "7e813f0e",
   "metadata": {
    "vscode": {
     "languageId": "r"
    }
   },
   "outputs": [],
   "source": [
    "JHOS2_pseudo <- readRDS(\"JHOS2_pseudobulkreplicates.RDS\")\n",
    "PDC3_pseudo <- readRDS(\"PDC3_pseudobulkreplicates.RDS\")\n",
    "PDC2_pseudo <- readRDS(\"PDC2_pseudobulkreplicates.RDS\")"
   ]
  },
  {
   "cell_type": "markdown",
   "id": "44fd4a62",
   "metadata": {},
   "source": [
    "Putting the drug names as element names in each list to ease iteration and downstream analyses. "
   ]
  },
  {
   "cell_type": "code",
   "execution_count": 3,
   "id": "4431e4ff",
   "metadata": {
    "vscode": {
     "languageId": "r"
    }
   },
   "outputs": [],
   "source": [
    "drug_names <- unique(sapply(JHOS2_pseudo, function(x) strsplit(x = colnames(x), split = \"_\")[[1]][2]))\n",
    "names(JHOS2_pseudo) <- names(PDC3_pseudo) <- names(PDC2_pseudo) <- drug_names"
   ]
  },
  {
   "cell_type": "code",
   "execution_count": 4,
   "id": "59e00be6",
   "metadata": {
    "vscode": {
     "languageId": "r"
    }
   },
   "outputs": [
    {
     "data": {
      "text/html": [
       "<table class=\"dataframe\">\n",
       "<caption>A matrix: 6 × 6000 of type dbl</caption>\n",
       "<thead>\n",
       "\t<tr><th></th><th scope=col>JHOS2_DMSO_1_1</th><th scope=col>JHOS2_DMSO_1_2</th><th scope=col>JHOS2_DMSO_1_3</th><th scope=col>JHOS2_DMSO_1_4</th><th scope=col>JHOS2_DMSO_1_5</th><th scope=col>JHOS2_DMSO_1_6</th><th scope=col>JHOS2_DMSO_1_7</th><th scope=col>JHOS2_DMSO_1_8</th><th scope=col>JHOS2_DMSO_1_9</th><th scope=col>JHOS2_DMSO_1_10</th><th scope=col>⋯</th><th scope=col>JHOS2_DMSO_6_991</th><th scope=col>JHOS2_DMSO_6_992</th><th scope=col>JHOS2_DMSO_6_993</th><th scope=col>JHOS2_DMSO_6_994</th><th scope=col>JHOS2_DMSO_6_995</th><th scope=col>JHOS2_DMSO_6_996</th><th scope=col>JHOS2_DMSO_6_997</th><th scope=col>JHOS2_DMSO_6_998</th><th scope=col>JHOS2_DMSO_6_999</th><th scope=col>JHOS2_DMSO_6_1000</th></tr>\n",
       "</thead>\n",
       "<tbody>\n",
       "\t<tr><th scope=row>MIR1302-2HG</th><td> 0</td><td> 0</td><td> 0</td><td> 0</td><td> 0</td><td> 0</td><td> 0</td><td> 0</td><td> 0</td><td> 0</td><td>⋯</td><td> 0</td><td> 0</td><td> 0</td><td> 0</td><td> 0</td><td> 0</td><td> 0</td><td> 0</td><td> 0</td><td> 0</td></tr>\n",
       "\t<tr><th scope=row>AL627309.1</th><td> 0</td><td> 1</td><td> 2</td><td> 3</td><td> 0</td><td> 1</td><td> 1</td><td> 0</td><td> 0</td><td> 0</td><td>⋯</td><td> 0</td><td> 0</td><td> 0</td><td> 0</td><td> 0</td><td> 0</td><td> 0</td><td> 0</td><td> 0</td><td> 0</td></tr>\n",
       "\t<tr><th scope=row>AL627309.5</th><td> 2</td><td> 1</td><td> 1</td><td> 2</td><td> 1</td><td> 1</td><td> 1</td><td> 0</td><td> 1</td><td> 1</td><td>⋯</td><td> 3</td><td> 3</td><td> 1</td><td> 3</td><td> 2</td><td> 3</td><td> 4</td><td> 3</td><td> 1</td><td> 2</td></tr>\n",
       "\t<tr><th scope=row>AP006222.2</th><td> 0</td><td> 0</td><td> 0</td><td> 0</td><td> 0</td><td> 0</td><td> 0</td><td> 0</td><td> 0</td><td> 0</td><td>⋯</td><td> 0</td><td> 0</td><td> 0</td><td> 0</td><td> 0</td><td> 0</td><td> 0</td><td> 0</td><td> 0</td><td> 0</td></tr>\n",
       "\t<tr><th scope=row>AL669831.2</th><td> 0</td><td> 0</td><td> 0</td><td> 0</td><td> 0</td><td> 0</td><td> 0</td><td> 0</td><td> 0</td><td> 0</td><td>⋯</td><td> 0</td><td> 0</td><td> 0</td><td> 0</td><td> 0</td><td> 0</td><td> 0</td><td> 0</td><td> 0</td><td> 0</td></tr>\n",
       "\t<tr><th scope=row>LINC01409</th><td>33</td><td>29</td><td>28</td><td>30</td><td>19</td><td>30</td><td>34</td><td>19</td><td>29</td><td>30</td><td>⋯</td><td>20</td><td>22</td><td>20</td><td>21</td><td>15</td><td>17</td><td>14</td><td>16</td><td>12</td><td>15</td></tr>\n",
       "</tbody>\n",
       "</table>\n"
      ],
      "text/latex": [
       "A matrix: 6 × 6000 of type dbl\n",
       "\\begin{tabular}{r|lllllllllllllllllllll}\n",
       "  & JHOS2\\_DMSO\\_1\\_1 & JHOS2\\_DMSO\\_1\\_2 & JHOS2\\_DMSO\\_1\\_3 & JHOS2\\_DMSO\\_1\\_4 & JHOS2\\_DMSO\\_1\\_5 & JHOS2\\_DMSO\\_1\\_6 & JHOS2\\_DMSO\\_1\\_7 & JHOS2\\_DMSO\\_1\\_8 & JHOS2\\_DMSO\\_1\\_9 & JHOS2\\_DMSO\\_1\\_10 & ⋯ & JHOS2\\_DMSO\\_6\\_991 & JHOS2\\_DMSO\\_6\\_992 & JHOS2\\_DMSO\\_6\\_993 & JHOS2\\_DMSO\\_6\\_994 & JHOS2\\_DMSO\\_6\\_995 & JHOS2\\_DMSO\\_6\\_996 & JHOS2\\_DMSO\\_6\\_997 & JHOS2\\_DMSO\\_6\\_998 & JHOS2\\_DMSO\\_6\\_999 & JHOS2\\_DMSO\\_6\\_1000\\\\\n",
       "\\hline\n",
       "\tMIR1302-2HG &  0 &  0 &  0 &  0 &  0 &  0 &  0 &  0 &  0 &  0 & ⋯ &  0 &  0 &  0 &  0 &  0 &  0 &  0 &  0 &  0 &  0\\\\\n",
       "\tAL627309.1 &  0 &  1 &  2 &  3 &  0 &  1 &  1 &  0 &  0 &  0 & ⋯ &  0 &  0 &  0 &  0 &  0 &  0 &  0 &  0 &  0 &  0\\\\\n",
       "\tAL627309.5 &  2 &  1 &  1 &  2 &  1 &  1 &  1 &  0 &  1 &  1 & ⋯ &  3 &  3 &  1 &  3 &  2 &  3 &  4 &  3 &  1 &  2\\\\\n",
       "\tAP006222.2 &  0 &  0 &  0 &  0 &  0 &  0 &  0 &  0 &  0 &  0 & ⋯ &  0 &  0 &  0 &  0 &  0 &  0 &  0 &  0 &  0 &  0\\\\\n",
       "\tAL669831.2 &  0 &  0 &  0 &  0 &  0 &  0 &  0 &  0 &  0 &  0 & ⋯ &  0 &  0 &  0 &  0 &  0 &  0 &  0 &  0 &  0 &  0\\\\\n",
       "\tLINC01409 & 33 & 29 & 28 & 30 & 19 & 30 & 34 & 19 & 29 & 30 & ⋯ & 20 & 22 & 20 & 21 & 15 & 17 & 14 & 16 & 12 & 15\\\\\n",
       "\\end{tabular}\n"
      ],
      "text/markdown": [
       "\n",
       "A matrix: 6 × 6000 of type dbl\n",
       "\n",
       "| <!--/--> | JHOS2_DMSO_1_1 | JHOS2_DMSO_1_2 | JHOS2_DMSO_1_3 | JHOS2_DMSO_1_4 | JHOS2_DMSO_1_5 | JHOS2_DMSO_1_6 | JHOS2_DMSO_1_7 | JHOS2_DMSO_1_8 | JHOS2_DMSO_1_9 | JHOS2_DMSO_1_10 | ⋯ | JHOS2_DMSO_6_991 | JHOS2_DMSO_6_992 | JHOS2_DMSO_6_993 | JHOS2_DMSO_6_994 | JHOS2_DMSO_6_995 | JHOS2_DMSO_6_996 | JHOS2_DMSO_6_997 | JHOS2_DMSO_6_998 | JHOS2_DMSO_6_999 | JHOS2_DMSO_6_1000 |\n",
       "|---|---|---|---|---|---|---|---|---|---|---|---|---|---|---|---|---|---|---|---|---|---|\n",
       "| MIR1302-2HG |  0 |  0 |  0 |  0 |  0 |  0 |  0 |  0 |  0 |  0 | ⋯ |  0 |  0 |  0 |  0 |  0 |  0 |  0 |  0 |  0 |  0 |\n",
       "| AL627309.1 |  0 |  1 |  2 |  3 |  0 |  1 |  1 |  0 |  0 |  0 | ⋯ |  0 |  0 |  0 |  0 |  0 |  0 |  0 |  0 |  0 |  0 |\n",
       "| AL627309.5 |  2 |  1 |  1 |  2 |  1 |  1 |  1 |  0 |  1 |  1 | ⋯ |  3 |  3 |  1 |  3 |  2 |  3 |  4 |  3 |  1 |  2 |\n",
       "| AP006222.2 |  0 |  0 |  0 |  0 |  0 |  0 |  0 |  0 |  0 |  0 | ⋯ |  0 |  0 |  0 |  0 |  0 |  0 |  0 |  0 |  0 |  0 |\n",
       "| AL669831.2 |  0 |  0 |  0 |  0 |  0 |  0 |  0 |  0 |  0 |  0 | ⋯ |  0 |  0 |  0 |  0 |  0 |  0 |  0 |  0 |  0 |  0 |\n",
       "| LINC01409 | 33 | 29 | 28 | 30 | 19 | 30 | 34 | 19 | 29 | 30 | ⋯ | 20 | 22 | 20 | 21 | 15 | 17 | 14 | 16 | 12 | 15 |\n",
       "\n"
      ],
      "text/plain": [
       "            JHOS2_DMSO_1_1 JHOS2_DMSO_1_2 JHOS2_DMSO_1_3 JHOS2_DMSO_1_4\n",
       "MIR1302-2HG  0              0              0              0            \n",
       "AL627309.1   0              1              2              3            \n",
       "AL627309.5   2              1              1              2            \n",
       "AP006222.2   0              0              0              0            \n",
       "AL669831.2   0              0              0              0            \n",
       "LINC01409   33             29             28             30            \n",
       "            JHOS2_DMSO_1_5 JHOS2_DMSO_1_6 JHOS2_DMSO_1_7 JHOS2_DMSO_1_8\n",
       "MIR1302-2HG  0              0              0              0            \n",
       "AL627309.1   0              1              1              0            \n",
       "AL627309.5   1              1              1              0            \n",
       "AP006222.2   0              0              0              0            \n",
       "AL669831.2   0              0              0              0            \n",
       "LINC01409   19             30             34             19            \n",
       "            JHOS2_DMSO_1_9 JHOS2_DMSO_1_10 ⋯ JHOS2_DMSO_6_991 JHOS2_DMSO_6_992\n",
       "MIR1302-2HG  0              0              ⋯  0                0              \n",
       "AL627309.1   0              0              ⋯  0                0              \n",
       "AL627309.5   1              1              ⋯  3                3              \n",
       "AP006222.2   0              0              ⋯  0                0              \n",
       "AL669831.2   0              0              ⋯  0                0              \n",
       "LINC01409   29             30              ⋯ 20               22              \n",
       "            JHOS2_DMSO_6_993 JHOS2_DMSO_6_994 JHOS2_DMSO_6_995 JHOS2_DMSO_6_996\n",
       "MIR1302-2HG  0                0                0                0              \n",
       "AL627309.1   0                0                0                0              \n",
       "AL627309.5   1                3                2                3              \n",
       "AP006222.2   0                0                0                0              \n",
       "AL669831.2   0                0                0                0              \n",
       "LINC01409   20               21               15               17              \n",
       "            JHOS2_DMSO_6_997 JHOS2_DMSO_6_998 JHOS2_DMSO_6_999\n",
       "MIR1302-2HG  0                0                0              \n",
       "AL627309.1   0                0                0              \n",
       "AL627309.5   4                3                1              \n",
       "AP006222.2   0                0                0              \n",
       "AL669831.2   0                0                0              \n",
       "LINC01409   14               16               12              \n",
       "            JHOS2_DMSO_6_1000\n",
       "MIR1302-2HG  0               \n",
       "AL627309.1   0               \n",
       "AL627309.5   2               \n",
       "AP006222.2   0               \n",
       "AL669831.2   0               \n",
       "LINC01409   15               "
      ]
     },
     "metadata": {},
     "output_type": "display_data"
    }
   ],
   "source": [
    "head(JHOS2_pseudo$DMSO)"
   ]
  },
  {
   "cell_type": "code",
   "execution_count": 5,
   "id": "713eec70",
   "metadata": {
    "scrolled": true,
    "vscode": {
     "languageId": "r"
    }
   },
   "outputs": [
    {
     "data": {
      "text/html": [
       "<table class=\"dataframe\">\n",
       "<caption>A matrix: 6 × 6000 of type dbl</caption>\n",
       "<thead>\n",
       "\t<tr><th></th><th scope=col>PDC1_DMSO_1_1</th><th scope=col>PDC1_DMSO_1_2</th><th scope=col>PDC1_DMSO_1_3</th><th scope=col>PDC1_DMSO_1_4</th><th scope=col>PDC1_DMSO_1_5</th><th scope=col>PDC1_DMSO_1_6</th><th scope=col>PDC1_DMSO_1_7</th><th scope=col>PDC1_DMSO_1_8</th><th scope=col>PDC1_DMSO_1_9</th><th scope=col>PDC1_DMSO_1_10</th><th scope=col>⋯</th><th scope=col>PDC1_DMSO_6_991</th><th scope=col>PDC1_DMSO_6_992</th><th scope=col>PDC1_DMSO_6_993</th><th scope=col>PDC1_DMSO_6_994</th><th scope=col>PDC1_DMSO_6_995</th><th scope=col>PDC1_DMSO_6_996</th><th scope=col>PDC1_DMSO_6_997</th><th scope=col>PDC1_DMSO_6_998</th><th scope=col>PDC1_DMSO_6_999</th><th scope=col>PDC1_DMSO_6_1000</th></tr>\n",
       "</thead>\n",
       "<tbody>\n",
       "\t<tr><th scope=row>MIR1302-2HG</th><td> 0</td><td> 0</td><td> 0</td><td> 0</td><td> 0</td><td> 0</td><td> 0</td><td> 0</td><td> 0</td><td> 0</td><td>⋯</td><td> 0</td><td> 0</td><td> 0</td><td> 0</td><td> 0</td><td> 0</td><td> 0</td><td> 0</td><td> 0</td><td> 0</td></tr>\n",
       "\t<tr><th scope=row>AL627309.1</th><td> 6</td><td> 8</td><td> 4</td><td>10</td><td> 7</td><td> 9</td><td>11</td><td> 6</td><td> 5</td><td> 8</td><td>⋯</td><td> 7</td><td> 4</td><td> 4</td><td> 2</td><td> 3</td><td> 4</td><td> 3</td><td> 3</td><td> 3</td><td> 4</td></tr>\n",
       "\t<tr><th scope=row>AL627309.5</th><td> 4</td><td> 2</td><td> 3</td><td> 1</td><td> 2</td><td> 7</td><td> 1</td><td> 1</td><td> 4</td><td> 3</td><td>⋯</td><td> 2</td><td>11</td><td>10</td><td> 6</td><td> 7</td><td> 4</td><td> 5</td><td> 9</td><td>10</td><td>10</td></tr>\n",
       "\t<tr><th scope=row>AP006222.2</th><td> 0</td><td> 0</td><td> 0</td><td> 0</td><td> 0</td><td> 0</td><td> 0</td><td> 0</td><td> 0</td><td> 0</td><td>⋯</td><td> 0</td><td> 0</td><td> 0</td><td> 0</td><td> 0</td><td> 0</td><td> 0</td><td> 0</td><td> 0</td><td> 0</td></tr>\n",
       "\t<tr><th scope=row>AL669831.2</th><td> 0</td><td> 0</td><td> 0</td><td> 0</td><td> 0</td><td> 0</td><td> 0</td><td> 0</td><td> 0</td><td> 0</td><td>⋯</td><td> 0</td><td> 0</td><td> 0</td><td> 0</td><td> 0</td><td> 0</td><td> 0</td><td> 0</td><td> 0</td><td> 0</td></tr>\n",
       "\t<tr><th scope=row>LINC01409</th><td>25</td><td>28</td><td>42</td><td>42</td><td>27</td><td>32</td><td>37</td><td>42</td><td>22</td><td>28</td><td>⋯</td><td>27</td><td>26</td><td>22</td><td>31</td><td>19</td><td>29</td><td>22</td><td>18</td><td>20</td><td>15</td></tr>\n",
       "</tbody>\n",
       "</table>\n"
      ],
      "text/latex": [
       "A matrix: 6 × 6000 of type dbl\n",
       "\\begin{tabular}{r|lllllllllllllllllllll}\n",
       "  & PDC1\\_DMSO\\_1\\_1 & PDC1\\_DMSO\\_1\\_2 & PDC1\\_DMSO\\_1\\_3 & PDC1\\_DMSO\\_1\\_4 & PDC1\\_DMSO\\_1\\_5 & PDC1\\_DMSO\\_1\\_6 & PDC1\\_DMSO\\_1\\_7 & PDC1\\_DMSO\\_1\\_8 & PDC1\\_DMSO\\_1\\_9 & PDC1\\_DMSO\\_1\\_10 & ⋯ & PDC1\\_DMSO\\_6\\_991 & PDC1\\_DMSO\\_6\\_992 & PDC1\\_DMSO\\_6\\_993 & PDC1\\_DMSO\\_6\\_994 & PDC1\\_DMSO\\_6\\_995 & PDC1\\_DMSO\\_6\\_996 & PDC1\\_DMSO\\_6\\_997 & PDC1\\_DMSO\\_6\\_998 & PDC1\\_DMSO\\_6\\_999 & PDC1\\_DMSO\\_6\\_1000\\\\\n",
       "\\hline\n",
       "\tMIR1302-2HG &  0 &  0 &  0 &  0 &  0 &  0 &  0 &  0 &  0 &  0 & ⋯ &  0 &  0 &  0 &  0 &  0 &  0 &  0 &  0 &  0 &  0\\\\\n",
       "\tAL627309.1 &  6 &  8 &  4 & 10 &  7 &  9 & 11 &  6 &  5 &  8 & ⋯ &  7 &  4 &  4 &  2 &  3 &  4 &  3 &  3 &  3 &  4\\\\\n",
       "\tAL627309.5 &  4 &  2 &  3 &  1 &  2 &  7 &  1 &  1 &  4 &  3 & ⋯ &  2 & 11 & 10 &  6 &  7 &  4 &  5 &  9 & 10 & 10\\\\\n",
       "\tAP006222.2 &  0 &  0 &  0 &  0 &  0 &  0 &  0 &  0 &  0 &  0 & ⋯ &  0 &  0 &  0 &  0 &  0 &  0 &  0 &  0 &  0 &  0\\\\\n",
       "\tAL669831.2 &  0 &  0 &  0 &  0 &  0 &  0 &  0 &  0 &  0 &  0 & ⋯ &  0 &  0 &  0 &  0 &  0 &  0 &  0 &  0 &  0 &  0\\\\\n",
       "\tLINC01409 & 25 & 28 & 42 & 42 & 27 & 32 & 37 & 42 & 22 & 28 & ⋯ & 27 & 26 & 22 & 31 & 19 & 29 & 22 & 18 & 20 & 15\\\\\n",
       "\\end{tabular}\n"
      ],
      "text/markdown": [
       "\n",
       "A matrix: 6 × 6000 of type dbl\n",
       "\n",
       "| <!--/--> | PDC1_DMSO_1_1 | PDC1_DMSO_1_2 | PDC1_DMSO_1_3 | PDC1_DMSO_1_4 | PDC1_DMSO_1_5 | PDC1_DMSO_1_6 | PDC1_DMSO_1_7 | PDC1_DMSO_1_8 | PDC1_DMSO_1_9 | PDC1_DMSO_1_10 | ⋯ | PDC1_DMSO_6_991 | PDC1_DMSO_6_992 | PDC1_DMSO_6_993 | PDC1_DMSO_6_994 | PDC1_DMSO_6_995 | PDC1_DMSO_6_996 | PDC1_DMSO_6_997 | PDC1_DMSO_6_998 | PDC1_DMSO_6_999 | PDC1_DMSO_6_1000 |\n",
       "|---|---|---|---|---|---|---|---|---|---|---|---|---|---|---|---|---|---|---|---|---|---|\n",
       "| MIR1302-2HG |  0 |  0 |  0 |  0 |  0 |  0 |  0 |  0 |  0 |  0 | ⋯ |  0 |  0 |  0 |  0 |  0 |  0 |  0 |  0 |  0 |  0 |\n",
       "| AL627309.1 |  6 |  8 |  4 | 10 |  7 |  9 | 11 |  6 |  5 |  8 | ⋯ |  7 |  4 |  4 |  2 |  3 |  4 |  3 |  3 |  3 |  4 |\n",
       "| AL627309.5 |  4 |  2 |  3 |  1 |  2 |  7 |  1 |  1 |  4 |  3 | ⋯ |  2 | 11 | 10 |  6 |  7 |  4 |  5 |  9 | 10 | 10 |\n",
       "| AP006222.2 |  0 |  0 |  0 |  0 |  0 |  0 |  0 |  0 |  0 |  0 | ⋯ |  0 |  0 |  0 |  0 |  0 |  0 |  0 |  0 |  0 |  0 |\n",
       "| AL669831.2 |  0 |  0 |  0 |  0 |  0 |  0 |  0 |  0 |  0 |  0 | ⋯ |  0 |  0 |  0 |  0 |  0 |  0 |  0 |  0 |  0 |  0 |\n",
       "| LINC01409 | 25 | 28 | 42 | 42 | 27 | 32 | 37 | 42 | 22 | 28 | ⋯ | 27 | 26 | 22 | 31 | 19 | 29 | 22 | 18 | 20 | 15 |\n",
       "\n"
      ],
      "text/plain": [
       "            PDC1_DMSO_1_1 PDC1_DMSO_1_2 PDC1_DMSO_1_3 PDC1_DMSO_1_4\n",
       "MIR1302-2HG  0             0             0             0           \n",
       "AL627309.1   6             8             4            10           \n",
       "AL627309.5   4             2             3             1           \n",
       "AP006222.2   0             0             0             0           \n",
       "AL669831.2   0             0             0             0           \n",
       "LINC01409   25            28            42            42           \n",
       "            PDC1_DMSO_1_5 PDC1_DMSO_1_6 PDC1_DMSO_1_7 PDC1_DMSO_1_8\n",
       "MIR1302-2HG  0             0             0             0           \n",
       "AL627309.1   7             9            11             6           \n",
       "AL627309.5   2             7             1             1           \n",
       "AP006222.2   0             0             0             0           \n",
       "AL669831.2   0             0             0             0           \n",
       "LINC01409   27            32            37            42           \n",
       "            PDC1_DMSO_1_9 PDC1_DMSO_1_10 ⋯ PDC1_DMSO_6_991 PDC1_DMSO_6_992\n",
       "MIR1302-2HG  0             0             ⋯  0               0             \n",
       "AL627309.1   5             8             ⋯  7               4             \n",
       "AL627309.5   4             3             ⋯  2              11             \n",
       "AP006222.2   0             0             ⋯  0               0             \n",
       "AL669831.2   0             0             ⋯  0               0             \n",
       "LINC01409   22            28             ⋯ 27              26             \n",
       "            PDC1_DMSO_6_993 PDC1_DMSO_6_994 PDC1_DMSO_6_995 PDC1_DMSO_6_996\n",
       "MIR1302-2HG  0               0               0               0             \n",
       "AL627309.1   4               2               3               4             \n",
       "AL627309.5  10               6               7               4             \n",
       "AP006222.2   0               0               0               0             \n",
       "AL669831.2   0               0               0               0             \n",
       "LINC01409   22              31              19              29             \n",
       "            PDC1_DMSO_6_997 PDC1_DMSO_6_998 PDC1_DMSO_6_999 PDC1_DMSO_6_1000\n",
       "MIR1302-2HG  0               0               0               0              \n",
       "AL627309.1   3               3               3               4              \n",
       "AL627309.5   5               9              10              10              \n",
       "AP006222.2   0               0               0               0              \n",
       "AL669831.2   0               0               0               0              \n",
       "LINC01409   22              18              20              15              "
      ]
     },
     "metadata": {},
     "output_type": "display_data"
    }
   ],
   "source": [
    "head(PDC3_pseudo$DMSO)"
   ]
  },
  {
   "cell_type": "code",
   "execution_count": 6,
   "id": "9d2a8ad7",
   "metadata": {
    "scrolled": true,
    "vscode": {
     "languageId": "r"
    }
   },
   "outputs": [
    {
     "data": {
      "text/html": [
       "<table class=\"dataframe\">\n",
       "<caption>A matrix: 6 × 6000 of type dbl</caption>\n",
       "<thead>\n",
       "\t<tr><th></th><th scope=col>PDC2_DMSO_1_1</th><th scope=col>PDC2_DMSO_1_2</th><th scope=col>PDC2_DMSO_1_3</th><th scope=col>PDC2_DMSO_1_4</th><th scope=col>PDC2_DMSO_1_5</th><th scope=col>PDC2_DMSO_1_6</th><th scope=col>PDC2_DMSO_1_7</th><th scope=col>PDC2_DMSO_1_8</th><th scope=col>PDC2_DMSO_1_9</th><th scope=col>PDC2_DMSO_1_10</th><th scope=col>⋯</th><th scope=col>PDC2_DMSO_6_991</th><th scope=col>PDC2_DMSO_6_992</th><th scope=col>PDC2_DMSO_6_993</th><th scope=col>PDC2_DMSO_6_994</th><th scope=col>PDC2_DMSO_6_995</th><th scope=col>PDC2_DMSO_6_996</th><th scope=col>PDC2_DMSO_6_997</th><th scope=col>PDC2_DMSO_6_998</th><th scope=col>PDC2_DMSO_6_999</th><th scope=col>PDC2_DMSO_6_1000</th></tr>\n",
       "</thead>\n",
       "<tbody>\n",
       "\t<tr><th scope=row>MIR1302-2HG</th><td> 0</td><td> 0</td><td> 0</td><td> 0</td><td> 0</td><td> 0</td><td> 0</td><td> 0</td><td> 0</td><td> 0</td><td>⋯</td><td> 0</td><td> 0</td><td> 0</td><td> 0</td><td> 0</td><td> 0</td><td> 0</td><td> 0</td><td> 0</td><td> 0</td></tr>\n",
       "\t<tr><th scope=row>AL627309.1</th><td> 1</td><td> 2</td><td> 2</td><td> 0</td><td> 2</td><td> 0</td><td> 4</td><td> 0</td><td> 1</td><td> 3</td><td>⋯</td><td> 0</td><td> 0</td><td> 0</td><td> 0</td><td> 0</td><td> 0</td><td> 0</td><td> 0</td><td> 0</td><td> 0</td></tr>\n",
       "\t<tr><th scope=row>AL627309.5</th><td> 0</td><td> 0</td><td> 0</td><td> 0</td><td> 0</td><td> 0</td><td> 0</td><td> 0</td><td> 0</td><td> 0</td><td>⋯</td><td> 1</td><td> 1</td><td> 1</td><td> 1</td><td> 2</td><td> 0</td><td> 2</td><td> 1</td><td> 1</td><td> 0</td></tr>\n",
       "\t<tr><th scope=row>AP006222.2</th><td> 7</td><td> 7</td><td> 6</td><td> 4</td><td> 4</td><td> 3</td><td> 4</td><td> 7</td><td> 3</td><td> 9</td><td>⋯</td><td> 0</td><td> 0</td><td> 0</td><td> 0</td><td> 0</td><td> 0</td><td> 0</td><td> 0</td><td> 0</td><td> 0</td></tr>\n",
       "\t<tr><th scope=row>AL669831.2</th><td> 0</td><td> 0</td><td> 0</td><td> 0</td><td> 0</td><td> 0</td><td> 0</td><td> 0</td><td> 0</td><td> 0</td><td>⋯</td><td> 0</td><td> 0</td><td> 0</td><td> 0</td><td> 0</td><td> 0</td><td> 0</td><td> 0</td><td> 0</td><td> 0</td></tr>\n",
       "\t<tr><th scope=row>LINC01409</th><td>41</td><td>31</td><td>47</td><td>48</td><td>54</td><td>41</td><td>37</td><td>44</td><td>47</td><td>42</td><td>⋯</td><td>23</td><td>35</td><td>31</td><td>30</td><td>31</td><td>32</td><td>35</td><td>26</td><td>30</td><td>37</td></tr>\n",
       "</tbody>\n",
       "</table>\n"
      ],
      "text/latex": [
       "A matrix: 6 × 6000 of type dbl\n",
       "\\begin{tabular}{r|lllllllllllllllllllll}\n",
       "  & PDC2\\_DMSO\\_1\\_1 & PDC2\\_DMSO\\_1\\_2 & PDC2\\_DMSO\\_1\\_3 & PDC2\\_DMSO\\_1\\_4 & PDC2\\_DMSO\\_1\\_5 & PDC2\\_DMSO\\_1\\_6 & PDC2\\_DMSO\\_1\\_7 & PDC2\\_DMSO\\_1\\_8 & PDC2\\_DMSO\\_1\\_9 & PDC2\\_DMSO\\_1\\_10 & ⋯ & PDC2\\_DMSO\\_6\\_991 & PDC2\\_DMSO\\_6\\_992 & PDC2\\_DMSO\\_6\\_993 & PDC2\\_DMSO\\_6\\_994 & PDC2\\_DMSO\\_6\\_995 & PDC2\\_DMSO\\_6\\_996 & PDC2\\_DMSO\\_6\\_997 & PDC2\\_DMSO\\_6\\_998 & PDC2\\_DMSO\\_6\\_999 & PDC2\\_DMSO\\_6\\_1000\\\\\n",
       "\\hline\n",
       "\tMIR1302-2HG &  0 &  0 &  0 &  0 &  0 &  0 &  0 &  0 &  0 &  0 & ⋯ &  0 &  0 &  0 &  0 &  0 &  0 &  0 &  0 &  0 &  0\\\\\n",
       "\tAL627309.1 &  1 &  2 &  2 &  0 &  2 &  0 &  4 &  0 &  1 &  3 & ⋯ &  0 &  0 &  0 &  0 &  0 &  0 &  0 &  0 &  0 &  0\\\\\n",
       "\tAL627309.5 &  0 &  0 &  0 &  0 &  0 &  0 &  0 &  0 &  0 &  0 & ⋯ &  1 &  1 &  1 &  1 &  2 &  0 &  2 &  1 &  1 &  0\\\\\n",
       "\tAP006222.2 &  7 &  7 &  6 &  4 &  4 &  3 &  4 &  7 &  3 &  9 & ⋯ &  0 &  0 &  0 &  0 &  0 &  0 &  0 &  0 &  0 &  0\\\\\n",
       "\tAL669831.2 &  0 &  0 &  0 &  0 &  0 &  0 &  0 &  0 &  0 &  0 & ⋯ &  0 &  0 &  0 &  0 &  0 &  0 &  0 &  0 &  0 &  0\\\\\n",
       "\tLINC01409 & 41 & 31 & 47 & 48 & 54 & 41 & 37 & 44 & 47 & 42 & ⋯ & 23 & 35 & 31 & 30 & 31 & 32 & 35 & 26 & 30 & 37\\\\\n",
       "\\end{tabular}\n"
      ],
      "text/markdown": [
       "\n",
       "A matrix: 6 × 6000 of type dbl\n",
       "\n",
       "| <!--/--> | PDC2_DMSO_1_1 | PDC2_DMSO_1_2 | PDC2_DMSO_1_3 | PDC2_DMSO_1_4 | PDC2_DMSO_1_5 | PDC2_DMSO_1_6 | PDC2_DMSO_1_7 | PDC2_DMSO_1_8 | PDC2_DMSO_1_9 | PDC2_DMSO_1_10 | ⋯ | PDC2_DMSO_6_991 | PDC2_DMSO_6_992 | PDC2_DMSO_6_993 | PDC2_DMSO_6_994 | PDC2_DMSO_6_995 | PDC2_DMSO_6_996 | PDC2_DMSO_6_997 | PDC2_DMSO_6_998 | PDC2_DMSO_6_999 | PDC2_DMSO_6_1000 |\n",
       "|---|---|---|---|---|---|---|---|---|---|---|---|---|---|---|---|---|---|---|---|---|---|\n",
       "| MIR1302-2HG |  0 |  0 |  0 |  0 |  0 |  0 |  0 |  0 |  0 |  0 | ⋯ |  0 |  0 |  0 |  0 |  0 |  0 |  0 |  0 |  0 |  0 |\n",
       "| AL627309.1 |  1 |  2 |  2 |  0 |  2 |  0 |  4 |  0 |  1 |  3 | ⋯ |  0 |  0 |  0 |  0 |  0 |  0 |  0 |  0 |  0 |  0 |\n",
       "| AL627309.5 |  0 |  0 |  0 |  0 |  0 |  0 |  0 |  0 |  0 |  0 | ⋯ |  1 |  1 |  1 |  1 |  2 |  0 |  2 |  1 |  1 |  0 |\n",
       "| AP006222.2 |  7 |  7 |  6 |  4 |  4 |  3 |  4 |  7 |  3 |  9 | ⋯ |  0 |  0 |  0 |  0 |  0 |  0 |  0 |  0 |  0 |  0 |\n",
       "| AL669831.2 |  0 |  0 |  0 |  0 |  0 |  0 |  0 |  0 |  0 |  0 | ⋯ |  0 |  0 |  0 |  0 |  0 |  0 |  0 |  0 |  0 |  0 |\n",
       "| LINC01409 | 41 | 31 | 47 | 48 | 54 | 41 | 37 | 44 | 47 | 42 | ⋯ | 23 | 35 | 31 | 30 | 31 | 32 | 35 | 26 | 30 | 37 |\n",
       "\n"
      ],
      "text/plain": [
       "            PDC2_DMSO_1_1 PDC2_DMSO_1_2 PDC2_DMSO_1_3 PDC2_DMSO_1_4\n",
       "MIR1302-2HG  0             0             0             0           \n",
       "AL627309.1   1             2             2             0           \n",
       "AL627309.5   0             0             0             0           \n",
       "AP006222.2   7             7             6             4           \n",
       "AL669831.2   0             0             0             0           \n",
       "LINC01409   41            31            47            48           \n",
       "            PDC2_DMSO_1_5 PDC2_DMSO_1_6 PDC2_DMSO_1_7 PDC2_DMSO_1_8\n",
       "MIR1302-2HG  0             0             0             0           \n",
       "AL627309.1   2             0             4             0           \n",
       "AL627309.5   0             0             0             0           \n",
       "AP006222.2   4             3             4             7           \n",
       "AL669831.2   0             0             0             0           \n",
       "LINC01409   54            41            37            44           \n",
       "            PDC2_DMSO_1_9 PDC2_DMSO_1_10 ⋯ PDC2_DMSO_6_991 PDC2_DMSO_6_992\n",
       "MIR1302-2HG  0             0             ⋯  0               0             \n",
       "AL627309.1   1             3             ⋯  0               0             \n",
       "AL627309.5   0             0             ⋯  1               1             \n",
       "AP006222.2   3             9             ⋯  0               0             \n",
       "AL669831.2   0             0             ⋯  0               0             \n",
       "LINC01409   47            42             ⋯ 23              35             \n",
       "            PDC2_DMSO_6_993 PDC2_DMSO_6_994 PDC2_DMSO_6_995 PDC2_DMSO_6_996\n",
       "MIR1302-2HG  0               0               0               0             \n",
       "AL627309.1   0               0               0               0             \n",
       "AL627309.5   1               1               2               0             \n",
       "AP006222.2   0               0               0               0             \n",
       "AL669831.2   0               0               0               0             \n",
       "LINC01409   31              30              31              32             \n",
       "            PDC2_DMSO_6_997 PDC2_DMSO_6_998 PDC2_DMSO_6_999 PDC2_DMSO_6_1000\n",
       "MIR1302-2HG  0               0               0               0              \n",
       "AL627309.1   0               0               0               0              \n",
       "AL627309.5   2               1               1               0              \n",
       "AP006222.2   0               0               0               0              \n",
       "AL669831.2   0               0               0               0              \n",
       "LINC01409   35              26              30              37              "
      ]
     },
     "metadata": {},
     "output_type": "display_data"
    }
   ],
   "source": [
    "head(PDC2_pseudo$DMSO)"
   ]
  },
  {
   "cell_type": "code",
   "execution_count": 7,
   "id": "acf5afaa",
   "metadata": {
    "vscode": {
     "languageId": "r"
    }
   },
   "outputs": [
    {
     "data": {
      "text/html": [
       "46"
      ],
      "text/latex": [
       "46"
      ],
      "text/markdown": [
       "46"
      ],
      "text/plain": [
       "[1] 46"
      ]
     },
     "metadata": {},
     "output_type": "display_data"
    }
   ],
   "source": [
    "length(drug_names)"
   ]
  },
  {
   "cell_type": "markdown",
   "id": "d3997ab9",
   "metadata": {},
   "source": [
    "Now we can iterate in them. The first element is always DMSO, and we store it. Also, it is the biggest one."
   ]
  },
  {
   "cell_type": "code",
   "execution_count": 8,
   "id": "160a1214",
   "metadata": {
    "vscode": {
     "languageId": "r"
    }
   },
   "outputs": [],
   "source": [
    "JHOS2_pseudo_DMSO <- JHOS2_pseudo$DMSO\n",
    "PDC3_pseudo_DMSO <- PDC3_pseudo$DMSO\n",
    "PDC2_pseudo_DMSO <- PDC2_pseudo$DMSO"
   ]
  },
  {
   "cell_type": "markdown",
   "id": "54245343",
   "metadata": {},
   "source": [
    "We devise a function for differential expression analysis."
   ]
  },
  {
   "cell_type": "code",
   "execution_count": 9,
   "id": "5ad9004a",
   "metadata": {
    "vscode": {
     "languageId": "r"
    }
   },
   "outputs": [],
   "source": [
    "edgeR_diffExpress_PBRs <- function(control_dataset, drug_dataset, drug){\n",
    "    \n",
    "    # Binding control and drug dataset\n",
    "    dataset <- cbind(control_dataset, drug_dataset) \n",
    "    \n",
    "    # Groups identification\n",
    "    groups <- sapply(colnames(dataset), function(x) strsplit(x = x, split = \"_\")[[1]][2]) \n",
    "                     \n",
    "    # Instead of the drug name, we will put \"Treatment\" to make the function generalizable\n",
    "    groups[groups != \"DMSO\"] <- \"Treatment\" \n",
    "    groups[groups == \"DMSO\"] <- \"Control\"                 \n",
    "    groups <- factor(groups, levels = c(\"Control\", \"Treatment\")) # Needs to be fixed to DMSO and drug\n",
    "    \n",
    "    # Creating a DGE list object                 \n",
    "    dge_obj <- DGEList(counts = dataset, group = groups, remove.zeros = TRUE) \n",
    "                     \n",
    "    # Average log CPM to perform filterings based on the previous histograms                 \n",
    "    avglogCPM <- aveLogCPM(dge_obj)          \n",
    "    keep <- (avglogCPM > 1)\n",
    "    dge_obj_filtered <- dge_obj[keep, ]\n",
    "                     \n",
    "    # Normalization                 \n",
    "    dge_obj_filtered <- calcNormFactors(dge_obj_filtered)\n",
    "                                 \n",
    "    # Preparing the design matrix and estimating the NB dispersions               \n",
    "    design <- model.matrix(~0 + groups)\n",
    "    colnames(design) <- levels(groups)\n",
    "    dge_obj_filtered <- estimateDisp(dge_obj_filtered, design = design, robust = TRUE)\n",
    "    \n",
    "    # Fitting the model\n",
    "    fit <- glmQLFit(dge_obj_filtered, design = design)\n",
    "                     \n",
    "    # Running the test, specifying the comparison\n",
    "    # Positive logFC = higher in treatment\n",
    "    qlf <- glmQLFTest(fit, contrast = makeContrasts(DrugVsDMSO = Treatment - Control, levels = design)) \n",
    "                     \n",
    "    # Return results, BH p-value adjustment                 \n",
    "    tt <- topTags(qlf, n = Inf)\n",
    "    return(tt$table)\n",
    "}"
   ]
  },
  {
   "cell_type": "markdown",
   "id": "23cf9df9",
   "metadata": {},
   "source": [
    "Differential expression, 3 or 4 cores max as RAM goes high fast."
   ]
  },
  {
   "cell_type": "code",
   "execution_count": 10,
   "id": "43f4d3ea",
   "metadata": {
    "vscode": {
     "languageId": "r"
    }
   },
   "outputs": [],
   "source": [
    "JHOS2_diffexpress <- mclapply(X = drug_names[-1], \n",
    "                              function(x) edgeR_diffExpress_PBRs(JHOS2_pseudo_DMSO, JHOS2_pseudo[[x]], x), \n",
    "                        mc.cores = 4)\n",
    "names(JHOS2_diffexpress) <- drug_names[-1]\n",
    "saveRDS(object = JHOS2_diffexpress, file = \"JHOS2_PBRs_diffexpress.RDS\")"
   ]
  },
  {
   "cell_type": "code",
   "execution_count": 11,
   "id": "622f6c0d",
   "metadata": {
    "vscode": {
     "languageId": "r"
    }
   },
   "outputs": [],
   "source": [
    "PDC3_diffexpress <- mclapply(X = drug_names[-1], \n",
    "                              function(x) edgeR_diffExpress_PBRs(PDC3_pseudo_DMSO, PDC3_pseudo[[x]], x), \n",
    "                        mc.cores = 4)\n",
    "names(PDC3_diffexpress) <- drug_names[-1]\n",
    "saveRDS(object = PDC3_diffexpress, file = \"PDC3_PBRs_diffexpress.RDS\")"
   ]
  },
  {
   "cell_type": "code",
   "execution_count": 12,
   "id": "4855c4ab",
   "metadata": {
    "vscode": {
     "languageId": "r"
    }
   },
   "outputs": [],
   "source": [
    "PDC2_diffexpress <- mclapply(X = drug_names[-1], \n",
    "                              function(x) edgeR_diffExpress_PBRs(PDC2_pseudo_DMSO, PDC2_pseudo[[x]], x), \n",
    "                        mc.cores = 4)\n",
    "names(PDC2_diffexpress) <- drug_names[-1]\n",
    "saveRDS(object = PDC2_diffexpress, file = \"PDC2_PBRs_diffexpress.RDS\")"
   ]
  },
  {
   "cell_type": "code",
   "execution_count": 13,
   "id": "9f91200f",
   "metadata": {
    "vscode": {
     "languageId": "r"
    }
   },
   "outputs": [
    {
     "data": {
      "text/plain": [
       "R version 4.2.2 (2022-10-31)\n",
       "Platform: x86_64-conda-linux-gnu (64-bit)\n",
       "Running under: Rocky Linux 8.8 (Green Obsidian)\n",
       "\n",
       "Matrix products: default\n",
       "BLAS/LAPACK: /homedir01/adini22/.conda/envs/cellhashing_analyses/lib/libopenblasp-r0.3.21.so\n",
       "\n",
       "locale:\n",
       " [1] LC_CTYPE=en_US.UTF-8       LC_NUMERIC=C              \n",
       " [3] LC_TIME=en_US.UTF-8        LC_COLLATE=en_US.UTF-8    \n",
       " [5] LC_MONETARY=en_US.UTF-8    LC_MESSAGES=en_US.UTF-8   \n",
       " [7] LC_PAPER=en_US.UTF-8       LC_NAME=C                 \n",
       " [9] LC_ADDRESS=C               LC_TELEPHONE=C            \n",
       "[11] LC_MEASUREMENT=en_US.UTF-8 LC_IDENTIFICATION=C       \n",
       "\n",
       "attached base packages:\n",
       "[1] parallel  stats     graphics  grDevices utils     datasets  methods  \n",
       "[8] base     \n",
       "\n",
       "other attached packages:\n",
       "[1] edgeR_3.40.2 limma_3.54.2\n",
       "\n",
       "loaded via a namespace (and not attached):\n",
       " [1] Rcpp_1.0.10     uuid_1.1-0      lattice_0.20-45 rlang_1.1.0    \n",
       " [5] fastmap_1.1.1   fansi_1.0.4     tools_4.2.2     grid_4.2.2     \n",
       " [9] utf8_1.2.3      cli_3.6.0       htmltools_0.5.4 digest_0.6.31  \n",
       "[13] lifecycle_1.0.3 crayon_1.5.2    IRdisplay_1.1   repr_1.1.5     \n",
       "[17] base64enc_0.1-3 vctrs_0.5.1     IRkernel_1.3.1  glue_1.6.2     \n",
       "[21] evaluate_0.20   pbdZMQ_0.3-8    compiler_4.2.2  pillar_1.9.0   \n",
       "[25] locfit_1.5-9.7  jsonlite_1.8.4 "
      ]
     },
     "metadata": {},
     "output_type": "display_data"
    }
   ],
   "source": [
    "sessionInfo()"
   ]
  }
 ],
 "metadata": {
  "kernelspec": {
   "display_name": "R",
   "language": "R",
   "name": "ir"
  },
  "language_info": {
   "codemirror_mode": "r",
   "file_extension": ".r",
   "mimetype": "text/x-r-source",
   "name": "R",
   "pygments_lexer": "r",
   "version": "4.2.2"
  }
 },
 "nbformat": 4,
 "nbformat_minor": 5
}
