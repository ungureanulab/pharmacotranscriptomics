{
 "cells": [
  {
   "cell_type": "markdown",
   "id": "d390ad9d",
   "metadata": {},
   "source": [
    "# Dot plot of expression of cell type markers in the data"
   ]
  },
  {
   "cell_type": "code",
   "execution_count": 1,
   "id": "934f9df1",
   "metadata": {},
   "outputs": [],
   "source": [
    "suppressWarnings({suppressMessages({\n",
    "    library(Seurat) # the main framework for the scRNA-Seq analyses\n",
    "    library(readxl)\n",
    "    library(ggplot2)\n",
    "})})"
   ]
  },
  {
   "cell_type": "markdown",
   "id": "b35218f6",
   "metadata": {},
   "source": [
    "Loading the data."
   ]
  },
  {
   "cell_type": "code",
   "execution_count": 2,
   "id": "c9f38b45",
   "metadata": {},
   "outputs": [],
   "source": [
    "hgsoc <- readRDS(\"HGSOC_CellHashing_noClustering.RDS\")"
   ]
  },
  {
   "cell_type": "markdown",
   "id": "37fdc846",
   "metadata": {},
   "source": [
    "Loading the ovarian cancer markers for different cell types."
   ]
  },
  {
   "cell_type": "code",
   "execution_count": 3,
   "id": "5bafc201",
   "metadata": {},
   "outputs": [],
   "source": [
    "celltypes <- as.data.frame(read_xlsx(path = \"ovarian_cancer_markers.xlsx\"))\n",
    "genemarkers <- na.omit(unique(unlist(sapply(celltypes$geneSymbolmore1, function(x) strsplit(x = x, split = \",\")[[1]]))))"
   ]
  },
  {
   "cell_type": "code",
   "execution_count": 4,
   "id": "68b26dcc",
   "metadata": {},
   "outputs": [
    {
     "data": {
      "text/html": [
       "<style>\n",
       ".list-inline {list-style: none; margin:0; padding: 0}\n",
       ".list-inline>li {display: inline-block}\n",
       ".list-inline>li:not(:last-child)::after {content: \"\\00b7\"; padding: 0 .5ex}\n",
       "</style>\n",
       "<ol class=list-inline><li>'CD24'</li><li>'PAX8'</li><li>'CDH1'</li><li>'EPCAM'</li><li>'KRT8'</li><li>'KRT18'</li><li>'KRT19'</li><li>'ALDH1A1'</li><li>'CD44'</li><li>'PROM1'</li><li>'ROR1'</li><li>'CD79A'</li><li>'CLEC10A'</li><li>'TNFRSF18'</li><li>'TNFRSF25'</li><li>'FCER1G'</li><li>'TPSAB1'</li><li>'GZMB'</li><li>'MZB1'</li><li>'CD3D'</li><li>'PECAM1'</li><li>'THBD'</li><li>'FAP'</li><li>'MMP1'</li><li>'MMP9'</li><li>'CFD'</li><li>'CXCL12'</li><li>'IL6'</li><li>'LIF'</li><li>'ACTA2'</li><li>'MYL9'</li><li>'BGN'</li><li>'COL1A1'</li><li>'COL1A2'</li><li>'DCN'</li><li>'PDGFRA'</li><li>'POSTN'</li><li>'DLK1'</li><li>'FOXL2'</li><li>'STAR'</li></ol>\n"
      ],
      "text/latex": [
       "\\begin{enumerate*}\n",
       "\\item 'CD24'\n",
       "\\item 'PAX8'\n",
       "\\item 'CDH1'\n",
       "\\item 'EPCAM'\n",
       "\\item 'KRT8'\n",
       "\\item 'KRT18'\n",
       "\\item 'KRT19'\n",
       "\\item 'ALDH1A1'\n",
       "\\item 'CD44'\n",
       "\\item 'PROM1'\n",
       "\\item 'ROR1'\n",
       "\\item 'CD79A'\n",
       "\\item 'CLEC10A'\n",
       "\\item 'TNFRSF18'\n",
       "\\item 'TNFRSF25'\n",
       "\\item 'FCER1G'\n",
       "\\item 'TPSAB1'\n",
       "\\item 'GZMB'\n",
       "\\item 'MZB1'\n",
       "\\item 'CD3D'\n",
       "\\item 'PECAM1'\n",
       "\\item 'THBD'\n",
       "\\item 'FAP'\n",
       "\\item 'MMP1'\n",
       "\\item 'MMP9'\n",
       "\\item 'CFD'\n",
       "\\item 'CXCL12'\n",
       "\\item 'IL6'\n",
       "\\item 'LIF'\n",
       "\\item 'ACTA2'\n",
       "\\item 'MYL9'\n",
       "\\item 'BGN'\n",
       "\\item 'COL1A1'\n",
       "\\item 'COL1A2'\n",
       "\\item 'DCN'\n",
       "\\item 'PDGFRA'\n",
       "\\item 'POSTN'\n",
       "\\item 'DLK1'\n",
       "\\item 'FOXL2'\n",
       "\\item 'STAR'\n",
       "\\end{enumerate*}\n"
      ],
      "text/markdown": [
       "1. 'CD24'\n",
       "2. 'PAX8'\n",
       "3. 'CDH1'\n",
       "4. 'EPCAM'\n",
       "5. 'KRT8'\n",
       "6. 'KRT18'\n",
       "7. 'KRT19'\n",
       "8. 'ALDH1A1'\n",
       "9. 'CD44'\n",
       "10. 'PROM1'\n",
       "11. 'ROR1'\n",
       "12. 'CD79A'\n",
       "13. 'CLEC10A'\n",
       "14. 'TNFRSF18'\n",
       "15. 'TNFRSF25'\n",
       "16. 'FCER1G'\n",
       "17. 'TPSAB1'\n",
       "18. 'GZMB'\n",
       "19. 'MZB1'\n",
       "20. 'CD3D'\n",
       "21. 'PECAM1'\n",
       "22. 'THBD'\n",
       "23. 'FAP'\n",
       "24. 'MMP1'\n",
       "25. 'MMP9'\n",
       "26. 'CFD'\n",
       "27. 'CXCL12'\n",
       "28. 'IL6'\n",
       "29. 'LIF'\n",
       "30. 'ACTA2'\n",
       "31. 'MYL9'\n",
       "32. 'BGN'\n",
       "33. 'COL1A1'\n",
       "34. 'COL1A2'\n",
       "35. 'DCN'\n",
       "36. 'PDGFRA'\n",
       "37. 'POSTN'\n",
       "38. 'DLK1'\n",
       "39. 'FOXL2'\n",
       "40. 'STAR'\n",
       "\n",
       "\n"
      ],
      "text/plain": [
       " [1] \"CD24\"     \"PAX8\"     \"CDH1\"     \"EPCAM\"    \"KRT8\"     \"KRT18\"   \n",
       " [7] \"KRT19\"    \"ALDH1A1\"  \"CD44\"     \"PROM1\"    \"ROR1\"     \"CD79A\"   \n",
       "[13] \"CLEC10A\"  \"TNFRSF18\" \"TNFRSF25\" \"FCER1G\"   \"TPSAB1\"   \"GZMB\"    \n",
       "[19] \"MZB1\"     \"CD3D\"     \"PECAM1\"   \"THBD\"     \"FAP\"      \"MMP1\"    \n",
       "[25] \"MMP9\"     \"CFD\"      \"CXCL12\"   \"IL6\"      \"LIF\"      \"ACTA2\"   \n",
       "[31] \"MYL9\"     \"BGN\"      \"COL1A1\"   \"COL1A2\"   \"DCN\"      \"PDGFRA\"  \n",
       "[37] \"POSTN\"    \"DLK1\"     \"FOXL2\"    \"STAR\"    "
      ]
     },
     "metadata": {},
     "output_type": "display_data"
    }
   ],
   "source": [
    "genemarkers"
   ]
  },
  {
   "cell_type": "markdown",
   "id": "6f013ad6",
   "metadata": {},
   "source": [
    "Retrieving only the DMSO expression of the cells, but from the whole object. This is to retain the normalization applied to the whole dataset."
   ]
  },
  {
   "cell_type": "code",
   "execution_count": 5,
   "id": "f04f9eaa",
   "metadata": {},
   "outputs": [
    {
     "data": {
      "text/html": [
       "<table class=\"dataframe\">\n",
       "<caption>A data.frame: 6 × 13</caption>\n",
       "<thead>\n",
       "\t<tr><th></th><th scope=col>orig.ident</th><th scope=col>nCount_RNA</th><th scope=col>nFeature_RNA</th><th scope=col>percent.mt</th><th scope=col>percent.rb</th><th scope=col>Treatment_group</th><th scope=col>nCount_SCT</th><th scope=col>nFeature_SCT</th><th scope=col>S.Score</th><th scope=col>G2M.Score</th><th scope=col>Phase</th><th scope=col>old.ident</th><th scope=col>model</th></tr>\n",
       "\t<tr><th></th><th scope=col>&lt;chr&gt;</th><th scope=col>&lt;dbl&gt;</th><th scope=col>&lt;int&gt;</th><th scope=col>&lt;dbl&gt;</th><th scope=col>&lt;dbl&gt;</th><th scope=col>&lt;chr&gt;</th><th scope=col>&lt;dbl&gt;</th><th scope=col>&lt;int&gt;</th><th scope=col>&lt;dbl&gt;</th><th scope=col>&lt;dbl&gt;</th><th scope=col>&lt;chr&gt;</th><th scope=col>&lt;fct&gt;</th><th scope=col>&lt;chr&gt;</th></tr>\n",
       "</thead>\n",
       "<tbody>\n",
       "\t<tr><th scope=row>JHOS2_AAACCCAAGCAAATCA-1</th><td>SeuratProject</td><td>16825</td><td>4035</td><td> 3.786033</td><td>33.961367</td><td>Fedratinib </td><td>26237</td><td>4020</td><td>-0.10758336</td><td>-0.24730111</td><td>G1 </td><td>SeuratProject</td><td>JHOS2</td></tr>\n",
       "\t<tr><th scope=row>JHOS2_AAACCCAAGGTCGCCT-1</th><td>SeuratProject</td><td>11839</td><td>3840</td><td>21.378495</td><td> 9.705212</td><td>BMS-754807 </td><td>25099</td><td>4281</td><td>-0.07747797</td><td> 0.06673937</td><td>G2M</td><td>SeuratProject</td><td>JHOS2</td></tr>\n",
       "\t<tr><th scope=row>JHOS2_AAACCCACAGAACATA-1</th><td>SeuratProject</td><td>25906</td><td>5255</td><td> 5.867367</td><td>24.893847</td><td>SCH772984  </td><td>26422</td><td>5202</td><td>-0.17890319</td><td>-0.31373625</td><td>G1 </td><td>SeuratProject</td><td>JHOS2</td></tr>\n",
       "\t<tr><th scope=row>JHOS2_AAACCCAGTCTGTCAA-1</th><td>SeuratProject</td><td>19029</td><td>4382</td><td>10.016291</td><td>24.105313</td><td>TGX-221    </td><td>25961</td><td>4344</td><td>-0.19877877</td><td>-0.22370447</td><td>G1 </td><td>SeuratProject</td><td>JHOS2</td></tr>\n",
       "\t<tr><th scope=row>JHOS2_AAACCCAGTCTGTGGC-1</th><td>SeuratProject</td><td>63590</td><td>7494</td><td> 3.219060</td><td>27.130052</td><td>Ipatasertib</td><td>26958</td><td>5246</td><td> 0.86808988</td><td> 0.14566181</td><td>S  </td><td>SeuratProject</td><td>JHOS2</td></tr>\n",
       "\t<tr><th scope=row>JHOS2_AAACCCAGTTGGACCC-1</th><td>SeuratProject</td><td>26547</td><td>4371</td><td> 5.085320</td><td>38.550495</td><td>Ralimetinib</td><td>26738</td><td>4343</td><td>-0.20121598</td><td>-0.25123360</td><td>G1 </td><td>SeuratProject</td><td>JHOS2</td></tr>\n",
       "</tbody>\n",
       "</table>\n"
      ],
      "text/latex": [
       "A data.frame: 6 × 13\n",
       "\\begin{tabular}{r|lllllllllllll}\n",
       "  & orig.ident & nCount\\_RNA & nFeature\\_RNA & percent.mt & percent.rb & Treatment\\_group & nCount\\_SCT & nFeature\\_SCT & S.Score & G2M.Score & Phase & old.ident & model\\\\\n",
       "  & <chr> & <dbl> & <int> & <dbl> & <dbl> & <chr> & <dbl> & <int> & <dbl> & <dbl> & <chr> & <fct> & <chr>\\\\\n",
       "\\hline\n",
       "\tJHOS2\\_AAACCCAAGCAAATCA-1 & SeuratProject & 16825 & 4035 &  3.786033 & 33.961367 & Fedratinib  & 26237 & 4020 & -0.10758336 & -0.24730111 & G1  & SeuratProject & JHOS2\\\\\n",
       "\tJHOS2\\_AAACCCAAGGTCGCCT-1 & SeuratProject & 11839 & 3840 & 21.378495 &  9.705212 & BMS-754807  & 25099 & 4281 & -0.07747797 &  0.06673937 & G2M & SeuratProject & JHOS2\\\\\n",
       "\tJHOS2\\_AAACCCACAGAACATA-1 & SeuratProject & 25906 & 5255 &  5.867367 & 24.893847 & SCH772984   & 26422 & 5202 & -0.17890319 & -0.31373625 & G1  & SeuratProject & JHOS2\\\\\n",
       "\tJHOS2\\_AAACCCAGTCTGTCAA-1 & SeuratProject & 19029 & 4382 & 10.016291 & 24.105313 & TGX-221     & 25961 & 4344 & -0.19877877 & -0.22370447 & G1  & SeuratProject & JHOS2\\\\\n",
       "\tJHOS2\\_AAACCCAGTCTGTGGC-1 & SeuratProject & 63590 & 7494 &  3.219060 & 27.130052 & Ipatasertib & 26958 & 5246 &  0.86808988 &  0.14566181 & S   & SeuratProject & JHOS2\\\\\n",
       "\tJHOS2\\_AAACCCAGTTGGACCC-1 & SeuratProject & 26547 & 4371 &  5.085320 & 38.550495 & Ralimetinib & 26738 & 4343 & -0.20121598 & -0.25123360 & G1  & SeuratProject & JHOS2\\\\\n",
       "\\end{tabular}\n"
      ],
      "text/markdown": [
       "\n",
       "A data.frame: 6 × 13\n",
       "\n",
       "| <!--/--> | orig.ident &lt;chr&gt; | nCount_RNA &lt;dbl&gt; | nFeature_RNA &lt;int&gt; | percent.mt &lt;dbl&gt; | percent.rb &lt;dbl&gt; | Treatment_group &lt;chr&gt; | nCount_SCT &lt;dbl&gt; | nFeature_SCT &lt;int&gt; | S.Score &lt;dbl&gt; | G2M.Score &lt;dbl&gt; | Phase &lt;chr&gt; | old.ident &lt;fct&gt; | model &lt;chr&gt; |\n",
       "|---|---|---|---|---|---|---|---|---|---|---|---|---|---|\n",
       "| JHOS2_AAACCCAAGCAAATCA-1 | SeuratProject | 16825 | 4035 |  3.786033 | 33.961367 | Fedratinib  | 26237 | 4020 | -0.10758336 | -0.24730111 | G1  | SeuratProject | JHOS2 |\n",
       "| JHOS2_AAACCCAAGGTCGCCT-1 | SeuratProject | 11839 | 3840 | 21.378495 |  9.705212 | BMS-754807  | 25099 | 4281 | -0.07747797 |  0.06673937 | G2M | SeuratProject | JHOS2 |\n",
       "| JHOS2_AAACCCACAGAACATA-1 | SeuratProject | 25906 | 5255 |  5.867367 | 24.893847 | SCH772984   | 26422 | 5202 | -0.17890319 | -0.31373625 | G1  | SeuratProject | JHOS2 |\n",
       "| JHOS2_AAACCCAGTCTGTCAA-1 | SeuratProject | 19029 | 4382 | 10.016291 | 24.105313 | TGX-221     | 25961 | 4344 | -0.19877877 | -0.22370447 | G1  | SeuratProject | JHOS2 |\n",
       "| JHOS2_AAACCCAGTCTGTGGC-1 | SeuratProject | 63590 | 7494 |  3.219060 | 27.130052 | Ipatasertib | 26958 | 5246 |  0.86808988 |  0.14566181 | S   | SeuratProject | JHOS2 |\n",
       "| JHOS2_AAACCCAGTTGGACCC-1 | SeuratProject | 26547 | 4371 |  5.085320 | 38.550495 | Ralimetinib | 26738 | 4343 | -0.20121598 | -0.25123360 | G1  | SeuratProject | JHOS2 |\n",
       "\n"
      ],
      "text/plain": [
       "                         orig.ident    nCount_RNA nFeature_RNA percent.mt\n",
       "JHOS2_AAACCCAAGCAAATCA-1 SeuratProject 16825      4035          3.786033 \n",
       "JHOS2_AAACCCAAGGTCGCCT-1 SeuratProject 11839      3840         21.378495 \n",
       "JHOS2_AAACCCACAGAACATA-1 SeuratProject 25906      5255          5.867367 \n",
       "JHOS2_AAACCCAGTCTGTCAA-1 SeuratProject 19029      4382         10.016291 \n",
       "JHOS2_AAACCCAGTCTGTGGC-1 SeuratProject 63590      7494          3.219060 \n",
       "JHOS2_AAACCCAGTTGGACCC-1 SeuratProject 26547      4371          5.085320 \n",
       "                         percent.rb Treatment_group nCount_SCT nFeature_SCT\n",
       "JHOS2_AAACCCAAGCAAATCA-1 33.961367  Fedratinib      26237      4020        \n",
       "JHOS2_AAACCCAAGGTCGCCT-1  9.705212  BMS-754807      25099      4281        \n",
       "JHOS2_AAACCCACAGAACATA-1 24.893847  SCH772984       26422      5202        \n",
       "JHOS2_AAACCCAGTCTGTCAA-1 24.105313  TGX-221         25961      4344        \n",
       "JHOS2_AAACCCAGTCTGTGGC-1 27.130052  Ipatasertib     26958      5246        \n",
       "JHOS2_AAACCCAGTTGGACCC-1 38.550495  Ralimetinib     26738      4343        \n",
       "                         S.Score     G2M.Score   Phase old.ident     model\n",
       "JHOS2_AAACCCAAGCAAATCA-1 -0.10758336 -0.24730111 G1    SeuratProject JHOS2\n",
       "JHOS2_AAACCCAAGGTCGCCT-1 -0.07747797  0.06673937 G2M   SeuratProject JHOS2\n",
       "JHOS2_AAACCCACAGAACATA-1 -0.17890319 -0.31373625 G1    SeuratProject JHOS2\n",
       "JHOS2_AAACCCAGTCTGTCAA-1 -0.19877877 -0.22370447 G1    SeuratProject JHOS2\n",
       "JHOS2_AAACCCAGTCTGTGGC-1  0.86808988  0.14566181 S     SeuratProject JHOS2\n",
       "JHOS2_AAACCCAGTTGGACCC-1 -0.20121598 -0.25123360 G1    SeuratProject JHOS2"
      ]
     },
     "metadata": {},
     "output_type": "display_data"
    }
   ],
   "source": [
    "head(hgsoc@meta.data)"
   ]
  },
  {
   "cell_type": "code",
   "execution_count": 6,
   "id": "21d6a8ba",
   "metadata": {},
   "outputs": [],
   "source": [
    "hgsoc@meta.data$treatment_ext <- paste0(hgsoc@meta.data$model, \"_\", hgsoc@meta.data$Treatment_group)"
   ]
  },
  {
   "cell_type": "code",
   "execution_count": 7,
   "id": "77f602d3",
   "metadata": {},
   "outputs": [
    {
     "data": {
      "text/html": [
       "<style>\n",
       ".list-inline {list-style: none; margin:0; padding: 0}\n",
       ".list-inline>li {display: inline-block}\n",
       ".list-inline>li:not(:last-child)::after {content: \"\\00b7\"; padding: 0 .5ex}\n",
       "</style>\n",
       "<ol class=list-inline><li>'JHOS2_Fedratinib'</li><li>'JHOS2_BMS-754807'</li><li>'JHOS2_SCH772984'</li><li>'JHOS2_TGX-221'</li><li>'JHOS2_Ipatasertib'</li><li>'JHOS2_Ralimetinib'</li></ol>\n"
      ],
      "text/latex": [
       "\\begin{enumerate*}\n",
       "\\item 'JHOS2\\_Fedratinib'\n",
       "\\item 'JHOS2\\_BMS-754807'\n",
       "\\item 'JHOS2\\_SCH772984'\n",
       "\\item 'JHOS2\\_TGX-221'\n",
       "\\item 'JHOS2\\_Ipatasertib'\n",
       "\\item 'JHOS2\\_Ralimetinib'\n",
       "\\end{enumerate*}\n"
      ],
      "text/markdown": [
       "1. 'JHOS2_Fedratinib'\n",
       "2. 'JHOS2_BMS-754807'\n",
       "3. 'JHOS2_SCH772984'\n",
       "4. 'JHOS2_TGX-221'\n",
       "5. 'JHOS2_Ipatasertib'\n",
       "6. 'JHOS2_Ralimetinib'\n",
       "\n",
       "\n"
      ],
      "text/plain": [
       "[1] \"JHOS2_Fedratinib\"  \"JHOS2_BMS-754807\"  \"JHOS2_SCH772984\"  \n",
       "[4] \"JHOS2_TGX-221\"     \"JHOS2_Ipatasertib\" \"JHOS2_Ralimetinib\""
      ]
     },
     "metadata": {},
     "output_type": "display_data"
    }
   ],
   "source": [
    "head(hgsoc@meta.data$treatment_ext)"
   ]
  },
  {
   "cell_type": "code",
   "execution_count": 8,
   "id": "88024b6a",
   "metadata": {},
   "outputs": [
    {
     "name": "stderr",
     "output_type": "stream",
     "text": [
      "\u001b[1m\u001b[22mScale for \u001b[32mcolour\u001b[39m is already present.\n",
      "Adding another scale for \u001b[32mcolour\u001b[39m, which will replace the existing scale.\n"
     ]
    },
    {
     "data": {
      "text/html": [
       "<strong>png:</strong> 2"
      ],
      "text/latex": [
       "\\textbf{png:} 2"
      ],
      "text/markdown": [
       "**png:** 2"
      ],
      "text/plain": [
       "png \n",
       "  2 "
      ]
     },
     "metadata": {},
     "output_type": "display_data"
    }
   ],
   "source": [
    "pdf(file = \"DotPlot_cellTypeMarkers_reviewersOnly.pdf\", height = 4, width = 15)\n",
    "DefaultAssay(hgsoc) <- \"SCT\"\n",
    "Idents(hgsoc) <- \"treatment_ext\"\n",
    "DotPlot(hgsoc, \n",
    "        idents = c(\"JHOS2_DMSO\", \"PDC1_DMSO\", \"PDC2_DMSO\"), \n",
    "        features = na.omit(genemarkers), \n",
    "        scale = F) +\n",
    "ylab(\"\") +\n",
    "xlab(\"\") + \n",
    "geom_point(aes(size = pct.exp), shape = 21, colour=\"black\", stroke = 0.5) +\n",
    "scale_color_gradient2(low = \"blue\", mid = \"white\", high = \"red\") +\n",
    "guides(size = guide_legend(title = \"% Expression\", override.aes = list(shape = 21, colour = \"black\", fill = \"white\")))+ \n",
    "theme(axis.text.x = element_text(angle = 45, hjust = 1, face = \"italic\"))\n",
    "dev.off()"
   ]
  },
  {
   "cell_type": "code",
   "execution_count": 9,
   "id": "dfb4bbdd",
   "metadata": {},
   "outputs": [
    {
     "data": {
      "text/plain": [
       "R version 4.2.2 (2022-10-31)\n",
       "Platform: x86_64-conda-linux-gnu (64-bit)\n",
       "Running under: Rocky Linux 8.8 (Green Obsidian)\n",
       "\n",
       "Matrix products: default\n",
       "BLAS/LAPACK: /homedir01/adini22/.conda/envs/cellhashing_analyses/lib/libopenblasp-r0.3.21.so\n",
       "\n",
       "locale:\n",
       " [1] LC_CTYPE=en_US.UTF-8       LC_NUMERIC=C              \n",
       " [3] LC_TIME=en_US.UTF-8        LC_COLLATE=en_US.UTF-8    \n",
       " [5] LC_MONETARY=en_US.UTF-8    LC_MESSAGES=en_US.UTF-8   \n",
       " [7] LC_PAPER=en_US.UTF-8       LC_NAME=C                 \n",
       " [9] LC_ADDRESS=C               LC_TELEPHONE=C            \n",
       "[11] LC_MEASUREMENT=en_US.UTF-8 LC_IDENTIFICATION=C       \n",
       "\n",
       "attached base packages:\n",
       "[1] stats     graphics  grDevices utils     datasets  methods   base     \n",
       "\n",
       "other attached packages:\n",
       "[1] ggplot2_3.4.2      readxl_1.4.1       SeuratObject_4.1.3 Seurat_4.3.0.9002 \n",
       "\n",
       "loaded via a namespace (and not attached):\n",
       "  [1] Rtsne_0.16             colorspace_2.1-0       deldir_1.0-6          \n",
       "  [4] ellipsis_0.3.2         ggridges_0.5.4         IRdisplay_1.1         \n",
       "  [7] base64enc_0.1-3        spatstat.data_3.0-1    farver_2.1.1          \n",
       " [10] leiden_0.4.3           listenv_0.9.0          ggrepel_0.9.3         \n",
       " [13] fansi_1.0.4            codetools_0.2-18       splines_4.2.2         \n",
       " [16] polyclip_1.10-4        IRkernel_1.3.1         jsonlite_1.8.4        \n",
       " [19] ica_1.0-3              cluster_2.1.4          png_0.1-8             \n",
       " [22] uwot_0.1.14            shiny_1.7.4            sctransform_0.3.5     \n",
       " [25] spatstat.sparse_3.0-1  compiler_4.2.2         httr_1.4.5            \n",
       " [28] assertthat_0.2.1       Matrix_1.5-3           fastmap_1.1.1         \n",
       " [31] lazyeval_0.2.2         cli_3.6.0              later_1.3.0           \n",
       " [34] htmltools_0.5.4        tools_4.2.2            igraph_1.4.0          \n",
       " [37] gtable_0.3.3           glue_1.6.2             RANN_2.6.1            \n",
       " [40] reshape2_1.4.4         dplyr_1.0.10           Rcpp_1.0.10           \n",
       " [43] scattermore_0.8        cellranger_1.1.0       vctrs_0.5.1           \n",
       " [46] spatstat.explore_3.0-6 nlme_3.1-162           progressr_0.13.0      \n",
       " [49] lmtest_0.9-40          spatstat.random_3.1-3  stringr_1.5.0         \n",
       " [52] globals_0.16.2         mime_0.12              miniUI_0.1.1.1        \n",
       " [55] lifecycle_1.0.3        irlba_2.3.5.1          goftest_1.2-3         \n",
       " [58] future_1.32.0          MASS_7.3-58.2          zoo_1.8-11            \n",
       " [61] scales_1.2.1           promises_1.2.0.1       spatstat.utils_3.0-2  \n",
       " [64] parallel_4.2.2         RColorBrewer_1.1-3     reticulate_1.28       \n",
       " [67] pbapply_1.7-0          gridExtra_2.3          stringi_1.7.12        \n",
       " [70] repr_1.1.5             rlang_1.1.0            pkgconfig_2.0.3       \n",
       " [73] matrixStats_0.63.0     evaluate_0.20          lattice_0.20-45       \n",
       " [76] ROCR_1.0-11            purrr_1.0.1            tensor_1.5            \n",
       " [79] labeling_0.4.2         patchwork_1.1.2        htmlwidgets_1.6.2.9000\n",
       " [82] cowplot_1.1.1          tidyselect_1.2.0       parallelly_1.34.0     \n",
       " [85] RcppAnnoy_0.0.20       plyr_1.8.8             magrittr_2.0.3        \n",
       " [88] R6_2.5.1               generics_0.1.3         pbdZMQ_0.3-8          \n",
       " [91] DBI_1.1.3              withr_2.5.0            pillar_1.9.0          \n",
       " [94] fitdistrplus_1.1-8     survival_3.5-0         abind_1.4-5           \n",
       " [97] sp_1.6-0               tibble_3.2.1           future.apply_1.10.0   \n",
       "[100] crayon_1.5.2           uuid_1.1-0             KernSmooth_2.23-20    \n",
       "[103] utf8_1.2.3             spatstat.geom_3.0-5    plotly_4.10.1.9000    \n",
       "[106] grid_4.2.2             data.table_1.14.8      digest_0.6.31         \n",
       "[109] xtable_1.8-4           tidyr_1.2.1            httpuv_1.6.9          \n",
       "[112] munsell_0.5.0          viridisLite_0.4.1     "
      ]
     },
     "metadata": {},
     "output_type": "display_data"
    }
   ],
   "source": [
    "sessionInfo()"
   ]
  }
 ],
 "metadata": {
  "kernelspec": {
   "display_name": "R",
   "language": "R",
   "name": "ir"
  },
  "language_info": {
   "codemirror_mode": "r",
   "file_extension": ".r",
   "mimetype": "text/x-r-source",
   "name": "R",
   "pygments_lexer": "r",
   "version": "4.2.2"
  }
 },
 "nbformat": 4,
 "nbformat_minor": 5
}
