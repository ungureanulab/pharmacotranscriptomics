{
 "cells": [
  {
   "cell_type": "markdown",
   "id": "73ac3c6d",
   "metadata": {},
   "source": [
    "# Bar chart of the differentially expressed genes obtained from the three models and for the 45 drugs - using pseudobulk subsamples of 10 cells "
   ]
  },
  {
   "cell_type": "code",
   "execution_count": 1,
   "id": "57f6c762",
   "metadata": {
    "vscode": {
     "languageId": "r"
    }
   },
   "outputs": [],
   "source": [
    "library(reshape2)\n",
    "library(ggplot2)\n",
    "library(cowplot)\n",
    "library(ggsci)\n",
    "library(readxl)\n",
    "library(ggh4x)"
   ]
  },
  {
   "cell_type": "code",
   "execution_count": 2,
   "id": "00e252e4",
   "metadata": {
    "vscode": {
     "languageId": "r"
    }
   },
   "outputs": [],
   "source": [
    "JHOS2 <- readRDS(file = \"JHOS2_PBRs_diffexpress_subsampled.RDS\")\n",
    "PDC2 <- readRDS(file = \"PDC2_PBRs_diffexpress_subsampled.RDS\")\n",
    "PDC3 <- readRDS(file = \"PDC3_PBRs_diffexpress_subsampled.RDS\")"
   ]
  },
  {
   "cell_type": "code",
   "execution_count": 3,
   "id": "255f5e97",
   "metadata": {
    "vscode": {
     "languageId": "r"
    }
   },
   "outputs": [],
   "source": [
    "protein.coding.genes <- read.delim(file = \"protein_coding_genes_GRCh38.109.txt\", header = T, sep = \"\\t\")"
   ]
  },
  {
   "cell_type": "code",
   "execution_count": 4,
   "id": "3b6f7e66",
   "metadata": {
    "vscode": {
     "languageId": "r"
    }
   },
   "outputs": [],
   "source": [
    "JHOS2_filtered <- lapply(JHOS2, function(x) x[rownames(x) %in% protein.coding.genes$gene_name, ])\n",
    "PDC2_filtered <- lapply(PDC2, function(x) x[rownames(x) %in% protein.coding.genes$gene_name, ])\n",
    "PDC3_filtered <- lapply(PDC3, function(x) x[rownames(x) %in% protein.coding.genes$gene_name, ])"
   ]
  },
  {
   "cell_type": "code",
   "execution_count": 5,
   "id": "b291bf62",
   "metadata": {
    "vscode": {
     "languageId": "r"
    }
   },
   "outputs": [],
   "source": [
    "JHOS2_filtered <- lapply(JHOS2_filtered, function(x) x[x$FDR < 0.01, ])\n",
    "PDC2_filtered <- lapply(PDC2_filtered, function(x) x[x$FDR < 0.01, ])\n",
    "PDC3_filtered <- lapply(PDC3_filtered, function(x) x[x$FDR < 0.01, ])"
   ]
  },
  {
   "cell_type": "code",
   "execution_count": 6,
   "id": "110f53a5",
   "metadata": {
    "vscode": {
     "languageId": "r"
    }
   },
   "outputs": [],
   "source": [
    "JHOS2_filtered_lfc_up <- lapply(JHOS2_filtered, function(x) x[x$logFC > 0.5, ])\n",
    "JHOS2_filtered_lfc_down <- lapply(JHOS2_filtered, function(x) x[x$logFC < -0.5, ])\n",
    "\n",
    "PDC2_filtered_lfc_up <- lapply(PDC2_filtered, function(x) x[x$logFC > 0.5, ])\n",
    "PDC2_filtered_lfc_down <- lapply(PDC2_filtered, function(x) x[x$logFC < -0.5, ])\n",
    "                                 \n",
    "PDC3_filtered_lfc_up <- lapply(PDC3_filtered, function(x) x[x$logFC > 0.5, ])\n",
    "PDC3_filtered_lfc_down <- lapply(PDC3_filtered, function(x) x[x$logFC < -0.5, ])     "
   ]
  },
  {
   "cell_type": "code",
   "execution_count": 7,
   "id": "cb5ecc18",
   "metadata": {
    "vscode": {
     "languageId": "r"
    }
   },
   "outputs": [],
   "source": [
    "all_results_filtered <- data.frame(\"JHOS2_up\" = sapply(JHOS2_filtered_lfc_up, function(x) nrow(x)),\n",
    "                                   \"JHOS2_down\" = sapply(JHOS2_filtered_lfc_down, function(x) nrow(x)),\n",
    "                                   \"PDC2_up\" = sapply(PDC2_filtered_lfc_up, function(x) nrow(x)),\n",
    "                                   \"PDC2_down\" = sapply(PDC2_filtered_lfc_down, function(x) nrow(x)),\n",
    "                                   \"PDC3_up\" = sapply(PDC3_filtered_lfc_up, function(x) nrow(x)),\n",
    "                                   \"PDC3_down\" = sapply(PDC3_filtered_lfc_down, function(x) nrow(x)))    \n",
    "                                                       \n",
    "all_results_filtered$Drug <- rownames(all_results_filtered)"
   ]
  },
  {
   "cell_type": "code",
   "execution_count": 8,
   "id": "4da27c94",
   "metadata": {
    "vscode": {
     "languageId": "r"
    }
   },
   "outputs": [
    {
     "name": "stderr",
     "output_type": "stream",
     "text": [
      "Using Drug as id variables\n",
      "\n"
     ]
    }
   ],
   "source": [
    "all_results_filtered <- melt(all_results_filtered)"
   ]
  },
  {
   "cell_type": "code",
   "execution_count": 9,
   "id": "d55b8106",
   "metadata": {
    "vscode": {
     "languageId": "r"
    }
   },
   "outputs": [],
   "source": [
    "colnames(all_results_filtered) <- c(\"Drug\", \"Model_upDown\", \"Count_significant_DEGs\")"
   ]
  },
  {
   "cell_type": "code",
   "execution_count": 10,
   "id": "4f3a6008",
   "metadata": {
    "vscode": {
     "languageId": "r"
    }
   },
   "outputs": [],
   "source": [
    "all_results_filtered$Model <- factor(sapply(all_results_filtered$Model_upDown, function(x) strsplit(x = as.character(x), split = \"_\")[[1]][1]),\n",
    "                                    levels = c(\"PDC2\", \"PDC3\", \"JHOS2\"))\n",
    "all_results_filtered$upDown <- factor(x = sapply(all_results_filtered$Model_upDown, function(x) strsplit(x = as.character(x), split = \"_\")[[1]][2]),\n",
    "                                      levels = c(\"up\", \"down\"))"
   ]
  },
  {
   "cell_type": "code",
   "execution_count": 11,
   "id": "f2b77fb6",
   "metadata": {
    "vscode": {
     "languageId": "r"
    }
   },
   "outputs": [],
   "source": [
    "order_drugs <- aggregate(.~ Drug, all_results_filtered[, c(1, 3)], FUN = sum)\n",
    "order_drugs <- order_drugs[order(order_drugs$Count_significant_DEGs, decreasing = T), ]"
   ]
  },
  {
   "cell_type": "code",
   "execution_count": 12,
   "id": "36fa5a28",
   "metadata": {
    "vscode": {
     "languageId": "r"
    }
   },
   "outputs": [
    {
     "name": "stderr",
     "output_type": "stream",
     "text": [
      "\u001b[1m\u001b[22mNew names:\n",
      "\u001b[36m•\u001b[39m `` -> `...4`\n",
      "\u001b[36m•\u001b[39m `` -> `...5`\n"
     ]
    }
   ],
   "source": [
    "high_anno <- as.data.frame(read_xlsx(path = \"mechanisms_of_actions.xlsx\", sheet = 1))\n",
    "high_anno <- high_anno[, c(1:3)]\n",
    "rownames(high_anno) <- high_anno$`Preferred name`\n",
    "\n",
    "custom_palette <- c(\"Bcl-2 inhibitor\" = \"#2f4f4f\", \n",
    "                    \"BET inhibitor\" = \"#a52a2a\", \n",
    "                    \"Control\" = \"#bcbec0\",\n",
    "                    \"CDK inhibitor\" = \"#228b22\",\n",
    "                    \"CHK1 inhibitor\" = \"#4b0082\",\n",
    "                    \"HDAC inhibitor\" = \"#ff8c00\",\n",
    "                    \"IAPs/SMAC mimetic\" = \"#d2b48c\",\n",
    "                    \"Multi-kinase inhibitor\" = \"#00ff00\",\n",
    "                    \"PAK inhibitor\" = \"#00bfff\",\n",
    "                    \"PARP inhibitor\" = \"#0000ff\",\n",
    "                    \"PI3K/mTOR/AKT inhibitor\" = \"#ff1493\",\n",
    "                    \"PLK1 inhibitor\" = \"#ffff54\",\n",
    "                    \"Ras/Raf/MEK/ERK inhibitor\" = \"#dda0dd\",\n",
    "                    \"XPO1/CRM1 inhibitor\" = \"#7fffd4\")\n",
    "\n",
    "strip_colors <- setNames(nm = high_anno$`Preferred name`, object = custom_palette[high_anno$`Higher level classification`]) \n",
    "strip_colors <- strip_colors[-which(names(strip_colors) == \"DMSO\")]\n",
    "strip_colors <- strip_colors[order(match(names(strip_colors), order_drugs$Drug))]\n",
    "strip_colors <- strip_themed(background_x = elem_list_rect(fill = strip_colors))"
   ]
  },
  {
   "cell_type": "code",
   "execution_count": 13,
   "id": "28585df3",
   "metadata": {
    "vscode": {
     "languageId": "r"
    }
   },
   "outputs": [],
   "source": [
    "ggsave(ggplot(data = all_results_filtered, \n",
    "       aes(x = Model, \n",
    "           y = Count_significant_DEGs, \n",
    "           fill = Model, \n",
    "           colour = Model, \n",
    "           alpha = upDown)) +\n",
    "  geom_bar(stat = \"identity\", width = 0.7) + \n",
    "  scale_fill_manual(values = setNames(object = pal_npg()(3), nm = c(\"JHOS2\", \"PDC2\", \"PDC3\"))) + \n",
    "  scale_alpha_manual(values = c(1, 0.2)) + \n",
    "  scale_color_manual(values = c(\"black\", \"black\", \"black\")) +\n",
    "  theme_classic() + \n",
    "  ylab(\"No. of DEGs\") + \n",
    "  theme(strip.text = element_text(colour = \"white\", face = \"bold\"),\n",
    "        axis.text.x = element_blank(),\n",
    "        axis.text.y = element_text(colour = \"black\"),\n",
    "        axis.line.x = element_line(colour = \"black\"),\n",
    "        axis.ticks.x = element_blank()) +\n",
    "  facet_wrap2(~factor(Drug, levels = order_drugs$Drug), nrow = 3, strip = strip_colors),\n",
    "  filename = \"PBRs_barchart_drugs_all_Fig3_protein_coding_genes_subsampled_pseudobulk_DGE.pdf\", width = 16, height = 6)"
   ]
  },
  {
   "cell_type": "code",
   "execution_count": 14,
   "id": "d724a6d2",
   "metadata": {
    "scrolled": true,
    "vscode": {
     "languageId": "r"
    }
   },
   "outputs": [
    {
     "data": {
      "text/plain": [
       "R version 4.2.2 (2022-10-31)\n",
       "Platform: x86_64-conda-linux-gnu (64-bit)\n",
       "Running under: Rocky Linux 8.8 (Green Obsidian)\n",
       "\n",
       "Matrix products: default\n",
       "BLAS/LAPACK: /homedir01/adini22/.conda/envs/cellhashing_analyses/lib/libopenblasp-r0.3.21.so\n",
       "\n",
       "locale:\n",
       " [1] LC_CTYPE=en_US.UTF-8       LC_NUMERIC=C              \n",
       " [3] LC_TIME=en_US.UTF-8        LC_COLLATE=en_US.UTF-8    \n",
       " [5] LC_MONETARY=en_US.UTF-8    LC_MESSAGES=en_US.UTF-8   \n",
       " [7] LC_PAPER=en_US.UTF-8       LC_NAME=C                 \n",
       " [9] LC_ADDRESS=C               LC_TELEPHONE=C            \n",
       "[11] LC_MEASUREMENT=en_US.UTF-8 LC_IDENTIFICATION=C       \n",
       "\n",
       "attached base packages:\n",
       "[1] stats     graphics  grDevices utils     datasets  methods   base     \n",
       "\n",
       "other attached packages:\n",
       "[1] ggh4x_0.2.4.9000 readxl_1.4.1     ggsci_3.0.0      cowplot_1.1.1   \n",
       "[5] ggplot2_3.4.2    reshape2_1.4.4  \n",
       "\n",
       "loaded via a namespace (and not attached):\n",
       " [1] Rcpp_1.0.10       cellranger_1.1.0  pillar_1.9.0      compiler_4.2.2   \n",
       " [5] plyr_1.8.8        base64enc_0.1-3   tools_4.2.2       digest_0.6.31    \n",
       " [9] uuid_1.1-0        jsonlite_1.8.4    evaluate_0.20     lifecycle_1.0.3  \n",
       "[13] tibble_3.2.1      gtable_0.3.3      pkgconfig_2.0.3   rlang_1.1.0      \n",
       "[17] DBI_1.1.3         IRdisplay_1.1     cli_3.6.0         IRkernel_1.3.1   \n",
       "[21] fastmap_1.1.1     withr_2.5.0       repr_1.1.5        stringr_1.5.0    \n",
       "[25] dplyr_1.0.10      systemfonts_1.0.4 generics_0.1.3    vctrs_0.5.1      \n",
       "[29] grid_4.2.2        tidyselect_1.2.0  glue_1.6.2        R6_2.5.1         \n",
       "[33] textshaping_0.3.6 fansi_1.0.4       pbdZMQ_0.3-8      farver_2.1.1     \n",
       "[37] magrittr_2.0.3    scales_1.2.1      htmltools_0.5.4   assertthat_0.2.1 \n",
       "[41] colorspace_2.1-0  labeling_0.4.2    ragg_1.2.5        utf8_1.2.3       \n",
       "[45] stringi_1.7.12    munsell_0.5.0     crayon_1.5.2     "
      ]
     },
     "metadata": {},
     "output_type": "display_data"
    }
   ],
   "source": [
    "sessionInfo()"
   ]
  }
 ],
 "metadata": {
  "kernelspec": {
   "display_name": "R",
   "language": "R",
   "name": "ir"
  },
  "language_info": {
   "codemirror_mode": "r",
   "file_extension": ".r",
   "mimetype": "text/x-r-source",
   "name": "R",
   "pygments_lexer": "r",
   "version": "4.2.2"
  }
 },
 "nbformat": 4,
 "nbformat_minor": 5
}
