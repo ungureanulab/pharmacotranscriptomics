{
 "cells": [
  {
   "cell_type": "markdown",
   "id": "3e8ff3a0",
   "metadata": {},
   "source": [
    "# Subsampling of each treatment group into replicates of 10 before computing differential gene expression analysis"
   ]
  },
  {
   "cell_type": "markdown",
   "id": "79a42512",
   "metadata": {},
   "source": [
    "- We make as many groups of 10 cells as possible (https://doi.org/10.1038/s41467-020-19894-4), but discard the samples that have less than 14 cells in total\n",
    "- We obtain for each of these groups simple pseudobulk profiles\n",
    "\n",
    "The number of samples for each treatment group will depend on the number of cells retrieved for each of them."
   ]
  },
  {
   "cell_type": "code",
   "execution_count": 1,
   "id": "707b7f84",
   "metadata": {
    "vscode": {
     "languageId": "r"
    }
   },
   "outputs": [
    {
     "name": "stderr",
     "output_type": "stream",
     "text": [
      "Attaching SeuratObject\n",
      "\n"
     ]
    }
   ],
   "source": [
    "library(Seurat)\n",
    "library(readxl)\n",
    "library(parallel)"
   ]
  },
  {
   "cell_type": "code",
   "execution_count": 2,
   "id": "a3fb6c0f",
   "metadata": {
    "vscode": {
     "languageId": "r"
    }
   },
   "outputs": [],
   "source": [
    "hgsoc <- readRDS(\"HGSOC_CellHashing_CLUSTERED.RDS\")"
   ]
  },
  {
   "cell_type": "code",
   "execution_count": 3,
   "id": "c601fbf6",
   "metadata": {
    "vscode": {
     "languageId": "r"
    }
   },
   "outputs": [],
   "source": [
    "PDC2 <- subset(hgsoc, subset = model == \"PDC2\")\n",
    "PDC3 <- subset(hgsoc, subset = model == \"PDC3\")\n",
    "JHOS2 <- subset(hgsoc, subset = model == \"JHOS2\")"
   ]
  },
  {
   "cell_type": "code",
   "execution_count": 4,
   "id": "cb6197f1",
   "metadata": {
    "vscode": {
     "languageId": "r"
    }
   },
   "outputs": [
    {
     "data": {
      "text/plain": [
       "\n",
       "  ENMD-2076      AT 101 Quisinostat  Danusertib  BMS-754807       AR-42 \n",
       "        118         122         133         136         147         150 \n",
       "  Dasatinib   LY3009120      AT9283   Selinexor    I-BET151  Belinostat \n",
       "        159         172         182         184         185         191 \n",
       " Pacritinib PF-03758309  Dinaciclib      OTS167  Pictilisib  Volasertib \n",
       "        196         205         208         210         216         221 \n",
       " Fedratinib    AZD-8186  Buparlisib Pracinostat     SNS-032   SCH772984 \n",
       "        224         227         228         228         233         236 \n",
       "    BI 2536 Gedatolisib   Milciclib         JQ1 PF-00477736  Copanlisib \n",
       "        237         239         241         246         250         250 \n",
       " NVP-BGT226 Talazoparib     AZD8055   PD0325901     TGX-221  Birinapant \n",
       "        253         261         264         265         269         269 \n",
       " Birabresib  NVP-LCL161 Ralimetinib     ZSTK474  Dactolisib      UCN-01 \n",
       "        273         275         284         309         322         326 \n",
       "  Niraparib Cobimetinib Ipatasertib        DMSO \n",
       "        333         336         341         888 "
      ]
     },
     "metadata": {},
     "output_type": "display_data"
    }
   ],
   "source": [
    "Idents(PDC2) <- \"Treatment_group\"\n",
    "sort(table(Idents(PDC2)))"
   ]
  },
  {
   "cell_type": "code",
   "execution_count": 5,
   "id": "8bd843cb",
   "metadata": {
    "vscode": {
     "languageId": "r"
    }
   },
   "outputs": [
    {
     "data": {
      "text/plain": [
       "\n",
       "     AT 101   ENMD-2076  Buparlisib  Fedratinib   Selinexor   Milciclib \n",
       "         29          91         161         163         164         166 \n",
       " Pacritinib PF-03758309  Volasertib     BI 2536  NVP-BGT226    AZD-8186 \n",
       "        168         176         194         198         201         202 \n",
       "    SNS-032   Niraparib PF-00477736      OTS167  Danusertib  Pictilisib \n",
       "        213         213         214         215         215         216 \n",
       " Dinaciclib  Belinostat  BMS-754807 Pracinostat   LY3009120     TGX-221 \n",
       "        216         226         230         237         245         247 \n",
       " Copanlisib Cobimetinib      AT9283 Ipatasertib       AR-42  Dactolisib \n",
       "        251         252         253         254         255         256 \n",
       "  SCH772984   PD0325901 Quisinostat Ralimetinib Talazoparib    I-BET151 \n",
       "        257         275         283         293         297         301 \n",
       "    AZD8055   Dasatinib         JQ1  Birabresib  NVP-LCL161     ZSTK474 \n",
       "        303         304         315         316         317         320 \n",
       " Birinapant      UCN-01 Gedatolisib        DMSO \n",
       "        352         374         375         847 "
      ]
     },
     "metadata": {},
     "output_type": "display_data"
    }
   ],
   "source": [
    "Idents(PDC3) <- \"Treatment_group\"\n",
    "sort(table(Idents(PDC3)))"
   ]
  },
  {
   "cell_type": "code",
   "execution_count": 6,
   "id": "14a89395",
   "metadata": {
    "scrolled": true,
    "vscode": {
     "languageId": "r"
    }
   },
   "outputs": [
    {
     "data": {
      "text/plain": [
       "\n",
       "     AT 101    AZD-8186       AR-42   LY3009120         JQ1  Birinapant \n",
       "         61         166         174         174         217         222 \n",
       "PF-03758309  Pacritinib  Danusertib Talazoparib PF-00477736  Volasertib \n",
       "        242         250         253         255         256         258 \n",
       " NVP-LCL161  Fedratinib    I-BET151  Dinaciclib   ENMD-2076 Pracinostat \n",
       "        260         268         269         270         274         275 \n",
       "     AT9283  Buparlisib     BI 2536     TGX-221  BMS-754807  Copanlisib \n",
       "        275         276         277         278         281         281 \n",
       " Belinostat   SCH772984      UCN-01  Pictilisib Ipatasertib      OTS167 \n",
       "        282         288         289         291         293         294 \n",
       "  Milciclib Quisinostat  Birabresib   PD0325901   Niraparib     ZSTK474 \n",
       "        294         295         296         296         298         311 \n",
       "Cobimetinib   Selinexor     SNS-032   Dasatinib Ralimetinib Gedatolisib \n",
       "        316         320         320         325         328         328 \n",
       "    AZD8055  Dactolisib  NVP-BGT226        DMSO \n",
       "        330         331         361         826 "
      ]
     },
     "metadata": {},
     "output_type": "display_data"
    }
   ],
   "source": [
    "Idents(JHOS2) <- \"Treatment_group\"\n",
    "sort(table(Idents(JHOS2)))"
   ]
  },
  {
   "cell_type": "markdown",
   "id": "49d30464",
   "metadata": {},
   "source": [
    "None of these have less than 14 cells, thankfully."
   ]
  },
  {
   "cell_type": "code",
   "execution_count": 7,
   "id": "a7545e67",
   "metadata": {
    "vscode": {
     "languageId": "r"
    }
   },
   "outputs": [],
   "source": [
    "# Custom rounding that takes care of the 0.5 case\n",
    "custom_round <- function(x) {\n",
    "  ifelse(x - floor(x) == 0.5, ceiling(x), round(x, digits = 0))\n",
    "}"
   ]
  },
  {
   "cell_type": "code",
   "execution_count": 8,
   "id": "28bbe499",
   "metadata": {
    "vscode": {
     "languageId": "r"
    }
   },
   "outputs": [],
   "source": [
    "split_subsample_pseudobulk <- function(seurat_object, group, modelname) {\n",
    "    \n",
    "  # Subsetting the seurat object in input for those cells\n",
    "  seurat_object <- subset(seurat_object, subset = Treatment_group == group)\n",
    "    \n",
    "  # Retrieving cell names  \n",
    "  input_vector <- Cells(seurat_object) \n",
    "    \n",
    "  # Check if the input vector is empty or too small. \n",
    "  # This is because we want at least 2 replicates where one is of 10 cells.\n",
    "  if (length(input_vector) <= 14) {\n",
    "    stop(\"Input vector is too small.\")\n",
    "  }\n",
    "  \n",
    "  # Calculate the number of vectors needed\n",
    "  # If ratio >= 0.5, then the next integer of groups is taken (5 cells is the minimum for a sample)\n",
    "  num_vectors <- custom_round(length(input_vector) / 10)\n",
    "\n",
    "  # Initialize a list to store the resulting vectors\n",
    "  result_list <- vector(\"list\", length = num_vectors)\n",
    "  \n",
    "  # Shuffle the input vector randomly\n",
    "  # In this way, we take sequentially 10 cells every time to get a pseudobulk replicate as many\n",
    "  # as the samples that we except\n",
    "  set.seed(1) # Setting seed for reproducibility\n",
    "  shuffled_vector <- sample(input_vector)\n",
    "\n",
    "  # Split the shuffled vector into groups of 10\n",
    "  cells <- mclapply(1:num_vectors, function(i) {\n",
    "      start_index <- (i - 1) * 10 + 1\n",
    "      end_index <- min(i * 10, length(shuffled_vector))\n",
    "      return(shuffled_vector[start_index:end_index])\n",
    "  })\n",
    "  gc()\n",
    "    \n",
    "  # Now we have a list of the cells that need to be contained in each subsample for pseudobulk\n",
    "  # So the first thing we need to do is extracting the seurat sample with those cells\n",
    "  cells <- mclapply(cells, function(x) subset(seurat_object, cells = x))\n",
    "                    \n",
    "  # And then we do the pseudobulk via aggregation\n",
    "  cells <- mclapply(cells, function(x) AggregateExpression(object = x, \n",
    "                                                                  slot = \"count\", \n",
    "                                                                  assays = \"RNA\", \n",
    "                                                                  group.by = \"Treatment_group\", \n",
    "                                                                  verbose = FALSE)$RNA)\n",
    "                    \n",
    "  # Re-naming elements of the list, using that for the column names                  \n",
    "  names(cells) <- paste0(modelname, \"_\", group, \"_\", 1:length(cells))                   \n",
    "  cells <- mclapply(names(cells), function(x){colnames(cells[[x]]) <- x\n",
    "                                            return(cells[[x]])})\n",
    "  names(cells) <- paste0(modelname, \"_\", group, \"_\", 1:length(cells))                   \n",
    "  \n",
    "  # Forming a unique matrix                  \n",
    "  cells <- do.call(cbind, cells)  \n",
    "  return(cells)\n",
    "}"
   ]
  },
  {
   "cell_type": "code",
   "execution_count": 9,
   "id": "c7bf8545",
   "metadata": {
    "vscode": {
     "languageId": "r"
    }
   },
   "outputs": [
    {
     "data": {
      "text/html": [
       "<style>\n",
       ".list-inline {list-style: none; margin:0; padding: 0}\n",
       ".list-inline>li {display: inline-block}\n",
       ".list-inline>li:not(:last-child)::after {content: \"\\00b7\"; padding: 0 .5ex}\n",
       "</style>\n",
       "<ol class=list-inline><li>TRUE</li><li>TRUE</li><li>TRUE</li><li>TRUE</li><li>TRUE</li><li>TRUE</li><li>TRUE</li><li>TRUE</li><li>TRUE</li><li>TRUE</li><li>TRUE</li><li>TRUE</li><li>TRUE</li><li>TRUE</li><li>TRUE</li><li>TRUE</li><li>TRUE</li><li>TRUE</li><li>TRUE</li><li>TRUE</li><li>TRUE</li><li>TRUE</li><li>TRUE</li><li>TRUE</li><li>TRUE</li><li>TRUE</li><li>TRUE</li><li>TRUE</li><li>TRUE</li><li>TRUE</li><li>TRUE</li><li>TRUE</li><li>TRUE</li><li>TRUE</li><li>TRUE</li><li>TRUE</li><li>TRUE</li><li>TRUE</li><li>TRUE</li><li>TRUE</li><li>TRUE</li><li>TRUE</li><li>TRUE</li><li>TRUE</li><li>TRUE</li><li>TRUE</li></ol>\n"
      ],
      "text/latex": [
       "\\begin{enumerate*}\n",
       "\\item TRUE\n",
       "\\item TRUE\n",
       "\\item TRUE\n",
       "\\item TRUE\n",
       "\\item TRUE\n",
       "\\item TRUE\n",
       "\\item TRUE\n",
       "\\item TRUE\n",
       "\\item TRUE\n",
       "\\item TRUE\n",
       "\\item TRUE\n",
       "\\item TRUE\n",
       "\\item TRUE\n",
       "\\item TRUE\n",
       "\\item TRUE\n",
       "\\item TRUE\n",
       "\\item TRUE\n",
       "\\item TRUE\n",
       "\\item TRUE\n",
       "\\item TRUE\n",
       "\\item TRUE\n",
       "\\item TRUE\n",
       "\\item TRUE\n",
       "\\item TRUE\n",
       "\\item TRUE\n",
       "\\item TRUE\n",
       "\\item TRUE\n",
       "\\item TRUE\n",
       "\\item TRUE\n",
       "\\item TRUE\n",
       "\\item TRUE\n",
       "\\item TRUE\n",
       "\\item TRUE\n",
       "\\item TRUE\n",
       "\\item TRUE\n",
       "\\item TRUE\n",
       "\\item TRUE\n",
       "\\item TRUE\n",
       "\\item TRUE\n",
       "\\item TRUE\n",
       "\\item TRUE\n",
       "\\item TRUE\n",
       "\\item TRUE\n",
       "\\item TRUE\n",
       "\\item TRUE\n",
       "\\item TRUE\n",
       "\\end{enumerate*}\n"
      ],
      "text/markdown": [
       "1. TRUE\n",
       "2. TRUE\n",
       "3. TRUE\n",
       "4. TRUE\n",
       "5. TRUE\n",
       "6. TRUE\n",
       "7. TRUE\n",
       "8. TRUE\n",
       "9. TRUE\n",
       "10. TRUE\n",
       "11. TRUE\n",
       "12. TRUE\n",
       "13. TRUE\n",
       "14. TRUE\n",
       "15. TRUE\n",
       "16. TRUE\n",
       "17. TRUE\n",
       "18. TRUE\n",
       "19. TRUE\n",
       "20. TRUE\n",
       "21. TRUE\n",
       "22. TRUE\n",
       "23. TRUE\n",
       "24. TRUE\n",
       "25. TRUE\n",
       "26. TRUE\n",
       "27. TRUE\n",
       "28. TRUE\n",
       "29. TRUE\n",
       "30. TRUE\n",
       "31. TRUE\n",
       "32. TRUE\n",
       "33. TRUE\n",
       "34. TRUE\n",
       "35. TRUE\n",
       "36. TRUE\n",
       "37. TRUE\n",
       "38. TRUE\n",
       "39. TRUE\n",
       "40. TRUE\n",
       "41. TRUE\n",
       "42. TRUE\n",
       "43. TRUE\n",
       "44. TRUE\n",
       "45. TRUE\n",
       "46. TRUE\n",
       "\n",
       "\n"
      ],
      "text/plain": [
       " [1] TRUE TRUE TRUE TRUE TRUE TRUE TRUE TRUE TRUE TRUE TRUE TRUE TRUE TRUE TRUE\n",
       "[16] TRUE TRUE TRUE TRUE TRUE TRUE TRUE TRUE TRUE TRUE TRUE TRUE TRUE TRUE TRUE\n",
       "[31] TRUE TRUE TRUE TRUE TRUE TRUE TRUE TRUE TRUE TRUE TRUE TRUE TRUE TRUE TRUE\n",
       "[46] TRUE"
      ]
     },
     "metadata": {},
     "output_type": "display_data"
    },
    {
     "data": {
      "text/html": [
       "<style>\n",
       ".list-inline {list-style: none; margin:0; padding: 0}\n",
       ".list-inline>li {display: inline-block}\n",
       ".list-inline>li:not(:last-child)::after {content: \"\\00b7\"; padding: 0 .5ex}\n",
       "</style>\n",
       "<ol class=list-inline><li>TRUE</li><li>TRUE</li><li>TRUE</li><li>TRUE</li><li>TRUE</li><li>TRUE</li><li>TRUE</li><li>TRUE</li><li>TRUE</li><li>TRUE</li><li>TRUE</li><li>TRUE</li><li>TRUE</li><li>TRUE</li><li>TRUE</li><li>TRUE</li><li>TRUE</li><li>TRUE</li><li>TRUE</li><li>TRUE</li><li>TRUE</li><li>TRUE</li><li>TRUE</li><li>TRUE</li><li>TRUE</li><li>TRUE</li><li>TRUE</li><li>TRUE</li><li>TRUE</li><li>TRUE</li><li>TRUE</li><li>TRUE</li><li>TRUE</li><li>TRUE</li><li>TRUE</li><li>TRUE</li><li>TRUE</li><li>TRUE</li><li>TRUE</li><li>TRUE</li><li>TRUE</li><li>TRUE</li><li>TRUE</li><li>TRUE</li><li>TRUE</li><li>TRUE</li></ol>\n"
      ],
      "text/latex": [
       "\\begin{enumerate*}\n",
       "\\item TRUE\n",
       "\\item TRUE\n",
       "\\item TRUE\n",
       "\\item TRUE\n",
       "\\item TRUE\n",
       "\\item TRUE\n",
       "\\item TRUE\n",
       "\\item TRUE\n",
       "\\item TRUE\n",
       "\\item TRUE\n",
       "\\item TRUE\n",
       "\\item TRUE\n",
       "\\item TRUE\n",
       "\\item TRUE\n",
       "\\item TRUE\n",
       "\\item TRUE\n",
       "\\item TRUE\n",
       "\\item TRUE\n",
       "\\item TRUE\n",
       "\\item TRUE\n",
       "\\item TRUE\n",
       "\\item TRUE\n",
       "\\item TRUE\n",
       "\\item TRUE\n",
       "\\item TRUE\n",
       "\\item TRUE\n",
       "\\item TRUE\n",
       "\\item TRUE\n",
       "\\item TRUE\n",
       "\\item TRUE\n",
       "\\item TRUE\n",
       "\\item TRUE\n",
       "\\item TRUE\n",
       "\\item TRUE\n",
       "\\item TRUE\n",
       "\\item TRUE\n",
       "\\item TRUE\n",
       "\\item TRUE\n",
       "\\item TRUE\n",
       "\\item TRUE\n",
       "\\item TRUE\n",
       "\\item TRUE\n",
       "\\item TRUE\n",
       "\\item TRUE\n",
       "\\item TRUE\n",
       "\\item TRUE\n",
       "\\end{enumerate*}\n"
      ],
      "text/markdown": [
       "1. TRUE\n",
       "2. TRUE\n",
       "3. TRUE\n",
       "4. TRUE\n",
       "5. TRUE\n",
       "6. TRUE\n",
       "7. TRUE\n",
       "8. TRUE\n",
       "9. TRUE\n",
       "10. TRUE\n",
       "11. TRUE\n",
       "12. TRUE\n",
       "13. TRUE\n",
       "14. TRUE\n",
       "15. TRUE\n",
       "16. TRUE\n",
       "17. TRUE\n",
       "18. TRUE\n",
       "19. TRUE\n",
       "20. TRUE\n",
       "21. TRUE\n",
       "22. TRUE\n",
       "23. TRUE\n",
       "24. TRUE\n",
       "25. TRUE\n",
       "26. TRUE\n",
       "27. TRUE\n",
       "28. TRUE\n",
       "29. TRUE\n",
       "30. TRUE\n",
       "31. TRUE\n",
       "32. TRUE\n",
       "33. TRUE\n",
       "34. TRUE\n",
       "35. TRUE\n",
       "36. TRUE\n",
       "37. TRUE\n",
       "38. TRUE\n",
       "39. TRUE\n",
       "40. TRUE\n",
       "41. TRUE\n",
       "42. TRUE\n",
       "43. TRUE\n",
       "44. TRUE\n",
       "45. TRUE\n",
       "46. TRUE\n",
       "\n",
       "\n"
      ],
      "text/plain": [
       " [1] TRUE TRUE TRUE TRUE TRUE TRUE TRUE TRUE TRUE TRUE TRUE TRUE TRUE TRUE TRUE\n",
       "[16] TRUE TRUE TRUE TRUE TRUE TRUE TRUE TRUE TRUE TRUE TRUE TRUE TRUE TRUE TRUE\n",
       "[31] TRUE TRUE TRUE TRUE TRUE TRUE TRUE TRUE TRUE TRUE TRUE TRUE TRUE TRUE TRUE\n",
       "[46] TRUE"
      ]
     },
     "metadata": {},
     "output_type": "display_data"
    }
   ],
   "source": [
    "sort(levels(Idents(JHOS2))) == sort(levels(Idents(PDC2)))\n",
    "sort(levels(Idents(PDC3))) == sort(levels(Idents(PDC2)))"
   ]
  },
  {
   "cell_type": "code",
   "execution_count": 10,
   "id": "5a14c3bb",
   "metadata": {
    "vscode": {
     "languageId": "r"
    }
   },
   "outputs": [
    {
     "data": {
      "text/html": [
       "<style>\n",
       ".list-inline {list-style: none; margin:0; padding: 0}\n",
       ".list-inline>li {display: inline-block}\n",
       ".list-inline>li:not(:last-child)::after {content: \"\\00b7\"; padding: 0 .5ex}\n",
       "</style>\n",
       "<ol class=list-inline><li>'AR-42'</li><li>'AT 101'</li><li>'AT9283'</li><li>'AZD-8186'</li><li>'AZD8055'</li><li>'Belinostat'</li><li>'BI 2536'</li><li>'Birabresib'</li><li>'Birinapant'</li><li>'BMS-754807'</li><li>'Buparlisib'</li><li>'Cobimetinib'</li><li>'Copanlisib'</li><li>'Dactolisib'</li><li>'Danusertib'</li><li>'Dasatinib'</li><li>'Dinaciclib'</li><li>'DMSO'</li><li>'ENMD-2076'</li><li>'Fedratinib'</li><li>'Gedatolisib'</li><li>'I-BET151'</li><li>'Ipatasertib'</li><li>'JQ1'</li><li>'LY3009120'</li><li>'Milciclib'</li><li>'Niraparib'</li><li>'NVP-BGT226'</li><li>'NVP-LCL161'</li><li>'OTS167'</li><li>'Pacritinib'</li><li>'PD0325901'</li><li>'PF-00477736'</li><li>'PF-03758309'</li><li>'Pictilisib'</li><li>'Pracinostat'</li><li>'Quisinostat'</li><li>'Ralimetinib'</li><li>'SCH772984'</li><li>'Selinexor'</li><li>'SNS-032'</li><li>'Talazoparib'</li><li>'TGX-221'</li><li>'UCN-01'</li><li>'Volasertib'</li><li>'ZSTK474'</li></ol>\n"
      ],
      "text/latex": [
       "\\begin{enumerate*}\n",
       "\\item 'AR-42'\n",
       "\\item 'AT 101'\n",
       "\\item 'AT9283'\n",
       "\\item 'AZD-8186'\n",
       "\\item 'AZD8055'\n",
       "\\item 'Belinostat'\n",
       "\\item 'BI 2536'\n",
       "\\item 'Birabresib'\n",
       "\\item 'Birinapant'\n",
       "\\item 'BMS-754807'\n",
       "\\item 'Buparlisib'\n",
       "\\item 'Cobimetinib'\n",
       "\\item 'Copanlisib'\n",
       "\\item 'Dactolisib'\n",
       "\\item 'Danusertib'\n",
       "\\item 'Dasatinib'\n",
       "\\item 'Dinaciclib'\n",
       "\\item 'DMSO'\n",
       "\\item 'ENMD-2076'\n",
       "\\item 'Fedratinib'\n",
       "\\item 'Gedatolisib'\n",
       "\\item 'I-BET151'\n",
       "\\item 'Ipatasertib'\n",
       "\\item 'JQ1'\n",
       "\\item 'LY3009120'\n",
       "\\item 'Milciclib'\n",
       "\\item 'Niraparib'\n",
       "\\item 'NVP-BGT226'\n",
       "\\item 'NVP-LCL161'\n",
       "\\item 'OTS167'\n",
       "\\item 'Pacritinib'\n",
       "\\item 'PD0325901'\n",
       "\\item 'PF-00477736'\n",
       "\\item 'PF-03758309'\n",
       "\\item 'Pictilisib'\n",
       "\\item 'Pracinostat'\n",
       "\\item 'Quisinostat'\n",
       "\\item 'Ralimetinib'\n",
       "\\item 'SCH772984'\n",
       "\\item 'Selinexor'\n",
       "\\item 'SNS-032'\n",
       "\\item 'Talazoparib'\n",
       "\\item 'TGX-221'\n",
       "\\item 'UCN-01'\n",
       "\\item 'Volasertib'\n",
       "\\item 'ZSTK474'\n",
       "\\end{enumerate*}\n"
      ],
      "text/markdown": [
       "1. 'AR-42'\n",
       "2. 'AT 101'\n",
       "3. 'AT9283'\n",
       "4. 'AZD-8186'\n",
       "5. 'AZD8055'\n",
       "6. 'Belinostat'\n",
       "7. 'BI 2536'\n",
       "8. 'Birabresib'\n",
       "9. 'Birinapant'\n",
       "10. 'BMS-754807'\n",
       "11. 'Buparlisib'\n",
       "12. 'Cobimetinib'\n",
       "13. 'Copanlisib'\n",
       "14. 'Dactolisib'\n",
       "15. 'Danusertib'\n",
       "16. 'Dasatinib'\n",
       "17. 'Dinaciclib'\n",
       "18. 'DMSO'\n",
       "19. 'ENMD-2076'\n",
       "20. 'Fedratinib'\n",
       "21. 'Gedatolisib'\n",
       "22. 'I-BET151'\n",
       "23. 'Ipatasertib'\n",
       "24. 'JQ1'\n",
       "25. 'LY3009120'\n",
       "26. 'Milciclib'\n",
       "27. 'Niraparib'\n",
       "28. 'NVP-BGT226'\n",
       "29. 'NVP-LCL161'\n",
       "30. 'OTS167'\n",
       "31. 'Pacritinib'\n",
       "32. 'PD0325901'\n",
       "33. 'PF-00477736'\n",
       "34. 'PF-03758309'\n",
       "35. 'Pictilisib'\n",
       "36. 'Pracinostat'\n",
       "37. 'Quisinostat'\n",
       "38. 'Ralimetinib'\n",
       "39. 'SCH772984'\n",
       "40. 'Selinexor'\n",
       "41. 'SNS-032'\n",
       "42. 'Talazoparib'\n",
       "43. 'TGX-221'\n",
       "44. 'UCN-01'\n",
       "45. 'Volasertib'\n",
       "46. 'ZSTK474'\n",
       "\n",
       "\n"
      ],
      "text/plain": [
       " [1] \"AR-42\"       \"AT 101\"      \"AT9283\"      \"AZD-8186\"    \"AZD8055\"    \n",
       " [6] \"Belinostat\"  \"BI 2536\"     \"Birabresib\"  \"Birinapant\"  \"BMS-754807\" \n",
       "[11] \"Buparlisib\"  \"Cobimetinib\" \"Copanlisib\"  \"Dactolisib\"  \"Danusertib\" \n",
       "[16] \"Dasatinib\"   \"Dinaciclib\"  \"DMSO\"        \"ENMD-2076\"   \"Fedratinib\" \n",
       "[21] \"Gedatolisib\" \"I-BET151\"    \"Ipatasertib\" \"JQ1\"         \"LY3009120\"  \n",
       "[26] \"Milciclib\"   \"Niraparib\"   \"NVP-BGT226\"  \"NVP-LCL161\"  \"OTS167\"     \n",
       "[31] \"Pacritinib\"  \"PD0325901\"   \"PF-00477736\" \"PF-03758309\" \"Pictilisib\" \n",
       "[36] \"Pracinostat\" \"Quisinostat\" \"Ralimetinib\" \"SCH772984\"   \"Selinexor\"  \n",
       "[41] \"SNS-032\"     \"Talazoparib\" \"TGX-221\"     \"UCN-01\"      \"Volasertib\" \n",
       "[46] \"ZSTK474\"    "
      ]
     },
     "metadata": {},
     "output_type": "display_data"
    }
   ],
   "source": [
    "all_drugs <- sort(levels(Idents(JHOS2))) # Picking one of them, they are all the same\n",
    "all_drugs"
   ]
  },
  {
   "cell_type": "code",
   "execution_count": 11,
   "id": "e435788c",
   "metadata": {
    "vscode": {
     "languageId": "r"
    }
   },
   "outputs": [],
   "source": [
    "JHOS2_subsampled <- mclapply(all_drugs, function(x) split_subsample_pseudobulk(seurat_object = JHOS2,\n",
    "                                                                          group = x,\n",
    "                                                                          modelname = \"JHOS2\"), mc.cores = 46)"
   ]
  },
  {
   "cell_type": "code",
   "execution_count": 12,
   "id": "9b797097",
   "metadata": {
    "vscode": {
     "languageId": "r"
    }
   },
   "outputs": [],
   "source": [
    "PDC2_subsampled <- mclapply(all_drugs, function(x) split_subsample_pseudobulk(seurat_object = PDC2,\n",
    "                                                                          group = x,\n",
    "                                                                          modelname = \"PDC2\"), mc.cores = 46)"
   ]
  },
  {
   "cell_type": "code",
   "execution_count": 13,
   "id": "89451907",
   "metadata": {
    "vscode": {
     "languageId": "r"
    }
   },
   "outputs": [],
   "source": [
    "PDC3_subsampled <- mclapply(all_drugs, function(x) split_subsample_pseudobulk(seurat_object = PDC3,\n",
    "                                                                          group = x,\n",
    "                                                                          modelname = \"PDC3\"), mc.cores = 46)"
   ]
  },
  {
   "cell_type": "code",
   "execution_count": 14,
   "id": "6062b21c",
   "metadata": {
    "vscode": {
     "languageId": "r"
    }
   },
   "outputs": [],
   "source": [
    "names(JHOS2_subsampled) <- names(PDC2_subsampled) <- names(PDC3_subsampled) <- all_drugs"
   ]
  },
  {
   "cell_type": "code",
   "execution_count": 15,
   "id": "baf3e9ff",
   "metadata": {
    "vscode": {
     "languageId": "r"
    }
   },
   "outputs": [],
   "source": [
    "# Saving\n",
    "saveRDS(object = JHOS2_subsampled, file = \"JHOS2_pseudobulk_subsampled.RDS\")\n",
    "saveRDS(object = PDC2_subsampled, file = \"PDC2_pseudobulk_subsampled.RDS\")\n",
    "saveRDS(object = PDC3_subsampled, file = \"PDC3_pseudobulk_subsampled.RDS\")"
   ]
  },
  {
   "cell_type": "code",
   "execution_count": 16,
   "id": "e7850799",
   "metadata": {
    "vscode": {
     "languageId": "r"
    }
   },
   "outputs": [
    {
     "data": {
      "text/plain": [
       "R version 4.2.2 (2022-10-31)\n",
       "Platform: x86_64-conda-linux-gnu (64-bit)\n",
       "Running under: Rocky Linux 8.8 (Green Obsidian)\n",
       "\n",
       "Matrix products: default\n",
       "BLAS/LAPACK: /homedir01/adini22/.conda/envs/cellhashing_analyses/lib/libopenblasp-r0.3.21.so\n",
       "\n",
       "locale:\n",
       " [1] LC_CTYPE=en_US.UTF-8       LC_NUMERIC=C              \n",
       " [3] LC_TIME=en_US.UTF-8        LC_COLLATE=en_US.UTF-8    \n",
       " [5] LC_MONETARY=en_US.UTF-8    LC_MESSAGES=en_US.UTF-8   \n",
       " [7] LC_PAPER=en_US.UTF-8       LC_NAME=C                 \n",
       " [9] LC_ADDRESS=C               LC_TELEPHONE=C            \n",
       "[11] LC_MEASUREMENT=en_US.UTF-8 LC_IDENTIFICATION=C       \n",
       "\n",
       "attached base packages:\n",
       "[1] parallel  stats     graphics  grDevices utils     datasets  methods  \n",
       "[8] base     \n",
       "\n",
       "other attached packages:\n",
       "[1] readxl_1.4.1       SeuratObject_4.1.3 Seurat_4.3.0.9002 \n",
       "\n",
       "loaded via a namespace (and not attached):\n",
       "  [1] Rtsne_0.16             colorspace_2.1-0       deldir_1.0-6          \n",
       "  [4] ellipsis_0.3.2         ggridges_0.5.4         IRdisplay_1.1         \n",
       "  [7] base64enc_0.1-3        spatstat.data_3.0-1    leiden_0.4.3          \n",
       " [10] listenv_0.9.0          ggrepel_0.9.3          fansi_1.0.4           \n",
       " [13] codetools_0.2-18       splines_4.2.2          polyclip_1.10-4       \n",
       " [16] IRkernel_1.3.1         jsonlite_1.8.4         ica_1.0-3             \n",
       " [19] cluster_2.1.4          png_0.1-8              uwot_0.1.14           \n",
       " [22] shiny_1.7.4            sctransform_0.3.5      spatstat.sparse_3.0-1 \n",
       " [25] compiler_4.2.2         httr_1.4.5             assertthat_0.2.1      \n",
       " [28] Matrix_1.5-3           fastmap_1.1.1          lazyeval_0.2.2        \n",
       " [31] cli_3.6.0              later_1.3.0            htmltools_0.5.4       \n",
       " [34] tools_4.2.2            igraph_1.4.0           gtable_0.3.3          \n",
       " [37] glue_1.6.2             RANN_2.6.1             reshape2_1.4.4        \n",
       " [40] dplyr_1.0.10           Rcpp_1.0.10            scattermore_0.8       \n",
       " [43] cellranger_1.1.0       vctrs_0.5.1            spatstat.explore_3.0-6\n",
       " [46] nlme_3.1-162           progressr_0.13.0       lmtest_0.9-40         \n",
       " [49] spatstat.random_3.1-3  stringr_1.5.0          globals_0.16.2        \n",
       " [52] mime_0.12              miniUI_0.1.1.1         lifecycle_1.0.3       \n",
       " [55] irlba_2.3.5.1          goftest_1.2-3          future_1.32.0         \n",
       " [58] MASS_7.3-58.2          zoo_1.8-11             scales_1.2.1          \n",
       " [61] promises_1.2.0.1       spatstat.utils_3.0-2   RColorBrewer_1.1-3    \n",
       " [64] reticulate_1.28        pbapply_1.7-0          gridExtra_2.3         \n",
       " [67] ggplot2_3.4.2          stringi_1.7.12         repr_1.1.5            \n",
       " [70] rlang_1.1.0            pkgconfig_2.0.3        matrixStats_0.63.0    \n",
       " [73] evaluate_0.20          lattice_0.20-45        ROCR_1.0-11           \n",
       " [76] purrr_1.0.1            tensor_1.5             patchwork_1.1.2       \n",
       " [79] htmlwidgets_1.6.2.9000 cowplot_1.1.1          tidyselect_1.2.0      \n",
       " [82] parallelly_1.34.0      RcppAnnoy_0.0.20       plyr_1.8.8            \n",
       " [85] magrittr_2.0.3         R6_2.5.1               generics_0.1.3        \n",
       " [88] pbdZMQ_0.3-8           DBI_1.1.3              pillar_1.9.0          \n",
       " [91] fitdistrplus_1.1-8     survival_3.5-0         abind_1.4-5           \n",
       " [94] sp_1.6-0               tibble_3.2.1           future.apply_1.10.0   \n",
       " [97] crayon_1.5.2           uuid_1.1-0             KernSmooth_2.23-20    \n",
       "[100] utf8_1.2.3             spatstat.geom_3.0-5    plotly_4.10.1.9000    \n",
       "[103] grid_4.2.2             data.table_1.14.8      digest_0.6.31         \n",
       "[106] xtable_1.8-4           tidyr_1.2.1            httpuv_1.6.9          \n",
       "[109] munsell_0.5.0          viridisLite_0.4.1     "
      ]
     },
     "metadata": {},
     "output_type": "display_data"
    }
   ],
   "source": [
    "sessionInfo()"
   ]
  }
 ],
 "metadata": {
  "kernelspec": {
   "display_name": "R",
   "language": "R",
   "name": "ir"
  },
  "language_info": {
   "codemirror_mode": "r",
   "file_extension": ".r",
   "mimetype": "text/x-r-source",
   "name": "R",
   "pygments_lexer": "r",
   "version": "4.2.2"
  }
 },
 "nbformat": 4,
 "nbformat_minor": 5
}
