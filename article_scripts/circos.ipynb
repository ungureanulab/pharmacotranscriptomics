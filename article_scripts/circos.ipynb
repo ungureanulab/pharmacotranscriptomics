{
 "cells": [
  {
   "cell_type": "markdown",
   "id": "169615a3",
   "metadata": {},
   "source": [
    "# Circos plot of the Leiden clusters and mechanism of action distribution"
   ]
  },
  {
   "cell_type": "markdown",
   "id": "45097ae3",
   "metadata": {},
   "source": [
    "Loading the R packages."
   ]
  },
  {
   "cell_type": "code",
   "execution_count": 1,
   "id": "4f794b1a",
   "metadata": {
    "execution": {
     "iopub.execute_input": "2024-04-21T05:34:43.302744Z",
     "iopub.status.busy": "2024-04-21T05:34:43.298538Z",
     "iopub.status.idle": "2024-04-21T05:34:47.688085Z",
     "shell.execute_reply": "2024-04-21T05:34:47.686550Z"
    },
    "vscode": {
     "languageId": "r"
    }
   },
   "outputs": [],
   "source": [
    "suppressWarnings({suppressPackageStartupMessages({\n",
    "    library(Seurat)\n",
    "    library(ggsci)\n",
    "    library(reshape2)\n",
    "    library(readxl)\n",
    "    library(viridis)\n",
    "    library(circlize)\n",
    "})})"
   ]
  },
  {
   "cell_type": "markdown",
   "id": "ee6fdad6",
   "metadata": {},
   "source": [
    "Loading the data."
   ]
  },
  {
   "cell_type": "code",
   "execution_count": 2,
   "id": "2ec18401",
   "metadata": {
    "execution": {
     "iopub.execute_input": "2024-04-21T05:34:47.713002Z",
     "iopub.status.busy": "2024-04-21T05:34:47.690572Z",
     "iopub.status.idle": "2024-04-21T05:36:18.062443Z",
     "shell.execute_reply": "2024-04-21T05:36:18.060053Z"
    },
    "vscode": {
     "languageId": "r"
    }
   },
   "outputs": [],
   "source": [
    "hgsoc <- readRDS(\"HGSOC_CellHashing_CLUSTERED.RDS\")"
   ]
  },
  {
   "cell_type": "markdown",
   "id": "adbf00a3",
   "metadata": {},
   "source": [
    "Extracting the data needed for the circos plot."
   ]
  },
  {
   "cell_type": "code",
   "execution_count": 3,
   "id": "975e2f95",
   "metadata": {
    "execution": {
     "iopub.execute_input": "2024-04-21T05:36:18.072265Z",
     "iopub.status.busy": "2024-04-21T05:36:18.071038Z",
     "iopub.status.idle": "2024-04-21T05:36:18.099881Z",
     "shell.execute_reply": "2024-04-21T05:36:18.098517Z"
    },
    "vscode": {
     "languageId": "r"
    }
   },
   "outputs": [
    {
     "data": {
      "text/html": [
       "<table class=\"dataframe\">\n",
       "<caption>A data.frame: 6 × 2</caption>\n",
       "<thead>\n",
       "\t<tr><th></th><th scope=col>Treatment_group</th><th scope=col>RNA_clusters</th></tr>\n",
       "\t<tr><th></th><th scope=col>&lt;chr&gt;</th><th scope=col>&lt;fct&gt;</th></tr>\n",
       "</thead>\n",
       "<tbody>\n",
       "\t<tr><th scope=row>JHOS2_AAACCCAAGCAAATCA-1</th><td>Fedratinib </td><td>5</td></tr>\n",
       "\t<tr><th scope=row>JHOS2_AAACCCAAGGTCGCCT-1</th><td>BMS-754807 </td><td>8</td></tr>\n",
       "\t<tr><th scope=row>JHOS2_AAACCCACAGAACATA-1</th><td>SCH772984  </td><td>2</td></tr>\n",
       "\t<tr><th scope=row>JHOS2_AAACCCAGTCTGTCAA-1</th><td>TGX-221    </td><td>2</td></tr>\n",
       "\t<tr><th scope=row>JHOS2_AAACCCAGTCTGTGGC-1</th><td>Ipatasertib</td><td>2</td></tr>\n",
       "\t<tr><th scope=row>JHOS2_AAACCCAGTTGGACCC-1</th><td>Ralimetinib</td><td>7</td></tr>\n",
       "</tbody>\n",
       "</table>\n"
      ],
      "text/latex": [
       "A data.frame: 6 × 2\n",
       "\\begin{tabular}{r|ll}\n",
       "  & Treatment\\_group & RNA\\_clusters\\\\\n",
       "  & <chr> & <fct>\\\\\n",
       "\\hline\n",
       "\tJHOS2\\_AAACCCAAGCAAATCA-1 & Fedratinib  & 5\\\\\n",
       "\tJHOS2\\_AAACCCAAGGTCGCCT-1 & BMS-754807  & 8\\\\\n",
       "\tJHOS2\\_AAACCCACAGAACATA-1 & SCH772984   & 2\\\\\n",
       "\tJHOS2\\_AAACCCAGTCTGTCAA-1 & TGX-221     & 2\\\\\n",
       "\tJHOS2\\_AAACCCAGTCTGTGGC-1 & Ipatasertib & 2\\\\\n",
       "\tJHOS2\\_AAACCCAGTTGGACCC-1 & Ralimetinib & 7\\\\\n",
       "\\end{tabular}\n"
      ],
      "text/markdown": [
       "\n",
       "A data.frame: 6 × 2\n",
       "\n",
       "| <!--/--> | Treatment_group &lt;chr&gt; | RNA_clusters &lt;fct&gt; |\n",
       "|---|---|---|\n",
       "| JHOS2_AAACCCAAGCAAATCA-1 | Fedratinib  | 5 |\n",
       "| JHOS2_AAACCCAAGGTCGCCT-1 | BMS-754807  | 8 |\n",
       "| JHOS2_AAACCCACAGAACATA-1 | SCH772984   | 2 |\n",
       "| JHOS2_AAACCCAGTCTGTCAA-1 | TGX-221     | 2 |\n",
       "| JHOS2_AAACCCAGTCTGTGGC-1 | Ipatasertib | 2 |\n",
       "| JHOS2_AAACCCAGTTGGACCC-1 | Ralimetinib | 7 |\n",
       "\n"
      ],
      "text/plain": [
       "                         Treatment_group RNA_clusters\n",
       "JHOS2_AAACCCAAGCAAATCA-1 Fedratinib      5           \n",
       "JHOS2_AAACCCAAGGTCGCCT-1 BMS-754807      8           \n",
       "JHOS2_AAACCCACAGAACATA-1 SCH772984       2           \n",
       "JHOS2_AAACCCAGTCTGTCAA-1 TGX-221         2           \n",
       "JHOS2_AAACCCAGTCTGTGGC-1 Ipatasertib     2           \n",
       "JHOS2_AAACCCAGTTGGACCC-1 Ralimetinib     7           "
      ]
     },
     "metadata": {},
     "output_type": "display_data"
    }
   ],
   "source": [
    "clusters_drugs_batch <- hgsoc@meta.data[, c(6, 26)]\n",
    "head(clusters_drugs_batch)"
   ]
  },
  {
   "cell_type": "markdown",
   "id": "feb26b25",
   "metadata": {},
   "source": [
    "Adding “RNA cluster” in front of the number of the cluster."
   ]
  },
  {
   "cell_type": "code",
   "execution_count": 4,
   "id": "488d18a6",
   "metadata": {
    "execution": {
     "iopub.execute_input": "2024-04-21T05:36:18.103584Z",
     "iopub.status.busy": "2024-04-21T05:36:18.102450Z",
     "iopub.status.idle": "2024-04-21T05:36:18.118338Z",
     "shell.execute_reply": "2024-04-21T05:36:18.116975Z"
    },
    "vscode": {
     "languageId": "r"
    }
   },
   "outputs": [],
   "source": [
    "clusters_drugs_batch$RNA_clusters <- paste0(\"RNA cluster \", clusters_drugs_batch$RNA_clusters)"
   ]
  },
  {
   "cell_type": "markdown",
   "id": "3fb94dc5",
   "metadata": {},
   "source": [
    "Loading the mechanisms of actions/higher annotations and adding their info."
   ]
  },
  {
   "cell_type": "code",
   "execution_count": 5,
   "id": "76ebff83",
   "metadata": {
    "execution": {
     "iopub.execute_input": "2024-04-21T05:36:18.122728Z",
     "iopub.status.busy": "2024-04-21T05:36:18.121490Z",
     "iopub.status.idle": "2024-04-21T05:36:18.990591Z",
     "shell.execute_reply": "2024-04-21T05:36:18.989121Z"
    },
    "vscode": {
     "languageId": "r"
    }
   },
   "outputs": [
    {
     "name": "stderr",
     "output_type": "stream",
     "text": [
      "\u001b[1m\u001b[22mNew names:\n",
      "\u001b[36m•\u001b[39m `` -> `...4`\n",
      "\u001b[36m•\u001b[39m `` -> `...5`\n"
     ]
    }
   ],
   "source": [
    "high_anno <- as.data.frame(read_xlsx(path = \"mechanisms_of_actions.xlsx\", sheet = 1))\n",
    "high_anno <- high_anno[, c(1:3)]\n",
    "rownames(high_anno) <- high_anno$`Preferred name`\n",
    "\n",
    "clusters_drugs_batch$higher_level_mechanism <- sapply(clusters_drugs_batch$Treatment_group, \n",
    "                                                    function(x) high_anno[x, \"Higher level classification\"])"
   ]
  },
  {
   "cell_type": "markdown",
   "id": "769820c7",
   "metadata": {},
   "source": [
    "Fixing RNA clusters' and mechanisms' levels."
   ]
  },
  {
   "cell_type": "code",
   "execution_count": 6,
   "id": "19059333",
   "metadata": {
    "execution": {
     "iopub.execute_input": "2024-04-21T05:36:18.994411Z",
     "iopub.status.busy": "2024-04-21T05:36:18.993372Z",
     "iopub.status.idle": "2024-04-21T05:36:19.015243Z",
     "shell.execute_reply": "2024-04-21T05:36:19.004860Z"
    },
    "vscode": {
     "languageId": "r"
    }
   },
   "outputs": [],
   "source": [
    "clusters_drugs_batch$RNA_clusters <- factor(clusters_drugs_batch$RNA_clusters,\n",
    "                                           levels = paste0(\"RNA cluster \", rev(c(1:13))))\n",
    "\n",
    "clusters_drugs_batch$higher_level_mechanism <- factor(clusters_drugs_batch$higher_level_mechanism,\n",
    "                                                     levels = c(\"Control\", \"Bcl-2 inhibitor\", \"BET inhibitor\", \"CDK inhibitor\",\n",
    "                                                               \"CHK1 inhibitor\", \"HDAC inhibitor\", \"IAPs/SMAC mimetic\",\n",
    "                                                               \"Multi-kinase inhibitor\", \"PAK inhibitor\", \"PARP inhibitor\",\n",
    "                                                               \"PI3K/mTOR/AKT inhibitor\", \"PLK1 inhibitor\", \"Ras/Raf/MEK/ERK inhibitor\",\n",
    "                                                               \"XPO1/CRM1 inhibitor\"))   "
   ]
  },
  {
   "cell_type": "code",
   "execution_count": 7,
   "id": "0093d789",
   "metadata": {
    "execution": {
     "iopub.execute_input": "2024-04-21T05:36:19.019181Z",
     "iopub.status.busy": "2024-04-21T05:36:19.018250Z",
     "iopub.status.idle": "2024-04-21T05:36:19.033167Z",
     "shell.execute_reply": "2024-04-21T05:36:19.032002Z"
    },
    "vscode": {
     "languageId": "r"
    }
   },
   "outputs": [],
   "source": [
    "clusters_drugs_batch <- clusters_drugs_batch[order(clusters_drugs_batch$higher_level_mechanism, decreasing = T), ]\n",
    "clusters_drugs_batch <- clusters_drugs_batch[order(clusters_drugs_batch$RNA_clusters, decreasing = T),]"
   ]
  },
  {
   "cell_type": "markdown",
   "id": "6a62fb02",
   "metadata": {},
   "source": [
    "Colors will be set with Adobe Illustrator."
   ]
  },
  {
   "cell_type": "code",
   "execution_count": 8,
   "id": "a3d7b96c",
   "metadata": {
    "execution": {
     "iopub.execute_input": "2024-04-21T05:36:19.036575Z",
     "iopub.status.busy": "2024-04-21T05:36:19.035640Z",
     "iopub.status.idle": "2024-04-21T05:38:24.417960Z",
     "shell.execute_reply": "2024-04-21T05:38:24.416337Z"
    },
    "vscode": {
     "languageId": "r"
    }
   },
   "outputs": [
    {
     "data": {
      "text/html": [
       "<strong>png:</strong> 2"
      ],
      "text/latex": [
       "\\textbf{png:} 2"
      ],
      "text/markdown": [
       "**png:** 2"
      ],
      "text/plain": [
       "png \n",
       "  2 "
      ]
     },
     "metadata": {},
     "output_type": "display_data"
    }
   ],
   "source": [
    "pdf(\"Circos_RNAclusters_model_newIntegration.pdf\", width = 8, height = 8)\n",
    "chordDiagram(x = clusters_drugs_batch[, c(\"RNA_clusters\", \"higher_level_mechanism\")], \n",
    "             annotationTrack =  \"grid\", \n",
    "             column.col = custom_palette, \n",
    "             annotationTrackHeight = c(0.05, 0.01), \n",
    "             transparency = 0.1, scale = FALSE,\n",
    "             preAllocateTracks = list(track.height = max(strwidth(c(clusters_drugs_batch$RNA_clusters, \n",
    "                                                                    clusters_drugs_batch$higher_level_mechanism)))))\n",
    "# we go back to the first track and customize sector labels\n",
    "circos.track(track.index = 1, panel.fun = function(x, y) {\n",
    "    circos.text(CELL_META$xcenter, CELL_META$ylim[1], CELL_META$sector.index, \n",
    "        facing = \"clockwise\", niceFacing = TRUE, adj = c(0, 0.5))\n",
    "}, bg.border = NA) # here set bg.border to NA is important) # Border color)\n",
    "circos.clear()\n",
    "dev.off()"
   ]
  },
  {
   "cell_type": "code",
   "execution_count": 9,
   "id": "8cc9bbfd",
   "metadata": {
    "execution": {
     "iopub.execute_input": "2024-04-21T05:38:24.429294Z",
     "iopub.status.busy": "2024-04-21T05:38:24.428152Z",
     "iopub.status.idle": "2024-04-21T05:38:24.657603Z",
     "shell.execute_reply": "2024-04-21T05:38:24.656309Z"
    },
    "vscode": {
     "languageId": "r"
    }
   },
   "outputs": [
    {
     "data": {
      "text/plain": [
       "R version 4.2.2 (2022-10-31)\n",
       "Platform: x86_64-conda-linux-gnu (64-bit)\n",
       "Running under: Rocky Linux 8.8 (Green Obsidian)\n",
       "\n",
       "Matrix products: default\n",
       "BLAS/LAPACK: /homedir01/adini22/.conda/envs/cellhashing_analyses/lib/libopenblasp-r0.3.21.so\n",
       "\n",
       "locale:\n",
       " [1] LC_CTYPE=en_US.UTF-8       LC_NUMERIC=C              \n",
       " [3] LC_TIME=en_US.UTF-8        LC_COLLATE=en_US.UTF-8    \n",
       " [5] LC_MONETARY=en_US.UTF-8    LC_MESSAGES=en_US.UTF-8   \n",
       " [7] LC_PAPER=en_US.UTF-8       LC_NAME=C                 \n",
       " [9] LC_ADDRESS=C               LC_TELEPHONE=C            \n",
       "[11] LC_MEASUREMENT=en_US.UTF-8 LC_IDENTIFICATION=C       \n",
       "\n",
       "attached base packages:\n",
       "[1] stats     graphics  grDevices utils     datasets  methods   base     \n",
       "\n",
       "other attached packages:\n",
       "[1] circlize_0.4.15    viridis_0.6.2      viridisLite_0.4.1  readxl_1.4.1      \n",
       "[5] reshape2_1.4.4     ggsci_3.0.0        SeuratObject_4.1.3 Seurat_4.3.0.9002 \n",
       "\n",
       "loaded via a namespace (and not attached):\n",
       "  [1] Rtsne_0.16             colorspace_2.1-0       deldir_1.0-6          \n",
       "  [4] ellipsis_0.3.2         ggridges_0.5.4         IRdisplay_1.1         \n",
       "  [7] GlobalOptions_0.1.2    base64enc_0.1-3        spatstat.data_3.0-1   \n",
       " [10] leiden_0.4.3           listenv_0.9.0          ggrepel_0.9.3         \n",
       " [13] fansi_1.0.4            codetools_0.2-18       splines_4.2.2         \n",
       " [16] polyclip_1.10-4        IRkernel_1.3.1         jsonlite_1.8.4        \n",
       " [19] ica_1.0-3              cluster_2.1.4          png_0.1-8             \n",
       " [22] uwot_0.1.14            shiny_1.7.4            sctransform_0.3.5     \n",
       " [25] spatstat.sparse_3.0-1  compiler_4.2.2         httr_1.4.5            \n",
       " [28] assertthat_0.2.1       Matrix_1.5-3           fastmap_1.1.1         \n",
       " [31] lazyeval_0.2.2         cli_3.6.0              later_1.3.0           \n",
       " [34] htmltools_0.5.4        tools_4.2.2            igraph_1.4.0          \n",
       " [37] gtable_0.3.3           glue_1.6.2             RANN_2.6.1            \n",
       " [40] dplyr_1.0.10           Rcpp_1.0.10            scattermore_0.8       \n",
       " [43] cellranger_1.1.0       vctrs_0.5.1            spatstat.explore_3.0-6\n",
       " [46] nlme_3.1-162           progressr_0.13.0       lmtest_0.9-40         \n",
       " [49] spatstat.random_3.1-3  stringr_1.5.0          globals_0.16.2        \n",
       " [52] mime_0.12              miniUI_0.1.1.1         lifecycle_1.0.3       \n",
       " [55] irlba_2.3.5.1          goftest_1.2-3          future_1.32.0         \n",
       " [58] MASS_7.3-58.2          zoo_1.8-11             scales_1.2.1          \n",
       " [61] promises_1.2.0.1       spatstat.utils_3.0-2   parallel_4.2.2        \n",
       " [64] RColorBrewer_1.1-3     reticulate_1.28        pbapply_1.7-0         \n",
       " [67] gridExtra_2.3          ggplot2_3.4.2          stringi_1.7.12        \n",
       " [70] shape_1.4.6            repr_1.1.5             rlang_1.1.0           \n",
       " [73] pkgconfig_2.0.3        matrixStats_0.63.0     evaluate_0.20         \n",
       " [76] lattice_0.20-45        ROCR_1.0-11            purrr_1.0.1           \n",
       " [79] tensor_1.5             patchwork_1.1.2        htmlwidgets_1.6.2.9000\n",
       " [82] cowplot_1.1.1          tidyselect_1.2.0       parallelly_1.34.0     \n",
       " [85] RcppAnnoy_0.0.20       plyr_1.8.8             magrittr_2.0.3        \n",
       " [88] R6_2.5.1               generics_0.1.3         pbdZMQ_0.3-8          \n",
       " [91] DBI_1.1.3              pillar_1.9.0           fitdistrplus_1.1-8    \n",
       " [94] survival_3.5-0         abind_1.4-5            sp_1.6-0              \n",
       " [97] tibble_3.2.1           future.apply_1.10.0    crayon_1.5.2          \n",
       "[100] uuid_1.1-0             KernSmooth_2.23-20     utf8_1.2.3            \n",
       "[103] spatstat.geom_3.0-5    plotly_4.10.1.9000     grid_4.2.2            \n",
       "[106] data.table_1.14.8      digest_0.6.31          xtable_1.8-4          \n",
       "[109] tidyr_1.2.1            httpuv_1.6.9           munsell_0.5.0         "
      ]
     },
     "metadata": {},
     "output_type": "display_data"
    }
   ],
   "source": [
    "sessionInfo()"
   ]
  }
 ],
 "metadata": {
  "kernelspec": {
   "display_name": "R",
   "language": "R",
   "name": "ir"
  },
  "language_info": {
   "codemirror_mode": "r",
   "file_extension": ".r",
   "mimetype": "text/x-r-source",
   "name": "R",
   "pygments_lexer": "r",
   "version": "4.2.2"
  }
 },
 "nbformat": 4,
 "nbformat_minor": 5
}
