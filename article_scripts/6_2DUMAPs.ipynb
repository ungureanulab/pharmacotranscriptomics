{
 "cells": [
  {
   "cell_type": "markdown",
   "id": "9243d812",
   "metadata": {},
   "source": [
    "# 2D UMAPs"
   ]
  },
  {
   "cell_type": "markdown",
   "id": "102112b8",
   "metadata": {},
   "source": [
    "Loading the R packages."
   ]
  },
  {
   "cell_type": "code",
   "execution_count": 1,
   "id": "8421f18f",
   "metadata": {
    "execution": {
     "iopub.execute_input": "2024-04-21T05:20:16.371322Z",
     "iopub.status.busy": "2024-04-21T05:20:16.368743Z",
     "iopub.status.idle": "2024-04-21T05:20:34.520122Z",
     "shell.execute_reply": "2024-04-21T05:20:34.517802Z"
    },
    "vscode": {
     "languageId": "r"
    }
   },
   "outputs": [],
   "source": [
    "suppressWarnings({suppressPackageStartupMessages({\n",
    "    library(Seurat)\n",
    "    library(ggplot2)\n",
    "    library(ggsci)\n",
    "    library(readxl)\n",
    "})})"
   ]
  },
  {
   "cell_type": "markdown",
   "id": "a747b645",
   "metadata": {},
   "source": [
    "Loading the scRNA-seq pre-processed and Leiden-clustered data."
   ]
  },
  {
   "cell_type": "code",
   "execution_count": 2,
   "id": "53331034",
   "metadata": {
    "execution": {
     "iopub.execute_input": "2024-04-21T05:20:34.564435Z",
     "iopub.status.busy": "2024-04-21T05:20:34.525281Z",
     "iopub.status.idle": "2024-04-21T05:22:09.497794Z",
     "shell.execute_reply": "2024-04-21T05:22:09.495390Z"
    },
    "vscode": {
     "languageId": "r"
    }
   },
   "outputs": [],
   "source": [
    "hgsoc <- readRDS(\"HGSOC_CellHashing_CLUSTERED.RDS\")"
   ]
  },
  {
   "cell_type": "markdown",
   "id": "b89cdace",
   "metadata": {},
   "source": [
    "Loading mechanisms of action or high-level annotations' metadata."
   ]
  },
  {
   "cell_type": "code",
   "execution_count": 3,
   "id": "d9ed437f",
   "metadata": {
    "execution": {
     "iopub.execute_input": "2024-04-21T05:22:09.507484Z",
     "iopub.status.busy": "2024-04-21T05:22:09.506310Z",
     "iopub.status.idle": "2024-04-21T05:22:09.769162Z",
     "shell.execute_reply": "2024-04-21T05:22:09.767799Z"
    },
    "vscode": {
     "languageId": "r"
    }
   },
   "outputs": [
    {
     "name": "stderr",
     "output_type": "stream",
     "text": [
      "\u001b[1m\u001b[22mNew names:\n",
      "\u001b[36m•\u001b[39m `` -> `...4`\n",
      "\u001b[36m•\u001b[39m `` -> `...5`\n"
     ]
    }
   ],
   "source": [
    "high_anno <- as.data.frame(read_xlsx(path = \"mechanisms_of_actions.xlsx\", sheet = 1))\n",
    "high_anno <- high_anno[, c(1:3)]\n",
    "rownames(high_anno) <- high_anno$`Preferred name`"
   ]
  },
  {
   "cell_type": "code",
   "execution_count": 4,
   "id": "9ecb70a4",
   "metadata": {
    "execution": {
     "iopub.execute_input": "2024-04-21T05:22:09.772706Z",
     "iopub.status.busy": "2024-04-21T05:22:09.771592Z",
     "iopub.status.idle": "2024-04-21T05:22:09.792876Z",
     "shell.execute_reply": "2024-04-21T05:22:09.791574Z"
    },
    "vscode": {
     "languageId": "r"
    }
   },
   "outputs": [
    {
     "data": {
      "text/html": [
       "<table class=\"dataframe\">\n",
       "<caption>A data.frame: 6 × 3</caption>\n",
       "<thead>\n",
       "\t<tr><th></th><th scope=col>Preferred name</th><th scope=col>Mechanism/Targets</th><th scope=col>Higher level classification</th></tr>\n",
       "\t<tr><th></th><th scope=col>&lt;chr&gt;</th><th scope=col>&lt;chr&gt;</th><th scope=col>&lt;chr&gt;</th></tr>\n",
       "</thead>\n",
       "<tbody>\n",
       "\t<tr><th scope=row>DMSO</th><td>DMSO       </td><td>0                          </td><td>Control                </td></tr>\n",
       "\t<tr><th scope=row>Belinostat</th><td>Belinostat </td><td>HDAC inhibitor             </td><td>HDAC inhibitor         </td></tr>\n",
       "\t<tr><th scope=row>Quisinostat</th><td>Quisinostat</td><td>HDAC inhibitor             </td><td>HDAC inhibitor         </td></tr>\n",
       "\t<tr><th scope=row>Dinaciclib</th><td>Dinaciclib </td><td>CDK inhibitor              </td><td>CDK inhibitor          </td></tr>\n",
       "\t<tr><th scope=row>Pictilisib</th><td>Pictilisib </td><td>PI3K inhibitor, pan-class I</td><td>PI3K/mTOR/AKT inhibitor</td></tr>\n",
       "\t<tr><th scope=row>Pacritinib</th><td>Pacritinib </td><td>FLT3/JAK2                  </td><td>Multi-kinase inhibitor </td></tr>\n",
       "</tbody>\n",
       "</table>\n"
      ],
      "text/latex": [
       "A data.frame: 6 × 3\n",
       "\\begin{tabular}{r|lll}\n",
       "  & Preferred name & Mechanism/Targets & Higher level classification\\\\\n",
       "  & <chr> & <chr> & <chr>\\\\\n",
       "\\hline\n",
       "\tDMSO & DMSO        & 0                           & Control                \\\\\n",
       "\tBelinostat & Belinostat  & HDAC inhibitor              & HDAC inhibitor         \\\\\n",
       "\tQuisinostat & Quisinostat & HDAC inhibitor              & HDAC inhibitor         \\\\\n",
       "\tDinaciclib & Dinaciclib  & CDK inhibitor               & CDK inhibitor          \\\\\n",
       "\tPictilisib & Pictilisib  & PI3K inhibitor, pan-class I & PI3K/mTOR/AKT inhibitor\\\\\n",
       "\tPacritinib & Pacritinib  & FLT3/JAK2                   & Multi-kinase inhibitor \\\\\n",
       "\\end{tabular}\n"
      ],
      "text/markdown": [
       "\n",
       "A data.frame: 6 × 3\n",
       "\n",
       "| <!--/--> | Preferred name &lt;chr&gt; | Mechanism/Targets &lt;chr&gt; | Higher level classification &lt;chr&gt; |\n",
       "|---|---|---|---|\n",
       "| DMSO | DMSO        | 0                           | Control                 |\n",
       "| Belinostat | Belinostat  | HDAC inhibitor              | HDAC inhibitor          |\n",
       "| Quisinostat | Quisinostat | HDAC inhibitor              | HDAC inhibitor          |\n",
       "| Dinaciclib | Dinaciclib  | CDK inhibitor               | CDK inhibitor           |\n",
       "| Pictilisib | Pictilisib  | PI3K inhibitor, pan-class I | PI3K/mTOR/AKT inhibitor |\n",
       "| Pacritinib | Pacritinib  | FLT3/JAK2                   | Multi-kinase inhibitor  |\n",
       "\n"
      ],
      "text/plain": [
       "            Preferred name Mechanism/Targets          \n",
       "DMSO        DMSO           0                          \n",
       "Belinostat  Belinostat     HDAC inhibitor             \n",
       "Quisinostat Quisinostat    HDAC inhibitor             \n",
       "Dinaciclib  Dinaciclib     CDK inhibitor              \n",
       "Pictilisib  Pictilisib     PI3K inhibitor, pan-class I\n",
       "Pacritinib  Pacritinib     FLT3/JAK2                  \n",
       "            Higher level classification\n",
       "DMSO        Control                    \n",
       "Belinostat  HDAC inhibitor             \n",
       "Quisinostat HDAC inhibitor             \n",
       "Dinaciclib  CDK inhibitor              \n",
       "Pictilisib  PI3K/mTOR/AKT inhibitor    \n",
       "Pacritinib  Multi-kinase inhibitor     "
      ]
     },
     "metadata": {},
     "output_type": "display_data"
    }
   ],
   "source": [
    "head(high_anno)"
   ]
  },
  {
   "cell_type": "markdown",
   "id": "427ee702",
   "metadata": {},
   "source": [
    "Associating each cell to the higher level annotation of the drug used to perturb them."
   ]
  },
  {
   "cell_type": "code",
   "execution_count": 5,
   "id": "9d7e792e",
   "metadata": {
    "execution": {
     "iopub.execute_input": "2024-04-21T05:22:09.796446Z",
     "iopub.status.busy": "2024-04-21T05:22:09.795342Z",
     "iopub.status.idle": "2024-04-21T05:22:10.502998Z",
     "shell.execute_reply": "2024-04-21T05:22:10.501609Z"
    },
    "vscode": {
     "languageId": "r"
    }
   },
   "outputs": [],
   "source": [
    "hgsoc@meta.data$higher_mechanism_class <- sapply(hgsoc@meta.data$Treatment_group, \n",
    "                                                 function(x) high_anno[x, \"Higher level classification\"])"
   ]
  },
  {
   "cell_type": "markdown",
   "id": "5a30e993",
   "metadata": {},
   "source": [
    "Loading our custom palette generated with https://mokole.com/palette.html. This tool starts with a set of X11 colors (https://www.w3.org/TR/css3-iccprof#x11-color) and filters out the darkest and brightest colors based on specified minimum and maximum luminosity values. In our case, the chosen parameters were 20% for the minimum luminosity and 80% for the maximum luminosity. Then, it creates a subset of colors where each color is visually distinct from every other color by manipulating them in the CIE Lab color space, which accounts for perceptual differences (see https://www.datacolor.com/business-solutions/blog/what-is-cielab/). The resulting palettes are ranked based on the minimal pairwise distance between colors, with higher values indicating better distinctiveness. "
   ]
  },
  {
   "cell_type": "code",
   "execution_count": 6,
   "id": "793f4e7d",
   "metadata": {
    "execution": {
     "iopub.execute_input": "2024-04-21T05:22:10.506376Z",
     "iopub.status.busy": "2024-04-21T05:22:10.505407Z",
     "iopub.status.idle": "2024-04-21T05:22:10.514194Z",
     "shell.execute_reply": "2024-04-21T05:22:10.513051Z"
    },
    "vscode": {
     "languageId": "r"
    }
   },
   "outputs": [],
   "source": [
    "custom_palette <- c(\"Bcl-2 inhibitor\" = \"#2f4f4f\", \n",
    "                    \"BET inhibitor\" = \"#a52a2a\", \n",
    "                    \"Control\" = \"#bcbec0\",\n",
    "                    \"CDK inhibitor\" = \"#228b22\",\n",
    "                    \"CHK1 inhibitor\" = \"#4b0082\",\n",
    "                    \"HDAC inhibitor\" = \"#ff8c00\",\n",
    "                    \"IAPs/SMAC mimetic\" = \"#d2b48c\",\n",
    "                    \"Multi-kinase inhibitor\" = \"#00ff00\",\n",
    "                    \"PAK inhibitor\" = \"#00bfff\",\n",
    "                    \"PARP inhibitor\" = \"#0000ff\",\n",
    "                    \"PI3K/mTOR/AKT inhibitor\" = \"#ff1493\",\n",
    "                    \"PLK1 inhibitor\" = \"#ffff54\",\n",
    "                    \"Ras/Raf/MEK/ERK inhibitor\" = \"#dda0dd\",\n",
    "                    \"XPO1/CRM1 inhibitor\" = \"#7fffd4\")"
   ]
  },
  {
   "cell_type": "markdown",
   "id": "faab6183",
   "metadata": {},
   "source": [
    "Plotting the UMAPs:"
   ]
  },
  {
   "cell_type": "code",
   "execution_count": 7,
   "id": "dabca9a1",
   "metadata": {
    "execution": {
     "iopub.execute_input": "2024-04-21T05:22:10.517461Z",
     "iopub.status.busy": "2024-04-21T05:22:10.516480Z",
     "iopub.status.idle": "2024-04-21T05:22:17.179068Z",
     "shell.execute_reply": "2024-04-21T05:22:17.177616Z"
    },
    "vscode": {
     "languageId": "r"
    }
   },
   "outputs": [],
   "source": [
    "Idents(hgsoc) <- \"higher_mechanism_class\"\n",
    "levels(hgsoc) <- c(\"Control\", sort(levels(hgsoc))[-which(sort(levels(hgsoc)) == \"Control\")])\n",
    "ggsave(filename = \"HGSOC_CellHashing_UMAP_MoAs.pdf\", width = 9, height = 7, \n",
    "       plot = DimPlot(hgsoc, pt.size = 1, cols = custom_palette) + NoAxes())\n",
    "\n",
    "Idents(hgsoc) <- \"model\"\n",
    "levels(hgsoc) <- c(\"JHOS2\", \"PDC2\", \"PDC3\") # just for the color palette, that we prefer being swapped.\n",
    "ggsave(filename = \"HGSOC_CellHashing_UMAP_Models.pdf\", width = 8, height = 7, \n",
    "       plot = DimPlot(hgsoc, pt.size = 1, cols = pal_npg()(3)) + NoAxes())\n",
    "\n",
    "Idents(hgsoc) <- \"RNA_clusters\"\n",
    "ggsave(filename = \"HGSOC_CellHashing_UMAP_RNA_clusters.pdf\", width = 7.5, height = 7, \n",
    "DimPlot(hgsoc, pt.size = 1, cols = c(pal_npg()(10), pal_nejm()(3))) + NoAxes())\n",
    "\n",
    "Idents(hgsoc) <- \"Phase\"\n",
    "ggsave(filename = \"HGSOC_CellHashing_UMAP_CellCycle.pdf\", width = 7.5, height = 7, \n",
    "DimPlot(hgsoc, pt.size = 1, cols = pal_nejm()(3)) + NoAxes())"
   ]
  },
  {
   "cell_type": "markdown",
   "id": "d4c00f99",
   "metadata": {},
   "source": [
    "When saving them for publication purposes, the legend is removed so as to have the UMAPs of the same size. The legend is added back from the previously saved PDFs with Adobe Illustrator."
   ]
  },
  {
   "cell_type": "code",
   "execution_count": 8,
   "id": "4cdf8c30",
   "metadata": {
    "execution": {
     "iopub.execute_input": "2024-04-21T05:22:17.182487Z",
     "iopub.status.busy": "2024-04-21T05:22:17.181511Z",
     "iopub.status.idle": "2024-04-21T05:22:22.239626Z",
     "shell.execute_reply": "2024-04-21T05:22:22.238204Z"
    },
    "vscode": {
     "languageId": "r"
    }
   },
   "outputs": [],
   "source": [
    "Idents(hgsoc) <- \"higher_mechanism_class\"\n",
    "ggsave(filename = \"HGSOC_CellHashing_UMAP_MoAs_noLegend.pdf\", width = 7, height = 7, \n",
    "       plot = DimPlot(hgsoc, pt.size = 1, cols = custom_palette) + NoAxes() + NoLegend())\n",
    "\n",
    "Idents(hgsoc) <- \"model\"\n",
    "levels(hgsoc) <- c(\"JHOS2\", \"PDC2\", \"PDC3\") # just for the color palette, that we prefer being swapped.\n",
    "ggsave(filename = \"HGSOC_CellHashing_UMAP_Models_noLegend.pdf\", width = 7, height = 7, \n",
    "       plot = DimPlot(hgsoc, pt.size = 1, cols = pal_npg()(3)) + NoAxes() + NoLegend())\n",
    "\n",
    "Idents(hgsoc) <- \"RNA_clusters\"\n",
    "ggsave(filename = \"HGSOC_CellHashing_UMAP_RNA_clusters_noLegend.pdf\", width = 7, height = 7, \n",
    "DimPlot(hgsoc, pt.size = 1, cols = c(pal_npg()(10), pal_nejm()(3))) + NoAxes() + NoLegend())\n",
    "\n",
    "Idents(hgsoc) <- \"Phase\"\n",
    "ggsave(filename = \"HGSOC_CellHashing_UMAP_CellCycle_noLegend.pdf\", width = 7, height = 7, \n",
    "DimPlot(hgsoc, pt.size = 1, cols = pal_nejm()(3)) + NoAxes() + NoLegend())"
   ]
  },
  {
   "cell_type": "code",
   "execution_count": 9,
   "id": "6fe4239e",
   "metadata": {
    "execution": {
     "iopub.execute_input": "2024-04-21T05:22:22.242917Z",
     "iopub.status.busy": "2024-04-21T05:22:22.241937Z",
     "iopub.status.idle": "2024-04-21T05:22:22.417011Z",
     "shell.execute_reply": "2024-04-21T05:22:22.415845Z"
    },
    "vscode": {
     "languageId": "r"
    }
   },
   "outputs": [
    {
     "data": {
      "text/plain": [
       "R version 4.2.2 (2022-10-31)\n",
       "Platform: x86_64-conda-linux-gnu (64-bit)\n",
       "Running under: Rocky Linux 8.8 (Green Obsidian)\n",
       "\n",
       "Matrix products: default\n",
       "BLAS/LAPACK: /homedir01/adini22/.conda/envs/cellhashing_analyses/lib/libopenblasp-r0.3.21.so\n",
       "\n",
       "locale:\n",
       " [1] LC_CTYPE=en_US.UTF-8       LC_NUMERIC=C              \n",
       " [3] LC_TIME=en_US.UTF-8        LC_COLLATE=en_US.UTF-8    \n",
       " [5] LC_MONETARY=en_US.UTF-8    LC_MESSAGES=en_US.UTF-8   \n",
       " [7] LC_PAPER=en_US.UTF-8       LC_NAME=C                 \n",
       " [9] LC_ADDRESS=C               LC_TELEPHONE=C            \n",
       "[11] LC_MEASUREMENT=en_US.UTF-8 LC_IDENTIFICATION=C       \n",
       "\n",
       "attached base packages:\n",
       "[1] stats     graphics  grDevices utils     datasets  methods   base     \n",
       "\n",
       "other attached packages:\n",
       "[1] readxl_1.4.1       ggsci_3.0.0        ggplot2_3.4.2      SeuratObject_4.1.3\n",
       "[5] Seurat_4.3.0.9002 \n",
       "\n",
       "loaded via a namespace (and not attached):\n",
       "  [1] Rtsne_0.16             colorspace_2.1-0       deldir_1.0-6          \n",
       "  [4] ellipsis_0.3.2         ggridges_0.5.4         IRdisplay_1.1         \n",
       "  [7] base64enc_0.1-3        spatstat.data_3.0-1    farver_2.1.1          \n",
       " [10] leiden_0.4.3           listenv_0.9.0          ggrepel_0.9.3         \n",
       " [13] fansi_1.0.4            codetools_0.2-18       splines_4.2.2         \n",
       " [16] polyclip_1.10-4        IRkernel_1.3.1         jsonlite_1.8.4        \n",
       " [19] ica_1.0-3              cluster_2.1.4          png_0.1-8             \n",
       " [22] uwot_0.1.14            shiny_1.7.4            sctransform_0.3.5     \n",
       " [25] spatstat.sparse_3.0-1  compiler_4.2.2         httr_1.4.5            \n",
       " [28] assertthat_0.2.1       Matrix_1.5-3           fastmap_1.1.1         \n",
       " [31] lazyeval_0.2.2         cli_3.6.0              later_1.3.0           \n",
       " [34] htmltools_0.5.4        tools_4.2.2            igraph_1.4.0          \n",
       " [37] gtable_0.3.3           glue_1.6.2             RANN_2.6.1            \n",
       " [40] reshape2_1.4.4         dplyr_1.0.10           Rcpp_1.0.10           \n",
       " [43] scattermore_0.8        cellranger_1.1.0       vctrs_0.5.1           \n",
       " [46] spatstat.explore_3.0-6 nlme_3.1-162           progressr_0.13.0      \n",
       " [49] lmtest_0.9-40          spatstat.random_3.1-3  stringr_1.5.0         \n",
       " [52] globals_0.16.2         mime_0.12              miniUI_0.1.1.1        \n",
       " [55] lifecycle_1.0.3        irlba_2.3.5.1          goftest_1.2-3         \n",
       " [58] future_1.32.0          MASS_7.3-58.2          zoo_1.8-11            \n",
       " [61] scales_1.2.1           ragg_1.2.5             promises_1.2.0.1      \n",
       " [64] spatstat.utils_3.0-2   parallel_4.2.2         RColorBrewer_1.1-3    \n",
       " [67] reticulate_1.28        pbapply_1.7-0          gridExtra_2.3         \n",
       " [70] stringi_1.7.12         repr_1.1.5             systemfonts_1.0.4     \n",
       " [73] rlang_1.1.0            pkgconfig_2.0.3        matrixStats_0.63.0    \n",
       " [76] evaluate_0.20          lattice_0.20-45        ROCR_1.0-11           \n",
       " [79] purrr_1.0.1            tensor_1.5             labeling_0.4.2        \n",
       " [82] patchwork_1.1.2        htmlwidgets_1.6.2.9000 cowplot_1.1.1         \n",
       " [85] tidyselect_1.2.0       parallelly_1.34.0      RcppAnnoy_0.0.20      \n",
       " [88] plyr_1.8.8             magrittr_2.0.3         R6_2.5.1              \n",
       " [91] generics_0.1.3         pbdZMQ_0.3-8           DBI_1.1.3             \n",
       " [94] withr_2.5.0            pillar_1.9.0           fitdistrplus_1.1-8    \n",
       " [97] survival_3.5-0         abind_1.4-5            sp_1.6-0              \n",
       "[100] tibble_3.2.1           future.apply_1.10.0    crayon_1.5.2          \n",
       "[103] uuid_1.1-0             KernSmooth_2.23-20     utf8_1.2.3            \n",
       "[106] spatstat.geom_3.0-5    plotly_4.10.1.9000     grid_4.2.2            \n",
       "[109] data.table_1.14.8      digest_0.6.31          xtable_1.8-4          \n",
       "[112] tidyr_1.2.1            httpuv_1.6.9           textshaping_0.3.6     \n",
       "[115] munsell_0.5.0          viridisLite_0.4.1     "
      ]
     },
     "metadata": {},
     "output_type": "display_data"
    }
   ],
   "source": [
    "sessionInfo()"
   ]
  }
 ],
 "metadata": {
  "kernelspec": {
   "display_name": "R",
   "language": "R",
   "name": "ir"
  },
  "language_info": {
   "codemirror_mode": "r",
   "file_extension": ".r",
   "mimetype": "text/x-r-source",
   "name": "R",
   "pygments_lexer": "r",
   "version": "4.2.2"
  }
 },
 "nbformat": 4,
 "nbformat_minor": 5
}
